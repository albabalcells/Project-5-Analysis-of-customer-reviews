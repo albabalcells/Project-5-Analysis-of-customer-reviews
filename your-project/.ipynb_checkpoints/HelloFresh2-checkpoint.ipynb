{
 "cells": [
  {
   "cell_type": "markdown",
   "metadata": {},
   "source": [
    "Import reviews from trustpilot (focus on both product and company itself (aacc)\n",
    "\n",
    "Steps (not having a rating):\n",
    " - get polarity from analyzing reviews (textblob)\n",
    " - get clusters from analyzing reviews by topic modelling\n",
    " - also have other variables: review_len, time\n",
    " \n",
    " \n",
    "Model that predicts rating based on this things (train/test). For other uses (mail, twitter... take out review_len as it will be different)"
   ]
  },
  {
   "cell_type": "markdown",
   "metadata": {},
   "source": [
    "## Hellofresh"
   ]
  },
  {
   "cell_type": "code",
   "execution_count": 1,
   "metadata": {
    "scrolled": true
   },
   "outputs": [],
   "source": [
    "import pandas as pd\n",
    "import numpy as np\n",
    "import re\n",
    "import matplotlib.pyplot as plt\n",
    "%matplotlib inline\n",
    "from textblob import TextBlob\n",
    "import plotly.express as px\n",
    "import seaborn as sns\n",
    "from pprint import pprint\n",
    "from collections import Counter\n",
    "\n",
    "from sklearn.feature_extraction.text import CountVectorizer, TfidfVectorizer\n",
    "from sklearn.feature_extraction.text import CountVectorizer as CV\n",
    "from sklearn.model_selection import train_test_split\n",
    "from sklearn.naive_bayes import BernoulliNB\n",
    "from sklearn.metrics import accuracy_score\n",
    "from sklearn.feature_extraction.text import TfidfVectorizer as TV\n",
    "from sklearn.naive_bayes import MultinomialNB\n",
    "from sklearn.model_selection import GridSearchCV\n",
    "from sklearn.neighbors import KNeighborsClassifier\n",
    "from sklearn.metrics import confusion_matrix\n",
    "from sklearn.decomposition import LatentDirichletAllocation, TruncatedSVD\n",
    "\n",
    "import nltk\n",
    "from nltk.corpus import stopwords\n",
    "from nltk.stem.porter import PorterStemmer\n",
    "\n",
    "import tensorflow as tf\n",
    "from tensorflow.keras.preprocessing.text import Tokenizer\n",
    "from tensorflow.keras.preprocessing.sequence import pad_sequences\n",
    "import datetime\n",
    "\n",
    "\n",
    "import gensim\n",
    "import gensim.corpora as corpora\n",
    "from gensim.utils import simple_preprocess\n",
    "from gensim.models import CoherenceModel\n",
    "\n",
    "import spacy\n",
    "\n",
    "import pyLDAvis\n",
    "import pyLDAvis.gensim  \n",
    "import pyLDAvis.sklearn\n",
    "\n",
    "import logging\n",
    "logging.basicConfig(format='%(asctime)s : %(levelname)s : %(message)s', level=logging.ERROR)\n",
    "\n",
    "import warnings\n",
    "warnings.filterwarnings(\"ignore\",category=DeprecationWarning)\n"
   ]
  },
  {
   "cell_type": "markdown",
   "metadata": {},
   "source": [
    "## 1. Dataset cleaning and exploration"
   ]
  },
  {
   "cell_type": "code",
   "execution_count": 2,
   "metadata": {
    "scrolled": true
   },
   "outputs": [],
   "source": [
    "data = pd.read_csv('./data/hellofresh.csv', index_col=0)\n",
    "data.columns = ['review_id', 'date', 'rating', 'review_title', 'review_text',\n",
    "       'review_response', 'response_dummy']"
   ]
  },
  {
   "cell_type": "markdown",
   "metadata": {},
   "source": [
    "### 1.1. Droping unwanted columns"
   ]
  },
  {
   "cell_type": "code",
   "execution_count": 3,
   "metadata": {},
   "outputs": [],
   "source": [
    "# droping columns\n",
    "data.drop(['review_id', 'review_response', 'response_dummy', 'review_title'], axis=1, inplace=True)"
   ]
  },
  {
   "cell_type": "markdown",
   "metadata": {},
   "source": [
    "### 1.2. Changing datatypes"
   ]
  },
  {
   "cell_type": "code",
   "execution_count": 4,
   "metadata": {},
   "outputs": [],
   "source": [
    "# changing 'date' fo datatime data type\n",
    "data.date = data.date.astype('datetime64[ns]')"
   ]
  },
  {
   "cell_type": "code",
   "execution_count": 5,
   "metadata": {},
   "outputs": [
    {
     "name": "stdout",
     "output_type": "stream",
     "text": [
      "<class 'pandas.core.frame.DataFrame'>\n",
      "Int64Index: 31740 entries, 0 to 31739\n",
      "Data columns (total 3 columns):\n",
      " #   Column       Non-Null Count  Dtype         \n",
      "---  ------       --------------  -----         \n",
      " 0   date         31740 non-null  datetime64[ns]\n",
      " 1   rating       31740 non-null  int64         \n",
      " 2   review_text  30180 non-null  object        \n",
      "dtypes: datetime64[ns](1), int64(1), object(1)\n",
      "memory usage: 991.9+ KB\n"
     ]
    }
   ],
   "source": [
    "data.info()"
   ]
  },
  {
   "cell_type": "markdown",
   "metadata": {},
   "source": [
    "### 1.3. Droping NaNs"
   ]
  },
  {
   "cell_type": "code",
   "execution_count": 6,
   "metadata": {
    "scrolled": true
   },
   "outputs": [
    {
     "data": {
      "text/plain": [
       "date           0.000000\n",
       "rating         0.000000\n",
       "review_text    4.914934\n",
       "dtype: float64"
      ]
     },
     "execution_count": 6,
     "metadata": {},
     "output_type": "execute_result"
    }
   ],
   "source": [
    "# NaNs as percentage - keep NaNs for title, remove the rest as the % is very low\n",
    "data.isnull().sum()/len(data)*100"
   ]
  },
  {
   "cell_type": "code",
   "execution_count": 7,
   "metadata": {
    "scrolled": true
   },
   "outputs": [
    {
     "data": {
      "text/html": [
       "<div>\n",
       "<style scoped>\n",
       "    .dataframe tbody tr th:only-of-type {\n",
       "        vertical-align: middle;\n",
       "    }\n",
       "\n",
       "    .dataframe tbody tr th {\n",
       "        vertical-align: top;\n",
       "    }\n",
       "\n",
       "    .dataframe thead th {\n",
       "        text-align: right;\n",
       "    }\n",
       "</style>\n",
       "<table border=\"1\" class=\"dataframe\">\n",
       "  <thead>\n",
       "    <tr style=\"text-align: right;\">\n",
       "      <th></th>\n",
       "      <th>index</th>\n",
       "      <th>date</th>\n",
       "      <th>rating</th>\n",
       "      <th>review_text</th>\n",
       "    </tr>\n",
       "  </thead>\n",
       "  <tbody>\n",
       "    <tr>\n",
       "      <th>0</th>\n",
       "      <td>0</td>\n",
       "      <td>2020-08-18</td>\n",
       "      <td>3</td>\n",
       "      <td>I wish I could give my experience with Hello F...</td>\n",
       "    </tr>\n",
       "    <tr>\n",
       "      <th>1</th>\n",
       "      <td>1</td>\n",
       "      <td>2020-08-17</td>\n",
       "      <td>4</td>\n",
       "      <td>Great recipes, easy-to-follow instructions, an...</td>\n",
       "    </tr>\n",
       "    <tr>\n",
       "      <th>2</th>\n",
       "      <td>2</td>\n",
       "      <td>2020-08-17</td>\n",
       "      <td>3</td>\n",
       "      <td>A key ingredient was unusable for one of the m...</td>\n",
       "    </tr>\n",
       "    <tr>\n",
       "      <th>3</th>\n",
       "      <td>3</td>\n",
       "      <td>2020-08-17</td>\n",
       "      <td>5</td>\n",
       "      <td>Hello Fresh has great food and the best custom...</td>\n",
       "    </tr>\n",
       "    <tr>\n",
       "      <th>4</th>\n",
       "      <td>4</td>\n",
       "      <td>2020-08-16</td>\n",
       "      <td>5</td>\n",
       "      <td>Delicious and easy recipes, high-quality ingre...</td>\n",
       "    </tr>\n",
       "    <tr>\n",
       "      <th>...</th>\n",
       "      <td>...</td>\n",
       "      <td>...</td>\n",
       "      <td>...</td>\n",
       "      <td>...</td>\n",
       "    </tr>\n",
       "    <tr>\n",
       "      <th>30175</th>\n",
       "      <td>31735</td>\n",
       "      <td>2015-06-19</td>\n",
       "      <td>4</td>\n",
       "      <td>I am so pleased with my subscription to Hellof...</td>\n",
       "    </tr>\n",
       "    <tr>\n",
       "      <th>30176</th>\n",
       "      <td>31736</td>\n",
       "      <td>2015-06-19</td>\n",
       "      <td>4</td>\n",
       "      <td>i've been mostly happy with the food, but have...</td>\n",
       "    </tr>\n",
       "    <tr>\n",
       "      <th>30177</th>\n",
       "      <td>31737</td>\n",
       "      <td>2015-06-19</td>\n",
       "      <td>5</td>\n",
       "      <td>its perfect for me because I like to cook at h...</td>\n",
       "    </tr>\n",
       "    <tr>\n",
       "      <th>30178</th>\n",
       "      <td>31738</td>\n",
       "      <td>2015-06-19</td>\n",
       "      <td>5</td>\n",
       "      <td>I have been using HelloFresh for a couple mont...</td>\n",
       "    </tr>\n",
       "    <tr>\n",
       "      <th>30179</th>\n",
       "      <td>31739</td>\n",
       "      <td>2015-06-19</td>\n",
       "      <td>4</td>\n",
       "      <td>Overall I love this service. The food is fresh...</td>\n",
       "    </tr>\n",
       "  </tbody>\n",
       "</table>\n",
       "<p>30180 rows × 4 columns</p>\n",
       "</div>"
      ],
      "text/plain": [
       "       index       date  rating  \\\n",
       "0          0 2020-08-18       3   \n",
       "1          1 2020-08-17       4   \n",
       "2          2 2020-08-17       3   \n",
       "3          3 2020-08-17       5   \n",
       "4          4 2020-08-16       5   \n",
       "...      ...        ...     ...   \n",
       "30175  31735 2015-06-19       4   \n",
       "30176  31736 2015-06-19       4   \n",
       "30177  31737 2015-06-19       5   \n",
       "30178  31738 2015-06-19       5   \n",
       "30179  31739 2015-06-19       4   \n",
       "\n",
       "                                             review_text  \n",
       "0      I wish I could give my experience with Hello F...  \n",
       "1      Great recipes, easy-to-follow instructions, an...  \n",
       "2      A key ingredient was unusable for one of the m...  \n",
       "3      Hello Fresh has great food and the best custom...  \n",
       "4      Delicious and easy recipes, high-quality ingre...  \n",
       "...                                                  ...  \n",
       "30175  I am so pleased with my subscription to Hellof...  \n",
       "30176  i've been mostly happy with the food, but have...  \n",
       "30177  its perfect for me because I like to cook at h...  \n",
       "30178  I have been using HelloFresh for a couple mont...  \n",
       "30179  Overall I love this service. The food is fresh...  \n",
       "\n",
       "[30180 rows x 4 columns]"
      ]
     },
     "execution_count": 7,
     "metadata": {},
     "output_type": "execute_result"
    }
   ],
   "source": [
    "data.dropna(inplace=True)\n",
    "data.reset_index()"
   ]
  },
  {
   "cell_type": "markdown",
   "metadata": {},
   "source": [
    "We should take out the entries with no *review_text* as we are using this variable."
   ]
  },
  {
   "cell_type": "code",
   "execution_count": 8,
   "metadata": {},
   "outputs": [
    {
     "data": {
      "text/plain": [
       "4.456660039761432"
      ]
     },
     "execution_count": 8,
     "metadata": {},
     "output_type": "execute_result"
    }
   ],
   "source": [
    "data.rating.mean()"
   ]
  },
  {
   "cell_type": "markdown",
   "metadata": {},
   "source": [
    "### 1.4. Adding *polarity* and *subjectivity* for customer reviews"
   ]
  },
  {
   "cell_type": "code",
   "execution_count": 9,
   "metadata": {},
   "outputs": [],
   "source": [
    "data['polarity'] = data['review_text'].apply(lambda x: TextBlob(x).sentiment.polarity)\n",
    "data['subjectivity'] = data['review_text'].apply(lambda x: TextBlob(x).sentiment.subjectivity)"
   ]
  },
  {
   "cell_type": "code",
   "execution_count": 10,
   "metadata": {
    "scrolled": true
   },
   "outputs": [
    {
     "data": {
      "text/html": [
       "<div>\n",
       "<style scoped>\n",
       "    .dataframe tbody tr th:only-of-type {\n",
       "        vertical-align: middle;\n",
       "    }\n",
       "\n",
       "    .dataframe tbody tr th {\n",
       "        vertical-align: top;\n",
       "    }\n",
       "\n",
       "    .dataframe thead th {\n",
       "        text-align: right;\n",
       "    }\n",
       "</style>\n",
       "<table border=\"1\" class=\"dataframe\">\n",
       "  <thead>\n",
       "    <tr style=\"text-align: right;\">\n",
       "      <th></th>\n",
       "      <th>date</th>\n",
       "      <th>rating</th>\n",
       "      <th>review_text</th>\n",
       "      <th>polarity</th>\n",
       "      <th>subjectivity</th>\n",
       "    </tr>\n",
       "  </thead>\n",
       "  <tbody>\n",
       "    <tr>\n",
       "      <th>0</th>\n",
       "      <td>2020-08-18</td>\n",
       "      <td>3</td>\n",
       "      <td>I wish I could give my experience with Hello F...</td>\n",
       "      <td>0.150000</td>\n",
       "      <td>0.594444</td>\n",
       "    </tr>\n",
       "    <tr>\n",
       "      <th>1</th>\n",
       "      <td>2020-08-17</td>\n",
       "      <td>4</td>\n",
       "      <td>Great recipes, easy-to-follow instructions, an...</td>\n",
       "      <td>0.366667</td>\n",
       "      <td>0.750000</td>\n",
       "    </tr>\n",
       "    <tr>\n",
       "      <th>2</th>\n",
       "      <td>2020-08-17</td>\n",
       "      <td>3</td>\n",
       "      <td>A key ingredient was unusable for one of the m...</td>\n",
       "      <td>0.218056</td>\n",
       "      <td>0.701389</td>\n",
       "    </tr>\n",
       "    <tr>\n",
       "      <th>3</th>\n",
       "      <td>2020-08-17</td>\n",
       "      <td>5</td>\n",
       "      <td>Hello Fresh has great food and the best custom...</td>\n",
       "      <td>0.700000</td>\n",
       "      <td>0.516667</td>\n",
       "    </tr>\n",
       "    <tr>\n",
       "      <th>4</th>\n",
       "      <td>2020-08-16</td>\n",
       "      <td>5</td>\n",
       "      <td>Delicious and easy recipes, high-quality ingre...</td>\n",
       "      <td>0.711111</td>\n",
       "      <td>0.811111</td>\n",
       "    </tr>\n",
       "  </tbody>\n",
       "</table>\n",
       "</div>"
      ],
      "text/plain": [
       "        date  rating                                        review_text  \\\n",
       "0 2020-08-18       3  I wish I could give my experience with Hello F...   \n",
       "1 2020-08-17       4  Great recipes, easy-to-follow instructions, an...   \n",
       "2 2020-08-17       3  A key ingredient was unusable for one of the m...   \n",
       "3 2020-08-17       5  Hello Fresh has great food and the best custom...   \n",
       "4 2020-08-16       5  Delicious and easy recipes, high-quality ingre...   \n",
       "\n",
       "   polarity  subjectivity  \n",
       "0  0.150000      0.594444  \n",
       "1  0.366667      0.750000  \n",
       "2  0.218056      0.701389  \n",
       "3  0.700000      0.516667  \n",
       "4  0.711111      0.811111  "
      ]
     },
     "execution_count": 10,
     "metadata": {},
     "output_type": "execute_result"
    }
   ],
   "source": [
    "data.head()"
   ]
  },
  {
   "cell_type": "markdown",
   "metadata": {},
   "source": [
    "### 1.5. Adding column for review length, in words"
   ]
  },
  {
   "cell_type": "code",
   "execution_count": 11,
   "metadata": {},
   "outputs": [],
   "source": [
    "data['review_words'] = data.review_text.apply(lambda x: len(str(x).split()))"
   ]
  },
  {
   "cell_type": "markdown",
   "metadata": {},
   "source": [
    "### 1.6. Adding column *sentiment*\n"
   ]
  },
  {
   "cell_type": "code",
   "execution_count": 12,
   "metadata": {},
   "outputs": [],
   "source": [
    "def sentiment(x):\n",
    "    if x>=0.5:\n",
    "        return 4\n",
    "    elif 0<=x<0.5:\n",
    "        return 3\n",
    "    elif -0.5<=x<0:\n",
    "        return 2\n",
    "    else:\n",
    "        return 1"
   ]
  },
  {
   "cell_type": "code",
   "execution_count": 13,
   "metadata": {
    "scrolled": true
   },
   "outputs": [],
   "source": [
    "# 4 best, 1 worse\n",
    "data['sentiment'] = data.polarity.apply(sentiment)"
   ]
  },
  {
   "cell_type": "markdown",
   "metadata": {},
   "source": [
    "### 1.5. Exporting clean dataset"
   ]
  },
  {
   "cell_type": "code",
   "execution_count": 14,
   "metadata": {},
   "outputs": [],
   "source": [
    "data_original = data.copy()"
   ]
  },
  {
   "cell_type": "markdown",
   "metadata": {},
   "source": [
    "## 2. Data Exploration "
   ]
  },
  {
   "cell_type": "markdown",
   "metadata": {},
   "source": [
    "### 2.1. Rating over time"
   ]
  },
  {
   "cell_type": "markdown",
   "metadata": {},
   "source": [
    "__*Rating by month*__"
   ]
  },
  {
   "cell_type": "code",
   "execution_count": null,
   "metadata": {},
   "outputs": [],
   "source": [
    "data_time = pd.read_csv('./data/hellofresh.csv', parse_dates=['date'], index_col='date')"
   ]
  },
  {
   "cell_type": "code",
   "execution_count": null,
   "metadata": {
    "scrolled": true
   },
   "outputs": [],
   "source": [
    "data_time = data_time.resample('M').mean()"
   ]
  },
  {
   "cell_type": "code",
   "execution_count": null,
   "metadata": {},
   "outputs": [],
   "source": [
    "data_time.reset_index(inplace=True)"
   ]
  },
  {
   "cell_type": "code",
   "execution_count": null,
   "metadata": {
    "scrolled": true
   },
   "outputs": [],
   "source": [
    "data_time"
   ]
  },
  {
   "cell_type": "code",
   "execution_count": null,
   "metadata": {
    "scrolled": true
   },
   "outputs": [],
   "source": [
    "px.line(data_time, x=data_time['date'], y=data_time['stars'])"
   ]
  },
  {
   "cell_type": "markdown",
   "metadata": {},
   "source": [
    "__*Rating by year*__"
   ]
  },
  {
   "cell_type": "code",
   "execution_count": null,
   "metadata": {},
   "outputs": [],
   "source": [
    "data_time = pd.read_csv('./data/hellofresh.csv', parse_dates=['date'], index_col='date')"
   ]
  },
  {
   "cell_type": "code",
   "execution_count": null,
   "metadata": {
    "scrolled": true
   },
   "outputs": [],
   "source": [
    "data_time = data_time.resample('Y').mean()"
   ]
  },
  {
   "cell_type": "code",
   "execution_count": null,
   "metadata": {},
   "outputs": [],
   "source": [
    "data_time.reset_index(inplace=True)"
   ]
  },
  {
   "cell_type": "code",
   "execution_count": null,
   "metadata": {
    "scrolled": true
   },
   "outputs": [],
   "source": [
    "data_time"
   ]
  },
  {
   "cell_type": "code",
   "execution_count": null,
   "metadata": {},
   "outputs": [],
   "source": [
    "px.line(data_time, x=data_time['date'], y=data_time['stars'])"
   ]
  },
  {
   "cell_type": "markdown",
   "metadata": {},
   "source": [
    "### 2.3. Exploring numerical columns"
   ]
  },
  {
   "cell_type": "code",
   "execution_count": null,
   "metadata": {
    "scrolled": false
   },
   "outputs": [],
   "source": [
    "data.hist(figsize=(20,15))\n",
    "plt.show()"
   ]
  },
  {
   "cell_type": "markdown",
   "metadata": {},
   "source": [
    "### 2.3. Exploring ngrams"
   ]
  },
  {
   "cell_type": "code",
   "execution_count": null,
   "metadata": {},
   "outputs": [],
   "source": [
    "# corpus: list of strings to process\n",
    "# n: number of ngrams you want to retrieve, ordered by frequencie (e.g. top 20)\n",
    "# ngram: ngram (1=1 word, 2=2 consecutive words...)\n",
    "\n",
    "def top_n_ngram(corpus, n, ngram):\n",
    "    vec = CountVectorizer(stop_words = 'english',ngram_range=(ngram,ngram)).fit(corpus)\n",
    "    bag_of_words = vec.transform(corpus) #Have the count of  all the words for each review\n",
    "    sum_words = bag_of_words.sum(axis =0) #Calculates the count of all the word in the whole review\n",
    "    words_freq = [(word,sum_words[0,idx]) for word,idx in vec.vocabulary_.items()]\n",
    "    words_freq = sorted(words_freq,key = lambda x:x[1],reverse = True)\n",
    "    return words_freq[:n]\n"
   ]
  },
  {
   "cell_type": "markdown",
   "metadata": {},
   "source": [
    "__Unigram__"
   ]
  },
  {
   "cell_type": "code",
   "execution_count": null,
   "metadata": {
    "scrolled": false
   },
   "outputs": [],
   "source": [
    "common_words = top_n_ngram(data.review_text, 20,1)\n",
    "df = pd.DataFrame(common_words, columns = ['ReviewText' , 'count'])\n",
    "px.histogram(df, df['ReviewText'], df['count'])"
   ]
  },
  {
   "cell_type": "markdown",
   "metadata": {},
   "source": [
    "__Bigram__"
   ]
  },
  {
   "cell_type": "code",
   "execution_count": null,
   "metadata": {},
   "outputs": [],
   "source": [
    "common_words = top_n_ngram(data.review_text, 20,2)\n",
    "df = pd.DataFrame(common_words, columns = ['ReviewText' , 'count'])\n",
    "px.histogram(df, df['ReviewText'], df['count'])"
   ]
  },
  {
   "cell_type": "markdown",
   "metadata": {},
   "source": [
    "__Trigrams__"
   ]
  },
  {
   "cell_type": "code",
   "execution_count": null,
   "metadata": {
    "scrolled": false
   },
   "outputs": [],
   "source": [
    "common_words = top_n_ngram(data.review_text, 20,3)\n",
    "df = pd.DataFrame(common_words, columns = ['ReviewText' , 'count'])\n",
    "px.histogram(df, df['ReviewText'], df['count'])"
   ]
  },
  {
   "cell_type": "markdown",
   "metadata": {},
   "source": [
    " "
   ]
  },
  {
   "cell_type": "markdown",
   "metadata": {},
   "source": [
    "__POS tagging__"
   ]
  },
  {
   "cell_type": "markdown",
   "metadata": {},
   "source": [
    "In corpus linguistics, part-of-speech tagging (POS tagging or PoS tagging or POST), also called grammatical tagging is the process of marking up a word in a text (corpus) as corresponding to a particular part of speech,[1] based on both its definition and its context. A simplified form of this is commonly taught to school-age children, in the identification of words as nouns, verbs, adjectives, adverbs, etc."
   ]
  },
  {
   "cell_type": "code",
   "execution_count": null,
   "metadata": {
    "scrolled": false
   },
   "outputs": [],
   "source": [
    "blob= TextBlob(str(data['review_text']))\n",
    "pos = pd.DataFrame(blob.tags,columns =['word','pos'])\n",
    "pos1 = pos.pos.value_counts()[:20]\n",
    "pos1 = pd.DataFrame(pos1).reset_index()\n",
    "pos1.columns = ['pos', 'count']\n",
    "px.histogram(pos1, x=pos1['pos'], y=pos1['count'])"
   ]
  },
  {
   "cell_type": "markdown",
   "metadata": {},
   "source": [
    "### 2.4. Correlation"
   ]
  },
  {
   "cell_type": "code",
   "execution_count": null,
   "metadata": {},
   "outputs": [],
   "source": [
    "sns.heatmap(data.corr(),annot = True)"
   ]
  },
  {
   "cell_type": "markdown",
   "metadata": {},
   "source": [
    "### 2.5. Statistical description of data"
   ]
  },
  {
   "cell_type": "code",
   "execution_count": null,
   "metadata": {
    "scrolled": true
   },
   "outputs": [],
   "source": [
    "data.groupby(data['rating']).describe().T \n",
    "# both mean polarity and mean sentiment increase with higher ratings, so it seems to be a good measure"
   ]
  },
  {
   "cell_type": "markdown",
   "metadata": {},
   "source": [
    "## 3. Topic Modelling"
   ]
  },
  {
   "cell_type": "markdown",
   "metadata": {},
   "source": [
    "We created dictionary and corpus required for Topic Modeling: The two main inputs to the LDA topic model are the dictionary and the corpus. Gensim creates a unique id for each word in the document. The produced corpus shown above is a mapping of (word_id, word_frequency). For example, (0, 1) below in the output implies, word id 0 occurs once in the first document."
   ]
  },
  {
   "cell_type": "code",
   "execution_count": 17,
   "metadata": {},
   "outputs": [
    {
     "name": "stdout",
     "output_type": "stream",
     "text": [
      "Number of unique tokens: 4154\n",
      "Number of documents: 30180\n",
      "[[(0, 1), (1, 1), (2, 1), (3, 2), (4, 3), (5, 1), (6, 1), (7, 1), (8, 1), (9, 1), (10, 3), (11, 1), (12, 1), (13, 2), (14, 1), (15, 1), (16, 1), (17, 1), (18, 2), (19, 6), (20, 1), (21, 1), (22, 1), (23, 1), (24, 2), (25, 1), (26, 3), (27, 1), (28, 1), (29, 2), (30, 1), (31, 2), (32, 2), (33, 4), (34, 1), (35, 1), (36, 1), (37, 1), (38, 1), (39, 1), (40, 1), (41, 1), (42, 1), (43, 1), (44, 1), (45, 1), (46, 3), (47, 1), (48, 1), (49, 2), (50, 2), (51, 3), (52, 1), (53, 1), (54, 3), (55, 3)]]\n"
     ]
    }
   ],
   "source": [
    "# Import required packages\n",
    "import numpy as np\n",
    "import logging\n",
    "import pyLDAvis.gensim\n",
    "import json\n",
    "import warnings\n",
    "warnings.filterwarnings('ignore')  # To ignore all warnings that arise here to enhance clarity\n",
    "from gensim.models.coherencemodel import CoherenceModel\n",
    "from gensim.models.ldamodel import LdaModel\n",
    "from gensim.corpora.dictionary import Dictionary\n",
    "from numpy import array\n",
    "\n",
    "# Convert reviews to array\n",
    "docs = np.array(data.review_text)\n",
    "# Define function for tokenize and lemmatizing\n",
    "from nltk.stem.wordnet import WordNetLemmatizer\n",
    "from nltk.tokenize import RegexpTokenizer\n",
    "\n",
    "def docs_preprocessor(docs):\n",
    "    tokenizer = RegexpTokenizer(r'\\w+')\n",
    "    for idx in range(len(docs)):\n",
    "        docs[idx] = docs[idx].lower()  # Convert to lowercase.\n",
    "        docs[idx] = tokenizer.tokenize(docs[idx])  # Split into words.\n",
    "\n",
    "    # Remove numbers, but not words that contain numbers.\n",
    "    docs = [[token for token in doc if not token.isdigit()] for doc in docs]\n",
    "    \n",
    "    # Remove words that are only one character.\n",
    "    docs = [[token for token in doc if len(token) > 3] for doc in docs]\n",
    "    \n",
    "    # Lemmatize all words in documents.\n",
    "    lemmatizer = WordNetLemmatizer()\n",
    "    docs = [[lemmatizer.lemmatize(token) for token in doc] for doc in docs]\n",
    "  \n",
    "    return docs\n",
    "# Perform function on our document\n",
    "docs = docs_preprocessor(docs)\n",
    "#Create Biagram & Trigram Models \n",
    "from gensim.models import Phrases\n",
    "# Add bigrams and trigrams to docs,minimum count 10 means only that appear 10 times or more.\n",
    "bigram = Phrases(docs, min_count=10)\n",
    "trigram = Phrases(bigram[docs])\n",
    "\n",
    "for idx in range(len(docs)):\n",
    "    for token in bigram[docs[idx]]:\n",
    "        if '_' in token:\n",
    "            # Token is a bigram, add to document.\n",
    "            docs[idx].append(token)\n",
    "    for token in trigram[docs[idx]]:\n",
    "        if '_' in token:\n",
    "            # Token is a bigram, add to document.\n",
    "            docs[idx].append(token)\n",
    "#Remove rare & common tokens \n",
    "# Create a dictionary representation of the documents.\n",
    "dictionary = Dictionary(docs)\n",
    "dictionary.filter_extremes(no_below=10, no_above=0.5)\n",
    "#Create dictionary and corpus required for Topic Modeling\n",
    "corpus = [dictionary.doc2bow(doc) for doc in docs]\n",
    "print('Number of unique tokens: %d' % len(dictionary))\n",
    "print('Number of documents: %d' % len(corpus))\n",
    "print(corpus[:1])"
   ]
  },
  {
   "cell_type": "markdown",
   "metadata": {},
   "source": [
    "We have everything required to train the LDA model. In addition to the corpus and dictionary, we need to provide the number of topics as well.Set number of topics=5."
   ]
  },
  {
   "cell_type": "code",
   "execution_count": 18,
   "metadata": {
    "collapsed": true
   },
   "outputs": [
    {
     "ename": "KeyboardInterrupt",
     "evalue": "",
     "output_type": "error",
     "traceback": [
      "\u001b[0;31m---------------------------------------------------------------------------\u001b[0m",
      "\u001b[0;31mKeyboardInterrupt\u001b[0m                         Traceback (most recent call last)",
      "\u001b[0;32m<ipython-input-18-bcd344e3e49d>\u001b[0m in \u001b[0;36m<module>\u001b[0;34m\u001b[0m\n\u001b[1;32m     10\u001b[0m \u001b[0mid2word\u001b[0m \u001b[0;34m=\u001b[0m \u001b[0mdictionary\u001b[0m\u001b[0;34m.\u001b[0m\u001b[0mid2token\u001b[0m\u001b[0;34m\u001b[0m\u001b[0;34m\u001b[0m\u001b[0m\n\u001b[1;32m     11\u001b[0m \u001b[0;34m\u001b[0m\u001b[0m\n\u001b[0;32m---> 12\u001b[0;31m lda_model = LdaModel(corpus=corpus, id2word=id2word, chunksize=chunksize, \\\n\u001b[0m\u001b[1;32m     13\u001b[0m                        \u001b[0malpha\u001b[0m\u001b[0;34m=\u001b[0m\u001b[0;34m'auto'\u001b[0m\u001b[0;34m,\u001b[0m \u001b[0meta\u001b[0m\u001b[0;34m=\u001b[0m\u001b[0;34m'auto'\u001b[0m\u001b[0;34m,\u001b[0m\u001b[0;31m \u001b[0m\u001b[0;31m\\\u001b[0m\u001b[0;34m\u001b[0m\u001b[0;34m\u001b[0m\u001b[0m\n\u001b[1;32m     14\u001b[0m                        \u001b[0miterations\u001b[0m\u001b[0;34m=\u001b[0m\u001b[0miterations\u001b[0m\u001b[0;34m,\u001b[0m \u001b[0mnum_topics\u001b[0m\u001b[0;34m=\u001b[0m\u001b[0mnum_topics\u001b[0m\u001b[0;34m,\u001b[0m\u001b[0;31m \u001b[0m\u001b[0;31m\\\u001b[0m\u001b[0;34m\u001b[0m\u001b[0;34m\u001b[0m\u001b[0m\n",
      "\u001b[0;32m/usr/local/Cellar/jupyterlab/2.1.2/libexec/lib/python3.8/site-packages/gensim/models/ldamodel.py\u001b[0m in \u001b[0;36m__init__\u001b[0;34m(self, corpus, num_topics, id2word, distributed, chunksize, passes, update_every, alpha, eta, decay, offset, eval_every, iterations, gamma_threshold, minimum_probability, random_state, ns_conf, minimum_phi_value, per_word_topics, callbacks, dtype)\u001b[0m\n\u001b[1;32m    517\u001b[0m         \u001b[0;32mif\u001b[0m \u001b[0mcorpus\u001b[0m \u001b[0;32mis\u001b[0m \u001b[0;32mnot\u001b[0m \u001b[0;32mNone\u001b[0m\u001b[0;34m:\u001b[0m\u001b[0;34m\u001b[0m\u001b[0;34m\u001b[0m\u001b[0m\n\u001b[1;32m    518\u001b[0m             \u001b[0muse_numpy\u001b[0m \u001b[0;34m=\u001b[0m \u001b[0mself\u001b[0m\u001b[0;34m.\u001b[0m\u001b[0mdispatcher\u001b[0m \u001b[0;32mis\u001b[0m \u001b[0;32mnot\u001b[0m \u001b[0;32mNone\u001b[0m\u001b[0;34m\u001b[0m\u001b[0;34m\u001b[0m\u001b[0m\n\u001b[0;32m--> 519\u001b[0;31m             \u001b[0mself\u001b[0m\u001b[0;34m.\u001b[0m\u001b[0mupdate\u001b[0m\u001b[0;34m(\u001b[0m\u001b[0mcorpus\u001b[0m\u001b[0;34m,\u001b[0m \u001b[0mchunks_as_numpy\u001b[0m\u001b[0;34m=\u001b[0m\u001b[0muse_numpy\u001b[0m\u001b[0;34m)\u001b[0m\u001b[0;34m\u001b[0m\u001b[0;34m\u001b[0m\u001b[0m\n\u001b[0m\u001b[1;32m    520\u001b[0m \u001b[0;34m\u001b[0m\u001b[0m\n\u001b[1;32m    521\u001b[0m     \u001b[0;32mdef\u001b[0m \u001b[0minit_dir_prior\u001b[0m\u001b[0;34m(\u001b[0m\u001b[0mself\u001b[0m\u001b[0;34m,\u001b[0m \u001b[0mprior\u001b[0m\u001b[0;34m,\u001b[0m \u001b[0mname\u001b[0m\u001b[0;34m)\u001b[0m\u001b[0;34m:\u001b[0m\u001b[0;34m\u001b[0m\u001b[0;34m\u001b[0m\u001b[0m\n",
      "\u001b[0;32m/usr/local/Cellar/jupyterlab/2.1.2/libexec/lib/python3.8/site-packages/gensim/models/ldamodel.py\u001b[0m in \u001b[0;36mupdate\u001b[0;34m(self, corpus, chunksize, decay, offset, passes, update_every, eval_every, iterations, gamma_threshold, chunks_as_numpy)\u001b[0m\n\u001b[1;32m    963\u001b[0m \u001b[0;34m\u001b[0m\u001b[0m\n\u001b[1;32m    964\u001b[0m                 \u001b[0;32mif\u001b[0m \u001b[0meval_every\u001b[0m \u001b[0;32mand\u001b[0m \u001b[0;34m(\u001b[0m\u001b[0;34m(\u001b[0m\u001b[0mreallen\u001b[0m \u001b[0;34m==\u001b[0m \u001b[0mlencorpus\u001b[0m\u001b[0;34m)\u001b[0m \u001b[0;32mor\u001b[0m \u001b[0;34m(\u001b[0m\u001b[0;34m(\u001b[0m\u001b[0mchunk_no\u001b[0m \u001b[0;34m+\u001b[0m \u001b[0;36m1\u001b[0m\u001b[0;34m)\u001b[0m \u001b[0;34m%\u001b[0m \u001b[0;34m(\u001b[0m\u001b[0meval_every\u001b[0m \u001b[0;34m*\u001b[0m \u001b[0mself\u001b[0m\u001b[0;34m.\u001b[0m\u001b[0mnumworkers\u001b[0m\u001b[0;34m)\u001b[0m \u001b[0;34m==\u001b[0m \u001b[0;36m0\u001b[0m\u001b[0;34m)\u001b[0m\u001b[0;34m)\u001b[0m\u001b[0;34m:\u001b[0m\u001b[0;34m\u001b[0m\u001b[0;34m\u001b[0m\u001b[0m\n\u001b[0;32m--> 965\u001b[0;31m                     \u001b[0mself\u001b[0m\u001b[0;34m.\u001b[0m\u001b[0mlog_perplexity\u001b[0m\u001b[0;34m(\u001b[0m\u001b[0mchunk\u001b[0m\u001b[0;34m,\u001b[0m \u001b[0mtotal_docs\u001b[0m\u001b[0;34m=\u001b[0m\u001b[0mlencorpus\u001b[0m\u001b[0;34m)\u001b[0m\u001b[0;34m\u001b[0m\u001b[0;34m\u001b[0m\u001b[0m\n\u001b[0m\u001b[1;32m    966\u001b[0m \u001b[0;34m\u001b[0m\u001b[0m\n\u001b[1;32m    967\u001b[0m                 \u001b[0;32mif\u001b[0m \u001b[0mself\u001b[0m\u001b[0;34m.\u001b[0m\u001b[0mdispatcher\u001b[0m\u001b[0;34m:\u001b[0m\u001b[0;34m\u001b[0m\u001b[0;34m\u001b[0m\u001b[0m\n",
      "\u001b[0;32m/usr/local/Cellar/jupyterlab/2.1.2/libexec/lib/python3.8/site-packages/gensim/models/ldamodel.py\u001b[0m in \u001b[0;36mlog_perplexity\u001b[0;34m(self, chunk, total_docs)\u001b[0m\n\u001b[1;32m    819\u001b[0m         \u001b[0mcorpus_words\u001b[0m \u001b[0;34m=\u001b[0m \u001b[0msum\u001b[0m\u001b[0;34m(\u001b[0m\u001b[0mcnt\u001b[0m \u001b[0;32mfor\u001b[0m \u001b[0mdocument\u001b[0m \u001b[0;32min\u001b[0m \u001b[0mchunk\u001b[0m \u001b[0;32mfor\u001b[0m \u001b[0m_\u001b[0m\u001b[0;34m,\u001b[0m \u001b[0mcnt\u001b[0m \u001b[0;32min\u001b[0m \u001b[0mdocument\u001b[0m\u001b[0;34m)\u001b[0m\u001b[0;34m\u001b[0m\u001b[0;34m\u001b[0m\u001b[0m\n\u001b[1;32m    820\u001b[0m         \u001b[0msubsample_ratio\u001b[0m \u001b[0;34m=\u001b[0m \u001b[0;36m1.0\u001b[0m \u001b[0;34m*\u001b[0m \u001b[0mtotal_docs\u001b[0m \u001b[0;34m/\u001b[0m \u001b[0mlen\u001b[0m\u001b[0;34m(\u001b[0m\u001b[0mchunk\u001b[0m\u001b[0;34m)\u001b[0m\u001b[0;34m\u001b[0m\u001b[0;34m\u001b[0m\u001b[0m\n\u001b[0;32m--> 821\u001b[0;31m         \u001b[0mperwordbound\u001b[0m \u001b[0;34m=\u001b[0m \u001b[0mself\u001b[0m\u001b[0;34m.\u001b[0m\u001b[0mbound\u001b[0m\u001b[0;34m(\u001b[0m\u001b[0mchunk\u001b[0m\u001b[0;34m,\u001b[0m \u001b[0msubsample_ratio\u001b[0m\u001b[0;34m=\u001b[0m\u001b[0msubsample_ratio\u001b[0m\u001b[0;34m)\u001b[0m \u001b[0;34m/\u001b[0m \u001b[0;34m(\u001b[0m\u001b[0msubsample_ratio\u001b[0m \u001b[0;34m*\u001b[0m \u001b[0mcorpus_words\u001b[0m\u001b[0;34m)\u001b[0m\u001b[0;34m\u001b[0m\u001b[0;34m\u001b[0m\u001b[0m\n\u001b[0m\u001b[1;32m    822\u001b[0m         logger.info(\n\u001b[1;32m    823\u001b[0m             \u001b[0;34m\"%.3f per-word bound, %.1f perplexity estimate based on a held-out corpus of %i documents with %i words\"\u001b[0m\u001b[0;34m,\u001b[0m\u001b[0;34m\u001b[0m\u001b[0;34m\u001b[0m\u001b[0m\n",
      "\u001b[0;32m/usr/local/Cellar/jupyterlab/2.1.2/libexec/lib/python3.8/site-packages/gensim/models/ldamodel.py\u001b[0m in \u001b[0;36mbound\u001b[0;34m(self, corpus, gamma, subsample_ratio)\u001b[0m\n\u001b[1;32m   1085\u001b[0m                 \u001b[0mlogger\u001b[0m\u001b[0;34m.\u001b[0m\u001b[0mdebug\u001b[0m\u001b[0;34m(\u001b[0m\u001b[0;34m\"bound: at document #%i\"\u001b[0m\u001b[0;34m,\u001b[0m \u001b[0md\u001b[0m\u001b[0;34m)\u001b[0m\u001b[0;34m\u001b[0m\u001b[0;34m\u001b[0m\u001b[0m\n\u001b[1;32m   1086\u001b[0m             \u001b[0;32mif\u001b[0m \u001b[0mgamma\u001b[0m \u001b[0;32mis\u001b[0m \u001b[0;32mNone\u001b[0m\u001b[0;34m:\u001b[0m\u001b[0;34m\u001b[0m\u001b[0;34m\u001b[0m\u001b[0m\n\u001b[0;32m-> 1087\u001b[0;31m                 \u001b[0mgammad\u001b[0m\u001b[0;34m,\u001b[0m \u001b[0m_\u001b[0m \u001b[0;34m=\u001b[0m \u001b[0mself\u001b[0m\u001b[0;34m.\u001b[0m\u001b[0minference\u001b[0m\u001b[0;34m(\u001b[0m\u001b[0;34m[\u001b[0m\u001b[0mdoc\u001b[0m\u001b[0;34m]\u001b[0m\u001b[0;34m)\u001b[0m\u001b[0;34m\u001b[0m\u001b[0;34m\u001b[0m\u001b[0m\n\u001b[0m\u001b[1;32m   1088\u001b[0m             \u001b[0;32melse\u001b[0m\u001b[0;34m:\u001b[0m\u001b[0;34m\u001b[0m\u001b[0;34m\u001b[0m\u001b[0m\n\u001b[1;32m   1089\u001b[0m                 \u001b[0mgammad\u001b[0m \u001b[0;34m=\u001b[0m \u001b[0mgamma\u001b[0m\u001b[0;34m[\u001b[0m\u001b[0md\u001b[0m\u001b[0;34m]\u001b[0m\u001b[0;34m\u001b[0m\u001b[0;34m\u001b[0m\u001b[0m\n",
      "\u001b[0;32m/usr/local/Cellar/jupyterlab/2.1.2/libexec/lib/python3.8/site-packages/gensim/models/ldamodel.py\u001b[0m in \u001b[0;36minference\u001b[0;34m(self, chunk, collect_sstats)\u001b[0m\n\u001b[1;32m    691\u001b[0m                 \u001b[0;31m# Substituting the value of the optimal phi back into\u001b[0m\u001b[0;34m\u001b[0m\u001b[0;34m\u001b[0m\u001b[0;34m\u001b[0m\u001b[0m\n\u001b[1;32m    692\u001b[0m                 \u001b[0;31m# the update for gamma gives this update. Cf. Lee&Seung 2001.\u001b[0m\u001b[0;34m\u001b[0m\u001b[0;34m\u001b[0m\u001b[0;34m\u001b[0m\u001b[0m\n\u001b[0;32m--> 693\u001b[0;31m                 \u001b[0mgammad\u001b[0m \u001b[0;34m=\u001b[0m \u001b[0mself\u001b[0m\u001b[0;34m.\u001b[0m\u001b[0malpha\u001b[0m \u001b[0;34m+\u001b[0m \u001b[0mexpElogthetad\u001b[0m \u001b[0;34m*\u001b[0m \u001b[0mnp\u001b[0m\u001b[0;34m.\u001b[0m\u001b[0mdot\u001b[0m\u001b[0;34m(\u001b[0m\u001b[0mcts\u001b[0m \u001b[0;34m/\u001b[0m \u001b[0mphinorm\u001b[0m\u001b[0;34m,\u001b[0m \u001b[0mexpElogbetad\u001b[0m\u001b[0;34m.\u001b[0m\u001b[0mT\u001b[0m\u001b[0;34m)\u001b[0m\u001b[0;34m\u001b[0m\u001b[0;34m\u001b[0m\u001b[0m\n\u001b[0m\u001b[1;32m    694\u001b[0m                 \u001b[0mElogthetad\u001b[0m \u001b[0;34m=\u001b[0m \u001b[0mdirichlet_expectation\u001b[0m\u001b[0;34m(\u001b[0m\u001b[0mgammad\u001b[0m\u001b[0;34m)\u001b[0m\u001b[0;34m\u001b[0m\u001b[0;34m\u001b[0m\u001b[0m\n\u001b[1;32m    695\u001b[0m                 \u001b[0mexpElogthetad\u001b[0m \u001b[0;34m=\u001b[0m \u001b[0mnp\u001b[0m\u001b[0;34m.\u001b[0m\u001b[0mexp\u001b[0m\u001b[0;34m(\u001b[0m\u001b[0mElogthetad\u001b[0m\u001b[0;34m)\u001b[0m\u001b[0;34m\u001b[0m\u001b[0;34m\u001b[0m\u001b[0m\n",
      "\u001b[0;31mKeyboardInterrupt\u001b[0m: "
     ]
    }
   ],
   "source": [
    "# Set parameters.\n",
    "num_topics = 5\n",
    "chunksize = 10000 \n",
    "passes = 20 \n",
    "iterations = 400\n",
    "eval_every = 1  \n",
    "\n",
    "# Make a index to word dictionary.\n",
    "temp = dictionary[0]  # only to \"load\" the dictionary.\n",
    "id2word = dictionary.id2token\n",
    "\n",
    "lda_model = LdaModel(corpus=corpus, id2word=id2word, chunksize=chunksize, \\\n",
    "                       alpha='auto', eta='auto', \\\n",
    "                       iterations=iterations, num_topics=num_topics, \\\n",
    "                       passes=passes, eval_every=eval_every)\n",
    "# Print the Keyword in the 5 topics\n",
    "print(lda_model.print_topics())"
   ]
  },
  {
   "cell_type": "markdown",
   "metadata": {},
   "source": [
    "LDA is an unsupervised technique, meaning that we don’t know prior to running the model how many topics exits in our corpus.You can use LDA visualization tool pyLDAvis, tried a few numbers of topics and compared the results. Topic coherence is one of the main techniques used to estimate the number of topics.We will use the c_v measure to see the coherence score of our LDA model."
   ]
  },
  {
   "cell_type": "code",
   "execution_count": null,
   "metadata": {},
   "outputs": [],
   "source": [
    "# Compute Coherence Score using c_v\n",
    "coherence_model_lda = CoherenceModel(model=lda_model, texts=docs, dictionary=dictionary, coherence='c_v')\n",
    "coherence_lda = coherence_model_lda.get_coherence()\n",
    "print('\\nCoherence Score: ', coherence_lda)"
   ]
  },
  {
   "cell_type": "markdown",
   "metadata": {},
   "source": [
    "The last step is to find the optimal number of topics.We need to build many LDA models with different values of the number of topics (k) and pick the one that gives the highest coherence value. Choosing a ‘k’ that marks the end of a rapid growth of topic coherence usually offers meaningful and interpretable topics. Picking an even higher value can sometimes provide more granular sub-topics. If you see the same keywords being repeated in multiple topics, it’s probably a sign that the ‘k’ is too large."
   ]
  },
  {
   "cell_type": "code",
   "execution_count": 22,
   "metadata": {},
   "outputs": [],
   "source": [
    "def compute_coherence_values(dictionary, corpus, texts, limit, start=2, step=1):\n",
    "    \"\"\"\n",
    "    Compute c_v coherence for various number of topics\n",
    "\n",
    "    Parameters:\n",
    "    ----------\n",
    "    dictionary : Gensim dictionary\n",
    "    corpus : Gensim corpus\n",
    "    texts : List of input texts\n",
    "    limit : Max num of topics\n",
    "\n",
    "    Returns:\n",
    "    -------\n",
    "    model_list : List of LDA topic models\n",
    "    coherence_values : Coherence values corresponding to the LDA model with respective number of topics\n",
    "    \"\"\"\n",
    "    coherence_values = []\n",
    "    model_list = []\n",
    "    for num_topics in range(start, limit, step):\n",
    "        model=LdaModel(corpus=corpus, id2word=dictionary, num_topics=num_topics, alpha='auto', eta='auto', \n",
    "                       chunksize=10000, iterations=400, passes=20, eval_every=1)\n",
    "        model_list.append(model)\n",
    "        coherencemodel = CoherenceModel(model=model, texts=texts, dictionary=dictionary, coherence='c_v')\n",
    "        coherence_values.append(coherencemodel.get_coherence())\n",
    "\n",
    "    return model_list, coherence_values\n",
    "\n",
    "\n"
   ]
  },
  {
   "cell_type": "code",
   "execution_count": 23,
   "metadata": {},
   "outputs": [
    {
     "data": {
      "image/png": "[encoded data removed]",
      "text/plain": [
       "<Figure size 432x288 with 1 Axes>"
      ]
     },
     "metadata": {
      "needs_background": "light"
     },
     "output_type": "display_data"
    }
   ],
   "source": [
    "model_list, coherence_values = compute_coherence_values(dictionary=dictionary, corpus=corpus, texts=docs, start=2, limit=10, step=1)\n",
    "# Show graph\n",
    "x = range(start, limit, step)\n",
    "plt.plot(x, coherence_values)\n",
    "plt.xlabel(\"Num Topics\")\n",
    "plt.ylabel(\"Coherence score\")\n",
    "plt.legend((\"coherence_values\"), loc='best')\n",
    "plt.show()"
   ]
  },
  {
   "cell_type": "code",
   "execution_count": 22,
   "metadata": {},
   "outputs": [],
   "source": [
    "lda_model = gensim.models.LdaMulticore(corpus=corpus,\n",
    "                                           id2word=dictionary,\n",
    "                                           num_topics=4, \n",
    "                                           random_state=100,\n",
    "                                           chunksize=10000,\n",
    "                                           passes=10,\n",
    "                                           alpha=0.01,\n",
    "                                           eta=0.9)"
   ]
  },
  {
   "cell_type": "code",
   "execution_count": 23,
   "metadata": {},
   "outputs": [
    {
     "data": {
      "text/html": [
       "\n",
       "<link rel=\"stylesheet\" type=\"text/css\" href=\"https://cdn.rawgit.com/bmabey/pyLDAvis/files/ldavis.v1.0.0.css\">\n",
       "\n",
       "\n",
       "<div id=\"ldavis_el499056145846567209423610\"></div>\n",
       "<script type=\"text/javascript\">\n",
       "\n",
       "var ldavis_el499056145846567209423610_data = {\"mdsDat\": {\"x\": [-0.039273928607930414, 0.125389704672124, -0.024201419747459096, -0.06191435631673436], \"y\": [-0.057186148300870404, 0.01330732923667586, -0.031760930316155817, 0.07563974938035031], \"topics\": [1, 2, 3, 4], \"cluster\": [1, 1, 1, 1], \"Freq\": [29.048776626586914, 27.738910675048828, 25.6540470123291, 17.558263778686523]}, \"tinfo\": {\"Term\": [\"easy_follow\", \"customer_service\", \"easy_prepare\", \"follow\", \"customer\", \"prepare\", \"service\", \"delicious\", \"each_week\", \"recipe_card\", \"grocery_store\", \"feel_like\", \"only_complaint\", \"high_quality\", \"credit\", \"absolutely_love\", \"step_step\", \"really_enjoy\", \"look_forward\", \"skip_week\", \"worry_about\", \"missing_ingredient\", \"will_continue\", \"choose_from\", \"cooking\", \"everything_need\", \"better_than\", \"blue_apron\", \"green_bean\", \"happy_with\", \"ease_preparation\", \"loved_every\", \"gluten_free\", \"green_bean\", \"step_step\", \"cut_down\", \"thoroughly_enjoyed\", \"spend_le\", \"serving_size\", \"during_these\", \"truly_enjoy\", \"side_dish\", \"pork_tenderloin\", \"way_cook\", \"longer_than\", \"little_pricey\", \"dairy_free\", \"never_knew\", \"lower_calorie\", \"butter_olive\", \"only_downfall\", \"salt_pepper\", \"pot_pan\", \"gluten\", \"white_rice\", \"highest_quality\", \"confidence_kitchen\", \"bean\", \"having_decide\", \"something_different\", \"very_pleased\", \"portion_control\", \"every_night\", \"take_longer\", \"feel_like\", \"throwing_away\", \"grocery_store\", \"each_week\", \"step\", \"saving_money\", \"every_single\", \"portion_size\", \"pleased_with\", \"pleased\", \"chicken_breast\", \"store\", \"grocery\", \"highly_recommend\", \"feel\", \"other_than\", \"each\", \"every\", \"everything_need\", \"like\", \"than\", \"cook\", \"more\", \"size\", \"week\", \"portion\", \"make\", \"delicious\", \"some\", \"would\", \"grocery_shopping\", \"time\", \"ingredient\", \"need\", \"very\", \"hellofresh\", \"good\", \"they\", \"cooking\", \"were\", \"dinner\", \"what\", \"there\", \"everything\", \"really\", \"only\", \"gift_card\", \"credit_card\", \"day_late\", \"called_customer\", \"money_back\", \"cancelled_subscription\", \"received_email\", \"phone_call\", \"refund\", \"credit_account\", \"contacted_customer\", \"delivery_date\", \"charged\", \"leaked_over\", \"they_refused\", \"online_chat\", \"their_system\", \"free_trial\", \"email\", \"refund_money\", \"day_later\", \"leaking_meat\", \"give_credit\", \"above_beyond\", \"when_called\", \"cancel_account\", \"rude\", \"credit\", \"being_charged\", \"chat\", \"customer_service\", \"account\", \"contacted\", \"customer\", \"called\", \"cancelled\", \"canceled\", \"gave_credit\", \"told\", \"response\", \"missing_ingredient\", \"service\", \"issue\", \"customer_support\", \"cancel\", \"call\", \"delivery\", \"they\", \"order\", \"late\", \"missing\", \"company\", \"their\", \"received\", \"even_though\", \"first\", \"problem\", \"this\", \"when\", \"were\", \"last\", \"them\", \"week\", \"time\", \"box\", \"would\", \"will\", \"there\", \"hellofresh\", \"good\", \"from\", \"very\", \"ingredient\", \"only\", \"just\", \"only_complaint\", \"well_packed\", \"will_continue\", \"already_recommended\", \"packaging_recyclable\", \"been_godsend\", \"couldn_happier\", \"glad_tried\", \"portion_generous\", \"reasonably_priced\", \"really_enjoy\", \"well_organized\", \"helped_learn\", \"outside_comfort\", \"learn_cook\", \"left_over\", \"flavor_texture\", \"taste_bud\", \"master_chef\", \"save_time\", \"think_about\", \"well_worth\", \"twice_month\", \"grocery_shop\", \"meat_seafood\", \"long_hour\", \"vegetarian_option\", \"taken_care\", \"carb_option\", \"high_quality\", \"absolutely_love\", \"wish_there\", \"choose_from\", \"never_thought\", \"cooking_technique\", \"pretty_good\", \"fact_that\", \"almost_every\", \"busy_schedule\", \"look_forward\", \"being_able\", \"high\", \"complaint\", \"cooking\", \"good\", \"option\", \"really\", \"enjoy\", \"quality\", \"time\", \"hellofresh\", \"like\", \"very_happy\", \"variety\", \"very\", \"always\", \"well\", \"this\", \"cook\", \"from\", \"would\", \"family\", \"ingredient\", \"there\", \"week\", \"only\", \"make\", \"about\", \"delicious\", \"they\", \"more\", \"service\", \"great_tasting\", \"cost_effective\", \"packaged_well\", \"little_expensive\", \"most_importantly\", \"only_drawback\", \"easy_follow\", \"worrying_about\", \"take_long\", \"life_much\", \"easy_prepare\", \"delivered_doorstep\", \"instruction_easy_follow\", \"worry_about\", \"absolute_best\", \"take_guessing\", \"portion_controlled\", \"since_sliced\", \"skipping_week\", \"very_satisfied\", \"only_suggestion\", \"vegetable_fruit\", \"could_afford\", \"under_hour\", \"impressed_with\", \"follow\", \"could_fresher\", \"stress_free\", \"direction_easy_follow\", \"thoroughly_enjoy\", \"every_penny\", \"family_enjoys\", \"skip_week\", \"best_decision\", \"better_than\", \"happy_with\", \"recipe_card\", \"prepare\", \"worry\", \"tasting\", \"whole_family\", \"full_flavor\", \"blue_apron\", \"just_right\", \"delicious\", \"instruction\", \"direction\", \"ingredient\", \"very\", \"make\", \"everything\", \"dinner\", \"easier\", \"week\", \"always\", \"card\", \"best\", \"quality\", \"this\", \"good\", \"family\", \"service\", \"time\", \"hellofresh\", \"about\", \"they\", \"cook\", \"what\", \"cooking\", \"much\", \"more\"], \"Freq\": [7579.0, 7819.0, 3864.0, 3000.0, 3639.0, 2401.0, 6942.0, 6022.0, 2755.0, 1745.0, 2462.0, 1699.0, 969.0, 1315.0, 1063.0, 1240.0, 991.0, 921.0, 2064.0, 831.0, 631.0, 1306.0, 802.0, 1280.0, 3725.0, 1170.0, 812.0, 1011.0, 805.0, 844.0, 221.0122833251953, 611.9445190429688, 402.6565246582031, 776.5759887695312, 954.7687377929688, 84.24234008789062, 206.93795776367188, 111.60741424560547, 256.1490783691406, 138.39581298828125, 114.32669830322266, 213.32821655273438, 66.71509552001953, 113.60065460205078, 229.19407653808594, 328.02508544921875, 52.6843376159668, 96.5132064819336, 126.68323516845703, 47.09348678588867, 60.72467803955078, 283.8544006347656, 104.44122314453125, 157.90504455566406, 57.819427490234375, 112.04550170898438, 49.41379928588867, 297.5106201171875, 79.06134033203125, 198.4473419189453, 832.4185791015625, 327.1396484375, 517.9881591796875, 341.0181579589844, 1460.88525390625, 204.59339904785156, 2009.666259765625, 2211.6552734375, 808.1433715820312, 281.3680114746094, 384.0055236816406, 899.278564453125, 380.0256042480469, 447.1153259277344, 236.57701110839844, 1182.8330078125, 1377.95166015625, 1299.1646728515625, 776.0379028320312, 611.4597778320312, 1316.5379638671875, 1735.4136962890625, 751.6341552734375, 2412.02392578125, 1353.639892578125, 1884.8070068359375, 1852.1741943359375, 520.499267578125, 2488.103515625, 1005.7684326171875, 1908.9415283203125, 1974.0430908203125, 1379.800537109375, 1826.7611083984375, 700.3070678710938, 2109.8994140625, 1943.22216796875, 961.00146484375, 1616.342529296875, 1442.422607421875, 1513.630615234375, 1634.654296875, 1210.30712890625, 1281.595458984375, 1116.0191650390625, 1108.8411865234375, 1156.67431640625, 1104.258544921875, 1117.2991943359375, 1128.83837890625, 266.3465270996094, 482.6045837402344, 231.7050018310547, 268.6995544433594, 182.302978515625, 199.3592987060547, 167.4544219970703, 158.74705505371094, 488.7159423828125, 201.43115234375, 192.7615509033203, 321.8090515136719, 343.5911865234375, 141.63113403320312, 105.62394714355469, 91.33798217773438, 82.75235748291016, 142.88307189941406, 516.8438720703125, 116.38236999511719, 142.55349731445312, 80.48230743408203, 189.27439880371094, 67.96198272705078, 83.78197479248047, 64.94159698486328, 66.75799560546875, 1000.131591796875, 87.1943130493164, 220.157470703125, 7255.68994140625, 673.7576293945312, 228.640380859375, 3235.827880859375, 498.084228515625, 282.8997802734375, 162.55760192871094, 216.3574676513672, 483.36602783203125, 202.12728881835938, 1020.9691162109375, 4347.8505859375, 1441.9949951171875, 193.88917541503906, 387.7944030761719, 389.9298095703125, 2361.8515625, 3922.9453125, 1416.2733154296875, 513.0110473632812, 962.920654296875, 931.5804443359375, 1251.9866943359375, 1125.601806640625, 472.23760986328125, 990.7974853515625, 722.2190551757812, 2575.582275390625, 1661.71923828125, 1899.7056884765625, 652.6902465820312, 1300.370361328125, 2173.979248046875, 1985.8466796875, 775.4688720703125, 1557.3480224609375, 895.905517578125, 1158.51318359375, 1249.0643310546875, 1315.3602294921875, 1067.65869140625, 1301.8934326171875, 1250.585693359375, 1023.7498779296875, 950.7014770507812, 946.4432373046875, 216.36428833007812, 763.1259765625, 77.8119888305664, 94.50111389160156, 74.14991760253906, 186.98284912109375, 113.0702133178711, 210.38922119140625, 157.44869995117188, 853.8248291015625, 72.84752655029297, 61.9256477355957, 44.3634147644043, 280.2469482421875, 383.1005554199219, 32.80452346801758, 49.77040481567383, 32.719703674316406, 604.1014404296875, 752.7044677734375, 253.81773376464844, 42.682708740234375, 274.3949890136719, 97.58161163330078, 65.8227767944336, 338.99078369140625, 166.85072326660156, 121.75855255126953, 1126.4976806640625, 1058.843017578125, 720.965576171875, 1044.5361328125, 248.88223266601562, 349.3222961425781, 456.9064636230469, 592.451904296875, 311.7747497558594, 201.91409301757812, 1323.1748046875, 427.5662841796875, 580.7024536132812, 426.7786560058594, 1705.448974609375, 2454.88037109375, 1087.57470703125, 1452.85693359375, 872.6726684570312, 1530.9052734375, 2192.581298828125, 1762.8961181640625, 1759.6629638671875, 670.93359375, 1030.52880859375, 1891.994140625, 1284.0513916015625, 870.6856079101562, 1809.4256591796875, 1348.453125, 1226.12255859375, 1480.2476806640625, 984.1490478515625, 1617.97412109375, 1225.456298828125, 1575.576171875, 1171.34326171875, 1310.528076171875, 1040.50537109375, 1254.0142822265625, 1323.5797119140625, 1077.054443359375, 1066.115966796875, 391.3621826171875, 184.46527099609375, 161.98060607910156, 222.4465789794922, 120.39383697509766, 85.1471939086914, 7094.734375, 57.828311920166016, 151.20379638671875, 202.11463928222656, 3540.5068359375, 61.687896728515625, 34.97863006591797, 574.6912231445312, 41.56400680541992, 33.83437728881836, 46.645599365234375, 31.21707534790039, 130.69142150878906, 349.8719787597656, 128.0076904296875, 43.2895622253418, 48.13912582397461, 35.432212829589844, 530.645263671875, 2614.232177734375, 70.98348999023438, 58.45386505126953, 18.98431396484375, 48.674434661865234, 91.27699279785156, 72.31571960449219, 653.2564697265625, 192.90780639648438, 595.94482421875, 605.69580078125, 1177.5626220703125, 1566.3997802734375, 209.88612365722656, 181.98403930664062, 208.64044189453125, 159.8673095703125, 556.4816284179688, 356.3600158691406, 2186.773193359375, 787.17724609375, 508.2059631347656, 1798.69677734375, 1655.5782470703125, 1421.9842529296875, 948.4732666015625, 896.1559448242188, 321.72369384765625, 1227.5333251953125, 819.450927734375, 448.62261962890625, 475.4925842285156, 795.07861328125, 987.0657348632812, 947.4841918945312, 625.8048095703125, 982.5286865234375, 976.6449584960938, 852.8853759765625, 653.6054077148438, 865.1061401367188, 693.3224487304688, 656.5028076171875, 656.0411987304688, 615.5073852539062, 615.1161499023438], \"Total\": [7579.0, 7819.0, 3864.0, 3000.0, 3639.0, 2401.0, 6942.0, 6022.0, 2755.0, 1745.0, 2462.0, 1699.0, 969.0, 1315.0, 1063.0, 1240.0, 991.0, 921.0, 2064.0, 831.0, 631.0, 1306.0, 802.0, 1280.0, 3725.0, 1170.0, 812.0, 1011.0, 805.0, 844.0, 226.97311401367188, 630.885986328125, 415.2300109863281, 805.8748779296875, 991.5652465820312, 88.7677001953125, 218.27105712890625, 118.07508087158203, 271.2917785644531, 146.6586151123047, 121.15502166748047, 227.24388122558594, 71.12549591064453, 121.17587280273438, 244.83599853515625, 350.60748291015625, 56.42277908325195, 103.4703140258789, 135.84933471679688, 50.5527458190918, 65.25704956054688, 305.09112548828125, 112.3444595336914, 170.0897674560547, 62.357879638671875, 121.10185241699219, 53.5030632019043, 322.50604248046875, 85.7575454711914, 215.40066528320312, 904.1077880859375, 355.2940673828125, 573.6588134765625, 375.5924072265625, 1699.3822021484375, 227.18768310546875, 2462.66455078125, 2755.119384765625, 977.9801635742188, 323.9183349609375, 465.0654602050781, 1208.702880859375, 471.4626159667969, 572.223876953125, 278.8959045410156, 1849.069091796875, 2265.0126953125, 2174.517333984375, 1176.0860595703125, 889.4801025390625, 2355.359130859375, 3509.8125, 1170.4530029296875, 5560.490234375, 2647.307861328125, 4179.21923828125, 4174.009765625, 728.1475830078125, 7465.1923828125, 2024.9224853515625, 5430.30859375, 6022.44140625, 3427.076904296875, 5462.986328125, 1177.8262939453125, 7264.97216796875, 6610.47900390625, 1997.341552734375, 6465.80810546875, 5307.26806640625, 6231.35546875, 7746.28515625, 3725.271728515625, 4597.93115234375, 3114.7822265625, 3268.31591796875, 4047.348388671875, 3226.3056640625, 3523.5947265625, 3871.999755859375, 272.0335388183594, 493.1387634277344, 237.380859375, 276.01214599609375, 187.8096160888672, 205.66375732421875, 172.95306396484375, 164.01087951660156, 505.71917724609375, 208.56719970703125, 199.7222137451172, 333.58740234375, 359.1188659667969, 148.15045166015625, 110.5044174194336, 95.63424682617188, 86.71529388427734, 150.07955932617188, 543.2979736328125, 122.36984252929688, 150.04672241210938, 84.75689697265625, 199.55661010742188, 71.89594268798828, 88.68782043457031, 68.87071990966797, 70.85667419433594, 1063.11865234375, 92.71908569335938, 234.1607666015625, 7819.7294921875, 720.34326171875, 243.2402801513672, 3639.750244140625, 542.2520141601562, 305.51123046875, 173.87387084960938, 235.12783813476562, 551.998046875, 220.3707275390625, 1306.6654052734375, 6942.80126953125, 2055.30859375, 211.54202270507812, 467.51910400390625, 473.58154296875, 4122.94580078125, 7746.28515625, 2316.01220703125, 672.1251220703125, 1455.83447265625, 1420.6705322265625, 2082.8310546875, 1857.690185546875, 614.9475708007812, 1620.0950927734375, 1102.195068359375, 6463.92578125, 3599.0, 4597.93115234375, 1009.4476318359375, 3083.51220703125, 7465.1923828125, 7264.97216796875, 1507.9732666015625, 5462.986328125, 2143.181884765625, 4047.348388671875, 5307.26806640625, 6231.35546875, 3712.215576171875, 6465.80810546875, 6610.47900390625, 3871.999755859375, 3354.481201171875, 969.028076171875, 226.61810302734375, 802.3692016601562, 81.91664123535156, 99.99938201904297, 78.8861083984375, 199.3934783935547, 121.08016204833984, 225.34820556640625, 169.05593872070312, 921.656982421875, 78.74808502197266, 67.80785369873047, 48.68368911743164, 310.7449035644531, 427.0362548828125, 36.63226318359375, 55.65721130371094, 36.62961959838867, 677.2355346679688, 846.7388916015625, 285.8838195800781, 48.60517501831055, 313.1540832519531, 111.7470703125, 75.71758270263672, 390.65081787109375, 193.18487548828125, 141.8843231201172, 1315.1826171875, 1240.0111083984375, 847.2489624023438, 1280.1356201171875, 296.5677795410156, 428.74505615234375, 580.953369140625, 771.3535766601562, 399.6270751953125, 248.57373046875, 2064.02099609375, 596.4606323242188, 860.2587890625, 630.9506225585938, 3725.271728515625, 6231.35546875, 2354.692626953125, 3523.5947265625, 1761.978271484375, 3980.059326171875, 7264.97216796875, 5307.26806640625, 5560.490234375, 1271.696044921875, 2490.77587890625, 6465.80810546875, 3584.05517578125, 1947.420654296875, 6463.92578125, 4179.21923828125, 3712.215576171875, 5462.986328125, 2533.69140625, 6610.47900390625, 4047.348388671875, 7465.1923828125, 3871.999755859375, 5430.30859375, 3028.06982421875, 6022.44140625, 7746.28515625, 4174.009765625, 6942.80126953125, 397.5091247558594, 192.2235870361328, 169.74769592285156, 234.62095642089844, 127.51220703125, 90.86026000976562, 7579.4521484375, 62.66947555541992, 164.484130859375, 219.94009399414062, 3864.3857421875, 67.41393280029297, 38.22882080078125, 631.2940063476562, 45.75775909423828, 37.29480743408203, 51.43374252319336, 34.4682502746582, 144.85801696777344, 387.8353271484375, 141.974609375, 48.62181091308594, 54.3016471862793, 40.177162170410156, 609.109375, 3000.94482421875, 82.72965240478516, 68.55900573730469, 22.283382415771484, 57.193809509277344, 108.21852111816406, 85.77820587158203, 831.1251220703125, 241.88198852539062, 812.5277099609375, 844.26171875, 1745.94140625, 2401.75634765625, 280.23785400390625, 240.26263427734375, 283.4070739746094, 212.09869384765625, 1011.4849853515625, 598.88720703125, 6022.44140625, 1722.3402099609375, 1014.9583740234375, 6610.47900390625, 6465.80810546875, 5430.30859375, 3226.3056640625, 3114.7822265625, 643.0076904296875, 7465.1923828125, 3584.05517578125, 1191.069091796875, 1404.3446044921875, 3980.059326171875, 6463.92578125, 6231.35546875, 2533.69140625, 6942.80126953125, 7264.97216796875, 5307.26806640625, 3028.06982421875, 7746.28515625, 4179.21923828125, 3268.31591796875, 3725.271728515625, 2765.342041015625, 4174.009765625], \"Category\": [\"Default\", \"Default\", \"Default\", \"Default\", \"Default\", \"Default\", \"Default\", \"Default\", \"Default\", \"Default\", \"Default\", \"Default\", \"Default\", \"Default\", \"Default\", \"Default\", \"Default\", \"Default\", \"Default\", \"Default\", \"Default\", \"Default\", \"Default\", \"Default\", \"Default\", \"Default\", \"Default\", \"Default\", \"Default\", \"Default\", \"Topic1\", \"Topic1\", \"Topic1\", \"Topic1\", \"Topic1\", \"Topic1\", \"Topic1\", \"Topic1\", \"Topic1\", \"Topic1\", \"Topic1\", \"Topic1\", \"Topic1\", \"Topic1\", \"Topic1\", \"Topic1\", \"Topic1\", \"Topic1\", \"Topic1\", \"Topic1\", \"Topic1\", \"Topic1\", \"Topic1\", \"Topic1\", \"Topic1\", \"Topic1\", \"Topic1\", \"Topic1\", \"Topic1\", \"Topic1\", \"Topic1\", \"Topic1\", \"Topic1\", \"Topic1\", \"Topic1\", \"Topic1\", \"Topic1\", \"Topic1\", \"Topic1\", \"Topic1\", \"Topic1\", \"Topic1\", \"Topic1\", \"Topic1\", \"Topic1\", \"Topic1\", \"Topic1\", \"Topic1\", \"Topic1\", \"Topic1\", \"Topic1\", \"Topic1\", \"Topic1\", \"Topic1\", \"Topic1\", \"Topic1\", \"Topic1\", \"Topic1\", \"Topic1\", \"Topic1\", \"Topic1\", \"Topic1\", \"Topic1\", \"Topic1\", \"Topic1\", \"Topic1\", \"Topic1\", \"Topic1\", \"Topic1\", \"Topic1\", \"Topic1\", \"Topic1\", \"Topic1\", \"Topic1\", \"Topic1\", \"Topic1\", \"Topic1\", \"Topic1\", \"Topic1\", \"Topic1\", \"Topic2\", \"Topic2\", \"Topic2\", \"Topic2\", \"Topic2\", \"Topic2\", \"Topic2\", \"Topic2\", \"Topic2\", \"Topic2\", \"Topic2\", \"Topic2\", \"Topic2\", \"Topic2\", \"Topic2\", \"Topic2\", \"Topic2\", \"Topic2\", \"Topic2\", \"Topic2\", \"Topic2\", \"Topic2\", \"Topic2\", \"Topic2\", \"Topic2\", \"Topic2\", \"Topic2\", \"Topic2\", \"Topic2\", \"Topic2\", \"Topic2\", \"Topic2\", \"Topic2\", \"Topic2\", \"Topic2\", \"Topic2\", \"Topic2\", \"Topic2\", \"Topic2\", \"Topic2\", \"Topic2\", \"Topic2\", \"Topic2\", \"Topic2\", \"Topic2\", \"Topic2\", \"Topic2\", \"Topic2\", \"Topic2\", \"Topic2\", \"Topic2\", \"Topic2\", \"Topic2\", \"Topic2\", \"Topic2\", \"Topic2\", \"Topic2\", \"Topic2\", \"Topic2\", \"Topic2\", \"Topic2\", \"Topic2\", \"Topic2\", \"Topic2\", \"Topic2\", \"Topic2\", \"Topic2\", \"Topic2\", \"Topic2\", \"Topic2\", \"Topic2\", \"Topic2\", \"Topic2\", \"Topic2\", \"Topic2\", \"Topic3\", \"Topic3\", \"Topic3\", \"Topic3\", \"Topic3\", \"Topic3\", \"Topic3\", \"Topic3\", \"Topic3\", \"Topic3\", \"Topic3\", \"Topic3\", \"Topic3\", \"Topic3\", \"Topic3\", \"Topic3\", \"Topic3\", \"Topic3\", \"Topic3\", \"Topic3\", \"Topic3\", \"Topic3\", \"Topic3\", \"Topic3\", \"Topic3\", \"Topic3\", \"Topic3\", \"Topic3\", \"Topic3\", \"Topic3\", \"Topic3\", \"Topic3\", \"Topic3\", \"Topic3\", \"Topic3\", \"Topic3\", \"Topic3\", \"Topic3\", \"Topic3\", \"Topic3\", \"Topic3\", \"Topic3\", \"Topic3\", \"Topic3\", \"Topic3\", \"Topic3\", \"Topic3\", \"Topic3\", \"Topic3\", \"Topic3\", \"Topic3\", \"Topic3\", \"Topic3\", \"Topic3\", \"Topic3\", \"Topic3\", \"Topic3\", \"Topic3\", \"Topic3\", \"Topic3\", \"Topic3\", \"Topic3\", \"Topic3\", \"Topic3\", \"Topic3\", \"Topic3\", \"Topic3\", \"Topic3\", \"Topic3\", \"Topic3\", \"Topic3\", \"Topic3\", \"Topic4\", \"Topic4\", \"Topic4\", \"Topic4\", \"Topic4\", \"Topic4\", \"Topic4\", \"Topic4\", \"Topic4\", \"Topic4\", \"Topic4\", \"Topic4\", \"Topic4\", \"Topic4\", \"Topic4\", \"Topic4\", \"Topic4\", \"Topic4\", \"Topic4\", \"Topic4\", \"Topic4\", \"Topic4\", \"Topic4\", \"Topic4\", \"Topic4\", \"Topic4\", \"Topic4\", \"Topic4\", \"Topic4\", \"Topic4\", \"Topic4\", \"Topic4\", \"Topic4\", \"Topic4\", \"Topic4\", \"Topic4\", \"Topic4\", \"Topic4\", \"Topic4\", \"Topic4\", \"Topic4\", \"Topic4\", \"Topic4\", \"Topic4\", \"Topic4\", \"Topic4\", \"Topic4\", \"Topic4\", \"Topic4\", \"Topic4\", \"Topic4\", \"Topic4\", \"Topic4\", \"Topic4\", \"Topic4\", \"Topic4\", \"Topic4\", \"Topic4\", \"Topic4\", \"Topic4\", \"Topic4\", \"Topic4\", \"Topic4\", \"Topic4\", \"Topic4\", \"Topic4\", \"Topic4\", \"Topic4\", \"Topic4\", \"Topic4\", \"Topic4\"], \"logprob\": [30.0, 29.0, 28.0, 27.0, 26.0, 25.0, 24.0, 23.0, 22.0, 21.0, 20.0, 19.0, 18.0, 17.0, 16.0, 15.0, 14.0, 13.0, 12.0, 11.0, 10.0, 9.0, 8.0, 7.0, 6.0, 5.0, 4.0, 3.0, 2.0, 1.0, -6.951700210571289, -5.933300018310547, -6.351900100708008, -5.695000171661377, -5.488500118255615, -7.916200160980225, -7.017499923706055, -7.635000228881836, -6.804200172424316, -7.4197998046875, -7.610899925231934, -6.987100124359131, -8.149499893188477, -7.617199897766113, -6.91540002822876, -6.55679988861084, -8.385600090026855, -7.780300140380859, -7.508200168609619, -8.49779987335205, -8.243599891662598, -6.701499938964844, -7.701300144195557, -7.287899971008301, -8.29259967803955, -7.63100004196167, -8.449700355529785, -6.6545000076293945, -7.979700088500977, -7.0594000816345215, -5.6255998611450195, -6.559599876403809, -6.099999904632568, -6.51800012588501, -5.0630998611450195, -7.028900146484375, -4.744200229644775, -4.648399829864502, -5.655200004577637, -6.710299968719482, -6.3993000984191895, -5.548299789428711, -6.4096999168396, -6.247099876403809, -6.883699893951416, -5.2743000984191895, -5.121600151062012, -5.180500030517578, -5.695700168609619, -5.934100151062012, -5.167200088500977, -4.890900135040283, -5.727700233459473, -4.561699867248535, -5.139400005340576, -4.8084001541137695, -4.825799942016602, -6.095099925994873, -4.530700206756592, -5.436399936676025, -4.795599937438965, -4.7621002197265625, -5.120200157165527, -4.839600086212158, -5.798399925231934, -4.695499897003174, -4.7778000831604, -5.48199987411499, -4.961999893188477, -5.075900077819824, -5.027699947357178, -4.950799942016602, -5.251299858093262, -5.1940999031066895, -5.332399845123291, -5.338900089263916, -5.296599864959717, -5.3429999351501465, -5.331299781799316, -5.321000099182129, -6.718999862670898, -6.124599933624268, -6.85830020904541, -6.71019983291626, -7.098100185394287, -7.008699893951416, -7.18310022354126, -7.236499786376953, -6.111999988555908, -6.998300075531006, -7.042300224304199, -6.529799938201904, -6.464300155639648, -7.350599765777588, -7.643899917602539, -7.7891998291015625, -7.887899875640869, -7.341800212860107, -6.056099891662598, -7.546899795532227, -7.344099998474121, -7.915800094604492, -7.0605998039245605, -8.084799766540527, -7.8755998611450195, -8.13029956817627, -8.102700233459473, -5.395899772644043, -7.835700035095215, -6.9095001220703125, -3.414299964904785, -5.790900230407715, -6.871600151062012, -4.221799850463867, -6.0929999351501465, -6.658699989318848, -7.212800025939941, -6.9268999099731445, -6.123000144958496, -6.994900226593018, -5.37529993057251, -3.9263999462127686, -5.03000020980835, -7.036499977111816, -6.343299865722656, -6.337800025939941, -4.536600112915039, -4.029200077056885, -5.047999858856201, -6.063499927520752, -5.433800220489502, -5.466899871826172, -5.171299934387207, -5.277699947357178, -6.146299839019775, -5.405300140380859, -5.721499919891357, -4.449999809265137, -4.888199806213379, -4.754300117492676, -5.822700023651123, -5.133399963378906, -4.619500160217285, -4.710000038146973, -5.650300025939941, -4.953100204467773, -5.50600004196167, -5.248899936676025, -5.173600196838379, -5.1219000816345215, -5.330599784851074, -5.132199764251709, -5.172399997711182, -5.372600078582764, -5.446599960327148, -5.373000144958496, -6.848700046539307, -5.588200092315674, -7.871399879455566, -7.677000045776367, -7.919600009918213, -6.99459981918335, -7.497700214385986, -6.876699924468994, -7.166600227355957, -5.475900173187256, -7.937300205230713, -8.099699974060059, -8.433199882507324, -6.590000152587891, -6.277400016784668, -8.735099792480469, -8.31820011138916, -8.737700462341309, -5.821899890899658, -5.6020002365112305, -6.689000129699707, -8.47189998626709, -6.611100196838379, -7.644999980926514, -8.038700103759766, -6.399700164794922, -7.10860013961792, -7.423600196838379, -5.198800086975098, -5.260700225830078, -5.645100116729736, -5.2743000984191895, -6.708700180053711, -6.369699954986572, -6.101200103759766, -5.841400146484375, -6.483399868011475, -6.917799949645996, -5.037899971008301, -6.167600154876709, -5.861400127410889, -6.169400215148926, -4.78410005569458, -4.4197998046875, -5.234000205993652, -4.944399833679199, -5.454100131988525, -4.892000198364258, -4.532800197601318, -4.750899791717529, -4.752799987792969, -5.7170000076293945, -5.287799835205078, -4.680300235748291, -5.06790018081665, -5.456399917602539, -4.724899768829346, -5.018899917602539, -5.113999843597412, -4.9257001876831055, -5.333899974822998, -4.836699962615967, -5.11460018157959, -4.86329984664917, -5.159800052642822, -5.047500133514404, -5.278200149536133, -5.091599941253662, -5.037600040435791, -5.24370002746582, -5.253900051116943, -5.8769001960754395, -6.629000186920166, -6.758999824523926, -6.441800117492676, -7.055699825286865, -7.402100086212158, -2.9793999195098877, -7.789000034332275, -6.827899932861328, -6.537600040435791, -3.674499988555908, -7.724400043487549, -8.29170036315918, -5.492700099945068, -8.119199752807617, -8.324999809265137, -8.003899574279785, -8.405500411987305, -6.973599910736084, -5.988900184631348, -6.9944000244140625, -8.07859992980957, -7.972400188446045, -8.278900146484375, -5.572400093078613, -3.977799892425537, -7.584000110626221, -7.778200149536133, -8.902899742126465, -7.961299896240234, -7.332600116729736, -7.565400123596191, -5.364500045776367, -6.5843000411987305, -5.456299781799316, -5.440100193023682, -4.775300025939941, -4.489999771118164, -6.499899864196777, -6.642600059509277, -6.505899906158447, -6.77209997177124, -5.524899959564209, -5.9704999923706055, -4.156300067901611, -5.177999973297119, -5.615600109100342, -4.3516998291015625, -4.434599876403809, -4.586699962615967, -4.991600036621094, -5.048399925231934, -6.072800159454346, -4.733699798583984, -5.137899875640869, -5.740300178527832, -5.68209981918335, -5.168000221252441, -4.951700210571289, -4.992700099945068, -5.407400131225586, -4.956399917602539, -4.962399959564209, -5.097899913787842, -5.363999843597412, -5.083600044250488, -5.304999828338623, -5.359600067138672, -5.360300064086914, -5.423999786376953, -5.424699783325195], \"loglift\": [30.0, 29.0, 28.0, 27.0, 26.0, 25.0, 24.0, 23.0, 22.0, 21.0, 20.0, 19.0, 18.0, 17.0, 16.0, 15.0, 14.0, 13.0, 12.0, 11.0, 10.0, 9.0, 8.0, 7.0, 6.0, 5.0, 4.0, 3.0, 2.0, 1.0, 1.2095999717712402, 1.2057000398635864, 1.205399990081787, 1.1992000341415405, 1.1984000205993652, 1.183899998664856, 1.1828999519348145, 1.179900050163269, 1.1787999868392944, 1.1782000064849854, 1.1782000064849854, 1.1729999780654907, 1.1721999645233154, 1.1715999841690063, 1.170199990272522, 1.169600009918213, 1.1676000356674194, 1.166599988937378, 1.1663000583648682, 1.1653000116348267, 1.164199948310852, 1.1640000343322754, 1.1632000207901, 1.1619000434875488, 1.160599946975708, 1.1584999561309814, 1.1567000150680542, 1.155500054359436, 1.1548999547958374, 1.1541999578475952, 1.1535999774932861, 1.1535999774932861, 1.1340999603271484, 1.1396000385284424, 1.0850000381469727, 1.1313999891281128, 1.0328999757766724, 1.0164999961853027, 1.0454000234603882, 1.0953999757766724, 1.044700026512146, 0.940500020980835, 1.0205999612808228, 0.9894999861717224, 1.0715999603271484, 0.7893999814987183, 0.7391999959945679, 0.7210999727249146, 0.8203999996185303, 0.8614000082015991, 0.6545000076293945, 0.5318999886512756, 0.7932999730110168, 0.4009999930858612, 0.5654000043869019, 0.4399000108242035, 0.4237000048160553, 0.9004999995231628, 0.13750000298023224, 0.5364000201225281, 0.1906999945640564, 0.12080000340938568, 0.3264000117778778, 0.14069999754428864, 0.7163000106811523, -0.00019999999494757503, 0.011900000274181366, 0.5045999884605408, -0.1501999944448471, -0.066600002348423, -0.17890000343322754, -0.319599986076355, 0.11190000176429749, -0.04129999876022339, 0.20980000495910645, 0.15520000457763672, -0.016300000250339508, 0.164000004529953, 0.08760000020265579, 0.003599999938160181, 1.261199951171875, 1.260699987411499, 1.2581000328063965, 1.2554999589920044, 1.2525999546051025, 1.2511999607086182, 1.25, 1.2496999502182007, 1.2481000423431396, 1.247499942779541, 1.246899962425232, 1.246399998664856, 1.2381000518798828, 1.2373000383377075, 1.2372000217437744, 1.2364000082015991, 1.2355999946594238, 1.233199954032898, 1.2323999404907227, 1.232200026512146, 1.2310999631881714, 1.2305999994277954, 1.2294000387191772, 1.226099967956543, 1.2253999710083008, 1.2236000299453735, 1.2226999998092651, 1.2213000059127808, 1.220900058746338, 1.2207000255584717, 1.2074999809265137, 1.215499997138977, 1.2203999757766724, 1.1647000312805176, 1.1973999738693237, 1.205399990081787, 1.215000033378601, 1.1991000175476074, 1.1496000289916992, 1.1958999633789062, 1.035599946975708, 0.814300000667572, 0.9279000163078308, 1.195199966430664, 1.0953999757766724, 1.0880000591278076, 0.7251999974250793, 0.6019999980926514, 0.7904999852180481, 1.0121999979019165, 0.8690000176429749, 0.8603000044822693, 0.7732999920845032, 0.7813000082969666, 1.0183000564575195, 0.7906000018119812, 0.8596000075340271, 0.362199991941452, 0.5095000267028809, 0.3984000086784363, 0.8463000059127808, 0.4189000129699707, 0.04859999939799309, -0.014700000174343586, 0.6172999739646912, 0.027300000190734863, 0.4101000130176544, 0.03139999881386757, -0.16429999470710754, -0.27309998869895935, 0.03620000183582306, -0.3203999996185303, -0.38269999623298645, -0.04800000041723251, 0.0215000007301569, 1.336899995803833, 1.3142000436782837, 1.3102999925613403, 1.3091000318527222, 1.3039000034332275, 1.2985999584197998, 1.2962000370025635, 1.2920000553131104, 1.2918000221252441, 1.2892999649047852, 1.284000039100647, 1.2826000452041626, 1.269700050354004, 1.2675000429153442, 1.257200002670288, 1.2518999576568604, 1.250100016593933, 1.2487000226974487, 1.2475999593734741, 1.2461999654769897, 1.2426999807357788, 1.2415000200271606, 1.2304999828338623, 1.2282999753952026, 1.2249000072479248, 1.2203999757766724, 1.2186000347137451, 1.2138999700546265, 1.2074999809265137, 1.2056000232696533, 1.2024999856948853, 1.1991000175476074, 1.157099962234497, 1.1851999759674072, 1.1555999517440796, 1.120300054550171, 1.09660005569458, 1.1122000217437744, 1.1526000499725342, 0.9157999753952026, 1.0276000499725342, 0.9674999713897705, 0.9695000052452087, 0.579200029373169, 0.42899999022483826, 0.5879999995231628, 0.47450000047683716, 0.657800018787384, 0.4050000011920929, 0.16249999403953552, 0.2583000063896179, 0.20990000665187836, 0.7210000157356262, 0.4778999984264374, 0.1316000074148178, 0.33399999141693115, 0.5554999709129333, 0.08720000088214874, 0.22930000722408295, 0.25270000100135803, 0.05469999834895134, 0.4147999882698059, -0.04699999839067459, 0.1657000035047531, -0.19519999623298645, 0.1648000031709671, -0.06109999865293503, 0.2921999990940094, -0.2087000012397766, -0.40639999508857727, 0.005799999926239252, -0.5131999850273132, 1.7240999937057495, 1.6984000205993652, 1.6928000450134277, 1.686400055885315, 1.6821999549865723, 1.6747000217437744, 1.6735999584197998, 1.6591999530792236, 1.655500054359436, 1.6550999879837036, 1.6520999670028687, 1.6509000062942505, 1.6507999897003174, 1.6456999778747559, 1.6434999704360962, 1.642300009727478, 1.6418999433517456, 1.6405999660491943, 1.6367000341415405, 1.6366000175476074, 1.6361000537872314, 1.6234999895095825, 1.6191999912261963, 1.6139999628067017, 1.601699948310852, 1.601699948310852, 1.5865000486373901, 1.580199956893921, 1.5793999433517456, 1.5784000158309937, 1.5693999528884888, 1.5688999891281128, 1.4988000392913818, 1.5133999586105347, 1.4296000003814697, 1.4076000452041626, 1.3458000421524048, 1.3121999502182007, 1.450600028038025, 1.4617999792099, 1.43340003490448, 1.4569000005722046, 1.1420999765396118, 1.2204999923706055, 0.7265999913215637, 0.9567000269889832, 1.0478999614715576, 0.43810001015663147, 0.3772999942302704, 0.39969998598098755, 0.5153999924659729, 0.49380001425743103, 1.0471999645233154, -0.06560000032186508, 0.2639999985694885, 0.7631999850273132, 0.6567000150680542, 0.1289999932050705, -0.1395999938249588, -0.14390000700950623, 0.34130001068115234, -0.21570000052452087, -0.2671000063419342, -0.08860000222921371, 0.20649999380111694, -0.45249998569488525, -0.056699998676776886, 0.13449999690055847, 0.003000000026077032, 0.23720000684261322, -0.17520000040531158]}, \"token.table\": {\"Topic\": [1, 2, 3, 4, 1, 2, 3, 4, 1, 2, 3, 4, 1, 2, 3, 4, 1, 2, 3, 4, 1, 2, 3, 4, 1, 2, 3, 4, 1, 2, 3, 4, 1, 2, 3, 4, 1, 2, 3, 4, 1, 2, 3, 4, 1, 2, 3, 4, 1, 2, 3, 4, 1, 2, 3, 4, 1, 2, 3, 4, 1, 2, 3, 4, 1, 2, 3, 4, 1, 2, 3, 4, 1, 2, 3, 4, 1, 2, 3, 4, 1, 2, 3, 4, 1, 2, 3, 4, 1, 2, 3, 4, 1, 2, 3, 4, 1, 2, 3, 4, 1, 2, 3, 4, 1, 2, 3, 4, 1, 2, 3, 4, 1, 2, 3, 4, 1, 2, 3, 4, 1, 2, 3, 4, 1, 2, 3, 4, 1, 2, 3, 4, 1, 2, 3, 4, 1, 2, 3, 4, 1, 2, 3, 4, 1, 2, 3, 4, 1, 2, 3, 4, 1, 2, 3, 4, 1, 2, 3, 4, 1, 2, 3, 4, 1, 2, 3, 4, 1, 2, 3, 4, 1, 2, 3, 4, 1, 2, 3, 4, 1, 2, 3, 4, 1, 2, 3, 4, 1, 2, 3, 4, 1, 2, 3, 4, 1, 2, 3, 4, 1, 2, 3, 4, 1, 2, 3, 4, 1, 2, 3, 4, 1, 2, 3, 4, 1, 2, 3, 4, 1, 2, 3, 4, 1, 2, 3, 4, 1, 2, 3, 4, 1, 2, 3, 4, 1, 2, 3, 4, 1, 2, 3, 4, 1, 2, 3, 4, 1, 2, 3, 4, 1, 2, 3, 4, 1, 2, 3, 4, 1, 2, 3, 4, 1, 2, 3, 4, 1, 2, 3, 4, 1, 2, 3, 4, 1, 2, 3, 4, 1, 2, 3, 4, 1, 2, 3, 4, 1, 2, 3, 4, 1, 2, 3, 4, 1, 2, 3, 4, 1, 2, 3, 4, 1, 2, 3, 4, 1, 2, 3, 4, 1, 2, 3, 4, 1, 2, 3, 4, 1, 2, 3, 4, 1, 2, 3, 4, 1, 2, 3, 4, 1, 2, 3, 4, 1, 2, 3, 4, 1, 2, 3, 4, 1, 2, 3, 4, 1, 2, 3, 4, 1, 2, 3, 4, 1, 2, 3, 4, 1, 2, 3, 4, 1, 2, 3, 4, 1, 2, 3, 4, 1, 2, 3, 4, 1, 2, 3, 4, 1, 2, 3, 4, 1, 2, 3, 4, 1, 2, 3, 4, 1, 2, 3, 4, 1, 2, 3, 4, 1, 2, 3, 4, 1, 2, 3, 4, 1, 2, 3, 4, 1, 2, 3, 4, 1, 2, 3, 4, 1, 2, 3, 4, 1, 2, 3, 4, 1, 2, 3, 4, 1, 2, 3, 4, 1, 2, 3, 4, 1, 2, 3, 4, 1, 2, 3, 4, 1, 2, 3, 4, 1, 2, 3, 4, 1, 2, 3, 4, 1, 2, 3, 4, 1, 2, 3, 4, 1, 2, 3, 4, 1, 2, 3, 4, 1, 2, 3, 4, 1, 2, 3, 4, 1, 2, 3, 4, 1, 2, 3, 4, 1, 2, 3, 4, 1, 2, 3, 4, 1, 2, 3, 4, 1, 2, 3, 4, 1, 2, 3, 4, 1, 2, 3, 4, 1, 2, 3, 4, 1, 2, 3, 4, 1, 2, 3, 4, 1, 2, 3, 4, 1, 2, 3, 4, 1, 2, 3, 4, 1, 2, 3, 4, 1, 2, 3, 4, 1, 2, 3, 4, 1, 2, 3, 4, 1, 2, 3, 4, 1, 2, 3, 4, 1, 2, 3, 4, 1, 2, 3, 4, 1, 2, 3, 4, 1, 2, 3, 4, 1, 2, 3, 4, 1, 2, 3, 4, 1, 2, 3, 4, 1, 2, 3, 4, 1, 2, 3, 4, 1, 2, 3, 4, 1, 2, 3, 4, 1, 2, 3, 4, 1, 2, 3, 4, 1, 2, 3, 4, 1, 2, 3, 4, 1, 2, 3, 4, 1, 2, 3, 4, 1, 2, 3, 4, 1, 2, 3, 4, 1, 2, 3, 4, 1, 2, 3, 4, 1, 2, 3, 4, 1, 2, 3, 4, 1, 2, 3, 4, 1, 2, 3, 4, 1, 2, 3, 4, 1, 2, 3, 4, 1, 2, 3, 4, 1, 2, 3, 4, 1, 2, 3, 4, 1, 2, 3, 4, 1, 2, 3, 4, 1, 2, 3, 4, 1, 2, 3, 4, 1, 2, 3, 4, 1, 2, 3, 4, 1, 2, 3, 4, 1, 2, 3, 4, 1, 2, 3, 4, 1, 2, 3, 4, 1, 2, 3, 4, 1, 2, 3, 4, 1, 2, 3, 4, 1, 2, 3, 4, 1, 2, 3, 4, 1, 2, 3, 4, 1, 2, 3, 4, 1, 2, 3, 4, 1, 2, 3, 4, 1, 2, 3, 4, 1, 2, 3, 4, 1, 2, 3, 4, 1, 2, 3, 4, 1, 2, 3, 4, 1, 2, 3, 4, 1, 2, 3, 4, 1, 2, 3, 4, 1, 2, 3, 4, 1, 2, 3, 4, 1, 2, 3, 4, 1, 2, 3, 4, 1, 2, 3, 4, 1, 2, 3, 4, 1, 2, 3, 4, 1, 2, 3, 4, 1, 2, 3, 4, 1, 2, 3, 4, 1, 2, 3, 4, 1, 2, 3, 4, 1, 2, 3, 4, 1, 2, 3, 4, 1, 2, 3, 4, 1, 2, 3, 4, 1, 2, 3, 4, 1, 2, 3, 4, 1, 2, 3, 4, 1, 2, 3, 4, 1, 2, 3, 4, 1, 2, 3, 4, 1, 2, 3, 4, 1, 2, 3, 4, 1, 2, 3, 4, 1, 2, 3, 4, 1, 2, 3, 4, 1, 2, 3, 4, 1, 2, 3, 4, 1, 2, 3, 4, 1, 2, 3, 4, 1, 2, 3, 4, 1, 2, 3, 4, 1, 2, 3, 4, 1, 2, 3, 4, 1, 2, 3, 4, 1, 2, 3, 4, 1, 2, 3, 4, 1, 2, 3, 4, 1, 2, 3, 4, 1, 2, 3, 4, 1, 2, 3, 4, 1, 2, 3, 4, 1, 2, 3, 4, 1, 2, 3, 4, 1, 2, 3, 4, 1, 2, 3, 4, 1, 2, 3, 4], \"Freq\": [0.20309968292713165, 0.23744498193264008, 0.34378334879875183, 0.2159791737794876, 0.013908990658819675, 0.94581139087677, 0.02781798131763935, 0.013908990658819675, 0.0437084324657917, 0.02185421623289585, 0.02185421623289585, 0.9178771376609802, 0.008870888501405716, 0.031451329588890076, 0.8540245890617371, 0.10564421117305756, 0.006941135041415691, 0.9356650114059448, 0.03054099529981613, 0.027764540165662766, 0.10509798675775528, 0.08758165687322617, 0.7807278633117676, 0.027525663375854492, 0.012207531370222569, 0.012207531370222569, 0.9521874785423279, 0.024415062740445137, 0.25334432721138, 0.15959575772285461, 0.3582534193992615, 0.22851210832595825, 0.9240136742591858, 0.024805737659335136, 0.04651075601577759, 0.006201434414833784, 0.02535300701856613, 0.02535300701856613, 0.9380612373352051, 0.02535300701856613, 0.25651314854621887, 0.010059339925646782, 0.717566192150116, 0.016765566542744637, 0.010785265825688839, 0.938318133354187, 0.03235579654574394, 0.010785265825688839, 0.26916471123695374, 0.2121986299753189, 0.1801552176475525, 0.3382360637187958, 0.17363838851451874, 0.01653699018061161, 0.01240274216979742, 0.7979097366333008, 0.01846090890467167, 0.02953745424747467, 0.21783871948719025, 0.7335134744644165, 0.021750198677182198, 0.41621971130371094, 0.01186374481767416, 0.549686849117279, 0.2082265019416809, 0.513934850692749, 0.18567968904972076, 0.09217669814825058, 0.05229836702346802, 0.016091804951429367, 0.812636137008667, 0.11666558682918549, 0.929722011089325, 0.019781319424510002, 0.019781319424510002, 0.019781319424510002, 0.07601647824048996, 0.8235118389129639, 0.06968177109956741, 0.031673531979322433, 0.03872738033533096, 0.9183921813964844, 0.025818252936005592, 0.01475328765809536, 0.007246057968586683, 0.97459477186203, 0.010869086720049381, 0.007246057968586683, 0.0470569021999836, 0.8299126029014587, 0.07914114743471146, 0.04491795226931572, 0.014519958756864071, 0.9437972903251648, 0.014519958756864071, 0.029039917513728142, 0.01725388690829277, 0.9374611377716064, 0.028756476938724518, 0.01725388690829277, 0.026185616850852966, 0.9263162016868591, 0.026185616850852966, 0.019639212638139725, 0.01458691619336605, 0.9675987958908081, 0.009724610485136509, 0.009724610485136509, 0.11276791989803314, 0.02114398591220379, 0.8598554134368896, 0.007047994993627071, 0.1284560263156891, 0.40467846393585205, 0.0898352563381195, 0.3769722580909729, 0.016707560047507286, 0.9579001069068909, 0.011138373054564, 0.01392296701669693, 0.012811711058020592, 0.9395254254341125, 0.021352851763367653, 0.025623422116041183, 0.8497794270515442, 0.035855673253536224, 0.017927836626768112, 0.10039588063955307, 0.07499205321073532, 0.028903188183903694, 0.8163197636604309, 0.07967905700206757, 0.05419975891709328, 0.6560282707214355, 0.16752652823925018, 0.12318126857280731, 0.10777388513088226, 0.16958537697792053, 0.6767566204071045, 0.04754730314016342, 0.915835440158844, 0.03738103806972504, 0.03738103806972504, 0.01869051903486252, 0.008222321979701519, 0.9414559006690979, 0.032889287918806076, 0.020555805414915085, 0.010013909079134464, 0.9663422107696533, 0.015020863153040409, 0.010013909079134464, 0.45104119181632996, 0.06053762510418892, 0.3225483000278473, 0.16582044959068298, 0.3248085081577301, 0.04107083007693291, 0.457684725522995, 0.17609453201293945, 0.15393763780593872, 0.009329553693532944, 0.8140035271644592, 0.02332388423383236, 0.015606825239956379, 0.010404550470411777, 0.010404550470411777, 0.9572186470031738, 0.03683129698038101, 0.05524694174528122, 0.018415648490190506, 0.8839510679244995, 0.0241751279681921, 0.0967005118727684, 0.0241751279681921, 0.8582170605659485, 0.01504562795162201, 0.03009125590324402, 0.9378440976142883, 0.01504562795162201, 0.021634461358189583, 0.9406287670135498, 0.018812576308846474, 0.017871946096420288, 0.009589235298335552, 0.9637181758880615, 0.009589235298335552, 0.014383853413164616, 0.00405565369874239, 0.9794403314590454, 0.012166961096227169, 0.0060834805481135845, 0.01428669411689043, 0.8890720009803772, 0.026924924924969673, 0.06978500634431839, 0.002429751679301262, 0.9279093146324158, 0.004731621593236923, 0.06496388465166092, 0.03781754523515701, 0.9170754551887512, 0.03309035301208496, 0.01418157946318388, 0.946290135383606, 0.01126535888761282, 0.02253071777522564, 0.02253071777522564, 0.9393369555473328, 0.017723338678479195, 0.017723338678479195, 0.017723338678479195, 0.008425279520452023, 0.977332353591919, 0.008425279520452023, 0.008425279520452023, 0.01332918182015419, 0.9530364871025085, 0.01332918182015419, 0.02665836364030838, 0.3277740478515625, 0.10095573216676712, 0.2082211971282959, 0.3631417751312256, 0.029667457565665245, 0.029667457565665245, 0.029667457565665245, 0.9196912050247192, 0.11399616301059723, 0.572891354560852, 0.20786108076572418, 0.10526454448699951, 0.011990860104560852, 0.9652642607688904, 0.02098400518298149, 0.005995430052280426, 0.35829150676727295, 0.08283083140850067, 0.27096596360206604, 0.2876605689525604, 0.3133133351802826, 0.04236626997590065, 0.1438482701778412, 0.5005131363868713, 0.04487648978829384, 0.04487648978829384, 0.04487648978829384, 0.8526533246040344, 0.9409607648849487, 0.02045566774904728, 0.02045566774904728, 0.013637112453579903, 0.5591503977775574, 0.06708106398582458, 0.16897635161876678, 0.20463970303535461, 0.8028690218925476, 0.010162899270653725, 0.050814494490623474, 0.13647320866584778, 0.9736835956573486, 0.008811616338789463, 0.008811616338789463, 0.013217424973845482, 0.3141486644744873, 0.08709071576595306, 0.09797705709934235, 0.5007716417312622, 0.03535875678062439, 0.02242906205356121, 0.006200975738465786, 0.9360834956169128, 0.002846506657078862, 0.04450901597738266, 0.03648703917860985, 0.9163163900375366, 0.011043663136661053, 0.951595664024353, 0.02024671621620655, 0.018406106159090996, 0.2826368510723114, 0.0771859660744667, 0.49546581506729126, 0.14472369849681854, 0.18050318956375122, 0.7675451040267944, 0.04228002578020096, 0.008130774833261967, 0.49432840943336487, 0.11254162341356277, 0.2230888456106186, 0.16980963945388794, 0.9029757380485535, 0.03312073275446892, 0.04880949854850769, 0.015688767656683922, 0.11088675260543823, 0.027721688151359558, 0.018481124192476273, 0.8408911824226379, 0.8256902098655701, 0.15266667306423187, 0.015051644295454025, 0.008600939996540546, 0.3421870470046997, 0.09422542154788971, 0.26965826749801636, 0.29383453726768494, 0.6424862742424011, 0.002563110087066889, 0.005980590358376503, 0.3485829830169678, 0.025928447023034096, 0.15816351771354675, 0.7674820423126221, 0.04796762764453888, 0.2600948214530945, 0.10419579595327377, 0.388366162776947, 0.2470703423023224, 0.011657972820103168, 0.011657972820103168, 0.12823770940303802, 0.8393740653991699, 0.6598156690597534, 0.09353057295084, 0.19046224653720856, 0.05611834302544594, 0.859724223613739, 0.018241923302412033, 0.1135706827044487, 0.00882673729211092, 0.1580154150724411, 0.611692488193512, 0.17159487307071686, 0.05925578251481056, 0.0272983405739069, 0.0272983405739069, 0.9008452296257019, 0.0545966811478138, 0.06797859072685242, 0.04265323281288147, 0.018327562138438225, 0.871059000492096, 0.01998939737677574, 0.9528279304504395, 0.013326264917850494, 0.013326264917850494, 0.24648353457450867, 0.28769880533218384, 0.3302609920501709, 0.13549859821796417, 0.02357393130660057, 0.009429572150111198, 0.2168801724910736, 0.7543658018112183, 0.055289071053266525, 0.9186491966247559, 0.008506011217832565, 0.01701202243566513, 0.0036760172806680202, 0.977820634841919, 0.0073520345613360405, 0.011028052307665348, 0.025055546313524246, 0.9470996856689453, 0.010022218339145184, 0.020044436678290367, 0.01651798188686371, 0.04129495471715927, 0.9332659840583801, 0.01651798188686371, 0.9289212822914124, 0.029396241530776024, 0.017637744545936584, 0.02351699396967888, 0.9705464243888855, 0.014449822716414928, 0.007224911358207464, 0.009633215144276619, 0.24296478927135468, 0.2110295295715332, 0.39397528767585754, 0.15197335183620453, 0.005031330976635218, 0.005031330976635218, 0.005031330976635218, 0.9836252331733704, 0.9641695022583008, 0.014890649355947971, 0.01737242378294468, 0.003722662338986993, 0.6083850860595703, 0.11964613199234009, 0.1832219362258911, 0.08829972892999649, 0.0415131114423275, 0.04789974167943001, 0.8749686479568481, 0.03512647747993469, 0.5943151116371155, 0.14348465204238892, 0.08490215986967087, 0.17744551599025726, 0.8161891102790833, 0.10192212462425232, 0.06050357222557068, 0.021927468478679657, 0.014213602058589458, 0.17174768447875977, 0.09594181180000305, 0.7177869081497192, 0.921201765537262, 0.023321563377976418, 0.011660781688988209, 0.0349823459982872, 0.2717028856277466, 0.23533764481544495, 0.3321859836578369, 0.1607229858636856, 0.04424266144633293, 0.029495108872652054, 0.9143483638763428, 0.014747554436326027, 0.1894778609275818, 0.06160936877131462, 0.675378143787384, 0.07439621537923813, 0.12241645902395248, 0.006843156181275845, 0.8561548590660095, 0.01368631236255169, 0.9248413443565369, 0.024772536009550095, 0.024772536009550095, 0.024772536009550095, 0.5973739624023438, 0.2575284242630005, 0.07449929416179657, 0.0703604444861412, 0.08701229095458984, 0.029551342129707336, 0.013133930042386055, 0.871764600276947, 0.29392725229263306, 0.18924498558044434, 0.24476289749145508, 0.2721436619758606, 0.2699815034866333, 0.059802353382110596, 0.2130821794271469, 0.45693644881248474, 0.026158275082707405, 0.026158275082707405, 0.026158275082707405, 0.9155396223068237, 0.09487626701593399, 0.7015978097915649, 0.10849951952695847, 0.09536281228065491, 0.3007916808128357, 0.28350135684013367, 0.2504113018512726, 0.165450319647789, 0.31558531522750854, 0.05844172090291977, 0.031725507229566574, 0.5944358110427856, 0.1406709849834442, 0.6468884348869324, 0.173362135887146, 0.03863498941063881, 0.08183000236749649, 0.7632507681846619, 0.1249767318367958, 0.029756363481283188, 0.02699957974255085, 0.9584851264953613, 0.0067498949356377125, 0.0067498949356377125, 0.023596899583935738, 0.9438759684562683, 0.023596899583935738, 0.011798449791967869, 0.04827110469341278, 0.041834957897663116, 0.9010606408119202, 0.009654221124947071, 0.07259336858987808, 0.021075494587421417, 0.8968793749809265, 0.009366885758936405, 0.040920235216617584, 0.018186770379543304, 0.02273346297442913, 0.9184318780899048, 0.4337747097015381, 0.1408149152994156, 0.3165188431739807, 0.10898319631814957, 0.029835356399416924, 0.008524388074874878, 0.012786581180989742, 0.9462070465087891, 0.9355190992355347, 0.03422630950808525, 0.014260961674153805, 0.014260961674153805, 0.026413943618535995, 0.07924183458089828, 0.8716601729393005, 0.026413943618535995, 0.9353199601173401, 0.040843665599823, 0.0204218327999115, 0.004084366839379072, 0.22238145768642426, 0.008236350491642952, 0.6409818530082703, 0.12839016318321228, 0.9700643420219421, 0.015850724652409554, 0.004755217581987381, 0.009510435163974762, 0.9348592162132263, 0.022083288058638573, 0.022083288058638573, 0.014722191728651524, 0.35154539346694946, 0.14529560506343842, 0.24142274260520935, 0.2618635594844818, 0.05460062250494957, 0.027300311252474785, 0.9009102582931519, 0.027300311252474785, 0.035795122385025024, 0.05369268357753754, 0.8769804835319519, 0.035795122385025024, 0.1449340581893921, 0.6614763140678406, 0.07281047850847244, 0.12089286744594574, 0.02066328562796116, 0.7813783288002014, 0.00918368250131607, 0.18903079628944397, 0.010649082250893116, 0.9690664410591125, 0.010649082250893116, 0.010649082250893116, 0.44369804859161377, 0.15093399584293365, 0.25802525877952576, 0.1473403424024582, 0.01568477228283882, 0.023527158424258232, 0.023527158424258232, 0.9410863518714905, 0.36198052763938904, 0.1337990015745163, 0.28170114755630493, 0.2227572500705719, 0.48113954067230225, 0.14569365978240967, 0.16572028398513794, 0.20777617394924164, 0.9374669790267944, 0.019329216331243515, 0.028993822634220123, 0.019329216331243515, 0.03709101676940918, 0.00674382084980607, 0.8396056890487671, 0.11801686882972717, 0.010456505231559277, 0.9515419602394104, 0.010456505231559277, 0.020913010463118553, 0.29158058762550354, 0.26446282863616943, 0.3024277091026306, 0.1415289342403412, 0.0051598092541098595, 0.01341550424695015, 0.9762359261512756, 0.0051598092541098595, 0.9347649216651917, 0.03064803034067154, 0.03064803034067154, 0.01532401517033577, 0.02201182395219803, 0.011005911976099014, 0.02201182395219803, 0.9355024695396423, 0.02113053947687149, 0.028174052014946938, 0.04930458962917328, 0.901569664478302, 0.25141286849975586, 0.1541602462530136, 0.46205607056617737, 0.13250136375427246, 0.15630315244197845, 0.6113957166671753, 0.1658022403717041, 0.06649360805749893, 0.6869181394577026, 0.25857800245285034, 0.051715604960918427, 0.0022485044319182634, 0.020540760830044746, 0.020540760830044746, 0.903793454170227, 0.04108152166008949, 0.01767328940331936, 0.011782192625105381, 0.01767328940331936, 0.9543575644493103, 0.020000124350190163, 0.020000124350190163, 0.9500058889389038, 0.010000062175095081, 0.0060971565544605255, 0.969447910785675, 0.012194313108921051, 0.012194313108921051, 0.7811627984046936, 0.13980542123317719, 0.031456220895051956, 0.047184329479932785, 0.8060023784637451, 0.14635306596755981, 0.01696847192943096, 0.029694825410842896, 0.9419969320297241, 0.028119312599301338, 0.014059656299650669, 0.014059656299650669, 0.4968091547489166, 0.1017322912812233, 0.23260149359703064, 0.16889534890651703, 0.9203643798828125, 0.04221854731440544, 0.011258279904723167, 0.025331130251288414, 0.038884978741407394, 0.019442489370703697, 0.038884978741407394, 0.9137970209121704, 0.03550061583518982, 0.008875153958797455, 0.931891143321991, 0.026625461876392365, 0.7437725067138672, 0.22668929398059845, 0.021510662510991096, 0.008273331448435783, 0.9257243275642395, 0.044505976140499115, 0.008901195600628853, 0.008901195600628853, 0.1540539264678955, 0.06120520830154419, 0.13281947374343872, 0.6520228385925293, 0.03786878660321236, 0.17040954530239105, 0.7866380214691162, 0.0034426171332597733, 0.1487939953804016, 0.6550564765930176, 0.10796637088060379, 0.08800619840621948, 0.2653226852416992, 0.15024901926517487, 0.38466763496398926, 0.1997457593679428, 0.31700581312179565, 0.14530615508556366, 0.4123629629611969, 0.1254400759935379, 0.03689008206129074, 0.01193502638489008, 0.9265919923782349, 0.024955054745078087, 0.011830403469502926, 0.0177456047385931, 0.9286866784095764, 0.0354912094771862, 0.19809547066688538, 0.6061290502548218, 0.08612846583127975, 0.10981378704309464, 0.011563831008970737, 0.9655798673629761, 0.011563831008970737, 0.011563831008970737, 0.16896328330039978, 0.04352952539920807, 0.11283311247825623, 0.6747076511383057, 0.0098869102075696, 0.9669398069381714, 0.0098869102075696, 0.013841673731803894, 0.016343895345926285, 0.9479459524154663, 0.016343895345926285, 0.016343895345926285, 0.013613423332571983, 0.9166371822357178, 0.0408402681350708, 0.027226846665143967, 0.014112996868789196, 0.9455707669258118, 0.014112996868789196, 0.028225993737578392, 0.9308694005012512, 0.01638854667544365, 0.01638854667544365, 0.03933250904083252, 0.04429773613810539, 0.033961597830057144, 0.891861081123352, 0.029531823471188545, 0.8675026297569275, 0.018523186445236206, 0.1049647256731987, 0.009261593222618103, 0.07864260673522949, 0.6262601613998413, 0.15354032814502716, 0.14158549904823303, 0.9436334371566772, 0.014744272455573082, 0.03317461535334587, 0.011058204807341099, 0.9373189806938171, 0.008801116608083248, 0.044005583971738815, 0.008801116608083248, 0.029012206941843033, 0.029012206941843033, 0.029012206941843033, 0.8993784189224243, 0.7141409516334534, 0.15930835902690887, 0.07828083634376526, 0.04806717857718468, 0.09023912250995636, 0.09023912250995636, 0.03368927165865898, 0.785681962966919, 0.006903311237692833, 0.027613244950771332, 0.062129803001880646, 0.904333770275116, 0.4026755392551422, 0.22643204033374786, 0.2780795395374298, 0.09279044717550278, 0.9192172288894653, 0.009285022504627705, 0.05106762424111366, 0.01857004500925541, 0.9485489726066589, 0.008469187654554844, 0.008469187654554844, 0.033876750618219376, 0.8261926174163818, 0.04703572019934654, 0.05930590629577637, 0.06748603284358978, 0.9631237387657166, 0.008068052120506763, 0.01411909144371748, 0.015127597376704216, 0.6397814154624939, 0.12925422191619873, 0.15359079837799072, 0.07787702232599258, 0.08751585334539413, 0.029171951115131378, 0.04375792667269707, 0.8459866046905518, 0.026813384145498276, 0.05362676829099655, 0.026813384145498276, 0.911655068397522, 0.018238840624690056, 0.006079613696783781, 0.05471652373671532, 0.9180216789245605, 0.9078990817070007, 0.026624606922268867, 0.0585741326212883, 0.007987381890416145, 0.015529165975749493, 0.10870416462421417, 0.8644568920135498, 0.015529165975749493, 0.03593424707651138, 0.01796712353825569, 0.8983561992645264, 0.03593424707651138, 0.07075590640306473, 0.020810559391975403, 0.14983603358268738, 0.757504403591156, 0.5114629864692688, 0.1665843278169632, 0.11558912694454193, 0.2062472701072693, 0.08978164941072464, 0.6011049151420593, 0.20356908440589905, 0.1056254655122757, 0.011531990952789783, 0.9571552872657776, 0.011531990952789783, 0.023063981905579567, 0.20625831186771393, 0.4215971529483795, 0.22863538563251495, 0.14301873743534088, 0.2858661711215973, 0.28636032342910767, 0.3026672899723053, 0.12526719272136688, 0.21106891334056854, 0.506436288356781, 0.17092064023017883, 0.11166642606258392, 0.009049411863088608, 0.9592376947402954, 0.018098823726177216, 0.018098823726177216, 0.024801034480333328, 0.07558410614728928, 0.8892942070960999, 0.010629014112055302, 0.1689375787973404, 0.3985194265842438, 0.27986088395118713, 0.15269358456134796, 0.08742205053567886, 0.034968819469213486, 0.034968819469213486, 0.8567360639572144, 0.9483621120452881, 0.02748875692486763, 0.013744378462433815, 0.009162918664515018, 0.9023376703262329, 0.04841811954975128, 0.035213176161050797, 0.013204941526055336, 0.29043468832969666, 0.2733665108680725, 0.30185937881469727, 0.13448089361190796, 0.030797209590673447, 0.8750030994415283, 0.06159441918134689, 0.030797209590673447, 0.9409432411193848, 0.033015552908182144, 0.016507776454091072, 0.008253888227045536, 0.041147880256175995, 0.041147880256175995, 0.8846794366836548, 0.041147880256175995, 0.04977952316403389, 0.024889761582016945, 0.04977952316403389, 0.8711416721343994, 0.3440694808959961, 0.0618281252682209, 0.41392725706100464, 0.18026511371135712, 0.04113380238413811, 0.04113380238413811, 0.04113380238413811, 0.8843767642974854, 0.023038476705551147, 0.04351712390780449, 0.8677826523780823, 0.06655560433864594, 0.24993008375167847, 0.20136694610118866, 0.2926161587238312, 0.25611647963523865, 0.05661730095744133, 0.22489650547504425, 0.5276418328285217, 0.1910834014415741, 0.9202442765235901, 0.05751526728272438, 0.014378816820681095, 0.007742439862340689, 0.03609779477119446, 0.05672510713338852, 0.005156827624887228, 0.9024448394775391, 0.9407813549041748, 0.03300987184047699, 0.016504935920238495, 0.008252467960119247, 0.333280086517334, 0.29121822118759155, 0.2111131101846695, 0.1644967645406723, 0.18948140740394592, 0.16740091145038605, 0.44725826382637024, 0.19615690410137177, 0.012698721140623093, 0.012698721140623093, 0.9270066618919373, 0.05079488456249237, 0.026476260274648666, 0.004412710200995207, 0.9531453847885132, 0.013238130137324333, 0.031481318175792694, 0.027983395382761955, 0.8884727954864502, 0.05246886610984802, 0.27882105112075806, 0.4132293164730072, 0.18464826047420502, 0.12331633269786835, 0.33931848406791687, 0.20193886756896973, 0.2579309940338135, 0.2010209560394287, 0.21561545133590698, 0.4617949426174164, 0.20894692838191986, 0.11364267766475677, 0.02255101129412651, 0.947142481803894, 0.011275505647063255, 0.02255101129412651, 0.9301149845123291, 0.016036465764045715, 0.048109397292137146, 0.016036465764045715, 0.06704137474298477, 0.052927400916814804, 0.14113973081111908, 0.7374551296234131, 0.12831388413906097, 0.418069988489151, 0.36954399943351746, 0.0839872732758522, 0.009970472194254398, 0.026172490790486336, 0.9509338140487671, 0.012463090941309929, 0.09206266701221466, 0.018884649500250816, 0.8509895205497742, 0.03894959017634392, 0.0856415331363678, 0.035683974623680115, 0.1284622997045517, 0.7493634223937988, 0.020592624321579933, 0.006336192134767771, 0.06177787110209465, 0.9108275771141052, 0.03191346302628517, 0.03191346302628517, 0.015956731513142586, 0.9254904389381409, 0.3344324827194214, 0.2850089371204376, 0.27091410756111145, 0.1096469908952713], \"Term\": [\"about\", \"about\", \"about\", \"about\", \"above_beyond\", \"above_beyond\", \"above_beyond\", \"above_beyond\", \"absolute_best\", \"absolute_best\", \"absolute_best\", \"absolute_best\", \"absolutely_love\", \"absolutely_love\", \"absolutely_love\", \"absolutely_love\", \"account\", \"account\", \"account\", \"account\", \"almost_every\", \"almost_every\", \"almost_every\", \"almost_every\", \"already_recommended\", \"already_recommended\", \"already_recommended\", \"already_recommended\", \"always\", \"always\", \"always\", \"always\", \"bean\", \"bean\", \"bean\", \"bean\", \"been_godsend\", \"been_godsend\", \"been_godsend\", \"been_godsend\", \"being_able\", \"being_able\", \"being_able\", \"being_able\", \"being_charged\", \"being_charged\", \"being_charged\", \"being_charged\", \"best\", \"best\", \"best\", \"best\", \"best_decision\", \"best_decision\", \"best_decision\", \"best_decision\", \"better_than\", \"better_than\", \"better_than\", \"better_than\", \"blue_apron\", \"blue_apron\", \"blue_apron\", \"blue_apron\", \"box\", \"box\", \"box\", \"box\", \"busy_schedule\", \"busy_schedule\", \"busy_schedule\", \"busy_schedule\", \"butter_olive\", \"butter_olive\", \"butter_olive\", \"butter_olive\", \"call\", \"call\", \"call\", \"call\", \"called\", \"called\", \"called\", \"called\", \"called_customer\", \"called_customer\", \"called_customer\", \"called_customer\", \"cancel\", \"cancel\", \"cancel\", \"cancel\", \"cancel_account\", \"cancel_account\", \"cancel_account\", \"cancel_account\", \"canceled\", \"canceled\", \"canceled\", \"canceled\", \"cancelled\", \"cancelled\", \"cancelled\", \"cancelled\", \"cancelled_subscription\", \"cancelled_subscription\", \"cancelled_subscription\", \"cancelled_subscription\", \"carb_option\", \"carb_option\", \"carb_option\", \"carb_option\", \"card\", \"card\", \"card\", \"card\", \"charged\", \"charged\", \"charged\", \"charged\", \"chat\", \"chat\", \"chat\", \"chat\", \"chicken_breast\", \"chicken_breast\", \"chicken_breast\", \"chicken_breast\", \"choose_from\", \"choose_from\", \"choose_from\", \"choose_from\", \"company\", \"company\", \"company\", \"company\", \"complaint\", \"complaint\", \"complaint\", \"complaint\", \"confidence_kitchen\", \"confidence_kitchen\", \"confidence_kitchen\", \"confidence_kitchen\", \"contacted\", \"contacted\", \"contacted\", \"contacted\", \"contacted_customer\", \"contacted_customer\", \"contacted_customer\", \"contacted_customer\", \"cook\", \"cook\", \"cook\", \"cook\", \"cooking\", \"cooking\", \"cooking\", \"cooking\", \"cooking_technique\", \"cooking_technique\", \"cooking_technique\", \"cooking_technique\", \"cost_effective\", \"cost_effective\", \"cost_effective\", \"cost_effective\", \"could_afford\", \"could_afford\", \"could_afford\", \"could_afford\", \"could_fresher\", \"could_fresher\", \"could_fresher\", \"could_fresher\", \"couldn_happier\", \"couldn_happier\", \"couldn_happier\", \"couldn_happier\", \"credit\", \"credit\", \"credit\", \"credit\", \"credit_account\", \"credit_account\", \"credit_account\", \"credit_account\", \"credit_card\", \"credit_card\", \"credit_card\", \"credit_card\", \"customer\", \"customer\", \"customer\", \"customer\", \"customer_service\", \"customer_service\", \"customer_service\", \"customer_service\", \"customer_support\", \"customer_support\", \"customer_support\", \"customer_support\", \"cut_down\", \"cut_down\", \"cut_down\", \"cut_down\", \"dairy_free\", \"dairy_free\", \"dairy_free\", \"dairy_free\", \"day_late\", \"day_late\", \"day_late\", \"day_late\", \"day_later\", \"day_later\", \"day_later\", \"day_later\", \"delicious\", \"delicious\", \"delicious\", \"delicious\", \"delivered_doorstep\", \"delivered_doorstep\", \"delivered_doorstep\", \"delivered_doorstep\", \"delivery\", \"delivery\", \"delivery\", \"delivery\", \"delivery_date\", \"delivery_date\", \"delivery_date\", \"delivery_date\", \"dinner\", \"dinner\", \"dinner\", \"dinner\", \"direction\", \"direction\", \"direction\", \"direction\", \"direction_easy_follow\", \"direction_easy_follow\", \"direction_easy_follow\", \"direction_easy_follow\", \"during_these\", \"during_these\", \"during_these\", \"during_these\", \"each\", \"each\", \"each\", \"each\", \"each_week\", \"each_week\", \"each_week\", \"each_week\", \"ease_preparation\", \"ease_preparation\", \"ease_preparation\", \"ease_preparation\", \"easier\", \"easier\", \"easier\", \"easier\", \"easy_follow\", \"easy_follow\", \"easy_follow\", \"easy_follow\", \"easy_prepare\", \"easy_prepare\", \"easy_prepare\", \"easy_prepare\", \"email\", \"email\", \"email\", \"email\", \"enjoy\", \"enjoy\", \"enjoy\", \"enjoy\", \"even_though\", \"even_though\", \"even_though\", \"even_though\", \"every\", \"every\", \"every\", \"every\", \"every_night\", \"every_night\", \"every_night\", \"every_night\", \"every_penny\", \"every_penny\", \"every_penny\", \"every_penny\", \"every_single\", \"every_single\", \"every_single\", \"every_single\", \"everything\", \"everything\", \"everything\", \"everything\", \"everything_need\", \"everything_need\", \"everything_need\", \"everything_need\", \"fact_that\", \"fact_that\", \"fact_that\", \"fact_that\", \"family\", \"family\", \"family\", \"family\", \"family_enjoys\", \"family_enjoys\", \"family_enjoys\", \"family_enjoys\", \"feel\", \"feel\", \"feel\", \"feel\", \"feel_like\", \"feel_like\", \"feel_like\", \"feel_like\", \"first\", \"first\", \"first\", \"first\", \"flavor_texture\", \"flavor_texture\", \"flavor_texture\", \"flavor_texture\", \"follow\", \"follow\", \"follow\", \"follow\", \"free_trial\", \"free_trial\", \"free_trial\", \"free_trial\", \"from\", \"from\", \"from\", \"from\", \"full_flavor\", \"full_flavor\", \"full_flavor\", \"full_flavor\", \"gave_credit\", \"gave_credit\", \"gave_credit\", \"gave_credit\", \"gift_card\", \"gift_card\", \"gift_card\", \"gift_card\", \"give_credit\", \"give_credit\", \"give_credit\", \"give_credit\", \"glad_tried\", \"glad_tried\", \"glad_tried\", \"glad_tried\", \"gluten\", \"gluten\", \"gluten\", \"gluten\", \"gluten_free\", \"gluten_free\", \"gluten_free\", \"gluten_free\", \"good\", \"good\", \"good\", \"good\", \"great_tasting\", \"great_tasting\", \"great_tasting\", \"great_tasting\", \"green_bean\", \"green_bean\", \"green_bean\", \"green_bean\", \"grocery\", \"grocery\", \"grocery\", \"grocery\", \"grocery_shop\", \"grocery_shop\", \"grocery_shop\", \"grocery_shop\", \"grocery_shopping\", \"grocery_shopping\", \"grocery_shopping\", \"grocery_shopping\", \"grocery_store\", \"grocery_store\", \"grocery_store\", \"grocery_store\", \"happy_with\", \"happy_with\", \"happy_with\", \"happy_with\", \"having_decide\", \"having_decide\", \"having_decide\", \"having_decide\", \"hellofresh\", \"hellofresh\", \"hellofresh\", \"hellofresh\", \"helped_learn\", \"helped_learn\", \"helped_learn\", \"helped_learn\", \"high\", \"high\", \"high\", \"high\", \"high_quality\", \"high_quality\", \"high_quality\", \"high_quality\", \"highest_quality\", \"highest_quality\", \"highest_quality\", \"highest_quality\", \"highly_recommend\", \"highly_recommend\", \"highly_recommend\", \"highly_recommend\", \"impressed_with\", \"impressed_with\", \"impressed_with\", \"impressed_with\", \"ingredient\", \"ingredient\", \"ingredient\", \"ingredient\", \"instruction\", \"instruction\", \"instruction\", \"instruction\", \"instruction_easy_follow\", \"instruction_easy_follow\", \"instruction_easy_follow\", \"instruction_easy_follow\", \"issue\", \"issue\", \"issue\", \"issue\", \"just\", \"just\", \"just\", \"just\", \"just_right\", \"just_right\", \"just_right\", \"just_right\", \"last\", \"last\", \"last\", \"last\", \"late\", \"late\", \"late\", \"late\", \"leaked_over\", \"leaked_over\", \"leaked_over\", \"leaked_over\", \"leaking_meat\", \"leaking_meat\", \"leaking_meat\", \"leaking_meat\", \"learn_cook\", \"learn_cook\", \"learn_cook\", \"learn_cook\", \"left_over\", \"left_over\", \"left_over\", \"left_over\", \"life_much\", \"life_much\", \"life_much\", \"life_much\", \"like\", \"like\", \"like\", \"like\", \"little_expensive\", \"little_expensive\", \"little_expensive\", \"little_expensive\", \"little_pricey\", \"little_pricey\", \"little_pricey\", \"little_pricey\", \"long_hour\", \"long_hour\", \"long_hour\", \"long_hour\", \"longer_than\", \"longer_than\", \"longer_than\", \"longer_than\", \"look_forward\", \"look_forward\", \"look_forward\", \"look_forward\", \"loved_every\", \"loved_every\", \"loved_every\", \"loved_every\", \"lower_calorie\", \"lower_calorie\", \"lower_calorie\", \"lower_calorie\", \"make\", \"make\", \"make\", \"make\", \"master_chef\", \"master_chef\", \"master_chef\", \"master_chef\", \"meat_seafood\", \"meat_seafood\", \"meat_seafood\", \"meat_seafood\", \"missing\", \"missing\", \"missing\", \"missing\", \"missing_ingredient\", \"missing_ingredient\", \"missing_ingredient\", \"missing_ingredient\", \"money_back\", \"money_back\", \"money_back\", \"money_back\", \"more\", \"more\", \"more\", \"more\", \"most_importantly\", \"most_importantly\", \"most_importantly\", \"most_importantly\", \"much\", \"much\", \"much\", \"much\", \"need\", \"need\", \"need\", \"need\", \"never_knew\", \"never_knew\", \"never_knew\", \"never_knew\", \"never_thought\", \"never_thought\", \"never_thought\", \"never_thought\", \"online_chat\", \"online_chat\", \"online_chat\", \"online_chat\", \"only\", \"only\", \"only\", \"only\", \"only_complaint\", \"only_complaint\", \"only_complaint\", \"only_complaint\", \"only_downfall\", \"only_downfall\", \"only_downfall\", \"only_downfall\", \"only_drawback\", \"only_drawback\", \"only_drawback\", \"only_drawback\", \"only_suggestion\", \"only_suggestion\", \"only_suggestion\", \"only_suggestion\", \"option\", \"option\", \"option\", \"option\", \"order\", \"order\", \"order\", \"order\", \"other_than\", \"other_than\", \"other_than\", \"other_than\", \"outside_comfort\", \"outside_comfort\", \"outside_comfort\", \"outside_comfort\", \"packaged_well\", \"packaged_well\", \"packaged_well\", \"packaged_well\", \"packaging_recyclable\", \"packaging_recyclable\", \"packaging_recyclable\", \"packaging_recyclable\", \"phone_call\", \"phone_call\", \"phone_call\", \"phone_call\", \"pleased\", \"pleased\", \"pleased\", \"pleased\", \"pleased_with\", \"pleased_with\", \"pleased_with\", \"pleased_with\", \"pork_tenderloin\", \"pork_tenderloin\", \"pork_tenderloin\", \"pork_tenderloin\", \"portion\", \"portion\", \"portion\", \"portion\", \"portion_control\", \"portion_control\", \"portion_control\", \"portion_control\", \"portion_controlled\", \"portion_controlled\", \"portion_controlled\", \"portion_controlled\", \"portion_generous\", \"portion_generous\", \"portion_generous\", \"portion_generous\", \"portion_size\", \"portion_size\", \"portion_size\", \"portion_size\", \"pot_pan\", \"pot_pan\", \"pot_pan\", \"pot_pan\", \"prepare\", \"prepare\", \"prepare\", \"prepare\", \"pretty_good\", \"pretty_good\", \"pretty_good\", \"pretty_good\", \"problem\", \"problem\", \"problem\", \"problem\", \"quality\", \"quality\", \"quality\", \"quality\", \"really\", \"really\", \"really\", \"really\", \"really_enjoy\", \"really_enjoy\", \"really_enjoy\", \"really_enjoy\", \"reasonably_priced\", \"reasonably_priced\", \"reasonably_priced\", \"reasonably_priced\", \"received\", \"received\", \"received\", \"received\", \"received_email\", \"received_email\", \"received_email\", \"received_email\", \"recipe_card\", \"recipe_card\", \"recipe_card\", \"recipe_card\", \"refund\", \"refund\", \"refund\", \"refund\", \"refund_money\", \"refund_money\", \"refund_money\", \"refund_money\", \"response\", \"response\", \"response\", \"response\", \"rude\", \"rude\", \"rude\", \"rude\", \"salt_pepper\", \"salt_pepper\", \"salt_pepper\", \"salt_pepper\", \"save_time\", \"save_time\", \"save_time\", \"save_time\", \"saving_money\", \"saving_money\", \"saving_money\", \"saving_money\", \"service\", \"service\", \"service\", \"service\", \"serving_size\", \"serving_size\", \"serving_size\", \"serving_size\", \"side_dish\", \"side_dish\", \"side_dish\", \"side_dish\", \"since_sliced\", \"since_sliced\", \"since_sliced\", \"since_sliced\", \"size\", \"size\", \"size\", \"size\", \"skip_week\", \"skip_week\", \"skip_week\", \"skip_week\", \"skipping_week\", \"skipping_week\", \"skipping_week\", \"skipping_week\", \"some\", \"some\", \"some\", \"some\", \"something_different\", \"something_different\", \"something_different\", \"something_different\", \"spend_le\", \"spend_le\", \"spend_le\", \"spend_le\", \"step\", \"step\", \"step\", \"step\", \"step_step\", \"step_step\", \"step_step\", \"step_step\", \"store\", \"store\", \"store\", \"store\", \"stress_free\", \"stress_free\", \"stress_free\", \"stress_free\", \"take_guessing\", \"take_guessing\", \"take_guessing\", \"take_guessing\", \"take_long\", \"take_long\", \"take_long\", \"take_long\", \"take_longer\", \"take_longer\", \"take_longer\", \"take_longer\", \"taken_care\", \"taken_care\", \"taken_care\", \"taken_care\", \"taste_bud\", \"taste_bud\", \"taste_bud\", \"taste_bud\", \"tasting\", \"tasting\", \"tasting\", \"tasting\", \"than\", \"than\", \"than\", \"than\", \"their\", \"their\", \"their\", \"their\", \"their_system\", \"their_system\", \"their_system\", \"their_system\", \"them\", \"them\", \"them\", \"them\", \"there\", \"there\", \"there\", \"there\", \"they\", \"they\", \"they\", \"they\", \"they_refused\", \"they_refused\", \"they_refused\", \"they_refused\", \"think_about\", \"think_about\", \"think_about\", \"think_about\", \"this\", \"this\", \"this\", \"this\", \"thoroughly_enjoy\", \"thoroughly_enjoy\", \"thoroughly_enjoy\", \"thoroughly_enjoy\", \"thoroughly_enjoyed\", \"thoroughly_enjoyed\", \"thoroughly_enjoyed\", \"thoroughly_enjoyed\", \"throwing_away\", \"throwing_away\", \"throwing_away\", \"throwing_away\", \"time\", \"time\", \"time\", \"time\", \"told\", \"told\", \"told\", \"told\", \"truly_enjoy\", \"truly_enjoy\", \"truly_enjoy\", \"truly_enjoy\", \"twice_month\", \"twice_month\", \"twice_month\", \"twice_month\", \"under_hour\", \"under_hour\", \"under_hour\", \"under_hour\", \"variety\", \"variety\", \"variety\", \"variety\", \"vegetable_fruit\", \"vegetable_fruit\", \"vegetable_fruit\", \"vegetable_fruit\", \"vegetarian_option\", \"vegetarian_option\", \"vegetarian_option\", \"vegetarian_option\", \"very\", \"very\", \"very\", \"very\", \"very_happy\", \"very_happy\", \"very_happy\", \"very_happy\", \"very_pleased\", \"very_pleased\", \"very_pleased\", \"very_pleased\", \"very_satisfied\", \"very_satisfied\", \"very_satisfied\", \"very_satisfied\", \"way_cook\", \"way_cook\", \"way_cook\", \"way_cook\", \"week\", \"week\", \"week\", \"week\", \"well\", \"well\", \"well\", \"well\", \"well_organized\", \"well_organized\", \"well_organized\", \"well_organized\", \"well_packed\", \"well_packed\", \"well_packed\", \"well_packed\", \"well_worth\", \"well_worth\", \"well_worth\", \"well_worth\", \"were\", \"were\", \"were\", \"were\", \"what\", \"what\", \"what\", \"what\", \"when\", \"when\", \"when\", \"when\", \"when_called\", \"when_called\", \"when_called\", \"when_called\", \"white_rice\", \"white_rice\", \"white_rice\", \"white_rice\", \"whole_family\", \"whole_family\", \"whole_family\", \"whole_family\", \"will\", \"will\", \"will\", \"will\", \"will_continue\", \"will_continue\", \"will_continue\", \"will_continue\", \"wish_there\", \"wish_there\", \"wish_there\", \"wish_there\", \"worry\", \"worry\", \"worry\", \"worry\", \"worry_about\", \"worry_about\", \"worry_about\", \"worry_about\", \"worrying_about\", \"worrying_about\", \"worrying_about\", \"worrying_about\", \"would\", \"would\", \"would\", \"would\"]}, \"R\": 30, \"lambda.step\": 0.01, \"plot.opts\": {\"xlab\": \"PC1\", \"ylab\": \"PC2\"}, \"topic.order\": [4, 2, 1, 3]};\n",
       "\n",
       "function LDAvis_load_lib(url, callback){\n",
       "  var s = document.createElement('script');\n",
       "  s.src = url;\n",
       "  s.async = true;\n",
       "  s.onreadystatechange = s.onload = callback;\n",
       "  s.onerror = function(){console.warn(\"failed to load library \" + url);};\n",
       "  document.getElementsByTagName(\"head\")[0].appendChild(s);\n",
       "}\n",
       "\n",
       "if(typeof(LDAvis) !== \"undefined\"){\n",
       "   // already loaded: just create the visualization\n",
       "   !function(LDAvis){\n",
       "       new LDAvis(\"#\" + \"ldavis_el499056145846567209423610\", ldavis_el499056145846567209423610_data);\n",
       "   }(LDAvis);\n",
       "}else if(typeof define === \"function\" && define.amd){\n",
       "   // require.js is available: use it to load d3/LDAvis\n",
       "   require.config({paths: {d3: \"https://cdnjs.cloudflare.com/ajax/libs/d3/3.5.5/d3.min\"}});\n",
       "   require([\"d3\"], function(d3){\n",
       "      window.d3 = d3;\n",
       "      LDAvis_load_lib(\"https://cdn.rawgit.com/bmabey/pyLDAvis/files/ldavis.v1.0.0.js\", function(){\n",
       "        new LDAvis(\"#\" + \"ldavis_el499056145846567209423610\", ldavis_el499056145846567209423610_data);\n",
       "      });\n",
       "    });\n",
       "}else{\n",
       "    // require.js not available: dynamically load d3 & LDAvis\n",
       "    LDAvis_load_lib(\"https://cdnjs.cloudflare.com/ajax/libs/d3/3.5.5/d3.min.js\", function(){\n",
       "         LDAvis_load_lib(\"https://cdn.rawgit.com/bmabey/pyLDAvis/files/ldavis.v1.0.0.js\", function(){\n",
       "                 new LDAvis(\"#\" + \"ldavis_el499056145846567209423610\", ldavis_el499056145846567209423610_data);\n",
       "            })\n",
       "         });\n",
       "}\n",
       "</script>"
      ],
      "text/plain": [
       "PreparedData(topic_coordinates=              x         y  topics  cluster       Freq\n",
       "topic                                                \n",
       "3     -0.039274 -0.057186       1        1  29.048777\n",
       "1      0.125390  0.013307       2        1  27.738911\n",
       "0     -0.024201 -0.031761       3        1  25.654047\n",
       "2     -0.061914  0.075640       4        1  17.558264, topic_info=                 Term         Freq        Total Category  logprob  loglift\n",
       "48        easy_follow  7579.000000  7579.000000  Default  30.0000  30.0000\n",
       "68   customer_service  7819.000000  7819.000000  Default  29.0000  29.0000\n",
       "56       easy_prepare  3864.000000  3864.000000  Default  28.0000  28.0000\n",
       "49             follow  3000.000000  3000.000000  Default  27.0000  27.0000\n",
       "67           customer  3639.000000  3639.000000  Default  26.0000  26.0000\n",
       "..                ...          ...          ...      ...      ...      ...\n",
       "101              cook   693.322449  4179.219238   Topic4  -5.3050  -0.0567\n",
       "493              what   656.502808  3268.315918   Topic4  -5.3596   0.1345\n",
       "190           cooking   656.041199  3725.271729   Topic4  -5.3603   0.0030\n",
       "234              much   615.507385  2765.342041   Topic4  -5.4240   0.2372\n",
       "25               more   615.116150  4174.009766   Topic4  -5.4247  -0.1752\n",
       "\n",
       "[328 rows x 6 columns], token_table=      Topic      Freq            Term\n",
       "term                                 \n",
       "159       1  0.203100           about\n",
       "159       2  0.237445           about\n",
       "159       3  0.343783           about\n",
       "159       4  0.215979           about\n",
       "3086      1  0.013909    above_beyond\n",
       "...     ...       ...             ...\n",
       "3503      4  0.925490  worrying_about\n",
       "326       1  0.334432           would\n",
       "326       2  0.285009           would\n",
       "326       3  0.270914           would\n",
       "326       4  0.109647           would\n",
       "\n",
       "[984 rows x 3 columns], R=30, lambda_step=0.01, plot_opts={'xlab': 'PC1', 'ylab': 'PC2'}, topic_order=[4, 2, 1, 3])"
      ]
     },
     "execution_count": 23,
     "metadata": {},
     "output_type": "execute_result"
    }
   ],
   "source": [
    "import pyLDAvis.gensim\n",
    "import pickle \n",
    "import pyLDAvis\n",
    "# Visualize the topics\n",
    "pyLDAvis.enable_notebook()\n",
    "LDAvis_prepared = pyLDAvis.gensim.prepare(lda_model, corpus, dictionary)\n",
    "LDAvis_prepared"
   ]
  },
  {
   "cell_type": "code",
   "execution_count": 24,
   "metadata": {},
   "outputs": [],
   "source": [
    "lda_model1 = gensim.models.LdaMulticore(corpus=corpus,\n",
    "                                           id2word=dictionary,\n",
    "                                           num_topics=3, \n",
    "                                           random_state=100,\n",
    "                                           chunksize=10000,\n",
    "                                           passes=10,\n",
    "                                           alpha=0.01,\n",
    "                                           eta=0.9)"
   ]
  },
  {
   "cell_type": "code",
   "execution_count": 25,
   "metadata": {},
   "outputs": [
    {
     "name": "stdout",
     "output_type": "stream",
     "text": [
      "\n",
      "Coherence Score:  0.45504324923167533\n"
     ]
    }
   ],
   "source": [
    "# Compute Coherence Score using c_v\n",
    "coherence_model_lda = CoherenceModel(model=lda_model1, texts=docs, dictionary=dictionary, coherence='c_v')\n",
    "coherence_lda = coherence_model_lda.get_coherence()\n",
    "print('\\nCoherence Score: ', coherence_lda)"
   ]
  },
  {
   "cell_type": "code",
   "execution_count": 26,
   "metadata": {
    "scrolled": false
   },
   "outputs": [
    {
     "data": {
      "text/html": [
       "\n",
       "<link rel=\"stylesheet\" type=\"text/css\" href=\"https://cdn.rawgit.com/bmabey/pyLDAvis/files/ldavis.v1.0.0.css\">\n",
       "\n",
       "\n",
       "<div id=\"ldavis_el499046982234404798194090\"></div>\n",
       "<script type=\"text/javascript\">\n",
       "\n",
       "var ldavis_el499046982234404798194090_data = {\"mdsDat\": {\"x\": [0.024550929476651582, -0.0946135949401627, 0.07006266546351116], \"y\": [-0.058286529461317065, 0.016108704035002447, 0.04217782542631462], \"topics\": [1, 2, 3], \"cluster\": [1, 1, 1], \"Freq\": [37.7247200012207, 31.900611877441406, 30.374670028686523]}, \"tinfo\": {\"Term\": [\"easy_follow\", \"customer_service\", \"easy_prepare\", \"follow\", \"customer\", \"service\", \"each_week\", \"everything_need\", \"delicious\", \"feel_like\", \"prepare\", \"high_quality\", \"credit\", \"recipe_card\", \"they\", \"portion_size\", \"only_complaint\", \"delivery\", \"missing_ingredient\", \"look_forward\", \"issue\", \"cooking\", \"worry_about\", \"green_bean\", \"skip_week\", \"impressed_with\", \"step_step\", \"each\", \"account\", \"dinner\", \"well_packed\", \"only_complaint\", \"rice_potato\", \"high_quality\", \"potato_rice\", \"sweet_potato\", \"green_bean\", \"side_dish\", \"white_rice\", \"already_recommended\", \"carb_option\", \"longer_than\", \"gourmet_chef\", \"really_enjoying\", \"packaging_recyclable\", \"glad_signed\", \"date_night\", \"helped_learn\", \"able_choose\", \"brown_rice\", \"bean\", \"wide_range\", \"taste_bud\", \"carb_heavy\", \"professional_chef\", \"ease_preparing\", \"feel_like\", \"flavor_profile\", \"portion_generous\", \"will_continue\", \"wish_there\", \"being_able\", \"left_over\", \"time_consuming\", \"really_enjoy\", \"stay_home\", \"cooking_technique\", \"sweet\", \"rice\", \"take_longer\", \"learn_cook\", \"saved_money\", \"think_about\", \"save_time\", \"very_pleased\", \"high\", \"almost_every\", \"really_enjoyed\", \"potato\", \"choose_from\", \"like\", \"feel\", \"good\", \"really\", \"some\", \"absolutely_love\", \"cooking\", \"variety\", \"option\", \"quality\", \"more\", \"would\", \"time\", \"cook\", \"very\", \"there\", \"only\", \"hellofresh\", \"ingredient\", \"always\", \"week\", \"from\", \"make\", \"this\", \"they\", \"were\", \"meat\", \"delicious\", \"thing\", \"just\", \"every\", \"gift_card\", \"day_late\", \"credit_card\", \"money_back\", \"called_customer\", \"cancelled_subscription\", \"leaked_over\", \"phone_call\", \"received_email\", \"delivery_date\", \"credit_account\", \"refund\", \"contacted_customer\", \"free_trial\", \"leaking_meat\", \"online_chat\", \"they_refused\", \"their_system\", \"charged\", \"refund_money\", \"never_showed\", \"refunded_money\", \"canceled_account\", \"cancel_account\", \"above_beyond\", \"when_called\", \"rude\", \"supervisor\", \"tracking_information\", \"offered_credit\", \"customer_service\", \"credit\", \"email\", \"account\", \"day_later\", \"customer\", \"contacted\", \"chat\", \"cancelled\", \"gave_credit\", \"called\", \"give_credit\", \"portion_size\", \"told\", \"customer_support\", \"even_though\", \"missing_ingredient\", \"service\", \"every_single\", \"issue\", \"missing_item\", \"delivery\", \"they\", \"missing\", \"late\", \"order\", \"company\", \"cancel\", \"received\", \"first\", \"their\", \"this\", \"problem\", \"highly_recommend\", \"when\", \"were\", \"them\", \"week\", \"time\", \"would\", \"hellofresh\", \"box\", \"there\", \"because\", \"very\", \"ingredient\", \"good\", \"from\", \"just\", \"only\", \"make\", \"great_tasting\", \"everything_need\", \"normally_wouldn\", \"cost_effective\", \"little_expensive\", \"take_guess\", \"shelter_place\", \"especially_during\", \"only_drawback\", \"packaged_well\", \"way_prepare\", \"easy_follow\", \"than_expected\", \"every_penny\", \"life_much\", \"delivered_doorstep\", \"absolute_best\", \"butter_salt\", \"final_product\", \"worrying_about\", \"since_sliced\", \"impressed_with\", \"except_salt\", \"most_importantly\", \"worry_about\", \"take_guessing\", \"guess_work\", \"family_enjoys\", \"tired_same\", \"having_decide\", \"gluten_free\", \"follow\", \"deciding_what\", \"skipping_week\", \"take_long\", \"easy_prepare\", \"best_decision\", \"three_night\", \"very_satisfied\", \"whole_family\", \"skip_week\", \"gluten\", \"just_right\", \"wouldn_normally\", \"prepare\", \"step_step\", \"recipe_card\", \"each_week\", \"looking_forward\", \"delicious\", \"much_easier\", \"direction\", \"instruction\", \"each\", \"dinner\", \"make\", \"everything\", \"step\", \"ingredient\", \"easier\", \"healthy\", \"week\", \"need\", \"every\", \"more_than\", \"very\", \"cook\", \"family\", \"what\", \"cooking\", \"hellofresh\", \"time\", \"this\", \"much\", \"always\", \"more\", \"they\", \"quality\", \"good\", \"would\", \"service\"], \"Freq\": [8146.0, 7493.0, 4133.0, 3207.0, 3496.0, 6794.0, 2849.0, 1227.0, 6202.0, 1734.0, 2525.0, 1317.0, 1014.0, 1842.0, 7647.0, 1168.0, 966.0, 4039.0, 1271.0, 2099.0, 2000.0, 3796.0, 677.0, 823.0, 880.0, 651.0, 1020.0, 2421.0, 687.0, 3196.0, 219.71630859375, 938.970947265625, 82.28690338134766, 1274.100341796875, 80.1471939086914, 243.8085174560547, 795.0054931640625, 223.23243713378906, 60.391361236572266, 77.69658660888672, 134.99478149414062, 237.7333526611328, 114.49573516845703, 314.8849182128906, 94.2611312866211, 48.182037353515625, 85.26026153564453, 63.219329833984375, 85.09221649169922, 50.84462356567383, 310.1009521484375, 33.72663497924805, 51.570865631103516, 33.57195281982422, 67.47349548339844, 61.6229362487793, 1622.1964111328125, 85.87300109863281, 209.89418029785156, 746.4828491210938, 787.2586059570312, 555.6129150390625, 395.6259765625, 268.66925048828125, 837.3998413085938, 194.70155334472656, 391.5865783691406, 109.4535903930664, 272.7972412109375, 339.2207336425781, 275.55743408203125, 205.45701599121094, 704.923095703125, 567.2349243164062, 749.404052734375, 701.5001220703125, 341.7638244628906, 887.4158935546875, 498.82171630859375, 971.7351684570312, 3550.71337890625, 887.1385498046875, 3388.24267578125, 2056.00341796875, 1993.1146240234375, 870.369384765625, 2112.703125, 1497.3441162109375, 1383.76904296875, 2072.545654296875, 2100.61865234375, 2509.94091796875, 3092.760009765625, 2068.56298828125, 2724.5048828125, 1867.9195556640625, 1750.15234375, 2092.68359375, 2375.785400390625, 1650.5430908203125, 2376.61767578125, 1551.8056640625, 1880.791259765625, 1960.134521484375, 2098.223876953125, 1631.3995361328125, 1222.562255859375, 1732.198974609375, 1239.462646484375, 1285.59765625, 1232.369140625, 253.45298767089844, 220.87730407714844, 458.88494873046875, 173.95225524902344, 255.90184020996094, 190.22561645507812, 136.594482421875, 151.2502899169922, 159.27984619140625, 307.6239318847656, 191.80755615234375, 465.2413024902344, 183.04090881347656, 137.1714324951172, 77.0572738647461, 87.01675415039062, 100.44686889648438, 78.63142395019531, 327.88409423828125, 111.0539321899414, 56.66547393798828, 59.33089065551758, 53.78582763671875, 61.85572814941406, 64.53876495361328, 79.8147201538086, 63.570247650146484, 47.312984466552734, 40.123172760009766, 67.04959869384766, 6978.97607421875, 958.20947265625, 491.3702392578125, 642.6286010742188, 135.04209899902344, 3123.054931640625, 217.71070861816406, 209.3059844970703, 271.4261779785156, 209.73890686035156, 475.1556396484375, 177.68930053710938, 998.4586181640625, 466.95513916015625, 187.0559539794922, 512.2002563476562, 1026.42041015625, 4498.2841796875, 385.74853515625, 1422.2239990234375, 485.7626647949219, 2433.166259765625, 4002.350830078125, 981.932373046875, 510.33270263671875, 1426.9075927734375, 935.096923828125, 373.9224548339844, 1160.9359130859375, 1026.48828125, 1242.5386962890625, 2824.70703125, 726.6397094726562, 1203.7149658203125, 1733.25732421875, 2057.4453125, 1364.7064208984375, 2413.65380859375, 2313.220947265625, 1777.9395751953125, 1560.380859375, 803.6868896484375, 1271.277587890625, 994.4081420898438, 1553.3994140625, 1551.58740234375, 1500.48291015625, 1196.0509033203125, 1128.5853271484375, 1178.4505615234375, 1023.4183959960938, 424.05511474609375, 1198.884033203125, 159.7046356201172, 201.0365447998047, 244.6382293701172, 193.462646484375, 72.89566802978516, 262.8997497558594, 92.79637145996094, 174.06671142578125, 83.91988372802734, 7792.46923828125, 106.70805358886719, 109.49232482910156, 224.1089630126953, 68.058837890625, 45.83854675292969, 54.460201263427734, 39.994197845458984, 62.889400482177734, 34.16889190673828, 616.9039306640625, 55.205963134765625, 128.81301879882812, 640.4810791015625, 36.902992248535156, 82.77790832519531, 85.58384704589844, 62.39027786254883, 82.39151000976562, 401.6816711425781, 2935.106689453125, 173.41319274902344, 144.7932586669922, 164.59420776367188, 3653.36962890625, 238.65785217285156, 136.0239715576172, 378.447998046875, 270.85888671875, 754.5906372070312, 159.4857177734375, 514.54833984375, 169.1616668701172, 1829.6898193359375, 792.2068481445312, 1341.5078125, 1984.1024169921875, 269.3926696777344, 3521.369140625, 502.208251953125, 732.98974609375, 1096.2584228515625, 1386.4365234375, 1714.992919921875, 2639.18798828125, 1739.42041015625, 669.0247192382812, 2796.2392578125, 487.7425231933594, 862.1425170898438, 2715.113525390625, 1052.6656494140625, 1531.3524169921875, 918.5288696289062, 2278.384765625, 1675.9488525390625, 1194.716552734375, 1378.54296875, 1418.2860107421875, 1676.2520751953125, 1867.8045654296875, 1635.3115234375, 1134.0296630859375, 1245.5404052734375, 1276.6719970703125, 1546.5172119140625, 1218.615966796875, 1374.9681396484375, 1174.3533935546875, 1186.7147216796875], \"Total\": [8146.0, 7493.0, 4133.0, 3207.0, 3496.0, 6794.0, 2849.0, 1227.0, 6202.0, 1734.0, 2525.0, 1317.0, 1014.0, 1842.0, 7647.0, 1168.0, 966.0, 4039.0, 1271.0, 2099.0, 2000.0, 3796.0, 677.0, 823.0, 880.0, 651.0, 1020.0, 2421.0, 687.0, 3196.0, 225.74853515625, 966.396484375, 85.03101348876953, 1317.6573486328125, 82.99846649169922, 252.54946899414062, 823.71240234375, 231.60621643066406, 62.917972564697266, 80.99896240234375, 141.15147399902344, 249.3407440185547, 120.08656311035156, 330.69952392578125, 99.0240478515625, 50.83210372924805, 89.9544448852539, 66.8777084350586, 90.08039093017578, 53.83795166015625, 328.4517822265625, 35.789215087890625, 54.858734130859375, 35.7857666015625, 71.93549346923828, 65.81611633300781, 1734.2078857421875, 91.90567016601562, 224.76788330078125, 799.5144653320312, 849.1290893554688, 599.3355712890625, 425.54022216796875, 288.1934509277344, 921.9339599609375, 210.5511016845703, 429.6012268066406, 117.84889221191406, 304.4693298339844, 382.65509033203125, 308.57879638671875, 227.80169677734375, 840.039306640625, 675.3054809570312, 915.75439453125, 864.1521606445312, 397.83087158203125, 1147.0816650390625, 606.3470458984375, 1287.5303955078125, 5619.55322265625, 1193.416748046875, 6263.69384765625, 3551.1943359375, 3439.59033203125, 1246.458251953125, 3796.69189453125, 2535.00634765625, 2371.000244140625, 4030.544189453125, 4225.76171875, 5462.23388671875, 7273.78564453125, 4257.7080078125, 6556.2890625, 4049.4921875, 3881.17919921875, 5329.31640625, 6723.6123046875, 3632.87060546875, 7505.384765625, 3712.216796875, 5543.3974609375, 6420.1533203125, 7647.091796875, 4565.35400390625, 2414.87353515625, 6202.263671875, 2671.70947265625, 3363.763916015625, 3559.9033203125, 258.0935974121094, 225.09051513671875, 468.46551513671875, 177.98269653320312, 261.95135498046875, 194.97386169433594, 140.28189086914062, 155.3838348388672, 163.889892578125, 316.7622375488281, 197.90188598632812, 481.1513671875, 189.42984008789062, 142.2425079345703, 79.93293762207031, 90.32926940917969, 104.511962890625, 81.85240173339844, 341.5646667480469, 115.86273956298828, 59.197059631347656, 62.03478240966797, 56.37319564819336, 64.88267517089844, 67.70711517333984, 83.78007507324219, 66.77776336669922, 49.7733154296875, 42.2141227722168, 70.55602264404297, 7493.2998046875, 1014.1408081054688, 517.6195068359375, 687.4666137695312, 142.411865234375, 3496.37646484375, 231.35269165039062, 222.89651489257812, 291.09112548828125, 223.8933868408203, 517.694091796875, 189.8423309326172, 1168.18798828125, 528.4085693359375, 201.23716735839844, 589.5398559570312, 1271.5125732421875, 6794.458984375, 449.3632507324219, 2000.0931396484375, 594.843505859375, 4039.47802734375, 7647.091796875, 1422.023681640625, 647.1830444335938, 2261.384033203125, 1386.19287109375, 449.2204895019531, 1821.191162109375, 1578.7569580078125, 2038.6688232421875, 6420.1533203125, 1074.90185546875, 2149.310546875, 3559.41357421875, 4565.35400390625, 3062.50830078125, 7505.384765625, 7273.78564453125, 5462.23388671875, 5329.31640625, 1483.751220703125, 4049.4921875, 2428.180419921875, 6556.2890625, 6723.6123046875, 6263.69384765625, 3712.216796875, 3363.763916015625, 3881.17919921875, 5543.3974609375, 428.3318786621094, 1227.6375732421875, 163.74273681640625, 206.21693420410156, 251.85897827148438, 200.112548828125, 75.58855438232422, 273.07537841796875, 96.8265151977539, 181.89772033691406, 87.72785949707031, 8146.13037109375, 111.99354553222656, 114.94282531738281, 235.33416748046875, 71.48754119873047, 48.21160125732422, 57.31501388549805, 42.14299774169922, 66.38089752197266, 36.085968017578125, 651.6610107421875, 58.32516860961914, 136.1482391357422, 677.1928100585938, 39.094398498535156, 87.72820281982422, 90.75827026367188, 66.36065673828125, 87.6357192993164, 427.72406005859375, 3207.860595703125, 184.90231323242188, 154.3638458251953, 175.84860229492188, 4133.431640625, 256.98724365234375, 145.39712524414062, 413.8160705566406, 299.7147521972656, 880.385986328125, 174.51681518554688, 629.0761108398438, 187.81295776367188, 2525.327880859375, 1020.828369140625, 1842.159912109375, 2849.3173828125, 312.9366760253906, 6202.263671875, 653.9112548828125, 1060.669677734375, 1790.435546875, 2421.502197265625, 3196.578369140625, 5543.3974609375, 3310.905517578125, 1003.755615234375, 6723.6123046875, 668.4073486328125, 1511.0185546875, 7505.384765625, 2038.9490966796875, 3559.9033203125, 1685.8642578125, 6556.2890625, 4257.7080078125, 2581.19775390625, 3306.664306640625, 3796.69189453125, 5329.31640625, 7273.78564453125, 6420.1533203125, 2812.67919921875, 3632.87060546875, 4225.76171875, 7647.091796875, 4030.544189453125, 6263.69384765625, 5462.23388671875, 6794.458984375], \"Category\": [\"Default\", \"Default\", \"Default\", \"Default\", \"Default\", \"Default\", \"Default\", \"Default\", \"Default\", \"Default\", \"Default\", \"Default\", \"Default\", \"Default\", \"Default\", \"Default\", \"Default\", \"Default\", \"Default\", \"Default\", \"Default\", \"Default\", \"Default\", \"Default\", \"Default\", \"Default\", \"Default\", \"Default\", \"Default\", \"Default\", \"Topic1\", \"Topic1\", \"Topic1\", \"Topic1\", \"Topic1\", \"Topic1\", \"Topic1\", \"Topic1\", \"Topic1\", \"Topic1\", \"Topic1\", \"Topic1\", \"Topic1\", \"Topic1\", \"Topic1\", \"Topic1\", \"Topic1\", \"Topic1\", \"Topic1\", \"Topic1\", \"Topic1\", \"Topic1\", \"Topic1\", \"Topic1\", \"Topic1\", \"Topic1\", \"Topic1\", \"Topic1\", \"Topic1\", \"Topic1\", \"Topic1\", \"Topic1\", \"Topic1\", \"Topic1\", \"Topic1\", \"Topic1\", \"Topic1\", \"Topic1\", \"Topic1\", \"Topic1\", \"Topic1\", \"Topic1\", \"Topic1\", \"Topic1\", \"Topic1\", \"Topic1\", \"Topic1\", \"Topic1\", \"Topic1\", \"Topic1\", \"Topic1\", \"Topic1\", \"Topic1\", \"Topic1\", \"Topic1\", \"Topic1\", \"Topic1\", \"Topic1\", \"Topic1\", \"Topic1\", \"Topic1\", \"Topic1\", \"Topic1\", \"Topic1\", \"Topic1\", \"Topic1\", \"Topic1\", \"Topic1\", \"Topic1\", \"Topic1\", \"Topic1\", \"Topic1\", \"Topic1\", \"Topic1\", \"Topic1\", \"Topic1\", \"Topic1\", \"Topic1\", \"Topic1\", \"Topic1\", \"Topic1\", \"Topic2\", \"Topic2\", \"Topic2\", \"Topic2\", \"Topic2\", \"Topic2\", \"Topic2\", \"Topic2\", \"Topic2\", \"Topic2\", \"Topic2\", \"Topic2\", \"Topic2\", \"Topic2\", \"Topic2\", \"Topic2\", \"Topic2\", \"Topic2\", \"Topic2\", \"Topic2\", \"Topic2\", \"Topic2\", \"Topic2\", \"Topic2\", \"Topic2\", \"Topic2\", \"Topic2\", \"Topic2\", \"Topic2\", \"Topic2\", \"Topic2\", \"Topic2\", \"Topic2\", \"Topic2\", \"Topic2\", \"Topic2\", \"Topic2\", \"Topic2\", \"Topic2\", \"Topic2\", \"Topic2\", \"Topic2\", \"Topic2\", \"Topic2\", \"Topic2\", \"Topic2\", \"Topic2\", \"Topic2\", \"Topic2\", \"Topic2\", \"Topic2\", \"Topic2\", \"Topic2\", \"Topic2\", \"Topic2\", \"Topic2\", \"Topic2\", \"Topic2\", \"Topic2\", \"Topic2\", \"Topic2\", \"Topic2\", \"Topic2\", \"Topic2\", \"Topic2\", \"Topic2\", \"Topic2\", \"Topic2\", \"Topic2\", \"Topic2\", \"Topic2\", \"Topic2\", \"Topic2\", \"Topic2\", \"Topic2\", \"Topic2\", \"Topic2\", \"Topic2\", \"Topic2\", \"Topic2\", \"Topic2\", \"Topic3\", \"Topic3\", \"Topic3\", \"Topic3\", \"Topic3\", \"Topic3\", \"Topic3\", \"Topic3\", \"Topic3\", \"Topic3\", \"Topic3\", \"Topic3\", \"Topic3\", \"Topic3\", \"Topic3\", \"Topic3\", \"Topic3\", \"Topic3\", \"Topic3\", \"Topic3\", \"Topic3\", \"Topic3\", \"Topic3\", \"Topic3\", \"Topic3\", \"Topic3\", \"Topic3\", \"Topic3\", \"Topic3\", \"Topic3\", \"Topic3\", \"Topic3\", \"Topic3\", \"Topic3\", \"Topic3\", \"Topic3\", \"Topic3\", \"Topic3\", \"Topic3\", \"Topic3\", \"Topic3\", \"Topic3\", \"Topic3\", \"Topic3\", \"Topic3\", \"Topic3\", \"Topic3\", \"Topic3\", \"Topic3\", \"Topic3\", \"Topic3\", \"Topic3\", \"Topic3\", \"Topic3\", \"Topic3\", \"Topic3\", \"Topic3\", \"Topic3\", \"Topic3\", \"Topic3\", \"Topic3\", \"Topic3\", \"Topic3\", \"Topic3\", \"Topic3\", \"Topic3\", \"Topic3\", \"Topic3\", \"Topic3\", \"Topic3\", \"Topic3\", \"Topic3\", \"Topic3\", \"Topic3\", \"Topic3\", \"Topic3\", \"Topic3\", \"Topic3\", \"Topic3\", \"Topic3\", \"Topic3\"], \"logprob\": [30.0, 29.0, 28.0, 27.0, 26.0, 25.0, 24.0, 23.0, 22.0, 21.0, 20.0, 19.0, 18.0, 17.0, 16.0, 15.0, 14.0, 13.0, 12.0, 11.0, 10.0, 9.0, 8.0, 7.0, 6.0, 5.0, 4.0, 3.0, 2.0, 1.0, -7.218999862670898, -5.766499996185303, -8.20110034942627, -5.461299896240234, -8.227399826049805, -7.1149001121521, -5.933000087738037, -7.203100204467773, -8.510499954223633, -8.258500099182129, -7.706099987030029, -7.140200138092041, -7.870800018310547, -6.859099864959717, -8.065199851989746, -8.736300468444824, -8.165599822998047, -8.464699745178223, -8.16759967803955, -8.682499885559082, -6.8744001388549805, -9.093000411987305, -8.668399810791016, -9.097599983215332, -8.3996000289917, -8.490300178527832, -5.219799995422363, -8.15839958190918, -7.264699935913086, -5.9959001541137695, -5.942800045013428, -6.291200160980225, -6.630799770355225, -7.0177998542785645, -5.88100004196167, -7.339799880981445, -6.64109992980957, -7.915800094604492, -7.002600193023682, -6.7846999168396, -6.992499828338623, -7.286099910736084, -6.053199768066406, -6.270500183105469, -5.992000102996826, -6.05810022354126, -6.777200222015381, -5.822999954223633, -6.399099826812744, -5.7322001457214355, -4.436399936676025, -5.823299884796143, -4.4832000732421875, -4.982800006866455, -5.013899803161621, -5.842400074005127, -4.955599784851074, -5.299900054931641, -5.378699779510498, -4.974800109863281, -4.961299896240234, -4.783299922943115, -4.57450008392334, -4.9766998291015625, -4.701300144195557, -5.078700065612793, -5.143899917602539, -4.965099811553955, -4.838200092315674, -5.202499866485596, -4.837900161743164, -5.264100074768066, -5.071899890899658, -5.0304999351501465, -4.962500095367432, -5.214099884033203, -5.502600193023682, -5.154200077056885, -5.488900184631348, -5.452300071716309, -5.49459981918335, -6.908400058746338, -7.046000003814697, -6.314799785614014, -7.284800052642822, -6.898799896240234, -7.195400238037109, -7.526599884033203, -7.424699783325195, -7.373000144958496, -6.714700222015381, -7.187099933624268, -6.30109977722168, -7.23390007019043, -7.52239990234375, -8.099100112915039, -7.977499961853027, -7.834000110626221, -8.078800201416016, -6.651000022888184, -7.73360013961792, -8.406499862670898, -8.36050033569336, -8.458600044250488, -8.31879997253418, -8.276399612426758, -8.063899993896484, -8.291500091552734, -8.586799621582031, -8.751700401306152, -8.238200187683105, -3.5929999351501465, -5.57859992980957, -6.246399879455566, -5.978099822998047, -7.538000106811523, -4.39709997177124, -7.060500144958496, -7.099800109863281, -6.839900016784668, -7.097799777984619, -6.28000020980835, -7.263599872589111, -5.537399768829346, -6.297399997711182, -7.212200164794922, -6.204899787902832, -5.509799957275391, -4.032199859619141, -6.488399982452393, -5.183599948883057, -6.257900238037109, -4.646699905395508, -4.14900016784668, -5.554100036621094, -6.208600044250488, -5.1803998947143555, -5.603000164031982, -6.519599914550781, -5.386600017547607, -5.509699821472168, -5.318699836730957, -4.497499942779541, -5.855199813842773, -5.350500106811523, -4.985899925231934, -4.8144001960754395, -5.224899768829346, -4.654699802398682, -4.697199821472168, -4.960400104522705, -5.09089994430542, -5.75439977645874, -5.29580020904541, -5.541500091552734, -5.095399856567383, -5.09660005569458, -5.130099773406982, -5.356800079345703, -5.414899826049805, -5.371699810028076, -5.512700080871582, -6.344699859619141, -5.305500030517578, -7.321300029754639, -7.091100215911865, -6.894800186157227, -7.129499912261963, -8.105600357055664, -6.822800159454346, -7.864200115203857, -7.235199928283691, -7.964700222015381, -3.4337000846862793, -7.7245001792907715, -7.698699951171875, -6.982500076293945, -8.174200057983398, -8.569499969482422, -8.397100448608398, -8.705900192260742, -8.253199577331543, -8.863300323486328, -5.969900131225586, -8.383500099182129, -7.536200046539307, -5.932400226593018, -8.786299705505371, -7.978400230407715, -7.945099830627441, -8.261199951171875, -7.983099937438965, -6.398900032043457, -4.410099983215332, -7.238900184631348, -7.419300079345703, -7.291100025177002, -4.191199779510498, -6.919600009918213, -7.481800079345703, -6.458499908447266, -6.793000221252441, -5.768400192260742, -7.3225998878479, -6.151299953460693, -7.263700008392334, -4.882699966430664, -5.719799995422363, -5.1930999755859375, -4.801700115203857, -6.798399925231934, -4.228000164031982, -6.175600051879883, -5.797500133514404, -5.394899845123291, -5.160099983215332, -4.947400093078613, -4.51639986038208, -4.933300018310547, -5.888800144195557, -4.458600044250488, -6.204800128936768, -5.635200023651123, -4.48799991607666, -5.435500144958496, -5.060699939727783, -5.571800231933594, -4.663400173187256, -4.9704999923706055, -5.308899879455566, -5.165800094604492, -5.137400150299072, -4.970300197601318, -4.862100124359131, -4.994999885559082, -5.361100196838379, -5.267300128936768, -5.242599964141846, -5.05079984664917, -5.289100170135498, -5.168399810791016, -5.326099872589111, -5.315700054168701], \"loglift\": [30.0, 29.0, 28.0, 27.0, 26.0, 25.0, 24.0, 23.0, 22.0, 21.0, 20.0, 19.0, 18.0, 17.0, 16.0, 15.0, 14.0, 13.0, 12.0, 11.0, 10.0, 9.0, 8.0, 7.0, 6.0, 5.0, 4.0, 3.0, 2.0, 1.0, 0.9477999806404114, 0.9460999965667725, 0.9420999884605408, 0.9412000179290771, 0.9398999810218811, 0.9395999908447266, 0.9394000172615051, 0.9380000233650208, 0.933899998664856, 0.9332000017166138, 0.9302999973297119, 0.9272000193595886, 0.9272000193595886, 0.9258999824523926, 0.925599992275238, 0.9212999939918518, 0.9212999939918518, 0.9186000227928162, 0.917900025844574, 0.9176999926567078, 0.9174000024795532, 0.9154999852180481, 0.913100004196167, 0.9110000133514404, 0.9107999801635742, 0.9089999794960022, 0.9081000089645386, 0.9070000052452087, 0.9064000248908997, 0.9061999917030334, 0.8992000222206116, 0.8991000056266785, 0.9020000100135803, 0.904699981212616, 0.8787000179290771, 0.8966000080108643, 0.8822000026702881, 0.9010000228881836, 0.8650000095367432, 0.8543999791145325, 0.8616999983787537, 0.8715999722480774, 0.7994999885559082, 0.8004999756813049, 0.774399995803833, 0.7663000226020813, 0.8228999972343445, 0.7182000279426575, 0.779699981212616, 0.6934999823570251, 0.5157999992370605, 0.6783000230789185, 0.36039999127388, 0.42829999327659607, 0.4291999936103821, 0.6157000064849854, 0.388700008392334, 0.44839999079704285, 0.43639999628067017, 0.30970001220703125, 0.2759000062942505, 0.1973000019788742, 0.11959999799728394, 0.2529999911785126, 0.09669999778270721, 0.20110000669956207, 0.17839999496936798, 0.04010000079870224, -0.06539999693632126, 0.1859000027179718, -0.17509999871253967, 0.10260000079870224, -0.10610000044107437, -0.21160000562667847, -0.31839999556541443, -0.05420000106096268, 0.29420000314712524, -0.30070000886917114, 0.20679999887943268, 0.013000000268220901, -0.08590000122785568, 1.124400019645691, 1.1236000061035156, 1.121899962425232, 1.1196000576019287, 1.1191999912261963, 1.117900013923645, 1.1159000396728516, 1.1155999898910522, 1.1139999628067017, 1.1132999658584595, 1.111299991607666, 1.1088999509811401, 1.108199954032898, 1.1061999797821045, 1.1059000492095947, 1.1052000522613525, 1.1029000282287598, 1.1023999452590942, 1.101699948310852, 1.1002000570297241, 1.0987999439239502, 1.0980000495910645, 1.0956000089645386, 1.0947999954223633, 1.094599962234497, 1.094099998474121, 1.0932999849319458, 1.0918999910354614, 1.0916999578475952, 1.091599941253662, 1.0714000463485718, 1.085800051689148, 1.090499997138977, 1.0750999450683594, 1.089400053024292, 1.0296000242233276, 1.0817999839782715, 1.0795999765396118, 1.07260000705719, 1.0772000551223755, 1.0568000078201294, 1.0764000415802002, 0.9854999780654907, 1.0189000368118286, 1.0694999694824219, 1.0018999576568604, 0.9283999800682068, 0.7300999760627747, 0.9898999929428101, 0.8015999794006348, 0.9399999976158142, 0.6355999708175659, 0.4950999915599823, 0.7721999883651733, 0.9049999713897705, 0.6820999979972839, 0.7488999962806702, 0.9591000080108643, 0.692300021648407, 0.7121000289916992, 0.6474000215530396, 0.3215000033378601, 0.7509999871253967, 0.5627999901771545, 0.4230000078678131, 0.34549999237060547, 0.3343000113964081, 0.008100000210106373, -0.003100000089034438, 0.020099999383091927, -0.08569999784231186, 0.5293999910354614, -0.01600000075995922, 0.24979999661445618, -0.29739999771118164, -0.3237999975681305, -0.2863999903202057, 0.00989999994635582, 0.05040000006556511, -0.049400001764297485, -0.5468999743461609, 1.18149995803833, 1.1678999662399292, 1.166599988937378, 1.166100025177002, 1.162500023841858, 1.1577999591827393, 1.1553000211715698, 1.1535999774932861, 1.1490000486373901, 1.1476000547409058, 1.1471999883651733, 1.1471999883651733, 1.1432000398635864, 1.1430000066757202, 1.142699956893921, 1.1424000263214111, 1.1411000490188599, 1.1404999494552612, 1.13919997215271, 1.1375000476837158, 1.1369999647140503, 1.1368000507354736, 1.1366000175476074, 1.136199951171875, 1.1358000040054321, 1.1339000463485718, 1.1334999799728394, 1.1328999996185303, 1.1298999786376953, 1.1298999786376953, 1.1287000179290771, 1.1026999950408936, 1.1274000406265259, 1.1275999546051025, 1.1253999471664429, 1.0680999755859375, 1.1175999641418457, 1.124899983406067, 1.1022000312805176, 1.0902999639511108, 1.0374000072479248, 1.1015000343322754, 0.9905999898910522, 1.0870000123977661, 0.8693000078201294, 0.9380000233650208, 0.8744000196456909, 0.8295999765396118, 1.041700005531311, 0.6255000233650208, 0.9276000261306763, 0.8220000267028809, 0.7009999752044678, 0.633899986743927, 0.5688999891281128, 0.44940000772476196, 0.5479000210762024, 0.7858999967575073, 0.3142000138759613, 0.8765000104904175, 0.6304000020027161, 0.17479999363422394, 0.5304999947547913, 0.3479999899864197, 0.5842999815940857, 0.13459999859333038, 0.25920000672340393, 0.4212000072002411, 0.3165999948978424, 0.2069000005722046, 0.0348999984562397, -0.1679999977350235, -0.17599999904632568, 0.2831999957561493, 0.12110000103712082, -0.005400000140070915, -0.4068000018596649, -0.004600000102072954, -0.3248000144958496, -0.3456000089645386, -0.5533999800682068]}, \"token.table\": {\"Topic\": [1, 2, 3, 1, 2, 3, 1, 2, 3, 1, 2, 3, 1, 2, 3, 1, 2, 3, 1, 2, 3, 1, 2, 3, 1, 2, 3, 1, 2, 3, 1, 2, 3, 1, 2, 3, 1, 2, 3, 1, 2, 3, 1, 2, 3, 1, 2, 3, 1, 2, 3, 1, 2, 3, 1, 2, 3, 1, 2, 3, 1, 2, 3, 1, 2, 3, 1, 2, 3, 1, 2, 3, 1, 2, 3, 1, 2, 3, 1, 2, 3, 1, 2, 3, 1, 2, 3, 1, 2, 3, 1, 2, 3, 1, 2, 3, 1, 2, 3, 1, 2, 3, 1, 2, 3, 1, 2, 3, 1, 2, 3, 1, 2, 3, 1, 2, 3, 1, 2, 3, 1, 2, 3, 1, 2, 3, 1, 2, 3, 1, 2, 3, 1, 2, 3, 1, 2, 3, 1, 2, 3, 1, 2, 3, 1, 2, 3, 1, 2, 3, 1, 2, 3, 1, 2, 3, 1, 2, 3, 1, 2, 3, 1, 2, 3, 1, 2, 3, 1, 2, 3, 1, 2, 3, 1, 2, 3, 1, 2, 3, 1, 2, 3, 1, 2, 3, 1, 2, 3, 1, 2, 3, 1, 2, 3, 1, 2, 3, 1, 2, 3, 1, 2, 3, 1, 2, 3, 1, 2, 3, 1, 2, 3, 1, 2, 3, 1, 2, 3, 1, 2, 3, 1, 2, 3, 1, 2, 3, 1, 2, 3, 1, 2, 3, 1, 2, 3, 1, 2, 3, 1, 2, 3, 1, 2, 3, 1, 2, 3, 1, 2, 3, 1, 2, 3, 1, 2, 3, 1, 2, 3, 1, 2, 3, 1, 2, 3, 1, 2, 3, 1, 2, 3, 1, 2, 3, 1, 2, 3, 1, 2, 3, 1, 2, 3, 1, 2, 3, 1, 2, 3, 1, 2, 3, 1, 2, 3, 1, 2, 3, 1, 2, 3, 1, 2, 3, 1, 2, 3, 1, 2, 3, 1, 2, 3, 1, 2, 3, 1, 2, 3, 1, 2, 3, 1, 2, 3, 1, 2, 3, 1, 2, 3, 1, 2, 3, 1, 2, 3, 1, 2, 3, 1, 2, 3, 1, 2, 3, 1, 2, 3, 1, 2, 3, 1, 2, 3, 1, 2, 3, 1, 2, 3, 1, 2, 3, 1, 2, 3, 1, 2, 3, 1, 2, 3, 1, 2, 3, 1, 2, 3, 1, 2, 3, 1, 2, 3, 1, 2, 3, 1, 2, 3, 1, 2, 3, 1, 2, 3, 1, 2, 3, 1, 2, 3, 1, 2, 3, 1, 2, 3, 1, 2, 3, 1, 2, 3, 1, 2, 3, 1, 2, 3, 1, 2, 3, 1, 2, 3, 1, 2, 3, 1, 2, 3, 1, 2, 3, 1, 2, 3, 1, 2, 3, 1, 2, 3, 1, 2, 3, 1, 2, 3, 1, 2, 3, 1, 2, 3, 1, 2, 3, 1, 2, 3, 1, 2, 3, 1, 2, 3, 1, 2, 3, 1, 2, 3, 1, 2, 3, 1, 2, 3, 1, 2, 3, 1, 2, 3, 1, 2, 3, 1, 2, 3, 1, 2, 3, 1, 2, 3, 1, 2, 3, 1, 2, 3, 1, 2, 3, 1, 2, 3, 1, 2, 3, 1, 2, 3, 1, 2, 3, 1, 2, 3, 1, 2, 3, 1, 2, 3, 1, 2, 3, 1, 2, 3, 1, 2, 3, 1, 2, 3, 1, 2, 3, 1, 2, 3, 1, 2, 3, 1, 2, 3, 1, 2, 3, 1, 2, 3, 1, 2, 3, 1, 2, 3, 1, 2, 3, 1, 2, 3, 1, 2, 3, 1, 2, 3, 1, 2, 3, 1, 2, 3, 1, 2, 3, 1, 2, 3, 1, 2, 3, 1, 2, 3, 1, 2, 3, 1, 2, 3, 1, 2, 3, 1, 2, 3, 1, 2, 3, 1, 2, 3, 1, 2, 3, 1, 2, 3, 1, 2, 3, 1, 2, 3, 1, 2, 3, 1, 2, 3], \"Freq\": [0.9436016082763672, 0.011101195588707924, 0.044404782354831696, 0.029538992792367935, 0.9600172638893127, 0.014769496396183968, 0.020741894841194153, 0.020741894841194153, 0.9541271924972534, 0.6979776620864868, 0.0521477535367012, 0.24950695037841797, 0.033456169068813324, 0.9353181719779968, 0.0320015549659729, 0.8596618175506592, 0.1131133958697319, 0.02764994092285633, 0.9629753232002258, 0.01234583742916584, 0.02469167485833168, 0.45446154475212097, 0.20286987721920013, 0.34297946095466614, 0.9438219666481018, 0.04262421652674675, 0.012178347446024418, 0.37806087732315063, 0.40936002135276794, 0.2125048041343689, 0.9276939630508423, 0.01835365779697895, 0.055060975253582, 0.011673730798065662, 0.058368656784296036, 0.93000727891922, 0.2898060083389282, 0.5418698191642761, 0.16849185526371002, 0.9472871422767639, 0.03714851662516594, 0.01857425831258297, 0.03489487245678902, 0.01744743622839451, 0.942161500453949, 0.05601763725280762, 0.9175302982330322, 0.027042998000979424, 0.0114525081589818, 0.9772806763648987, 0.0114525081589818, 0.10462567955255508, 0.8325533270835876, 0.06233019381761551, 0.015412434935569763, 0.9555709362030029, 0.030824869871139526, 0.01773892715573311, 0.9579020738601685, 0.01773892715573311, 0.03778885304927826, 0.9309799671173096, 0.030918153002858162, 0.015386678278446198, 0.9744895696640015, 0.010257785208523273, 0.9500983953475952, 0.02794407121837139, 0.02794407121837139, 0.9564193487167358, 0.028338350355625153, 0.014169175177812576, 0.023421626538038254, 0.9602866768836975, 0.017566218972206116, 0.022431934252381325, 0.9376548528671265, 0.040377482771873474, 0.7549336552619934, 0.03650399297475815, 0.20892710983753204, 0.16736488044261932, 0.6745092868804932, 0.15798667073249817, 0.034579239785671234, 0.9422842860221863, 0.025934429839253426, 0.021115997806191444, 0.9660568833351135, 0.010557998903095722, 0.48594221472740173, 0.12048736214637756, 0.3936390280723572, 0.5565371513366699, 0.07006099075078964, 0.3734830319881439, 0.9124740958213806, 0.01862192153930664, 0.0698322057723999, 0.00969852413982153, 0.014547786675393581, 0.9747017025947571, 0.025637464597821236, 0.9446420073509216, 0.028595633804798126, 0.015159026719629765, 0.9701777100563049, 0.015159026719629765, 0.012807773426175117, 0.9797946214675903, 0.006403886713087559, 0.030889121815562248, 0.8932104706764221, 0.07579275220632553, 0.00560500705614686, 0.9313653707504272, 0.06298960745334625, 0.04472334682941437, 0.9292517900466919, 0.024846304208040237, 0.9449227452278137, 0.03335021436214447, 0.022233476862311363, 0.00888531468808651, 0.9818272590637207, 0.00888531468808651, 0.014043773524463177, 0.9479547142982483, 0.03510943427681923, 0.04867434874176979, 0.016224782913923264, 0.9356291890144348, 0.27925288677215576, 0.15300865471363068, 0.5676959753036499, 0.027976902201771736, 0.027976902201771736, 0.9512146711349487, 0.2393873631954193, 0.60230553150177, 0.15818876028060913, 0.022098593413829803, 0.9723381400108337, 0.006313883699476719, 0.33629709482192993, 0.12732364237308502, 0.5365111827850342, 0.243242546916008, 0.06599604338407516, 0.6910728216171265, 0.3382197916507721, 0.08920082449913025, 0.5723719596862793, 0.2779613137245178, 0.025620171800255775, 0.6963071227073669, 0.9420185089111328, 0.04558154195547104, 0.015193847008049488, 0.11819139868021011, 0.15260155498981476, 0.7300937175750732, 0.009084067307412624, 0.03424939140677452, 0.9565277695655823, 0.049111735075712204, 0.06701453775167465, 0.8837692737579346, 0.02511497400701046, 0.9485732316970825, 0.02511497400701046, 0.025633947923779488, 0.010985977947711945, 0.9631040096282959, 0.11704043298959732, 0.8684739470481873, 0.015266143716871738, 0.3460768163204193, 0.2236015796661377, 0.43006786704063416, 0.017399955540895462, 0.026099933311343193, 0.9482975602149963, 0.08901484310626984, 0.8589932322502136, 0.051183536648750305, 0.3452227711677551, 0.1295718103647232, 0.5252339839935303, 0.01710602641105652, 0.006516581401228905, 0.9766725897789001, 0.03429051488637924, 0.03429051488637924, 0.9429891109466553, 0.3866422176361084, 0.1507052332162857, 0.46296337246894836, 0.04407311975955963, 0.011018279939889908, 0.9475720524787903, 0.7432441115379333, 0.11144472658634186, 0.14496193826198578, 0.9352973103523254, 0.02652507834136486, 0.03805772215127945, 0.023728733882308006, 0.023728733882308006, 0.9491493701934814, 0.23689523339271545, 0.6498783826828003, 0.11338034272193909, 0.9357420206069946, 0.04352288693189621, 0.021761443465948105, 0.028056081384420395, 0.057047367095947266, 0.9149399995803833, 0.014060494489967823, 0.9631438851356506, 0.021090742200613022, 0.4180790185928345, 0.3221794664859772, 0.25968310236930847, 0.013399234972894192, 0.9379464387893677, 0.049130525439977646, 0.007749126758426428, 0.9802645444869995, 0.011623689904808998, 0.01580258645117283, 0.9376201629638672, 0.047407761216163635, 0.9442851543426514, 0.019672606140375137, 0.019672606140375137, 0.051570963114500046, 0.03438064083456993, 0.9110869765281677, 0.04208320751786232, 0.018703646957874298, 0.9398582577705383, 0.5408948659896851, 0.2394753098487854, 0.21951903402805328, 0.9493151903152466, 0.02498197928071022, 0.01665465347468853, 0.0046692765317857265, 0.0046692765317857265, 0.9898866415023804, 0.9651426672935486, 0.02428031899034977, 0.010926143266260624, 0.04559537023305893, 0.011398842558264732, 0.9461039304733276, 0.03423261642456055, 0.03423261642456055, 0.9356915354728699, 0.3130338788032532, 0.11647772043943405, 0.5704761147499084, 0.39273330569267273, 0.2927204668521881, 0.31448686122894287, 0.9420179128646851, 0.029905330389738083, 0.029905330389738083, 0.8123569488525391, 0.08216145634651184, 0.10530553013086319, 0.9668674468994141, 0.012901685200631618, 0.02049091085791588, 0.16703030467033386, 0.5601796507835388, 0.27311083674430847, 0.016879942268133163, 0.036828964948654175, 0.9468112587928772, 0.353381484746933, 0.23082830011844635, 0.41584789752960205, 0.3060707747936249, 0.0815444067120552, 0.6121415495872498, 0.16449233889579773, 0.7109668850898743, 0.12399422377347946, 0.38230982422828674, 0.3356359302997589, 0.28242170810699463, 0.08266090601682663, 0.0985572338104248, 0.8186608552932739, 0.1576061099767685, 0.7880305051803589, 0.054080527275800705, 0.007128503639250994, 0.9766050577163696, 0.014257007278501987, 0.02502097375690937, 0.9633074998855591, 0.012510486878454685, 0.8944230675697327, 0.08425724506378174, 0.022684643045067787, 0.93058180809021, 0.04934903606772423, 0.021149586886167526, 0.02124638296663761, 0.025495659559965134, 0.951837956905365, 0.6319007873535156, 0.167806938290596, 0.20037180185317993, 0.019852379336953163, 0.007940951734781265, 0.9727665781974792, 0.9545170664787292, 0.036095183342695236, 0.008021151646971703, 0.5397773385047913, 0.010957527905702591, 0.44925862550735474, 0.01597767323255539, 0.12462585419416428, 0.8595988154411316, 0.33932259678840637, 0.18454386293888092, 0.4760618507862091, 0.5064447522163391, 0.33252260088920593, 0.16108503937721252, 0.17510256171226501, 0.6905651688575745, 0.134315624833107, 0.02044808678328991, 0.8069129586219788, 0.17223581671714783, 0.06892569363117218, 0.8170216083526611, 0.11431577801704407, 0.011237047612667084, 0.9776231050491333, 0.011237047612667084, 0.4971884787082672, 0.2006738781929016, 0.3021940290927887, 0.15956208109855652, 0.29539746046066284, 0.5451210141181946, 0.02203480526804924, 0.029379740357398987, 0.9474966526031494, 0.40957391262054443, 0.1873658448457718, 0.4031743109226227, 0.06422889977693558, 0.16821853816509247, 0.7676882743835449, 0.3060400187969208, 0.17754244804382324, 0.5164425373077393, 0.016892731189727783, 0.9628856778144836, 0.016892731189727783, 0.012214282527565956, 0.012214282527565956, 0.9771425724029541, 0.028346268460154533, 0.9496000409126282, 0.028346268460154533, 0.011070609092712402, 0.9631429314613342, 0.022141218185424805, 0.4508938789367676, 0.3035160005092621, 0.2455439269542694, 0.9716508984565735, 0.0217302106320858, 0.007243403699249029, 0.020655499771237373, 0.020655499771237373, 0.9604806900024414, 0.5837199091911316, 0.18135805428028107, 0.23492194712162018, 0.2463093400001526, 0.631029486656189, 0.12249135971069336, 0.027487974613904953, 0.010995189659297466, 0.9565815329551697, 0.9492643475532532, 0.02019711397588253, 0.02019711397588253, 0.012871352024376392, 0.9717870354652405, 0.012871352024376392, 0.9342972040176392, 0.008898068219423294, 0.05783744528889656, 0.1224118024110794, 0.8543145656585693, 0.02225669100880623, 0.8229610323905945, 0.14018374681472778, 0.03793207183480263, 0.9638732075691223, 0.024096831679344177, 0.012048415839672089, 0.18730241060256958, 0.08830536156892776, 0.7246583700180054, 0.1860634982585907, 0.6763408184051514, 0.13768698275089264, 0.9313899874687195, 0.027802687138319016, 0.041704028844833374, 0.5143225789070129, 0.18334993720054626, 0.3024405539035797, 0.578960120677948, 0.18557137250900269, 0.23541375994682312, 0.9078741669654846, 0.01843949779868126, 0.07375799119472504, 0.7732666730880737, 0.008717775344848633, 0.21794438362121582, 0.952526330947876, 0.03326282277703285, 0.015119465067982674, 0.188887357711792, 0.6374948620796204, 0.17406190931797028, 0.012203315272927284, 0.9701635241508484, 0.012203315272927284, 0.21170800924301147, 0.05971251428127289, 0.7284926772117615, 0.014548435807228088, 0.9664318561553955, 0.018705131486058235, 0.01726180501282215, 0.9580301642417908, 0.01726180501282215, 0.01611998863518238, 0.9510793685913086, 0.03223997727036476, 0.8966420292854309, 0.04598164185881615, 0.05911925435066223, 0.9643540382385254, 0.011760414578020573, 0.011760414578020573, 0.014975044876337051, 0.9584028720855713, 0.029950089752674103, 0.8396199941635132, 0.07404056936502457, 0.08588705956935883, 0.8999055027961731, 0.07023652642965317, 0.026338698342442513, 0.16322124004364014, 0.6620100140571594, 0.17470118403434753, 0.02645903266966343, 0.013229516334831715, 0.9657546877861023, 0.9628411531448364, 0.01727069355547428, 0.01727069355547428, 0.027711601927876472, 0.027711601927876472, 0.9421944618225098, 0.03748355805873871, 0.10563548654317856, 0.8575783967971802, 0.032391004264354706, 0.025912802666425705, 0.9393391013145447, 0.5794294476509094, 0.2558444142341614, 0.16484521329402924, 0.9261409640312195, 0.018997764214873314, 0.05699329078197479, 0.26301223039627075, 0.07073435187339783, 0.6664968729019165, 0.1968989223241806, 0.026449108496308327, 0.7758405208587646, 0.020091086626052856, 0.9442811012268066, 0.020091086626052856, 0.924913227558136, 0.050912655889987946, 0.016970885917544365, 0.9661473631858826, 0.027717342600226402, 0.00791924074292183, 0.014991563744843006, 0.014991563744843006, 0.9644572734832764, 0.025579111650586128, 0.025579111650586128, 0.9464271664619446, 0.056867100298404694, 0.005686710122972727, 0.9383071660995483, 0.8859152793884277, 0.04703975096344948, 0.06533298641443253, 0.9478891491889954, 0.01822863705456257, 0.03645727410912514, 0.026787258684635162, 0.017858171835541725, 0.9554122090339661, 0.24771066009998322, 0.6097115874290466, 0.14274020493030548, 0.012217112816870213, 0.9651519060134888, 0.024434225633740425, 0.3177134394645691, 0.445713073015213, 0.23640751838684082, 0.46129241585731506, 0.313866525888443, 0.22471953928470612, 0.27435266971588135, 0.5233362317085266, 0.20229913294315338, 0.019136564806103706, 0.956828236579895, 0.019136564806103706, 0.463748037815094, 0.1935090571641922, 0.34247735142707825, 0.8392464518547058, 0.12856541574001312, 0.03214135393500328, 0.3052886724472046, 0.4400206506252289, 0.254666805267334, 0.04814400523900986, 0.013755430467426777, 0.9353692531585693, 0.4252256155014038, 0.3179912269115448, 0.2568126320838928, 0.9334008097648621, 0.052048373967409134, 0.01734945736825466, 0.03013833984732628, 0.03013833984732628, 0.934288501739502, 0.06245167553424835, 0.8837858438491821, 0.05298930034041405, 0.023688754066824913, 0.9475501775741577, 0.023688754066824913, 0.590531051158905, 0.09743565320968628, 0.3116362988948822, 0.4156314730644226, 0.23687179386615753, 0.34745264053344727, 0.8179048895835876, 0.16052338480949402, 0.020747920498251915, 0.007249597460031509, 0.07732903957366943, 0.9134492874145508, 0.022797774523496628, 0.011398887261748314, 0.957506537437439, 0.31670594215393066, 0.32163575291633606, 0.3617402911186218, 0.9745356440544128, 0.008859415538609028, 0.017718831077218056, 0.3572559654712677, 0.45056748390197754, 0.19209901988506317, 0.3305445909500122, 0.252520352602005, 0.41703659296035767, 0.3110062777996063, 0.4868779480457306, 0.20199955999851227, 0.023872025310993195, 0.954880952835083, 0.023872025310993195, 0.953622579574585, 0.015893708914518356, 0.015893708914518356, 0.05672059953212738, 0.04003806784749031, 0.9041930437088013, 0.9500068426132202, 0.027941377833485603, 0.027941377833485603, 0.9330663084983826, 0.04627808555960655, 0.0200121458619833, 0.9268319606781006, 0.023553544655442238, 0.049462445080280304, 0.04577721282839775, 0.008860105648636818, 0.9450779557228088, 0.015064574778079987, 0.030129149556159973, 0.9490681886672974, 0.4595189392566681, 0.32550784945487976, 0.21493038535118103, 0.0798666924238205, 0.02129778452217579, 0.8998314142227173], \"Term\": [\"able_choose\", \"able_choose\", \"able_choose\", \"above_beyond\", \"above_beyond\", \"above_beyond\", \"absolute_best\", \"absolute_best\", \"absolute_best\", \"absolutely_love\", \"absolutely_love\", \"absolutely_love\", \"account\", \"account\", \"account\", \"almost_every\", \"almost_every\", \"almost_every\", \"already_recommended\", \"already_recommended\", \"already_recommended\", \"always\", \"always\", \"always\", \"bean\", \"bean\", \"bean\", \"because\", \"because\", \"because\", \"being_able\", \"being_able\", \"being_able\", \"best_decision\", \"best_decision\", \"best_decision\", \"box\", \"box\", \"box\", \"brown_rice\", \"brown_rice\", \"brown_rice\", \"butter_salt\", \"butter_salt\", \"butter_salt\", \"called\", \"called\", \"called\", \"called_customer\", \"called_customer\", \"called_customer\", \"cancel\", \"cancel\", \"cancel\", \"cancel_account\", \"cancel_account\", \"cancel_account\", \"canceled_account\", \"canceled_account\", \"canceled_account\", \"cancelled\", \"cancelled\", \"cancelled\", \"cancelled_subscription\", \"cancelled_subscription\", \"cancelled_subscription\", \"carb_heavy\", \"carb_heavy\", \"carb_heavy\", \"carb_option\", \"carb_option\", \"carb_option\", \"charged\", \"charged\", \"charged\", \"chat\", \"chat\", \"chat\", \"choose_from\", \"choose_from\", \"choose_from\", \"company\", \"company\", \"company\", \"contacted\", \"contacted\", \"contacted\", \"contacted_customer\", \"contacted_customer\", \"contacted_customer\", \"cook\", \"cook\", \"cook\", \"cooking\", \"cooking\", \"cooking\", \"cooking_technique\", \"cooking_technique\", \"cooking_technique\", \"cost_effective\", \"cost_effective\", \"cost_effective\", \"credit\", \"credit\", \"credit\", \"credit_account\", \"credit_account\", \"credit_account\", \"credit_card\", \"credit_card\", \"credit_card\", \"customer\", \"customer\", \"customer\", \"customer_service\", \"customer_service\", \"customer_service\", \"customer_support\", \"customer_support\", \"customer_support\", \"date_night\", \"date_night\", \"date_night\", \"day_late\", \"day_late\", \"day_late\", \"day_later\", \"day_later\", \"day_later\", \"deciding_what\", \"deciding_what\", \"deciding_what\", \"delicious\", \"delicious\", \"delicious\", \"delivered_doorstep\", \"delivered_doorstep\", \"delivered_doorstep\", \"delivery\", \"delivery\", \"delivery\", \"delivery_date\", \"delivery_date\", \"delivery_date\", \"dinner\", \"dinner\", \"dinner\", \"direction\", \"direction\", \"direction\", \"each\", \"each\", \"each\", \"each_week\", \"each_week\", \"each_week\", \"ease_preparing\", \"ease_preparing\", \"ease_preparing\", \"easier\", \"easier\", \"easier\", \"easy_follow\", \"easy_follow\", \"easy_follow\", \"easy_prepare\", \"easy_prepare\", \"easy_prepare\", \"email\", \"email\", \"email\", \"especially_during\", \"especially_during\", \"especially_during\", \"even_though\", \"even_though\", \"even_though\", \"every\", \"every\", \"every\", \"every_penny\", \"every_penny\", \"every_penny\", \"every_single\", \"every_single\", \"every_single\", \"everything\", \"everything\", \"everything\", \"everything_need\", \"everything_need\", \"everything_need\", \"except_salt\", \"except_salt\", \"except_salt\", \"family\", \"family\", \"family\", \"family_enjoys\", \"family_enjoys\", \"family_enjoys\", \"feel\", \"feel\", \"feel\", \"feel_like\", \"feel_like\", \"feel_like\", \"final_product\", \"final_product\", \"final_product\", \"first\", \"first\", \"first\", \"flavor_profile\", \"flavor_profile\", \"flavor_profile\", \"follow\", \"follow\", \"follow\", \"free_trial\", \"free_trial\", \"free_trial\", \"from\", \"from\", \"from\", \"gave_credit\", \"gave_credit\", \"gave_credit\", \"gift_card\", \"gift_card\", \"gift_card\", \"give_credit\", \"give_credit\", \"give_credit\", \"glad_signed\", \"glad_signed\", \"glad_signed\", \"gluten\", \"gluten\", \"gluten\", \"gluten_free\", \"gluten_free\", \"gluten_free\", \"good\", \"good\", \"good\", \"gourmet_chef\", \"gourmet_chef\", \"gourmet_chef\", \"great_tasting\", \"great_tasting\", \"great_tasting\", \"green_bean\", \"green_bean\", \"green_bean\", \"guess_work\", \"guess_work\", \"guess_work\", \"having_decide\", \"having_decide\", \"having_decide\", \"healthy\", \"healthy\", \"healthy\", \"hellofresh\", \"hellofresh\", \"hellofresh\", \"helped_learn\", \"helped_learn\", \"helped_learn\", \"high\", \"high\", \"high\", \"high_quality\", \"high_quality\", \"high_quality\", \"highly_recommend\", \"highly_recommend\", \"highly_recommend\", \"impressed_with\", \"impressed_with\", \"impressed_with\", \"ingredient\", \"ingredient\", \"ingredient\", \"instruction\", \"instruction\", \"instruction\", \"issue\", \"issue\", \"issue\", \"just\", \"just\", \"just\", \"just_right\", \"just_right\", \"just_right\", \"late\", \"late\", \"late\", \"leaked_over\", \"leaked_over\", \"leaked_over\", \"leaking_meat\", \"leaking_meat\", \"leaking_meat\", \"learn_cook\", \"learn_cook\", \"learn_cook\", \"left_over\", \"left_over\", \"left_over\", \"life_much\", \"life_much\", \"life_much\", \"like\", \"like\", \"like\", \"little_expensive\", \"little_expensive\", \"little_expensive\", \"longer_than\", \"longer_than\", \"longer_than\", \"look_forward\", \"look_forward\", \"look_forward\", \"looking_forward\", \"looking_forward\", \"looking_forward\", \"make\", \"make\", \"make\", \"meat\", \"meat\", \"meat\", \"missing\", \"missing\", \"missing\", \"missing_ingredient\", \"missing_ingredient\", \"missing_ingredient\", \"missing_item\", \"missing_item\", \"missing_item\", \"money_back\", \"money_back\", \"money_back\", \"more\", \"more\", \"more\", \"more_than\", \"more_than\", \"more_than\", \"most_importantly\", \"most_importantly\", \"most_importantly\", \"much\", \"much\", \"much\", \"much_easier\", \"much_easier\", \"much_easier\", \"need\", \"need\", \"need\", \"never_showed\", \"never_showed\", \"never_showed\", \"normally_wouldn\", \"normally_wouldn\", \"normally_wouldn\", \"offered_credit\", \"offered_credit\", \"offered_credit\", \"online_chat\", \"online_chat\", \"online_chat\", \"only\", \"only\", \"only\", \"only_complaint\", \"only_complaint\", \"only_complaint\", \"only_drawback\", \"only_drawback\", \"only_drawback\", \"option\", \"option\", \"option\", \"order\", \"order\", \"order\", \"packaged_well\", \"packaged_well\", \"packaged_well\", \"packaging_recyclable\", \"packaging_recyclable\", \"packaging_recyclable\", \"phone_call\", \"phone_call\", \"phone_call\", \"portion_generous\", \"portion_generous\", \"portion_generous\", \"portion_size\", \"portion_size\", \"portion_size\", \"potato\", \"potato\", \"potato\", \"potato_rice\", \"potato_rice\", \"potato_rice\", \"prepare\", \"prepare\", \"prepare\", \"problem\", \"problem\", \"problem\", \"professional_chef\", \"professional_chef\", \"professional_chef\", \"quality\", \"quality\", \"quality\", \"really\", \"really\", \"really\", \"really_enjoy\", \"really_enjoy\", \"really_enjoy\", \"really_enjoyed\", \"really_enjoyed\", \"really_enjoyed\", \"really_enjoying\", \"really_enjoying\", \"really_enjoying\", \"received\", \"received\", \"received\", \"received_email\", \"received_email\", \"received_email\", \"recipe_card\", \"recipe_card\", \"recipe_card\", \"refund\", \"refund\", \"refund\", \"refund_money\", \"refund_money\", \"refund_money\", \"refunded_money\", \"refunded_money\", \"refunded_money\", \"rice\", \"rice\", \"rice\", \"rice_potato\", \"rice_potato\", \"rice_potato\", \"rude\", \"rude\", \"rude\", \"save_time\", \"save_time\", \"save_time\", \"saved_money\", \"saved_money\", \"saved_money\", \"service\", \"service\", \"service\", \"shelter_place\", \"shelter_place\", \"shelter_place\", \"side_dish\", \"side_dish\", \"side_dish\", \"since_sliced\", \"since_sliced\", \"since_sliced\", \"skip_week\", \"skip_week\", \"skip_week\", \"skipping_week\", \"skipping_week\", \"skipping_week\", \"some\", \"some\", \"some\", \"stay_home\", \"stay_home\", \"stay_home\", \"step\", \"step\", \"step\", \"step_step\", \"step_step\", \"step_step\", \"supervisor\", \"supervisor\", \"supervisor\", \"sweet\", \"sweet\", \"sweet\", \"sweet_potato\", \"sweet_potato\", \"sweet_potato\", \"take_guess\", \"take_guess\", \"take_guess\", \"take_guessing\", \"take_guessing\", \"take_guessing\", \"take_long\", \"take_long\", \"take_long\", \"take_longer\", \"take_longer\", \"take_longer\", \"taste_bud\", \"taste_bud\", \"taste_bud\", \"than_expected\", \"than_expected\", \"than_expected\", \"their\", \"their\", \"their\", \"their_system\", \"their_system\", \"their_system\", \"them\", \"them\", \"them\", \"there\", \"there\", \"there\", \"they\", \"they\", \"they\", \"they_refused\", \"they_refused\", \"they_refused\", \"thing\", \"thing\", \"thing\", \"think_about\", \"think_about\", \"think_about\", \"this\", \"this\", \"this\", \"three_night\", \"three_night\", \"three_night\", \"time\", \"time\", \"time\", \"time_consuming\", \"time_consuming\", \"time_consuming\", \"tired_same\", \"tired_same\", \"tired_same\", \"told\", \"told\", \"told\", \"tracking_information\", \"tracking_information\", \"tracking_information\", \"variety\", \"variety\", \"variety\", \"very\", \"very\", \"very\", \"very_pleased\", \"very_pleased\", \"very_pleased\", \"very_satisfied\", \"very_satisfied\", \"very_satisfied\", \"way_prepare\", \"way_prepare\", \"way_prepare\", \"week\", \"week\", \"week\", \"well_packed\", \"well_packed\", \"well_packed\", \"were\", \"were\", \"were\", \"what\", \"what\", \"what\", \"when\", \"when\", \"when\", \"when_called\", \"when_called\", \"when_called\", \"white_rice\", \"white_rice\", \"white_rice\", \"whole_family\", \"whole_family\", \"whole_family\", \"wide_range\", \"wide_range\", \"wide_range\", \"will_continue\", \"will_continue\", \"will_continue\", \"wish_there\", \"wish_there\", \"wish_there\", \"worry_about\", \"worry_about\", \"worry_about\", \"worrying_about\", \"worrying_about\", \"worrying_about\", \"would\", \"would\", \"would\", \"wouldn_normally\", \"wouldn_normally\", \"wouldn_normally\"]}, \"R\": 30, \"lambda.step\": 0.01, \"plot.opts\": {\"xlab\": \"PC1\", \"ylab\": \"PC2\"}, \"topic.order\": [1, 2, 3]};\n",
       "\n",
       "function LDAvis_load_lib(url, callback){\n",
       "  var s = document.createElement('script');\n",
       "  s.src = url;\n",
       "  s.async = true;\n",
       "  s.onreadystatechange = s.onload = callback;\n",
       "  s.onerror = function(){console.warn(\"failed to load library \" + url);};\n",
       "  document.getElementsByTagName(\"head\")[0].appendChild(s);\n",
       "}\n",
       "\n",
       "if(typeof(LDAvis) !== \"undefined\"){\n",
       "   // already loaded: just create the visualization\n",
       "   !function(LDAvis){\n",
       "       new LDAvis(\"#\" + \"ldavis_el499046982234404798194090\", ldavis_el499046982234404798194090_data);\n",
       "   }(LDAvis);\n",
       "}else if(typeof define === \"function\" && define.amd){\n",
       "   // require.js is available: use it to load d3/LDAvis\n",
       "   require.config({paths: {d3: \"https://cdnjs.cloudflare.com/ajax/libs/d3/3.5.5/d3.min\"}});\n",
       "   require([\"d3\"], function(d3){\n",
       "      window.d3 = d3;\n",
       "      LDAvis_load_lib(\"https://cdn.rawgit.com/bmabey/pyLDAvis/files/ldavis.v1.0.0.js\", function(){\n",
       "        new LDAvis(\"#\" + \"ldavis_el499046982234404798194090\", ldavis_el499046982234404798194090_data);\n",
       "      });\n",
       "    });\n",
       "}else{\n",
       "    // require.js not available: dynamically load d3 & LDAvis\n",
       "    LDAvis_load_lib(\"https://cdnjs.cloudflare.com/ajax/libs/d3/3.5.5/d3.min.js\", function(){\n",
       "         LDAvis_load_lib(\"https://cdn.rawgit.com/bmabey/pyLDAvis/files/ldavis.v1.0.0.js\", function(){\n",
       "                 new LDAvis(\"#\" + \"ldavis_el499046982234404798194090\", ldavis_el499046982234404798194090_data);\n",
       "            })\n",
       "         });\n",
       "}\n",
       "</script>"
      ],
      "text/plain": [
       "PreparedData(topic_coordinates=              x         y  topics  cluster       Freq\n",
       "topic                                                \n",
       "0      0.024551 -0.058287       1        1  37.724720\n",
       "1     -0.094614  0.016109       2        1  31.900612\n",
       "2      0.070063  0.042178       3        1  30.374670, topic_info=                 Term         Freq        Total Category  logprob  loglift\n",
       "48        easy_follow  8146.000000  8146.000000  Default  30.0000  30.0000\n",
       "68   customer_service  7493.000000  7493.000000  Default  29.0000  29.0000\n",
       "56       easy_prepare  4133.000000  4133.000000  Default  28.0000  28.0000\n",
       "49             follow  3207.000000  3207.000000  Default  27.0000  27.0000\n",
       "67           customer  3496.000000  3496.000000  Default  26.0000  26.0000\n",
       "..                ...          ...          ...      ...      ...      ...\n",
       "156              they  1546.517212  7647.091797   Topic3  -5.0508  -0.4068\n",
       "79            quality  1218.615967  4030.544189   Topic3  -5.2891  -0.0046\n",
       "15               good  1374.968140  6263.693848   Topic3  -5.1684  -0.3248\n",
       "326             would  1174.353394  5462.233887   Topic3  -5.3261  -0.3456\n",
       "70            service  1186.714722  6794.458984   Topic3  -5.3157  -0.5534\n",
       "\n",
       "[273 rows x 6 columns], token_table=      Topic      Freq             Term\n",
       "term                                  \n",
       "3872      1  0.943602      able_choose\n",
       "3872      2  0.011101      able_choose\n",
       "3872      3  0.044405      able_choose\n",
       "3086      1  0.029539     above_beyond\n",
       "3086      2  0.960017     above_beyond\n",
       "...     ...       ...              ...\n",
       "326       2  0.325508            would\n",
       "326       3  0.214930            would\n",
       "2556      1  0.079867  wouldn_normally\n",
       "2556      2  0.021298  wouldn_normally\n",
       "2556      3  0.899831  wouldn_normally\n",
       "\n",
       "[633 rows x 3 columns], R=30, lambda_step=0.01, plot_opts={'xlab': 'PC1', 'ylab': 'PC2'}, topic_order=[1, 2, 3])"
      ]
     },
     "execution_count": 26,
     "metadata": {},
     "output_type": "execute_result"
    }
   ],
   "source": [
    "import pyLDAvis.gensim\n",
    "import pickle \n",
    "import pyLDAvis\n",
    "# Visualize the topics\n",
    "pyLDAvis.enable_notebook()\n",
    "LDAvis_prepared = pyLDAvis.gensim.prepare(lda_model1, corpus, dictionary)\n",
    "LDAvis_prepared"
   ]
  },
  {
   "cell_type": "code",
   "execution_count": 27,
   "metadata": {},
   "outputs": [],
   "source": [
    "lda_model2 = gensim.models.LdaMulticore(corpus=corpus,\n",
    "                                           id2word=dictionary,\n",
    "                                           num_topics=6, \n",
    "                                           random_state=100,\n",
    "                                           chunksize=10000,\n",
    "                                           passes=10,\n",
    "                                           alpha=0.01,\n",
    "                                           eta=0.9)"
   ]
  },
  {
   "cell_type": "code",
   "execution_count": 28,
   "metadata": {},
   "outputs": [
    {
     "data": {
      "text/html": [
       "\n",
       "<link rel=\"stylesheet\" type=\"text/css\" href=\"https://cdn.rawgit.com/bmabey/pyLDAvis/files/ldavis.v1.0.0.css\">\n",
       "\n",
       "\n",
       "<div id=\"ldavis_el499046984327842823360399\"></div>\n",
       "<script type=\"text/javascript\">\n",
       "\n",
       "var ldavis_el499046984327842823360399_data = {\"mdsDat\": {\"x\": [-0.13527973545396177, 0.13421767063949322, 0.01367751486982905, -0.01608250997181179, -0.03522082735272632, 0.038687887269177705], \"y\": [0.06711293274402248, 0.0446025203640235, -0.06834969904931613, -0.004521599963257087, -0.07384118409405577, 0.03499702999858301], \"topics\": [1, 2, 3, 4, 5, 6], \"cluster\": [1, 1, 1, 1, 1, 1], \"Freq\": [23.82876968383789, 21.299413681030273, 19.939228057861328, 12.838983535766602, 12.790242195129395, 9.303367614746094]}, \"tinfo\": {\"Term\": [\"easy_follow\", \"customer_service\", \"follow\", \"easy_prepare\", \"customer\", \"service\", \"recipe_card\", \"grocery_store\", \"high_quality\", \"missing_ingredient\", \"step_step\", \"ingredient\", \"delicious\", \"happy_with\", \"very\", \"choose_from\", \"highly_recommend\", \"skip_week\", \"only_complaint\", \"will_continue\", \"green_bean\", \"good\", \"very_pleased\", \"really_enjoy\", \"quality\", \"look_forward\", \"instruction\", \"grocery\", \"wish_there\", \"absolutely_love\", \"best_decision\", \"couldn_happier\", \"made_life\", \"life_much\", \"worry_about\", \"much_easier\", \"entire_family\", \"take_guess\", \"save_money\", \"changed_life\", \"planning_shopping\", \"busy_schedule\", \"your_door\", \"busy_lifestyle\", \"been_lifesaver\", \"take_stress\", \"saved_money\", \"even_picky\", \"eating_healthier\", \"having_decide\", \"easy_prepare\", \"come_home\", \"saving_money\", \"made_life_much_easier\", \"empty_nester\", \"delivered_right\", \"every_penny\", \"game_changer\", \"perfectly_portioned\", \"grocery_bill\", \"grocery_store\", \"trip_grocery\", \"grocery_shopping\", \"delivered_door\", \"every_night\", \"look_forward\", \"save_time\", \"grocery\", \"whole_family\", \"think_about\", \"life\", \"prepare\", \"store\", \"shopping\", \"dinner\", \"going_grocery\", \"easier\", \"planning\", \"save\", \"healthy\", \"eating\", \"what\", \"family\", \"cook\", \"delicious\", \"make\", \"having\", \"cooking\", \"each_week\", \"hellofresh\", \"husband\", \"much\", \"everything_need\", \"about\", \"time\", \"week\", \"this\", \"every\", \"everything\", \"home\", \"ingredient\", \"like\", \"each\", \"very\", \"credit_card\", \"day_late\", \"called_customer\", \"gift_card\", \"money_back\", \"received_email\", \"phone_call\", \"refund\", \"credit_account\", \"delivery_date\", \"contacted_customer\", \"charged\", \"they_refused\", \"refund_money\", \"email\", \"leaked_over\", \"day_later\", \"their_system\", \"online_chat\", \"being_charged\", \"account\", \"give_credit\", \"canceled_subscription\", \"agent\", \"when_called\", \"cancel_account\", \"rude\", \"credit\", \"contacted\", \"above_beyond\", \"chat\", \"customer_service\", \"called\", \"gave_credit\", \"customer\", \"told\", \"cancelled\", \"customer_support\", \"canceled\", \"tried_several\", \"phone\", \"cancel\", \"service\", \"call\", \"even_though\", \"delivery\", \"they\", \"issue\", \"late\", \"order\", \"company\", \"their\", \"first\", \"received\", \"said\", \"this\", \"when\", \"problem\", \"them\", \"were\", \"week\", \"time\", \"after\", \"will\", \"would\", \"from\", \"hellofresh\", \"because\", \"there\", \"good\", \"very\", \"only\", \"box\", \"just\", \"wish_there\", \"little_expensive\", \"chicken_breast\", \"high_calorie\", \"lower_calorie\", \"carb_option\", \"fruit_vegetable\", \"could_fresher\", \"rice_potato\", \"sweet_potato\", \"wouldn_normally\", \"only_suggestion\", \"wish_could\", \"only_downfall\", \"breast\", \"carbs\", \"sour_cream\", \"able_choose\", \"classic_plan\", \"plant_based\", \"vegetable_fruit\", \"limp_carrot\", \"pasta_dish\", \"reasonable_price\", \"vegan_option\", \"le_expensive\", \"plastic_bag\", \"sour\", \"lemon_lime\", \"cream\", \"vegetarian_option\", \"would_prefer\", \"better_than\", \"meat_seafood\", \"wish\", \"carb\", \"potato\", \"restaurant_quality\", \"carrot\", \"some\", \"very_happy\", \"option\", \"more\", \"vegetable\", \"more_than\", \"calorie\", \"le_than\", \"veggie\", \"than\", \"vegetarian\", \"chicken\", \"like\", \"would\", \"there\", \"produce\", \"were\", \"could\", \"better\", \"sometimes\", \"meat\", \"good\", \"only\", \"week\", \"also\", \"ingredient\", \"little\", \"they\", \"just\", \"very\", \"thing\", \"time\", \"make\", \"quality\", \"this\", \"well_packed\", \"will_continue\", \"learn_cook\", \"already_recommended\", \"portion_generous\", \"timely_manner\", \"pretty_good\", \"clear_instruction\", \"reasonably_priced\", \"well_packaged\", \"high_quality\", \"helped_learn\", \"well_worth\", \"your_fingertip\", \"flavor_texture\", \"packing_material\", \"outside_comfort\", \"well_organized\", \"really_enjoy\", \"wide_range\", \"only_complaint\", \"before_covid\", \"time_consuming\", \"nicely_packaged\", \"glad_decided\", \"foreseeable_future\", \"cooking_technique\", \"choose_from\", \"price_point\", \"glad_tried\", \"throw_away\", \"during_covid\", \"fact_that\", \"never_thought\", \"taken_care\", \"user_friendly\", \"recommend_anyone\", \"absolutely_love\", \"high\", \"being_able\", \"continue\", \"complaint\", \"good\", \"quality\", \"well\", \"choose\", \"excellent\", \"really\", \"very\", \"always\", \"time\", \"enjoy\", \"cooking\", \"will\", \"variety\", \"from\", \"hellofresh\", \"this\", \"ingredient\", \"tasty\", \"delivery\", \"like\", \"only\", \"service\", \"they\", \"delicious\", \"week\", \"would\", \"cook\", \"ease_preparation\", \"step_step\", \"green_bean\", \"loved_every\", \"little_pricey\", \"gluten_free\", \"truly_enjoyed\", \"truly_enjoy\", \"salt_pepper\", \"taught_cook\", \"than_expected\", \"thoroughly_enjoyed\", \"longer_than\", \"under_ripe\", \"pork_tenderloin\", \"given_star\", \"beyond_expectation\", \"cut_down\", \"five_star\", \"olive_butter\", \"except_salt\", \"inexperienced_cook\", \"learning_technique\", \"novice_cook\", \"bean\", \"very_pleased\", \"confidence_kitchen\", \"gluten\", \"opened_eye\", \"butter_sugar\", \"pleased_with\", \"only_reason\", \"flavor_combination\", \"other_than\", \"instruction_clear\", \"step\", \"most_part\", \"pleased\", \"looking_forward\", \"during_these\", \"serving_size\", \"normally_wouldn\", \"highly_recommend\", \"really_enjoyed\", \"salt\", \"portion_size\", \"enjoyed\", \"star\", \"green\", \"highly\", \"every\", \"delicious\", \"loved\", \"feel_like\", \"cook\", \"very\", \"like\", \"really\", \"ingredient\", \"week\", \"time\", \"they\", \"good\", \"would\", \"only\", \"everything\", \"make\", \"were\", \"each_week\", \"than\", \"quality\", \"some\", \"more\", \"great_tasting\", \"easy_follow\", \"skipping_week\", \"quick_respond\", \"packaged_well\", \"very_satisfied\", \"happy_with\", \"instruction_easy_follow\", \"skip_week\", \"follow\", \"only_drawback\", \"long_term\", \"impressed_with\", \"direction_easy_follow\", \"final_product\", \"nutritional_information\", \"separate_bag\", \"resolved_quickly\", \"home_chef\", \"most_importantly\", \"recipe_card\", \"answer_question\", \"coming_back\", \"cost_effective\", \"extremely_happy\", \"very_responsive\", \"skipping\", \"spice_packet\", \"missing_ingredient\", \"skip\", \"tasting\", \"impressed\", \"upon_arrival\", \"instruction\", \"minor_issue\", \"direction\", \"card\", \"happy\", \"menu_selection\", \"satisfied\", \"ingredient\", \"very\", \"missing\", \"blue_apron\", \"service\", \"customer_service\", \"delicious\", \"quality\", \"always\", \"week\", \"good\", \"they\", \"time\", \"customer\", \"make\", \"this\", \"everything\", \"were\", \"only\"], \"Freq\": [7070.0, 7701.0, 2813.0, 4185.0, 3586.0, 6825.0, 1648.0, 2554.0, 1253.0, 1220.0, 924.0, 6491.0, 6007.0, 785.0, 6319.0, 1228.0, 2111.0, 776.0, 930.0, 766.0, 751.0, 6110.0, 852.0, 883.0, 3876.0, 2100.0, 1648.0, 2336.0, 851.0, 1223.0, 252.89218139648438, 195.92514038085938, 246.0448760986328, 228.62490844726562, 651.2802124023438, 637.6393432617188, 95.27315521240234, 192.63949584960938, 485.164306640625, 242.08236694335938, 371.2021789550781, 239.7152862548828, 418.16107177734375, 90.36195373535156, 118.47923278808594, 143.45266723632812, 217.00926208496094, 114.88220977783203, 240.8341522216797, 83.68002319335938, 3849.083251953125, 440.4185791015625, 308.6787109375, 62.70586395263672, 149.83807373046875, 261.2174072265625, 107.74652099609375, 157.7034149169922, 157.59518432617188, 204.2550048828125, 2279.0419921875, 298.7552795410156, 1061.784423828125, 389.88751220703125, 516.07666015625, 1701.048583984375, 587.9741821289062, 1875.2630615234375, 268.9288330078125, 699.0696411132812, 766.03466796875, 1818.21044921875, 1393.218505859375, 860.2010498046875, 2116.3916015625, 398.2917175292969, 533.65576171875, 602.09326171875, 552.8280639648438, 1011.4400024414062, 909.944580078125, 1689.3563232421875, 1383.1683349609375, 1973.42626953125, 2548.609619140625, 2313.435302734375, 1152.735595703125, 1661.2674560546875, 1356.89892578125, 2043.1690673828125, 1108.29931640625, 1325.7674560546875, 769.6943969726562, 1285.9757080078125, 1987.6268310546875, 1876.2633056640625, 1750.3406982421875, 1274.7440185546875, 1191.897216796875, 911.9461059570312, 1445.7109375, 1017.2133178710938, 931.1181030273438, 972.06884765625, 479.68377685546875, 230.5324249267578, 267.5183410644531, 263.2208251953125, 180.95977783203125, 166.675048828125, 157.920654296875, 482.20782470703125, 200.12783813476562, 317.4021911621094, 190.3804473876953, 340.54193115234375, 105.2326431274414, 116.29145050048828, 507.1612243652344, 139.30581665039062, 140.96722412109375, 82.15564727783203, 90.17665100097656, 87.10929870605469, 664.5200805664062, 185.07981872558594, 97.67945098876953, 93.96832275390625, 82.80500030517578, 64.68927764892578, 66.45193481445312, 972.0294799804688, 223.6195068359375, 67.29656982421875, 213.98284912109375, 6668.08837890625, 480.66339111328125, 212.04531860351562, 2988.91259765625, 480.10223388671875, 270.7983703613281, 190.2115478515625, 158.26417541503906, 202.97943115234375, 218.26876831054688, 371.2624816894531, 3780.751220703125, 372.19085693359375, 446.6620178222656, 2011.7672119140625, 3340.954833984375, 1139.3026123046875, 468.1429138183594, 1203.6103515625, 828.630615234375, 1066.571044921875, 874.6148681640625, 940.8693237304688, 396.1846618652344, 2155.823486328125, 1376.0775146484375, 581.4160766601562, 1065.640869140625, 1337.6185302734375, 1752.2518310546875, 1481.92236328125, 691.7347412109375, 770.7744750976562, 1142.02880859375, 866.9859619140625, 984.58642578125, 721.4118041992188, 804.9567260742188, 863.3848266601562, 854.7861938476562, 737.9890747070312, 617.61669921875, 710.6639404296875, 827.0192260742188, 244.61239624023438, 274.22235107421875, 130.03286743164062, 130.23500061035156, 132.38836669921875, 76.63937377929688, 82.1559066772461, 80.10945129394531, 231.95928955078125, 170.75794982910156, 137.62112426757812, 403.3470458984375, 61.65232467651367, 111.21342468261719, 122.65435028076172, 388.0591125488281, 82.74909973144531, 108.91964721679688, 58.258216857910156, 47.53208923339844, 47.47894287109375, 58.00812911987305, 169.92465209960938, 71.23139953613281, 123.30422973632812, 57.44158935546875, 133.08473205566406, 49.15542984008789, 140.25929260253906, 334.5013122558594, 160.7261962890625, 695.914306640625, 97.85699462890625, 878.7741088867188, 146.6791534423828, 430.53558349609375, 356.7054138183594, 223.24853515625, 1748.7864990234375, 752.1527709960938, 1266.7823486328125, 2040.272216796875, 791.3554077148438, 943.8696899414062, 309.5687561035156, 448.02386474609375, 582.2835693359375, 1257.94970703125, 434.0068054199219, 555.3756103515625, 2026.0728759765625, 1912.8555908203125, 1505.8856201171875, 928.8789672851562, 1620.5726318359375, 752.7005615234375, 691.2049560546875, 613.3841552734375, 908.6339721679688, 1629.3338623046875, 1080.6192626953125, 1471.672119140625, 880.571533203125, 1322.70166015625, 682.9635620117188, 1379.5125732421875, 933.1790771484375, 1232.6806640625, 826.1881713867188, 1176.933837890625, 992.58642578125, 876.1815795898438, 833.7531127929688, 207.5399169921875, 728.673583984375, 275.7608642578125, 73.77123260498047, 196.94204711914062, 111.08293151855469, 495.00213623046875, 153.8499755859375, 141.51927185058594, 310.1767272949219, 1084.4505615234375, 57.34811019897461, 237.89109802246094, 41.23208999633789, 31.072372436523438, 66.6969223022461, 40.409358978271484, 63.97346878051758, 739.886474609375, 30.55425453186035, 773.3902587890625, 80.6328125, 227.01397705078125, 67.23367309570312, 45.85301971435547, 29.391511917114258, 320.0976257324219, 951.4806518554688, 117.38685607910156, 89.95549011230469, 197.47274780273438, 170.94699096679688, 527.7286987304688, 207.25978088378906, 139.25772094726562, 189.68479919433594, 150.24966430664062, 628.2828979492188, 445.6521301269531, 324.1642761230469, 328.4117736816406, 316.04425048828125, 1567.5494384765625, 1103.6578369140625, 642.598876953125, 396.248291015625, 546.5114135742188, 821.364013671875, 1154.90185546875, 806.174072265625, 1158.412353515625, 533.0100708007812, 775.196533203125, 581.2308959960938, 600.394775390625, 721.7321166992188, 845.5578002929688, 916.7099609375, 910.1556396484375, 514.175537109375, 681.1206665039062, 755.5076293945312, 662.3534545898438, 784.4780883789062, 748.0648193359375, 676.525634765625, 666.734130859375, 607.7091674804688, 539.9154663085938, 205.61412048339844, 882.90576171875, 712.6096801757812, 549.6190795898438, 303.70440673828125, 357.1712646484375, 104.89402770996094, 103.45720672607422, 256.7077941894531, 80.13856506347656, 91.8009033203125, 179.95045471191406, 201.13687133789062, 42.36811828613281, 59.1954231262207, 71.04655456542969, 37.40301513671875, 72.78400421142578, 226.31744384765625, 37.04771423339844, 46.90486145019531, 43.95458221435547, 69.59442138671875, 64.7597427368164, 257.6361999511719, 720.673828125, 43.6804084777832, 135.70945739746094, 31.76241111755371, 43.23072052001953, 368.3108825683594, 389.61065673828125, 122.5401840209961, 660.14892578125, 151.8873291015625, 698.7742919921875, 534.4097290039062, 399.7198486328125, 220.3895721435547, 113.24530792236328, 194.34817504882812, 119.12039947509766, 1035.210693359375, 572.0822143554688, 170.4605255126953, 550.9900512695312, 708.2861938476562, 381.4126281738281, 271.8363342285156, 356.56890869140625, 871.4102783203125, 1097.534423828125, 445.3731384277344, 519.7030029296875, 840.6312255859375, 1044.9716796875, 901.9932250976562, 707.8504028320312, 888.2905883789062, 909.8071899414062, 860.4671020507812, 876.0475463867188, 772.3701782226562, 726.5798950195312, 633.4214477539062, 594.751953125, 684.2219848632812, 627.6609497070312, 550.4415283203125, 538.6121215820312, 561.7501831054688, 547.3668823242188, 547.1446533203125, 352.4480285644531, 6658.80859375, 127.70814514160156, 76.653076171875, 144.93606567382812, 326.968017578125, 690.4124755859375, 32.649654388427734, 673.7992553710938, 2415.122802734375, 74.89730834960938, 78.26081848144531, 481.41448974609375, 17.80766487121582, 30.36599349975586, 45.90436935424805, 26.906267166137695, 27.46445655822754, 160.31529235839844, 84.35897827148438, 1105.566650390625, 30.545913696289062, 47.1997184753418, 122.73675537109375, 53.54296112060547, 28.30340003967285, 44.75300216674805, 36.69346237182617, 746.43505859375, 252.13214111328125, 136.21090698242188, 189.80433654785156, 65.47549438476562, 617.8900146484375, 77.81981658935547, 369.4124450683594, 419.2024230957031, 356.1838684082031, 122.11046600341797, 137.35696411132812, 1264.2401123046875, 1059.7081298828125, 360.2791748046875, 285.4327087402344, 917.861572265625, 963.7321166992188, 816.2352905273438, 552.1826782226562, 518.081787109375, 735.8256225585938, 554.0350341796875, 594.34716796875, 533.5418701171875, 413.1197509765625, 447.2522888183594, 434.1020202636719, 352.2310485839844, 371.6311340332031, 345.8925476074219], \"Total\": [7070.0, 7701.0, 2813.0, 4185.0, 3586.0, 6825.0, 1648.0, 2554.0, 1253.0, 1220.0, 924.0, 6491.0, 6007.0, 785.0, 6319.0, 1228.0, 2111.0, 776.0, 930.0, 766.0, 751.0, 6110.0, 852.0, 883.0, 3876.0, 2100.0, 1648.0, 2336.0, 851.0, 1223.0, 262.70977783203125, 204.64859008789062, 257.46746826171875, 240.0215301513672, 684.2290649414062, 670.3423461914062, 100.36280059814453, 204.28575134277344, 516.467041015625, 258.1603088378906, 396.4853210449219, 256.1807861328125, 449.38006591796875, 97.16809844970703, 127.4833984375, 155.08074951171875, 234.7591094970703, 124.36137390136719, 261.4449768066406, 90.91615295410156, 4185.30615234375, 479.6484680175781, 336.85845947265625, 68.56261444091797, 163.8777618408203, 286.23590087890625, 118.19635009765625, 173.15342712402344, 173.06002807617188, 224.92855834960938, 2554.585205078125, 329.2616882324219, 1227.5673828125, 437.64605712890625, 596.0042724609375, 2100.658447265625, 687.6497192382812, 2336.041015625, 302.7632141113281, 858.2446899414062, 953.0714721679688, 2523.531005859375, 1904.5509033203125, 1134.40673828125, 3200.3486328125, 471.03265380859375, 676.6032104492188, 788.9959106445312, 711.2044677734375, 1508.432373046875, 1366.8277587890625, 3327.300537109375, 2555.66455078125, 4167.361328125, 6007.7001953125, 5461.9970703125, 2148.034912109375, 3701.382568359375, 2767.304931640625, 5296.4296875, 2099.925048828125, 2801.939453125, 1187.47265625, 3048.966796875, 7198.90478515625, 7412.5546875, 6446.416015625, 3480.4501953125, 3204.9716796875, 1727.4095458984375, 6491.9033203125, 5506.70556640625, 2345.60888671875, 6319.1171875, 493.3084716796875, 238.3482208251953, 276.75830078125, 273.0518493652344, 188.90045166015625, 174.11668395996094, 165.21295166015625, 505.004150390625, 209.5996551513672, 333.93670654296875, 200.64151000976562, 359.30859375, 111.8287124633789, 123.61569213867188, 542.4474487304688, 149.18008422851562, 151.0778350830078, 88.11051940917969, 96.98455810546875, 94.10356140136719, 719.2811889648438, 200.33177185058594, 105.836181640625, 101.96297454833984, 90.01237487792969, 70.3623275756836, 72.28486633300781, 1058.2452392578125, 243.4964599609375, 73.30120849609375, 234.419921875, 7701.49169921875, 541.1781005859375, 234.89549255371094, 3586.94482421875, 551.392333984375, 305.8243408203125, 211.77218627929688, 174.83541870117188, 232.99166870117188, 252.81094360351562, 464.8777770996094, 6825.9765625, 471.4447021484375, 612.477294921875, 4052.072265625, 7643.49609375, 2012.39404296875, 666.425048828125, 2293.239990234375, 1405.249755859375, 2048.5244140625, 1606.7919921875, 1837.1920166015625, 555.10009765625, 6446.416015625, 3571.857421875, 1085.982177734375, 3052.161376953125, 4543.0439453125, 7412.5546875, 7198.90478515625, 1612.8038330078125, 2107.564453125, 5418.91796875, 3659.08349609375, 5296.4296875, 2430.5849609375, 4001.51953125, 6110.24072265625, 6319.1171875, 3796.486083984375, 1489.2950439453125, 3350.912109375, 851.1499633789062, 252.08792114257812, 288.1151428222656, 139.41873168945312, 140.41746520996094, 143.4151153564453, 83.36539459228516, 89.44794464111328, 87.34675598144531, 253.9881591796875, 187.7475128173828, 151.75900268554688, 446.1644287109375, 68.31375885009766, 123.39160919189453, 136.15817260742188, 432.1946105957031, 92.18022155761719, 121.4702377319336, 65.32179260253906, 53.32136154174805, 53.3045654296875, 65.20382690429688, 191.32945251464844, 80.36158752441406, 139.88607788085938, 65.1933822631836, 151.45327758789062, 56.16701126098633, 161.4173126220703, 390.8008728027344, 187.13035583496094, 856.766845703125, 113.14716339111328, 1155.49560546875, 175.87307739257812, 600.1752319335938, 490.24090576171875, 298.5205383300781, 3395.037841796875, 1249.38037109375, 2334.578857421875, 4175.72802734375, 1349.546142578125, 1682.537841796875, 439.8525695800781, 695.9384765625, 984.0006713867188, 2654.488037109375, 680.8572998046875, 967.6954956054688, 5506.70556640625, 5418.91796875, 4001.51953125, 2073.74267578125, 4543.0439453125, 1644.8629150390625, 1479.983642578125, 1272.917724609375, 2381.558349609375, 6110.24072265625, 3796.486083984375, 7412.5546875, 2722.73779296875, 6491.9033203125, 1702.1956787109375, 7643.49609375, 3350.912109375, 6319.1171875, 2643.759765625, 7198.90478515625, 5461.9970703125, 3876.391845703125, 6446.416015625, 217.508056640625, 766.2906494140625, 298.1033020019531, 79.8029556274414, 216.91224670410156, 122.7570571899414, 557.2715454101562, 176.33566284179688, 162.7965850830078, 357.23480224609375, 1253.5115966796875, 66.39807891845703, 276.1024475097656, 48.202308654785156, 36.724815368652344, 79.59210968017578, 48.222408294677734, 76.3626937866211, 883.9022827148438, 36.71601104736328, 930.502197265625, 97.4056396484375, 276.90875244140625, 82.57196807861328, 57.07364273071289, 37.815101623535156, 412.8166198730469, 1228.06005859375, 153.24197387695312, 118.42732238769531, 265.1166076660156, 230.49143981933594, 746.4552001953125, 288.8558654785156, 188.37916564941406, 281.42864990234375, 217.7118682861328, 1223.5, 833.1212158203125, 582.0126953125, 631.0586547851562, 614.2342529296875, 6110.24072265625, 3876.391845703125, 1910.817138671875, 948.353515625, 1695.81787109375, 3444.06298828125, 6319.1171875, 3516.02685546875, 7198.90478515625, 1733.52587890625, 3701.382568359375, 2107.564453125, 2443.46630859375, 3659.08349609375, 5296.4296875, 6446.416015625, 6491.9033203125, 1775.993896484375, 4052.072265625, 5506.70556640625, 3796.486083984375, 6825.9765625, 7643.49609375, 6007.7001953125, 7412.5546875, 5418.91796875, 4167.361328125, 212.618408203125, 924.87890625, 751.9960327148438, 590.8347778320312, 328.7576904296875, 389.60137939453125, 114.57472229003906, 114.93807220458984, 286.61505126953125, 90.21659851074219, 103.3772964477539, 206.59982299804688, 231.161865234375, 48.857540130615234, 68.28754425048828, 82.01935577392578, 43.4836540222168, 84.92677307128906, 264.1459045410156, 43.522193908691406, 55.20539474487305, 51.749820709228516, 82.06961822509766, 76.5245590209961, 304.50067138671875, 852.482666015625, 51.92446517944336, 161.43649291992188, 37.970645904541016, 51.893001556396484, 443.4788818359375, 476.1263122558594, 148.33937072753906, 837.7733154296875, 186.858642578125, 926.2586059570312, 706.3673706054688, 543.1326904296875, 288.2783508300781, 140.04486083984375, 259.74658203125, 152.0580596923828, 2111.65283203125, 1072.469482421875, 240.39060974121094, 1180.3055419921875, 1809.129150390625, 846.1858520507812, 524.6453247070312, 815.9215698242188, 3480.4501953125, 6007.7001953125, 1257.1737060546875, 1694.1849365234375, 4167.361328125, 6319.1171875, 5506.70556640625, 3444.06298828125, 6491.9033203125, 7412.5546875, 7198.90478515625, 7643.49609375, 6110.24072265625, 5418.91796875, 3796.486083984375, 3204.9716796875, 5461.9970703125, 4543.0439453125, 2767.304931640625, 2654.488037109375, 3876.391845703125, 3395.037841796875, 4175.72802734375, 374.2137451171875, 7070.1435546875, 136.543212890625, 84.004150390625, 161.09226989746094, 364.31890869140625, 785.2870483398438, 37.50978088378906, 776.2354125976562, 2813.845947265625, 87.37438201904297, 92.8320083618164, 573.0604248046875, 22.648197174072266, 39.649322509765625, 61.01329040527344, 36.97026824951172, 40.11939239501953, 238.37770080566406, 125.57107543945312, 1648.248291015625, 45.7928352355957, 72.85385131835938, 189.64430236816406, 83.43321990966797, 44.96794891357422, 71.25505065917969, 58.621543884277344, 1220.101318359375, 422.427001953125, 234.32394409179688, 334.03936767578125, 112.39862823486328, 1648.985107421875, 139.40274047851562, 973.608154296875, 1151.037109375, 1076.8343505859375, 260.3459167480469, 309.087158203125, 6491.9033203125, 6319.1171875, 1413.1253662109375, 1008.85986328125, 6825.9765625, 7701.49169921875, 6007.7001953125, 3876.391845703125, 3516.02685546875, 7412.5546875, 6110.24072265625, 7643.49609375, 7198.90478515625, 3586.94482421875, 5461.9970703125, 6446.416015625, 3204.9716796875, 4543.0439453125, 3796.486083984375], \"Category\": [\"Default\", \"Default\", \"Default\", \"Default\", \"Default\", \"Default\", \"Default\", \"Default\", \"Default\", \"Default\", \"Default\", \"Default\", \"Default\", \"Default\", \"Default\", \"Default\", \"Default\", \"Default\", \"Default\", \"Default\", \"Default\", \"Default\", \"Default\", \"Default\", \"Default\", \"Default\", \"Default\", \"Default\", \"Default\", \"Default\", \"Topic1\", \"Topic1\", \"Topic1\", \"Topic1\", \"Topic1\", \"Topic1\", \"Topic1\", \"Topic1\", \"Topic1\", \"Topic1\", \"Topic1\", \"Topic1\", \"Topic1\", \"Topic1\", \"Topic1\", \"Topic1\", \"Topic1\", \"Topic1\", \"Topic1\", \"Topic1\", \"Topic1\", \"Topic1\", \"Topic1\", \"Topic1\", \"Topic1\", \"Topic1\", \"Topic1\", \"Topic1\", \"Topic1\", \"Topic1\", \"Topic1\", \"Topic1\", \"Topic1\", \"Topic1\", \"Topic1\", \"Topic1\", \"Topic1\", \"Topic1\", \"Topic1\", \"Topic1\", \"Topic1\", \"Topic1\", \"Topic1\", \"Topic1\", \"Topic1\", \"Topic1\", \"Topic1\", \"Topic1\", \"Topic1\", \"Topic1\", \"Topic1\", \"Topic1\", \"Topic1\", \"Topic1\", \"Topic1\", \"Topic1\", \"Topic1\", \"Topic1\", \"Topic1\", \"Topic1\", \"Topic1\", \"Topic1\", \"Topic1\", \"Topic1\", \"Topic1\", \"Topic1\", \"Topic1\", \"Topic1\", \"Topic1\", \"Topic1\", \"Topic1\", \"Topic1\", \"Topic1\", \"Topic1\", \"Topic2\", \"Topic2\", \"Topic2\", \"Topic2\", \"Topic2\", \"Topic2\", \"Topic2\", \"Topic2\", \"Topic2\", \"Topic2\", \"Topic2\", \"Topic2\", \"Topic2\", \"Topic2\", \"Topic2\", \"Topic2\", \"Topic2\", \"Topic2\", \"Topic2\", \"Topic2\", \"Topic2\", \"Topic2\", \"Topic2\", \"Topic2\", \"Topic2\", \"Topic2\", \"Topic2\", \"Topic2\", \"Topic2\", \"Topic2\", \"Topic2\", \"Topic2\", \"Topic2\", \"Topic2\", \"Topic2\", \"Topic2\", \"Topic2\", \"Topic2\", \"Topic2\", \"Topic2\", \"Topic2\", \"Topic2\", \"Topic2\", \"Topic2\", \"Topic2\", \"Topic2\", \"Topic2\", \"Topic2\", \"Topic2\", \"Topic2\", \"Topic2\", \"Topic2\", \"Topic2\", \"Topic2\", \"Topic2\", \"Topic2\", \"Topic2\", \"Topic2\", \"Topic2\", \"Topic2\", \"Topic2\", \"Topic2\", \"Topic2\", \"Topic2\", \"Topic2\", \"Topic2\", \"Topic2\", \"Topic2\", \"Topic2\", \"Topic2\", \"Topic2\", \"Topic2\", \"Topic2\", \"Topic2\", \"Topic3\", \"Topic3\", \"Topic3\", \"Topic3\", \"Topic3\", \"Topic3\", \"Topic3\", \"Topic3\", \"Topic3\", \"Topic3\", \"Topic3\", \"Topic3\", \"Topic3\", \"Topic3\", \"Topic3\", \"Topic3\", \"Topic3\", \"Topic3\", \"Topic3\", \"Topic3\", \"Topic3\", \"Topic3\", \"Topic3\", \"Topic3\", \"Topic3\", \"Topic3\", \"Topic3\", \"Topic3\", \"Topic3\", \"Topic3\", \"Topic3\", \"Topic3\", \"Topic3\", \"Topic3\", \"Topic3\", \"Topic3\", \"Topic3\", \"Topic3\", \"Topic3\", \"Topic3\", \"Topic3\", \"Topic3\", \"Topic3\", \"Topic3\", \"Topic3\", \"Topic3\", \"Topic3\", \"Topic3\", \"Topic3\", \"Topic3\", \"Topic3\", \"Topic3\", \"Topic3\", \"Topic3\", \"Topic3\", \"Topic3\", \"Topic3\", \"Topic3\", \"Topic3\", \"Topic3\", \"Topic3\", \"Topic3\", \"Topic3\", \"Topic3\", \"Topic3\", \"Topic3\", \"Topic3\", \"Topic3\", \"Topic3\", \"Topic3\", \"Topic3\", \"Topic3\", \"Topic3\", \"Topic3\", \"Topic4\", \"Topic4\", \"Topic4\", \"Topic4\", \"Topic4\", \"Topic4\", \"Topic4\", \"Topic4\", \"Topic4\", \"Topic4\", \"Topic4\", \"Topic4\", \"Topic4\", \"Topic4\", \"Topic4\", \"Topic4\", \"Topic4\", \"Topic4\", \"Topic4\", \"Topic4\", \"Topic4\", \"Topic4\", \"Topic4\", \"Topic4\", \"Topic4\", \"Topic4\", \"Topic4\", \"Topic4\", \"Topic4\", \"Topic4\", \"Topic4\", \"Topic4\", \"Topic4\", \"Topic4\", \"Topic4\", \"Topic4\", \"Topic4\", \"Topic4\", \"Topic4\", \"Topic4\", \"Topic4\", \"Topic4\", \"Topic4\", \"Topic4\", \"Topic4\", \"Topic4\", \"Topic4\", \"Topic4\", \"Topic4\", \"Topic4\", \"Topic4\", \"Topic4\", \"Topic4\", \"Topic4\", \"Topic4\", \"Topic4\", \"Topic4\", \"Topic4\", \"Topic4\", \"Topic4\", \"Topic4\", \"Topic4\", \"Topic4\", \"Topic4\", \"Topic4\", \"Topic4\", \"Topic4\", \"Topic4\", \"Topic4\", \"Topic5\", \"Topic5\", \"Topic5\", \"Topic5\", \"Topic5\", \"Topic5\", \"Topic5\", \"Topic5\", \"Topic5\", \"Topic5\", \"Topic5\", \"Topic5\", \"Topic5\", \"Topic5\", \"Topic5\", \"Topic5\", \"Topic5\", \"Topic5\", \"Topic5\", \"Topic5\", \"Topic5\", \"Topic5\", \"Topic5\", \"Topic5\", \"Topic5\", \"Topic5\", \"Topic5\", \"Topic5\", \"Topic5\", \"Topic5\", \"Topic5\", \"Topic5\", \"Topic5\", \"Topic5\", \"Topic5\", \"Topic5\", \"Topic5\", \"Topic5\", \"Topic5\", \"Topic5\", \"Topic5\", \"Topic5\", \"Topic5\", \"Topic5\", \"Topic5\", \"Topic5\", \"Topic5\", \"Topic5\", \"Topic5\", \"Topic5\", \"Topic5\", \"Topic5\", \"Topic5\", \"Topic5\", \"Topic5\", \"Topic5\", \"Topic5\", \"Topic5\", \"Topic5\", \"Topic5\", \"Topic5\", \"Topic5\", \"Topic5\", \"Topic5\", \"Topic5\", \"Topic5\", \"Topic5\", \"Topic5\", \"Topic5\", \"Topic5\", \"Topic5\", \"Topic5\", \"Topic5\", \"Topic6\", \"Topic6\", \"Topic6\", \"Topic6\", \"Topic6\", \"Topic6\", \"Topic6\", \"Topic6\", \"Topic6\", \"Topic6\", \"Topic6\", \"Topic6\", \"Topic6\", \"Topic6\", \"Topic6\", \"Topic6\", \"Topic6\", \"Topic6\", \"Topic6\", \"Topic6\", \"Topic6\", \"Topic6\", \"Topic6\", \"Topic6\", \"Topic6\", \"Topic6\", \"Topic6\", \"Topic6\", \"Topic6\", \"Topic6\", \"Topic6\", \"Topic6\", \"Topic6\", \"Topic6\", \"Topic6\", \"Topic6\", \"Topic6\", \"Topic6\", \"Topic6\", \"Topic6\", \"Topic6\", \"Topic6\", \"Topic6\", \"Topic6\", \"Topic6\", \"Topic6\", \"Topic6\", \"Topic6\", \"Topic6\", \"Topic6\", \"Topic6\", \"Topic6\", \"Topic6\", \"Topic6\", \"Topic6\", \"Topic6\", \"Topic6\", \"Topic6\", \"Topic6\"], \"logprob\": [30.0, 29.0, 28.0, 27.0, 26.0, 25.0, 24.0, 23.0, 22.0, 21.0, 20.0, 19.0, 18.0, 17.0, 16.0, 15.0, 14.0, 13.0, 12.0, 11.0, 10.0, 9.0, 8.0, 7.0, 6.0, 5.0, 4.0, 3.0, 2.0, 1.0, -6.618899822235107, -6.874100208282471, -6.646299839019775, -6.719799995422363, -5.672900199890137, -5.6940999031066895, -7.595099925994873, -6.890999794006348, -5.967400074005127, -6.662600040435791, -6.235099792480469, -6.672399997711182, -6.116000175476074, -7.6479997634887695, -7.377099990844727, -7.185800075531006, -6.771900177001953, -7.407899856567383, -6.667699813842773, -7.724800109863281, -3.8963000774383545, -6.0640997886657715, -6.41949987411499, -8.013400077819824, -7.142300128936768, -6.58650016784668, -7.472099781036377, -7.091100215911865, -7.091800212860107, -6.832499980926514, -4.420300006866455, -6.452199935913086, -5.184100151062012, -6.185999870300293, -5.905600070953369, -4.712800025939941, -5.775199890136719, -4.615300178527832, -6.557400226593018, -5.602099895477295, -5.5106000900268555, -4.646200180053711, -4.912499904632568, -5.394700050354004, -4.4944000244140625, -6.164700031280518, -5.872099876403809, -5.751399993896484, -5.8368000984191895, -5.232699871063232, -5.338500022888184, -4.719699859619141, -4.9197001457214355, -4.564300060272217, -4.308499813079834, -4.405399799346924, -5.101900100708008, -4.736499786376953, -4.938899993896484, -4.529600143432617, -5.141300201416016, -4.962100028991699, -5.505799770355225, -4.992599964141846, -4.55709981918335, -4.614799976348877, -4.684299945831299, -5.001299858093262, -5.06850004196167, -5.336299896240234, -4.875500202178955, -5.2270002365112305, -5.315499782562256, -5.27239990234375, -5.866499900817871, -6.5991997718811035, -6.450399875640869, -6.466599941253662, -6.841400146484375, -6.923600196838379, -6.977499961853027, -5.861299991607666, -6.740699768066406, -6.2795000076293945, -6.790599822998047, -6.209099769592285, -7.383500099182129, -7.2835001945495605, -5.810800075531006, -7.103000164031982, -7.091100215911865, -7.63100004196167, -7.537899971008301, -7.572500228881836, -5.540599822998047, -6.81879997253418, -7.457900047302246, -7.496699810028076, -7.6230998039245605, -7.869999885559082, -7.843100070953369, -5.160200119018555, -6.629700183868408, -7.83050012588501, -6.673699855804443, -3.234499931335449, -5.864500045776367, -6.682799816131592, -4.0370001792907715, -5.865600109100342, -6.438300132751465, -6.791500091552734, -6.975399971008301, -6.726500034332275, -6.653900146484375, -6.122700214385986, -3.8018999099731445, -6.120200157165527, -5.93779993057251, -4.4328999519348145, -3.925600051879883, -5.001500129699707, -5.890900135040283, -4.946499824523926, -5.319900035858154, -5.067399978637695, -5.2657999992370605, -5.192800045013428, -6.057700157165527, -4.363699913024902, -4.812600135803223, -5.674200057983398, -5.068299770355225, -4.841000080108643, -4.571000099182129, -4.738500118255615, -5.500400066375732, -5.392199993133545, -4.999100208282471, -5.274600028991699, -5.14739990234375, -5.458399772644043, -5.348800182342529, -5.278800010681152, -5.28879976272583, -5.435699939727783, -5.613800048828125, -5.473400115966797, -5.255799770355225, -6.473999977111816, -6.3597002029418945, -7.105800151824951, -7.104300022125244, -7.087900161743164, -7.634500026702881, -7.565000057220459, -7.590199947357178, -6.527100086212158, -6.833399772644043, -7.049099922180176, -5.973800182342529, -7.852099895477295, -7.262199878692627, -7.164299964904785, -6.012499809265137, -7.557799816131592, -7.2829999923706055, -7.90880012512207, -8.112199783325195, -8.11340045928955, -7.913099765777588, -6.8383002281188965, -7.707699775695801, -7.158999919891357, -7.922900199890137, -7.082600116729736, -8.07859992980957, -7.030099868774414, -6.160999774932861, -6.893899917602539, -5.428400039672852, -7.390100002288818, -5.195099830627441, -6.985400199890137, -5.908599853515625, -6.096700191497803, -6.565400123596191, -4.506999969482422, -5.3506999015808105, -4.829400062561035, -4.352799892425537, -5.299900054931641, -5.123600006103516, -6.238500118255615, -5.868800163269043, -5.6066999435424805, -4.836400032043457, -5.900599956512451, -5.6539998054504395, -4.359799861907959, -4.417300224304199, -4.656499862670898, -5.139699935913086, -4.583099842071533, -5.349999904632568, -5.435200214385986, -5.554599761962891, -5.1616997718811035, -4.577700138092041, -4.98829984664917, -4.679500102996826, -5.1930999755859375, -4.786200046539307, -5.447199821472168, -4.744200229644775, -5.135000228881836, -4.8566999435424805, -5.256800174713135, -4.9029998779296875, -5.073299884796143, -5.1981000900268555, -5.247700214385986, -6.1981000900268555, -4.942200183868408, -5.913899898529053, -7.232500076293945, -6.250500202178955, -6.823200225830078, -5.32889986038208, -6.497499942779541, -6.580999851226807, -5.796299934387207, -4.544600009918213, -7.484300136566162, -6.061600208282471, -7.814199924468994, -8.097100257873535, -7.3333001136779785, -7.834400177001953, -7.375, -4.9268999099731445, -8.113900184631348, -4.882599830627441, -7.143499851226807, -6.108399868011475, -7.325300216674805, -7.708000183105469, -8.152700424194336, -5.764800071716309, -4.6753997802734375, -6.76800012588501, -7.03410005569458, -6.247799873352051, -6.392099857330322, -5.264900207519531, -6.19950008392334, -6.597099781036377, -6.288099765777588, -6.521100044250488, -5.090400218963623, -5.433899879455566, -5.752200126647949, -5.739200115203857, -5.777599811553955, -4.176199913024902, -4.5269999504089355, -5.06790018081665, -5.551400184631348, -5.229899883270264, -4.822500228881836, -4.4816999435424805, -4.841100215911865, -4.478600025177002, -5.254899978637695, -4.880300045013428, -5.168300151824951, -5.135799884796143, -4.9517998695373535, -4.793399810791016, -4.712600231170654, -4.719799995422363, -5.290900230407715, -5.009699821472168, -4.906000137329102, -5.037600040435791, -4.8684000968933105, -4.915900230407715, -5.016499996185303, -5.031000137329102, -5.123700141906738, -5.242000102996826, -6.20359992980957, -4.746399879455566, -4.960700035095215, -5.220399856567383, -5.813600063323975, -5.651400089263916, -6.876699924468994, -6.890500068664551, -5.9816999435424805, -7.145899772644043, -7.010000228881836, -6.336900234222412, -6.225599765777588, -7.783199787139893, -7.448800086975098, -7.266300201416016, -7.907899856567383, -7.242099761962891, -6.107699871063232, -7.917399883270264, -7.68149995803833, -7.746500015258789, -7.286900043487549, -7.35890007019043, -5.978099822998047, -4.949399948120117, -7.752699851989746, -6.619100093841553, -8.07129955291748, -7.7631001472473145, -5.620699882507324, -5.564499855041504, -6.721199989318848, -5.037199974060059, -6.506499767303467, -4.980299949645996, -5.248499870300293, -5.538899898529053, -6.134200096130371, -6.800099849700928, -6.260000228881836, -6.749499797821045, -4.587299823760986, -5.180300235748291, -6.39109992980957, -5.217899799346924, -4.966800212860107, -5.585700035095215, -5.9243998527526855, -5.65310001373291, -4.759500026702881, -4.528800010681152, -5.430699825286865, -5.276400089263916, -4.795499801635742, -4.577899932861328, -4.724999904632568, -4.967400074005127, -4.740300178527832, -4.716400146484375, -4.772200107574463, -4.754199981689453, -4.880199909210205, -4.941299915313721, -5.078499794006348, -5.141499996185303, -5.001299858093262, -5.087600231170654, -5.218900203704834, -5.240600109100342, -5.198599815368652, -5.2245001792907715, -5.224899768829346, -5.346399784088135, -2.407599925994873, -6.361599922180176, -6.872000217437744, -6.235000133514404, -5.421500205993652, -4.673999786376953, -7.725500106811523, -4.698400020599365, -3.421799898147583, -6.895199775695801, -6.85129976272583, -5.034599781036377, -8.331700325012207, -7.797999858856201, -7.384799957275391, -7.919000148773193, -7.898399829864502, -6.134200096130371, -6.776199817657471, -4.203199863433838, -7.792099952697754, -7.356900215148926, -6.401299953460693, -7.230800151824951, -7.868299961090088, -7.410200119018555, -7.608699798583984, -4.5960001945495605, -5.681399822235107, -6.297100067138672, -5.9653000831604, -7.029600143432617, -4.784999847412109, -6.856900215148926, -5.2993998527526855, -5.172999858856201, -5.335899829864502, -6.406400203704834, -6.288700103759766, -4.0690999031066895, -4.24560022354126, -5.324399948120117, -5.557300090789795, -4.3892998695373535, -4.3404998779296875, -4.5065999031066895, -4.89739990234375, -4.96120023727417, -4.610300064086914, -4.894100189208984, -4.82390022277832, -4.93179988861084, -5.187600135803223, -5.1082000732421875, -5.138000011444092, -5.3470001220703125, -5.293399810791016, -5.365200042724609], \"loglift\": [30.0, 29.0, 28.0, 27.0, 26.0, 25.0, 24.0, 23.0, 22.0, 21.0, 20.0, 19.0, 18.0, 17.0, 16.0, 15.0, 14.0, 13.0, 12.0, 11.0, 10.0, 9.0, 8.0, 7.0, 6.0, 5.0, 4.0, 3.0, 2.0, 1.0, 1.3961999416351318, 1.3906999826431274, 1.3889000415802002, 1.385599970817566, 1.3848999738693237, 1.3842999935150146, 1.382200002670288, 1.375599980354309, 1.3717999458312988, 1.3700000047683716, 1.368399977684021, 1.367799997329712, 1.3623000383377075, 1.3617000579833984, 1.3609999418258667, 1.3562999963760376, 1.3557000160217285, 1.3550000190734863, 1.3522000312805176, 1.3513000011444092, 1.3504999876022339, 1.3488999605178833, 1.3468999862670898, 1.3450000286102295, 1.3446999788284302, 1.3428000211715698, 1.3416999578475952, 1.3408000469207764, 1.3407000303268433, 1.3379000425338745, 1.320099949836731, 1.3370000123977661, 1.289199948310852, 1.3186999559402466, 1.2903000116348267, 1.2232999801635742, 1.2776999473571777, 1.2145999670028687, 1.3157999515533447, 1.229099988937378, 1.2158000469207764, 1.1065000295639038, 1.1216000318527222, 1.1576000452041626, 1.0206999778747559, 1.2664999961853027, 1.1969000101089478, 1.1639000177383423, 1.1823999881744385, 1.034600019454956, 1.027400016784668, 0.7565000057220459, 0.8202999830245972, 0.6868000030517578, 0.5767999887466431, 0.5752000212669373, 0.8119000196456909, 0.6331999897956848, 0.7215999960899353, 0.48170000314712524, 0.795199990272522, 0.6859999895095825, 1.0006999969482422, 0.5709999799728394, 0.14730000495910645, 0.06040000170469284, 0.1306000053882599, 0.42989999055862427, 0.44510000944137573, 0.7954999804496765, -0.06769999861717224, -0.25459998846054077, 0.5103999972343445, -0.4375999867916107, 1.5184999704360962, 1.513100028038025, 1.5125000476837158, 1.5097999572753906, 1.503499984741211, 1.5027999877929688, 1.5012999773025513, 1.5003000497817993, 1.5002000331878662, 1.4957000017166138, 1.49399995803833, 1.492799997329712, 1.485700011253357, 1.4853999614715576, 1.479200005531311, 1.4780000448226929, 1.4772000312805176, 1.4765000343322754, 1.4737000465393066, 1.4693000316619873, 1.4673000574111938, 1.4673000574111938, 1.4663000106811523, 1.4648000001907349, 1.4630000591278076, 1.462399959564209, 1.462399959564209, 1.4615000486373901, 1.461300015449524, 1.4609999656677246, 1.455299973487854, 1.402400016784668, 1.427899956703186, 1.444200038909912, 1.3640999794006348, 1.4079999923706055, 1.4249000549316406, 1.4391000270843506, 1.4469000101089478, 1.4085999727249146, 1.3996000289916992, 1.3215999603271484, 0.9556999802589417, 1.3100999593734741, 1.2308000326156616, 0.8463000059127808, 0.7189000248908997, 0.9775999784469604, 1.1933000087738037, 0.9018999934196472, 1.0183000564575195, 0.8938000202178955, 0.9383000135421753, 0.8773000240325928, 1.2092000246047974, 0.4510999917984009, 0.5925999879837036, 0.9217000007629395, 0.4941999912261963, 0.3237999975681305, 0.10419999808073044, -0.0340999998152256, 0.699999988079071, 0.5406000018119812, -0.010599999688565731, 0.10649999976158142, -0.13609999418258667, 0.33180001378059387, -0.05719999969005585, -0.41040000319480896, -0.45399999618530273, -0.09139999747276306, 0.6662999987602234, -0.00430000014603138, 1.5836999416351318, 1.5823999643325806, 1.563099980354309, 1.542799949645996, 1.5371999740600586, 1.5325000286102295, 1.52839994430542, 1.527400016784668, 1.5260000228881836, 1.5218000411987305, 1.5176000595092773, 1.5147000551223755, 1.5116000175476074, 1.5098999738693237, 1.5085999965667725, 1.5080000162124634, 1.5047999620437622, 1.5045000314712524, 1.5033999681472778, 1.4980000257492065, 1.497499942779541, 1.4967000484466553, 1.4954999685287476, 1.4938000440597534, 1.4918999671936035, 1.486299991607666, 1.4859000444412231, 1.483199954032898, 1.479099988937378, 1.472000002861023, 1.4569000005722046, 1.4603999853134155, 1.4045000076293945, 1.4673000574111938, 1.3387000560760498, 1.430999994277954, 1.2803000211715698, 1.2944999933242798, 1.3219000101089478, 0.9491000175476074, 1.1050000190734863, 1.001099944114685, 0.8963000178337097, 1.0786999464035034, 1.0343999862670898, 1.261199951171875, 1.1720999479293823, 1.0878000259399414, 0.8657000064849854, 1.1621999740600586, 1.0571999549865723, 0.6126000285148621, 0.5712000131607056, 0.635200023651123, 0.8093000054359436, 0.5817000269889832, 0.8306999802589417, 0.8511000275611877, 0.8823999762535095, 0.6488999724388123, 0.2906999886035919, 0.35589998960494995, -0.00430000014603138, 0.4837000072002411, 0.02160000056028366, 0.6991999745368958, -0.09960000216960907, 0.33410000801086426, -0.021900000050663948, 0.44929999113082886, -0.19850000739097595, -0.09279999881982803, 0.12540000677108765, -0.43290001153945923, 2.0058000087738037, 2.0023000240325928, 1.9747999906539917, 1.9740999937057495, 1.9560999870300293, 1.9528000354766846, 1.9342000484466553, 1.9163000583648682, 1.912600040435791, 1.9113999605178833, 1.9077999591827393, 1.9062000513076782, 1.9036999940872192, 1.8964999914169312, 1.885599970817566, 1.8759000301361084, 1.8759000301361084, 1.8756999969482422, 1.8747999668121338, 1.86899995803833, 1.8676999807357788, 1.863700032234192, 1.8539999723434448, 1.8472000360488892, 1.833799958229065, 1.8006999492645264, 1.79830002784729, 1.7975000143051147, 1.7861000299453735, 1.7776999473571777, 1.7581000328063965, 1.7538000345230103, 1.705899953842163, 1.7207000255584717, 1.750599980354309, 1.6582000255584717, 1.6818000078201294, 1.386199951171875, 1.4270000457763672, 1.4673999547958374, 1.3996000289916992, 1.388200044631958, 0.6922000050544739, 0.7964000105857849, 0.9628999829292297, 1.1799999475479126, 0.9203000068664551, 0.6191999912261963, 0.3531000018119812, 0.5799000263214111, 0.22579999268054962, 0.8733000159263611, 0.489300012588501, 0.7645000219345093, 0.6491000056266785, 0.4293999969959259, 0.21789999306201935, 0.10220000147819519, 0.08799999952316284, 0.8130999803543091, 0.2694000005722046, 0.06639999896287918, 0.3066999912261963, -0.11079999804496765, -0.27140000462532043, -0.13109999895095825, -0.35589998960494995, -0.13529999554157257, 0.009100000374019146, 2.0230000019073486, 2.009999990463257, 2.002700090408325, 1.9842000007629395, 1.9772000312805176, 1.969599962234497, 1.9681999683380127, 1.951300024986267, 1.9463000297546387, 1.937999963760376, 1.9377000331878662, 1.9184000492095947, 1.9174000024795532, 1.9140000343322754, 1.913599967956543, 1.9128999710083008, 1.905900001525879, 1.9021999835968018, 1.901900053024292, 1.895400047302246, 1.8934999704360962, 1.8932000398635864, 1.8916000127792358, 1.8896000385284424, 1.8894000053405762, 1.8884999752044678, 1.8835999965667725, 1.8828999996185303, 1.878000020980835, 1.873900055885315, 1.8708000183105469, 1.8559999465942383, 1.865399956703186, 1.8181999921798706, 1.8493000268936157, 1.7747000455856323, 1.777500033378601, 1.749899983406067, 1.7879999876022339, 1.844099998474121, 1.7663999795913696, 1.812399983406067, 1.3436000347137451, 1.4280999898910522, 1.7127000093460083, 1.294700026512146, 1.1187000274658203, 1.259600043296814, 1.3990000486373901, 1.228700041770935, 0.6717000007629395, 0.3564999997615814, 1.0188000202178955, 0.8748000264167786, 0.45559999346733093, 0.25690001249313354, 0.24740000069141388, 0.47429999709129333, 0.06750000268220901, -0.041200000792741776, -0.06769999861717224, -0.10970000177621841, -0.011800000444054604, 0.047200001776218414, 0.26579999923706055, 0.37220001220703125, -0.020800000056624413, 0.0771000012755394, 0.4415999948978424, 0.46149998903274536, 0.12489999830722809, 0.23149999976158142, 0.02419999986886978, 2.3148999214172363, 2.3148999214172363, 2.3078999519348145, 2.2832000255584717, 2.2690999507904053, 2.2665998935699463, 2.246000051498413, 2.2360000610351562, 2.233299970626831, 2.2219998836517334, 2.2207000255584717, 2.2039999961853027, 2.200500011444092, 2.1342999935150146, 2.1080000400543213, 2.0903000831604004, 2.056999921798706, 1.9958000183105469, 1.9780999422073364, 1.9769999980926514, 1.9753999710083008, 1.9699000120162964, 1.9407000541687012, 1.9397000074386597, 1.9312000274658203, 1.9118000268936157, 1.9097000360488892, 1.9062999486923218, 1.8833999633789062, 1.8587000370025635, 1.8322999477386475, 1.809499979019165, 1.8344000577926636, 1.3932000398635864, 1.7918000221252441, 1.4056999683380127, 1.3646999597549438, 1.2684999704360962, 1.6176999807357788, 1.5637999773025513, 0.7386999726295471, 0.5892000198364258, 1.0081000328063965, 1.1122000217437744, 0.3682999908924103, 0.2964000105857849, 0.37869998812675476, 0.4259999990463257, 0.45980000495910645, 0.0649000033736229, -0.025699999183416367, -0.1793999969959259, -0.227400004863739, 0.2134999930858612, -0.12770000100135803, -0.323199987411499, 0.16660000383853912, -0.12870000302791595, -0.020899999886751175]}, \"token.table\": {\"Topic\": [1, 2, 3, 4, 5, 6, 1, 2, 3, 4, 5, 6, 1, 2, 3, 4, 5, 6, 1, 2, 3, 4, 5, 6, 1, 2, 3, 4, 5, 6, 1, 2, 3, 4, 5, 6, 1, 2, 3, 4, 5, 6, 1, 2, 3, 4, 5, 6, 1, 2, 3, 4, 5, 6, 1, 2, 3, 4, 5, 6, 1, 2, 3, 4, 5, 6, 1, 2, 3, 4, 5, 6, 1, 2, 3, 4, 5, 6, 1, 2, 3, 4, 5, 6, 1, 2, 3, 4, 5, 6, 1, 2, 3, 4, 5, 6, 1, 2, 3, 4, 5, 6, 1, 2, 3, 4, 5, 6, 1, 2, 3, 4, 5, 6, 1, 2, 3, 4, 5, 6, 1, 2, 3, 4, 5, 6, 1, 2, 3, 4, 5, 6, 1, 2, 3, 4, 5, 6, 1, 2, 3, 4, 5, 6, 1, 2, 3, 4, 5, 6, 1, 2, 3, 4, 5, 6, 1, 2, 3, 4, 5, 6, 1, 2, 3, 4, 5, 6, 1, 2, 3, 4, 5, 6, 1, 2, 3, 4, 5, 6, 1, 2, 3, 4, 5, 6, 1, 2, 3, 4, 5, 6, 1, 2, 3, 4, 5, 6, 1, 2, 3, 4, 5, 6, 1, 2, 3, 4, 5, 6, 1, 2, 3, 4, 5, 6, 1, 2, 3, 4, 5, 6, 1, 2, 3, 4, 5, 6, 1, 2, 3, 4, 5, 6, 1, 2, 3, 4, 5, 6, 1, 2, 3, 4, 5, 6, 1, 2, 3, 4, 5, 6, 1, 2, 3, 4, 5, 6, 1, 2, 3, 4, 5, 6, 1, 2, 3, 4, 5, 6, 1, 2, 3, 4, 5, 6, 1, 2, 3, 4, 5, 6, 1, 2, 3, 4, 5, 6, 1, 2, 3, 4, 5, 6, 1, 2, 3, 4, 5, 6, 1, 2, 3, 4, 5, 6, 1, 2, 3, 4, 5, 6, 1, 2, 3, 4, 5, 6, 1, 2, 3, 4, 5, 6, 1, 2, 3, 4, 5, 6, 1, 2, 3, 4, 5, 6, 1, 2, 3, 4, 5, 6, 1, 2, 3, 4, 5, 6, 1, 2, 3, 4, 5, 6, 1, 2, 3, 4, 5, 6, 1, 2, 3, 4, 5, 6, 1, 2, 3, 4, 5, 6, 1, 2, 3, 4, 5, 6, 1, 2, 3, 4, 5, 6, 1, 2, 3, 4, 5, 6, 1, 2, 3, 4, 5, 6, 1, 2, 3, 4, 5, 6, 1, 2, 3, 4, 5, 6, 1, 2, 3, 4, 5, 6, 1, 2, 3, 4, 5, 6, 1, 2, 3, 4, 5, 6, 1, 2, 3, 4, 5, 6, 1, 2, 3, 4, 5, 6, 1, 2, 3, 4, 5, 6, 1, 2, 3, 4, 5, 6, 1, 2, 3, 4, 5, 6, 1, 2, 3, 4, 5, 6, 1, 2, 3, 4, 5, 6, 1, 2, 3, 4, 5, 6, 1, 2, 3, 4, 5, 6, 1, 2, 3, 4, 5, 6, 1, 2, 3, 4, 5, 6, 1, 2, 3, 4, 5, 6, 1, 2, 3, 4, 5, 6, 1, 2, 3, 4, 5, 6, 1, 2, 3, 4, 5, 6, 1, 2, 3, 4, 5, 6, 1, 2, 3, 4, 5, 6, 1, 2, 3, 4, 5, 6, 1, 2, 3, 4, 5, 6, 1, 2, 3, 4, 5, 6, 1, 2, 3, 4, 5, 6, 1, 2, 3, 4, 5, 6, 1, 2, 3, 4, 5, 6, 1, 2, 3, 4, 5, 6, 1, 2, 3, 4, 5, 6, 1, 2, 3, 4, 5, 6, 1, 2, 3, 4, 5, 6, 1, 2, 3, 4, 5, 6, 1, 2, 3, 4, 5, 6, 1, 2, 3, 4, 5, 6, 1, 2, 3, 4, 5, 6, 1, 2, 3, 4, 5, 6, 1, 2, 3, 4, 5, 6, 1, 2, 3, 4, 5, 6, 1, 2, 3, 4, 5, 6, 1, 2, 3, 4, 5, 6, 1, 2, 3, 4, 5, 6, 1, 2, 3, 4, 5, 6, 1, 2, 3, 4, 5, 6, 1, 2, 3, 4, 5, 6, 1, 2, 3, 4, 5, 6, 1, 2, 3, 4, 5, 6, 1, 2, 3, 4, 5, 6, 1, 2, 3, 4, 5, 6, 1, 2, 3, 4, 5, 6, 1, 2, 3, 4, 5, 6, 1, 2, 3, 4, 5, 6, 1, 2, 3, 4, 5, 6, 1, 2, 3, 4, 5, 6, 1, 2, 3, 4, 5, 6, 1, 2, 3, 4, 5, 6, 1, 2, 3, 4, 5, 6, 1, 2, 3, 4, 5, 6, 1, 2, 3, 4, 5, 6, 1, 2, 3, 4, 5, 6, 1, 2, 3, 4, 5, 6, 1, 2, 3, 4, 5, 6, 1, 2, 3, 4, 5, 6, 1, 2, 3, 4, 5, 6, 1, 2, 3, 4, 5, 6, 1, 2, 3, 4, 5, 6, 1, 2, 3, 4, 5, 6, 1, 2, 3, 4, 5, 6, 1, 2, 3, 4, 5, 6, 1, 2, 3, 4, 5, 6, 1, 2, 3, 4, 5, 6, 1, 2, 3, 4, 5, 6, 1, 2, 3, 4, 5, 6, 1, 2, 3, 4, 5, 6, 1, 2, 3, 4, 5, 6, 1, 2, 3, 4, 5, 6, 1, 2, 3, 4, 5, 6, 1, 2, 3, 4, 5, 6, 1, 2, 3, 4, 5, 6, 1, 2, 3, 4, 5, 6, 1, 2, 3, 4, 5, 6, 1, 2, 3, 4, 5, 6, 1, 2, 3, 4, 5, 6, 1, 2, 3, 4, 5, 6, 1, 2, 3, 4, 5, 6, 1, 2, 3, 4, 5, 6, 1, 2, 3, 4, 5, 6, 1, 2, 3, 4, 5, 6, 1, 2, 3, 4, 5, 6, 1, 2, 3, 4, 5, 6, 1, 2, 3, 4, 5, 6, 1, 2, 3, 4, 5, 6, 1, 2, 3, 4, 5, 6, 1, 2, 3, 4, 5, 6, 1, 2, 3, 4, 5, 6, 1, 2, 3, 4, 5, 6, 1, 2, 3, 4, 5, 6, 1, 2, 3, 4, 5, 6, 1, 2, 3, 4, 5, 6, 1, 2, 3, 4, 5, 6, 1, 2, 3, 4, 5, 6, 1, 2, 3, 4, 5, 6, 1, 2, 3, 4, 5, 6, 1, 2, 3, 4, 5, 6, 1, 2, 3, 4, 5, 6, 1, 2, 3, 4, 5, 6, 1, 2, 3, 4, 5, 6, 1, 2, 3, 4, 5, 6, 1, 2, 3, 4, 5, 6, 1, 2, 3, 4, 5, 6, 1, 2, 3, 4, 5, 6, 1, 2, 3, 4, 5, 6, 1, 2, 3, 4, 5, 6, 1, 2, 3, 4, 5, 6, 1, 2, 3, 4, 5, 6, 1, 2, 3, 4, 5, 6, 1, 2, 3, 4, 5, 6, 1, 2, 3, 4, 5, 6, 1, 2, 3, 4, 5, 6, 1, 2, 3, 4, 5, 6, 1, 2, 3, 4, 5, 6, 1, 2, 3, 4, 5, 6, 1, 2, 3, 4, 5, 6, 1, 2, 3, 4, 5, 6, 1, 2, 3, 4, 5, 6, 1, 2, 3, 4, 5, 6, 1, 2, 3, 4, 5, 6, 1, 2, 3, 4, 5, 6, 1, 2, 3, 4, 5, 6, 1, 2, 3, 4, 5, 6, 1, 2, 3, 4, 5, 6, 1, 2, 3, 4, 5, 6, 1, 2, 3, 4, 5, 6, 1, 2, 3, 4, 5, 6, 1, 2, 3, 4, 5, 6, 1, 2, 3, 4, 5, 6, 1, 2, 3, 4, 5, 6, 1, 2, 3, 4, 5, 6, 1, 2, 3, 4, 5, 6, 1, 2, 3, 4, 5, 6, 1, 2, 3, 4, 5, 6, 1, 2, 3, 4, 5, 6, 1, 2, 3, 4, 5, 6, 1, 2, 3, 4, 5, 6, 1, 2, 3, 4, 5, 6, 1, 2, 3, 4, 5, 6, 1, 2, 3, 4, 5, 6, 1, 2, 3, 4, 5, 6, 1, 2, 3, 4, 5, 6, 1, 2, 3, 4, 5, 6, 1, 2, 3, 4, 5, 6, 1, 2, 3, 4, 5, 6, 1, 2, 3, 4, 5, 6, 1, 2, 3, 4, 5, 6, 1, 2, 3, 4, 5, 6, 1, 2, 3, 4, 5, 6, 1, 2, 3, 4, 5, 6, 1, 2, 3, 4, 5, 6, 1, 2, 3, 4, 5, 6, 1, 2, 3, 4, 5, 6, 1, 2, 3, 4, 5, 6, 1, 2, 3, 4, 5, 6, 1, 2, 3, 4, 5, 6, 1, 2, 3, 4, 5, 6, 1, 2, 3, 4, 5, 6, 1, 2, 3, 4, 5, 6, 1, 2, 3, 4, 5, 6, 1, 2, 3, 4, 5, 6, 1, 2, 3, 4, 5, 6, 1, 2, 3, 4, 5, 6, 1, 2, 3, 4, 5, 6, 1, 2, 3, 4, 5, 6, 1, 2, 3, 4, 5, 6, 1, 2, 3, 4, 5, 6, 1, 2, 3, 4, 5, 6, 1, 2, 3, 4, 5, 6, 1, 2, 3, 4, 5, 6, 1, 2, 3, 4, 5, 6, 1, 2, 3, 4, 5, 6, 1, 2, 3, 4, 5, 6, 1, 2, 3, 4, 5, 6, 1, 2, 3, 4, 5, 6, 1, 2, 3, 4, 5, 6, 1, 2, 3, 4, 5, 6, 1, 2, 3, 4, 5, 6, 1, 2, 3, 4, 5, 6, 1, 2, 3, 4, 5, 6, 1, 2, 3, 4, 5, 6, 1, 2, 3, 4, 5, 6, 1, 2, 3, 4, 5, 6, 1, 2, 3, 4, 5, 6, 1, 2, 3, 4, 5, 6, 1, 2, 3, 4, 5, 6, 1, 2, 3, 4, 5, 6, 1, 2, 3, 4, 5, 6, 1, 2, 3, 4, 5, 6, 1, 2, 3, 4, 5, 6, 1, 2, 3, 4, 5, 6, 1, 2, 3, 4, 5, 6, 1, 2, 3, 4, 5, 6, 1, 2, 3, 4, 5, 6, 1, 2, 3, 4, 5, 6, 1, 2, 3, 4, 5, 6, 1, 2, 3, 4, 5, 6, 1, 2, 3, 4, 5, 6, 1, 2, 3, 4, 5, 6, 1, 2, 3, 4, 5, 6, 1, 2, 3, 4, 5, 6, 1, 2, 3, 4, 5, 6, 1, 2, 3, 4, 5, 6, 1, 2, 3, 4, 5, 6, 1, 2, 3, 4, 5, 6, 1, 2, 3, 4, 5, 6, 1, 2, 3, 4, 5, 6, 1, 2, 3, 4, 5, 6, 1, 2, 3, 4, 5, 6, 1, 2, 3, 4, 5, 6, 1, 2, 3, 4, 5, 6, 1, 2, 3, 4, 5, 6, 1, 2, 3, 4, 5, 6, 1, 2, 3, 4, 5, 6, 1, 2, 3, 4, 5, 6, 1, 2, 3, 4, 5, 6, 1, 2, 3, 4, 5, 6, 1, 2, 3, 4, 5, 6, 1, 2, 3, 4, 5, 6, 1, 2, 3, 4, 5, 6, 1, 2, 3, 4, 5, 6, 1, 2, 3, 4, 5, 6, 1, 2, 3, 4, 5, 6, 1, 2, 3, 4, 5, 6, 1, 2, 3, 4, 5, 6, 1, 2, 3, 4, 5, 6, 1, 2, 3, 4, 5, 6, 1, 2, 3, 4, 5, 6, 1, 2, 3, 4, 5, 6, 1, 2, 3, 4, 5, 6, 1, 2, 3, 4, 5, 6, 1, 2, 3, 4, 5, 6, 1, 2, 3, 4, 5, 6, 1, 2, 3, 4, 5, 6, 1, 2, 3, 4, 5, 6, 1, 2, 3, 4, 5, 6, 1, 2, 3, 4, 5, 6, 1, 2, 3, 4, 5, 6, 1, 2, 3, 4, 5, 6, 1, 2, 3, 4, 5, 6, 1, 2, 3, 4, 5, 6, 1, 2, 3, 4, 5, 6, 1, 2, 3, 4, 5, 6, 1, 2, 3, 4, 5, 6, 1, 2, 3, 4, 5, 6, 1, 2, 3, 4, 5, 6, 1, 2, 3, 4, 5, 6, 1, 2, 3, 4, 5, 6, 1, 2, 3, 4, 5, 6, 1, 2, 3, 4, 5, 6, 1, 2, 3, 4, 5, 6, 1, 2, 3, 4, 5, 6, 1, 2, 3, 4, 5, 6, 1, 2, 3, 4, 5, 6, 1, 2, 3, 4, 5, 6, 1, 2, 3, 4, 5, 6, 1, 2, 3, 4, 5, 6, 1, 2, 3, 4, 5, 6, 1, 2, 3, 4, 5, 6, 1, 2, 3, 4, 5, 6, 1, 2, 3, 4, 5, 6, 1, 2, 3, 4, 5, 6, 1, 2, 3, 4, 5, 6, 1, 2, 3, 4, 5, 6, 1, 2, 3, 4, 5, 6, 1, 2, 3, 4, 5, 6, 1, 2, 3, 4, 5, 6, 1, 2, 3, 4, 5, 6, 1, 2, 3, 4, 5, 6, 1, 2, 3, 4, 5, 6, 1, 2, 3, 4, 5, 6, 1, 2, 3, 4, 5, 6, 1, 2, 3, 4, 5, 6, 1, 2, 3, 4, 5, 6], \"Freq\": [0.021696629002690315, 0.010848314501345158, 0.9004100561141968, 0.021696629002690315, 0.04339325800538063, 0.010848314501345158, 0.4217822253704071, 0.19088433682918549, 0.1433272361755371, 0.12135258316993713, 0.05903639271855354, 0.06362811475992203, 0.01364233996719122, 0.914036750793457, 0.01364233996719122, 0.02728467993438244, 0.01364233996719122, 0.01364233996719122, 0.42501020431518555, 0.013894564472138882, 0.018798528239130974, 0.5132815837860107, 0.0032693094108253717, 0.02533714845776558, 0.012512492015957832, 0.9245341420173645, 0.02224442921578884, 0.016683323308825493, 0.004170830827206373, 0.020854152739048004, 0.22941413521766663, 0.4290664494037628, 0.13826851546764374, 0.08866546303033829, 0.07440458238124847, 0.03968244418501854, 0.019614962860941887, 0.9219032526016235, 0.019614962860941887, 0.009807481430470943, 0.009807481430470943, 0.019614962860941887, 0.025061728432774544, 0.012530864216387272, 0.012530864216387272, 0.9272839426994324, 0.012530864216387272, 0.012530864216387272, 0.19245333969593048, 0.14140179753303528, 0.3235713839530945, 0.10614316165447235, 0.13809628784656525, 0.09806305915117264, 0.2067674696445465, 0.09840653091669083, 0.191124826669693, 0.22923602163791656, 0.1271321326494217, 0.14732538163661957, 0.10918738692998886, 0.13102486729621887, 0.021837476640939713, 0.021837476640939713, 0.021837476640939713, 0.6769617795944214, 0.0032840650528669357, 0.013136260211467743, 0.1149422749876976, 0.01642032526433468, 0.8472887873649597, 0.0032840650528669357, 0.2312200665473938, 0.2966364026069641, 0.2085917592048645, 0.08475326001644135, 0.130832701921463, 0.047313712537288666, 0.9256107211112976, 0.007844158448278904, 0.007844158448278904, 0.015688316896557808, 0.015688316896557808, 0.023532476276159286, 0.06159807741641998, 0.041065383702516556, 0.03079903870820999, 0.831574022769928, 0.020532691851258278, 0.010266345925629139, 0.2302355319261551, 0.0051545267924666405, 0.10652688890695572, 0.5566889047622681, 0.08934512734413147, 0.012027229182422161, 0.010626590810716152, 0.9245133399963379, 0.021253181621432304, 0.021253181621432304, 0.010626590810716152, 0.010626590810716152, 0.9630399346351624, 0.007612963672727346, 0.003806481836363673, 0.003806481836363673, 0.011419445276260376, 0.011419445276260376, 0.23378637433052063, 0.1243257001042366, 0.46689704060554504, 0.05743306875228882, 0.05878443270921707, 0.05878443270921707, 0.14589732885360718, 0.010504608042538166, 0.8123563528060913, 0.008170250803232193, 0.0023343574721366167, 0.019842037931084633, 0.022997146472334862, 0.022997146472334862, 0.022997146472334862, 0.022997146472334862, 0.8508944511413574, 0.022997146472334862, 0.037666283547878265, 0.38855743408203125, 0.26961126923561096, 0.006938525475561619, 0.014868268743157387, 0.2824971079826355, 0.07856065779924393, 0.41496142745018005, 0.21755258738994598, 0.10944775491952896, 0.11146213114261627, 0.067817322909832, 0.024312837049365044, 0.024312837049365044, 0.8995749354362488, 0.016208557412028313, 0.024312837049365044, 0.016208557412028313, 0.9262298941612244, 0.020582886412739754, 0.020582886412739754, 0.010291443206369877, 0.010291443206369877, 0.010291443206369877, 0.9368383884429932, 0.007806986570358276, 0.007806986570358276, 0.031227946281433105, 0.007806986570358276, 0.007806986570358276, 0.01927042193710804, 0.03854084387421608, 0.05781126394867897, 0.01927042193710804, 0.8286281228065491, 0.01927042193710804, 0.016969116404652596, 0.7890639305114746, 0.07423988729715347, 0.046665068715810776, 0.044543929398059845, 0.02969595417380333, 0.007391281891614199, 0.8888016939163208, 0.04804333299398422, 0.0166303850710392, 0.02402166649699211, 0.0166303850710392, 0.003613261040300131, 0.9683539867401123, 0.007226522080600262, 0.007226522080600262, 0.007226522080600262, 0.007226522080600262, 0.09776002913713455, 0.018187912181019783, 0.7047815918922424, 0.018187912181019783, 0.08411909639835358, 0.07729862630367279, 0.019359927624464035, 0.7980592250823975, 0.05592867732048035, 0.04732426628470421, 0.030115442350506783, 0.04732426628470421, 0.014212151058018208, 0.9237897992134094, 0.014212151058018208, 0.014212151058018208, 0.014212151058018208, 0.014212151058018208, 0.0171589944511652, 0.9037070274353027, 0.028598323464393616, 0.0171589944511652, 0.011439329944550991, 0.0171589944511652, 0.018897129222750664, 0.9259593486785889, 0.009448564611375332, 0.018897129222750664, 0.009448564611375332, 0.018897129222750664, 0.006539701949805021, 0.88612961769104, 0.055587466806173325, 0.016349254176020622, 0.016349254176020622, 0.019619105383753777, 0.011371836997568607, 0.0170577559620142, 0.83583003282547, 0.03980142995715141, 0.08528877794742584, 0.0170577559620142, 0.006972765550017357, 0.013945531100034714, 0.9204050898551941, 0.027891062200069427, 0.02091829665005207, 0.006972765550017357, 0.014688799157738686, 0.014688799157738686, 0.9033611416816711, 0.02937759831547737, 0.02937759831547737, 0.014688799157738686, 0.03562005236744881, 0.3648883104324341, 0.07819035649299622, 0.06515862792730331, 0.09209086000919342, 0.3640195429325104, 0.003349853213876486, 0.06699706614017487, 0.7470172643661499, 0.05359765142202377, 0.11054515838623047, 0.02009912021458149, 0.9374020099639893, 0.0077471244148910046, 0.015494248829782009, 0.015494248829782009, 0.0038735622074455023, 0.01936781033873558, 0.005566245876252651, 0.949044942855835, 0.008349369280040264, 0.008349369280040264, 0.016698738560080528, 0.011132491752505302, 0.01279754750430584, 0.912891685962677, 0.01279754750430584, 0.01706339605152607, 0.008531698025763035, 0.03839264065027237, 0.008267063647508621, 0.20770996809005737, 0.5735275149345398, 0.06510312110185623, 0.10437167435884476, 0.03926854953169823, 0.017354173585772514, 0.0034708345774561167, 0.951008677482605, 0.0034708345774561167, 0.013883338309824467, 0.006941669154912233, 0.11809942126274109, 0.08435672521591187, 0.19402047991752625, 0.41756579279899597, 0.10966374725103378, 0.07592105865478516, 0.061886224895715714, 0.01628584787249565, 0.04722896218299866, 0.7743920683860779, 0.04641466960310936, 0.05374329909682274, 0.024697408080101013, 0.024697408080101013, 0.8973391652107239, 0.03292987868189812, 0.01646493934094906, 0.00823246967047453, 0.017013007774949074, 0.011342004872858524, 0.011342004872858524, 0.8733344078063965, 0.011342004872858524, 0.07939403504133224, 0.917338490486145, 0.012509161606431007, 0.03544262424111366, 0.016678880900144577, 0.008339440450072289, 0.006254580803215504, 0.027452221140265465, 0.23334386944770813, 0.013726110570132732, 0.04117833077907562, 0.05490444228053093, 0.6451271772384644, 0.05123644322156906, 0.5899307131767273, 0.11884008347988129, 0.1181284710764885, 0.03273439407348633, 0.08966377377510071, 0.030932823196053505, 0.10907890647649765, 0.25560280680656433, 0.5144616961479187, 0.06023760512471199, 0.029304780066013336, 0.07703498005867004, 0.01925874501466751, 0.01925874501466751, 0.01925874501466751, 0.8473847508430481, 0.01925874501466751, 0.004106835927814245, 0.9199312329292297, 0.012320507317781448, 0.02874785102903843, 0.00821367185562849, 0.024641014635562897, 0.004984013736248016, 0.9469625949859619, 0.009968027472496033, 0.019936054944992065, 0.004984013736248016, 0.009968027472496033, 0.060216274112463, 0.19491057097911835, 0.08715513348579407, 0.5197615027427673, 0.07923194020986557, 0.05704699456691742, 0.47344106435775757, 0.035754039883613586, 0.10846191644668579, 0.1295783966779709, 0.20180635154247284, 0.051111478358507156, 0.4487512409687042, 0.022964391857385635, 0.10590637475252151, 0.20938122272491455, 0.14616160094738007, 0.06700199097394943, 0.048447661101818085, 0.0048447661101818085, 0.08720578998327255, 0.7751625776290894, 0.06782672554254532, 0.014534298330545425, 0.3163817822933197, 0.010546059347689152, 0.010546059347689152, 0.010546059347689152, 0.010546059347689152, 0.6485826373100281, 0.07964189350605011, 0.28148242831230164, 0.4577889144420624, 0.05289194732904434, 0.08268166333436966, 0.04498855024576187, 0.011179686523973942, 0.0335390605032444, 0.9167343378067017, 0.011179686523973942, 0.011179686523973942, 0.011179686523973942, 0.9577392935752869, 0.0146592753008008, 0.0048864251002669334, 0.009772850200533867, 0.0048864251002669334, 0.0048864251002669334, 0.006195122376084328, 0.08053658902645111, 0.8673171401023865, 0.012390244752168655, 0.018585367128252983, 0.006195122376084328, 0.003779842285439372, 0.9185016751289368, 0.01700928993523121, 0.018899211660027504, 0.01700928993523121, 0.023624014109373093, 0.004771000239998102, 0.954200029373169, 0.009542000479996204, 0.009542000479996204, 0.009542000479996204, 0.009542000479996204, 0.002027129288762808, 0.9730219841003418, 0.006081387400627136, 0.010135645978152752, 0.004054258577525616, 0.004054258577525616, 0.005854564718902111, 0.8332996964454651, 0.011987918056547642, 0.02369704656302929, 0.01003639679402113, 0.11513976752758026, 0.0007790698437020183, 0.8658062815666199, 0.0022073646541684866, 0.004284884314984083, 0.0018178296741098166, 0.12517055869102478, 0.00944411102682352, 0.897190511226654, 0.01888822205364704, 0.028332332149147987, 0.028332332149147987, 0.01888822205364704, 0.023549700155854225, 0.011774850077927113, 0.07064910233020782, 0.023549700155854225, 0.8595640659332275, 0.011774850077927113, 0.004195542074739933, 0.9691702127456665, 0.008391084149479866, 0.008391084149479866, 0.008391084149479866, 0.008391084149479866, 0.006619104649871588, 0.9332937598228455, 0.013238209299743176, 0.013238209299743176, 0.013238209299743176, 0.02647641859948635, 0.424288809299469, 0.05759275332093239, 0.08705494552850723, 0.11268871277570724, 0.1827654391527176, 0.13582567870616913, 0.8911310434341431, 0.05255388468503952, 0.036559224128723145, 0.004569903016090393, 0.00685485452413559, 0.00685485452413559, 0.9118353128433228, 0.027948975563049316, 0.017468109726905823, 0.010480865836143494, 0.006987243890762329, 0.024455353617668152, 0.05922895297408104, 0.4965360462665558, 0.11450930684804916, 0.16806215047836304, 0.07724442332983017, 0.08464804291725159, 0.0029945794958621264, 0.9492816925048828, 0.008983738720417023, 0.020962055772542953, 0.011978317983448505, 0.0029945794958621264, 0.6611779928207397, 0.039683178067207336, 0.1443592756986618, 0.05155688151717186, 0.05999346449971199, 0.04312030225992203, 0.1509847640991211, 0.02465057373046875, 0.0493011474609375, 0.11298179626464844, 0.2834815979003906, 0.37900257110595703, 0.04415362328290939, 0.04415362328290939, 0.04415362328290939, 0.04415362328290939, 0.04415362328290939, 0.7947652339935303, 0.1171410083770752, 0.06941689550876617, 0.008677111938595772, 0.7418930530548096, 0.06073978170752525, 0.008677111938595772, 0.10710853338241577, 0.021421706303954124, 0.014281137846410275, 0.03570284694433212, 0.8068842887878418, 0.007140568923205137, 0.3969118595123291, 0.0503067672252655, 0.1735157072544098, 0.07375483959913254, 0.18843720853328705, 0.11724034696817398, 0.4903688132762909, 0.008672698400914669, 0.1944129765033722, 0.01806812174618244, 0.1987493336200714, 0.08961787819862366, 0.00470326142385602, 0.00940652284771204, 0.00470326142385602, 0.00470326142385602, 0.9688718914985657, 0.00940652284771204, 0.7892365455627441, 0.03990522027015686, 0.08276638388633728, 0.01477971114218235, 0.03990522027015686, 0.03399333730340004, 0.009335029870271683, 0.015275503508746624, 0.002828796859830618, 0.004667514935135841, 0.02602493204176426, 0.9418479204177856, 0.9196459650993347, 0.014813731424510479, 0.04420226067304611, 0.007884727790951729, 0.0011946557788178325, 0.01242441963404417, 0.6657751798629761, 0.018290527164936066, 0.11779099702835083, 0.05999292805790901, 0.10242695361375809, 0.0358494333922863, 0.9218000769615173, 0.007649793289601803, 0.015299586579203606, 0.011474689468741417, 0.019124483689665794, 0.026774276047945023, 0.0036869931500405073, 0.9346527457237244, 0.016591468825936317, 0.01843496598303318, 0.007373986300081015, 0.01843496598303318, 0.9153164029121399, 0.006102109327912331, 0.018306327983736992, 0.012204218655824661, 0.036612655967473984, 0.018306327983736992, 0.2872757911682129, 0.04499500244855881, 0.15575192868709564, 0.3074658513069153, 0.13210071623325348, 0.0732610896229744, 0.23326140642166138, 0.06135548651218414, 0.09783712774515152, 0.15034857392311096, 0.3913485109806061, 0.0657775029540062, 0.9465658664703369, 0.009963851422071457, 0.009963851422071457, 0.009963851422071457, 0.009963851422071457, 0.009963851422071457, 0.9247244000434875, 0.016082163900136948, 0.008041081950068474, 0.016082163900136948, 0.008041081950068474, 0.032164327800273895, 0.017959849908947945, 0.7298229932785034, 0.1387806534767151, 0.016327135264873505, 0.08979924768209457, 0.006530854385346174, 0.36633190512657166, 0.06752000004053116, 0.16721974313259125, 0.0775761678814888, 0.2502549886703491, 0.07096783071756363, 0.8657656311988831, 0.010067041963338852, 0.07382497191429138, 0.005033520981669426, 0.041946008801460266, 0.0033556807320564985, 0.9137337803840637, 0.02538149431347847, 0.016920996829867363, 0.008460498414933681, 0.008460498414933681, 0.033841993659734726, 0.37192216515541077, 0.0627150610089302, 0.11045339703559875, 0.1594397872686386, 0.1856490671634674, 0.1098293662071228, 0.6484360098838806, 0.0016842492623254657, 0.006736997049301863, 0.0033684985246509314, 0.24674251675605774, 0.09263370931148529, 0.11086095869541168, 0.17277799546718597, 0.11616813391447067, 0.3225582242012024, 0.1202959343791008, 0.1568564623594284, 0.03622834384441376, 0.01811417192220688, 0.01811417192220688, 0.01811417192220688, 0.8513660430908203, 0.054342515766620636, 0.07191380113363266, 0.10787070542573929, 0.03595690056681633, 0.01198563352227211, 0.1318419724702835, 0.6472241878509521, 0.10985253751277924, 0.11789052933454514, 0.022774307057261467, 0.7073431611061096, 0.013396651484072208, 0.029472632333636284, 0.5411508083343506, 0.06769276410341263, 0.08921358734369278, 0.1526021808385849, 0.08608328551054001, 0.06338860094547272, 0.488140344619751, 0.02006864733994007, 0.13162671029567719, 0.04781059920787811, 0.3069322407245636, 0.005902543198317289, 0.05044222250580788, 0.02522111125290394, 0.05044222250580788, 0.02522111125290394, 0.07566333562135696, 0.7566333413124084, 0.08961956202983856, 0.544563353061676, 0.16119074821472168, 0.08401834219694138, 0.08028419315814972, 0.04107563570141792, 0.007571572903543711, 0.05678679794073105, 0.03407207876443863, 0.007571572903543711, 0.8555877208709717, 0.0416436530649662, 0.05393039062619209, 0.05393039062619209, 0.013482597656548023, 0.020223895087838173, 0.8291797637939453, 0.040447790175676346, 0.027229543775320053, 0.027229543775320053, 0.054459087550640106, 0.8441159129142761, 0.027229543775320053, 0.027229543775320053, 0.03340623527765274, 0.03127392381429672, 0.00781848095357418, 0.014926190488040447, 0.054373979568481445, 0.858255922794342, 0.05288892239332199, 0.10577784478664398, 0.026444461196660995, 0.7668893933296204, 0.026444461196660995, 0.026444461196660995, 0.1852923035621643, 0.23694458603858948, 0.18201279640197754, 0.19731716811656952, 0.11915551871061325, 0.07952810823917389, 0.011995385400950909, 0.011995385400950909, 0.9236446619033813, 0.011995385400950909, 0.023990770801901817, 0.011995385400950909, 0.9124855399131775, 0.011550449766218662, 0.01732567511498928, 0.023100899532437325, 0.01732567511498928, 0.023100899532437325, 0.008514424785971642, 0.9025290012359619, 0.004257212392985821, 0.008514424785971642, 0.05108654871582985, 0.025543274357914925, 0.0036623082123696804, 0.963187038898468, 0.01831153966486454, 0.0036623082123696804, 0.0036623082123696804, 0.007324616424739361, 0.004991719499230385, 0.9234681129455566, 0.024958597496151924, 0.004991719499230385, 0.014975158497691154, 0.024958597496151924, 0.012192243710160255, 0.07315346598625183, 0.012192243710160255, 0.02438448742032051, 0.8656493425369263, 0.012192243710160255, 0.10512733459472656, 0.017521223053336143, 0.017521223053336143, 0.8059762120246887, 0.017521223053336143, 0.03504244610667229, 0.15199194848537445, 0.03377598896622658, 0.03377598896622658, 0.7599597573280334, 0.008443997241556644, 0.008443997241556644, 0.012388772331178188, 0.012388772331178188, 0.0991101786494255, 0.012388772331178188, 0.8424365520477295, 0.018583158031105995, 0.010266903787851334, 0.005133451893925667, 0.056467972695827484, 0.005133451893925667, 0.9163212180137634, 0.0077001783065497875, 0.8449520468711853, 0.03184492513537407, 0.08067381381988525, 0.012737970799207687, 0.01910695619881153, 0.010614975355565548, 0.11848960071802139, 0.14123830199241638, 0.2666016221046448, 0.2566183805465698, 0.12634526193141937, 0.09066745638847351, 0.037411775439977646, 0.0026722694747149944, 0.010689077898859978, 0.0026722694747149944, 0.0026722694747149944, 0.9406388998031616, 0.013342346996068954, 0.09149038046598434, 0.32212236523628235, 0.03812099248170853, 0.5184454917907715, 0.017154445871710777, 0.00265958858653903, 0.007978765293955803, 0.029255473986268044, 0.01063835434615612, 0.9481433033943176, 0.00265958858653903, 0.8026400208473206, 0.060358528047800064, 0.057790081948041916, 0.035958271473646164, 0.029965227469801903, 0.013270314782857895, 0.9069546461105347, 0.008891711942851543, 0.004445855971425772, 0.04445856064558029, 0.017783423885703087, 0.013337568379938602, 0.8651255965232849, 0.06272567808628082, 0.03095553070306778, 0.004887715447694063, 0.022809337824583054, 0.01384852733463049, 0.8921213746070862, 0.04188546910881996, 0.030141878873109818, 0.007046153768897057, 0.0250529907643795, 0.0035230768844485283, 0.11236640065908432, 0.12072423100471497, 0.29438140988349915, 0.09379344433546066, 0.048289693892002106, 0.3305986523628235, 0.0038202591240406036, 0.05093678832054138, 0.0369291715323925, 0.02546839416027069, 0.005093678832054138, 0.8786596059799194, 0.536769688129425, 0.08705631643533707, 0.14478349685668945, 0.09264281392097473, 0.08053872734308243, 0.058192722499370575, 0.9239282011985779, 0.010999145917594433, 0.010999145917594433, 0.010999145917594433, 0.032997436821460724, 0.010999145917594433, 0.6702322363853455, 0.027843475341796875, 0.10275568068027496, 0.0848563089966774, 0.062316350638866425, 0.051709312945604324, 0.3857315480709076, 0.1859743297100067, 0.1070532500743866, 0.1597302407026291, 0.09855695813894272, 0.06306134909391403, 0.030121352523565292, 0.015060676261782646, 0.04518203064799309, 0.8584585785865784, 0.04518203064799309, 0.015060676261782646, 0.024006109684705734, 0.03720946982502937, 0.25206416845321655, 0.5353362560272217, 0.10442657768726349, 0.046811915934085846, 0.014345274306833744, 0.007172637153416872, 0.932442843914032, 0.014345274306833744, 0.007172637153416872, 0.021517911925911903, 0.007977589033544064, 0.004786553326994181, 0.02712380141019821, 0.8647705912590027, 0.0869557186961174, 0.007977589033544064, 0.2892434895038605, 0.17403633892536163, 0.009804864414036274, 0.04534749686717987, 0.43754205107688904, 0.04534749686717987, 0.2812962532043457, 0.15864349901676178, 0.00426206411793828, 0.036464326083660126, 0.49013739824295044, 0.028887324035167694, 0.5279581546783447, 0.09146644175052643, 0.13025283813476562, 0.13025283813476562, 0.041102007031440735, 0.07930950820446014, 0.02097511664032936, 0.11746065318584442, 0.14682582020759583, 0.03775520995259285, 0.008390046656131744, 0.6712037324905396, 0.5276378989219666, 0.04809695482254028, 0.10095598548650742, 0.11000392585992813, 0.1614343374967575, 0.05143040791153908, 0.08681611716747284, 0.08082879334688187, 0.11375904828310013, 0.041911229491233826, 0.10777173191308975, 0.5687952041625977, 0.006980066653341055, 0.01396013330668211, 0.05758554860949516, 0.006980066653341055, 0.07329069823026657, 0.8393530249595642, 0.019323738291859627, 0.038647476583719254, 0.019323738291859627, 0.038647476583719254, 0.8502444624900818, 0.019323738291859627, 0.22273899614810944, 0.10181913524866104, 0.20379231870174408, 0.14017461240291595, 0.13678577542304993, 0.194704070687294, 0.11643525213003159, 0.03577958419919014, 0.06973986327648163, 0.18011078238487244, 0.22256113588809967, 0.3747759759426117, 0.01070327777415514, 0.02675819583237171, 0.01070327777415514, 0.12843933701515198, 0.8134491443634033, 0.01070327777415514, 0.026659714058041573, 0.026659714058041573, 0.026659714058041573, 0.026659714058041573, 0.026659714058041573, 0.8797705173492432, 0.010932252742350101, 0.565992534160614, 0.13516239821910858, 0.08199189603328705, 0.06112122908234596, 0.14460389316082, 0.24172523617744446, 0.21218103170394897, 0.27843165397644043, 0.0966900885105133, 0.1056428775191307, 0.06505691260099411, 0.030010877177119255, 0.7022545337677002, 0.08553099632263184, 0.09753534942865372, 0.05702066421508789, 0.028510332107543945, 0.03574337065219879, 0.007148674223572016, 0.8792869448661804, 0.014297348447144032, 0.007148674223572016, 0.05004071816802025, 0.07328233867883682, 0.13938014209270477, 0.6437350511550903, 0.011495268903672695, 0.09052523970603943, 0.04167034849524498, 0.00670330785214901, 0.931759774684906, 0.01340661570429802, 0.00670330785214901, 0.02681323140859604, 0.00670330785214901, 0.01341816782951355, 0.030190875753760338, 0.006709083914756775, 0.9258535504341125, 0.016772709786891937, 0.006709083914756775, 0.024369554594159126, 0.024369554594159126, 0.036554332822561264, 0.04873910918831825, 0.8529344201087952, 0.012184777297079563, 0.017804045230150223, 0.017804045230150223, 0.8723981976509094, 0.035608090460300446, 0.035608090460300446, 0.035608090460300446, 0.8037172555923462, 0.07449598610401154, 0.04196957126259804, 0.0314771793782711, 0.023083264008164406, 0.025181742385029793, 0.9540810585021973, 0.008332585915923119, 0.008332585915923119, 0.008332585915923119, 0.008332585915923119, 0.016665171831846237, 0.1846839189529419, 0.08989040553569794, 0.3679150640964508, 0.1372871696949005, 0.16380029916763306, 0.05647660046815872, 0.018760118633508682, 0.037520237267017365, 0.8817256093025208, 0.018760118633508682, 0.018760118633508682, 0.018760118633508682, 0.12630745768547058, 0.05228541046380997, 0.40124645829200745, 0.1251325011253357, 0.24145285785198212, 0.054047841578722, 0.0039668697863817215, 0.0039668697863817215, 0.9718831181526184, 0.0039668697863817215, 0.0039668697863817215, 0.011900610290467739, 0.027375785633921623, 0.018250523135066032, 0.012167016044259071, 0.009125261567533016, 0.92469322681427, 0.009125261567533016, 0.04308858513832092, 0.06463287770748138, 0.02154429256916046, 0.01077214628458023, 0.01077214628458023, 0.8402274250984192, 0.012977919541299343, 0.038933757692575455, 0.060563623905181885, 0.012977919541299343, 0.8695206046104431, 0.004325972869992256, 0.8097460865974426, 0.005236453376710415, 0.03379892557859421, 0.08663950115442276, 0.034751009196043015, 0.02999059669673443, 0.020813217386603355, 0.10406608879566193, 0.006937738973647356, 0.013875477947294712, 0.7631512880325317, 0.09019061177968979, 0.25533464550971985, 0.08511155098676682, 0.16067788004875183, 0.07954350113868713, 0.3539685904979706, 0.06522567570209503, 0.045698054134845734, 0.01015512365847826, 0.00507756182923913, 0.003385041141882539, 0.9308863282203674, 0.00507756182923913, 0.021364863961935043, 0.007121621165424585, 0.9258107542991638, 0.007121621165424585, 0.02848648466169834, 0.01424324233084917, 0.9554604887962341, 0.007767971605062485, 0.007767971605062485, 0.0038839858025312424, 0.007767971605062485, 0.01553594321012497, 0.9188681244850159, 0.014585208147764206, 0.014585208147764206, 0.014585208147764206, 0.014585208147764206, 0.014585208147764206, 0.42347148060798645, 0.09447094053030014, 0.18180163204669952, 0.09300627559423447, 0.12522892653942108, 0.0818381980061531, 0.04030974209308624, 0.21036645770072937, 0.3816828727722168, 0.15158142149448395, 0.14612281322479248, 0.07012215256690979, 0.00883804727345705, 0.0353521890938282, 0.8661286234855652, 0.06186633184552193, 0.0176760945469141, 0.00883804727345705, 0.0076820868998765945, 0.06529773771762848, 0.42251479625701904, 0.01920521818101406, 0.015364173799753189, 0.4686073064804077, 0.01434691995382309, 0.07173459976911545, 0.22955071926116943, 0.01434691995382309, 0.11477535963058472, 0.5595299005508423, 0.007784164510667324, 0.3870852589607239, 0.24555499851703644, 0.03821317106485367, 0.0651039183139801, 0.2547544538974762, 0.003278416348621249, 0.31800636649131775, 0.05081545189023018, 0.004098020493984222, 0.011474456638097763, 0.6114246249198914, 0.005293793510645628, 0.9581766128540039, 0.010587587021291256, 0.005293793510645628, 0.010587587021291256, 0.010587587021291256, 0.17170658707618713, 0.08980470150709152, 0.4885375499725342, 0.06274355202913284, 0.13099512457847595, 0.05579865351319313, 0.16463226079940796, 0.10876426845788956, 0.5610572099685669, 0.011886805295944214, 0.07964159548282623, 0.07369819283485413, 0.27076297998428345, 0.015927234664559364, 0.007963617332279682, 0.02389085292816162, 0.007963617332279682, 0.6689438819885254, 0.002831387799233198, 0.13024383783340454, 0.08918871730566025, 0.014156939461827278, 0.7559805512428284, 0.007078469730913639, 0.4732436239719391, 0.08244289457798004, 0.21413739025592804, 0.09207908064126968, 0.08815322816371918, 0.050322286784648895, 0.9517524838447571, 0.01044242549687624, 0.01939307525753975, 0.004475325345993042, 0.007458875421434641, 0.005967100150883198, 0.20079217851161957, 0.00692386832088232, 0.010385802946984768, 0.7166203856468201, 0.01384773664176464, 0.051929011940956116, 0.04844259098172188, 0.04844259098172188, 0.01211064774543047, 0.8114134073257446, 0.03633194416761398, 0.04844259098172188, 0.11837583780288696, 0.006576435174793005, 0.0460350476205349, 0.006576435174793005, 0.7825958132743835, 0.039458613842725754, 0.03920309990644455, 0.01306769996881485, 0.03920309990644455, 0.0261353999376297, 0.849400520324707, 0.03920309990644455, 0.016389871016144753, 0.032779742032289505, 0.06555948406457901, 0.016389871016144753, 0.09833922982215881, 0.7539340853691101, 0.04595356434583664, 0.02297678217291832, 0.02297678217291832, 0.02297678217291832, 0.8501409888267517, 0.02297678217291832, 0.01031091995537281, 0.9279828071594238, 0.01031091995537281, 0.01031091995537281, 0.01031091995537281, 0.02062183991074562, 0.08850289136171341, 0.19439028203487396, 0.2847369909286499, 0.17437176406383514, 0.16673313081264496, 0.09113691002130508, 0.011821573600172997, 0.006448131054639816, 0.14293356239795685, 0.8307341933250427, 0.003224065527319908, 0.004298754036426544, 0.014638339169323444, 0.014638339169323444, 0.9075770378112793, 0.02927667833864689, 0.02927667833864689, 0.014638339169323444, 0.08011501282453537, 0.011445002630352974, 0.011445002630352974, 0.022890005260705948, 0.022890005260705948, 0.8583751916885376, 0.004200566094368696, 0.060908205807209015, 0.03150424361228943, 0.010501415468752384, 0.8191103935241699, 0.07350990176200867, 0.013178789988160133, 0.006589394994080067, 0.909336507320404, 0.006589394994080067, 0.006589394994080067, 0.05271515995264053, 0.02633613348007202, 0.02633613348007202, 0.02633613348007202, 0.02633613348007202, 0.8427562713623047, 0.02633613348007202, 0.08995198458433151, 0.07924341410398483, 0.5427103042602539, 0.1225060373544693, 0.0835268422961235, 0.08224181085824966, 0.0545080341398716, 0.5250213742256165, 0.19535678625106812, 0.10116691142320633, 0.07631124556064606, 0.04796706885099411, 0.010742763057351112, 0.13846227526664734, 0.038196489214897156, 0.0226791650056839, 0.7878025770187378, 0.0011936402879655361, 0.04147449508309364, 0.02073724754154682, 0.04147449508309364, 0.8294898867607117, 0.04147449508309364, 0.02073724754154682, 0.012415245175361633, 0.006207622587680817, 0.05586860328912735, 0.006207622587680817, 0.012415245175361633, 0.9001052379608154, 0.025128118693828583, 0.012564059346914291, 0.037692178040742874, 0.8417919874191284, 0.025128118693828583, 0.050256237387657166, 0.015336522832512856, 0.015336522832512856, 0.8895183205604553, 0.015336522832512856, 0.015336522832512856, 0.03067304566502571, 0.9129779934883118, 0.01733502559363842, 0.011556684039533138, 0.011556684039533138, 0.03467005118727684, 0.01733502559363842, 0.02768867462873459, 0.8623044490814209, 0.019777623936533928, 0.031644199043512344, 0.015822099521756172, 0.04351077601313591, 0.012105588801205158, 0.9563415050506592, 0.006052794400602579, 0.012105588801205158, 0.006052794400602579, 0.012105588801205158, 0.7629950642585754, 0.04436017945408821, 0.06844142079353333, 0.05069734901189804, 0.04816247895359993, 0.026616107672452927, 0.9357219338417053, 0.010088645853102207, 0.005044322926551104, 0.015132969245314598, 0.030265938490629196, 0.005044322926551104, 0.015308826230466366, 0.03061765246093273, 0.8879119753837585, 0.015308826230466366, 0.015308826230466366, 0.015308826230466366, 0.015338980592787266, 0.015338980592787266, 0.8743218779563904, 0.03067796118557453, 0.015338980592787266, 0.03067796118557453, 0.09389970451593399, 0.10126438736915588, 0.009205853566527367, 0.0276175606995821, 0.7364682555198669, 0.0312999002635479, 0.004509797785431147, 0.11725474148988724, 0.006764696445316076, 0.02029408887028694, 0.8298027515411377, 0.02029408887028694, 0.014643958769738674, 0.014643958769738674, 0.07321979850530624, 0.014643958769738674, 0.8639935851097107, 0.014643958769738674, 0.04149143397808075, 0.004610159434378147, 0.013830477371811867, 0.9082013964653015, 0.01844063773751259, 0.009220318868756294, 0.16097526252269745, 0.08896001428365707, 0.2694217562675476, 0.00931962113827467, 0.46682828664779663, 0.005083429627120495, 0.0033323601819574833, 0.048319220542907715, 0.7181236147880554, 0.02832506038248539, 0.19161070883274078, 0.01166325993835926, 0.7204191088676453, 0.02734263986349106, 0.10382277518510818, 0.05072258040308952, 0.05785544216632843, 0.040023285895586014, 0.008972286246716976, 0.053833719342947006, 0.021533487364649773, 0.8882563710212708, 0.023327944800257683, 0.0035889146383851767, 0.01305125467479229, 0.01305125467479229, 0.07830752432346344, 0.7634983658790588, 0.01305125467479229, 0.11746129393577576, 0.03959549218416214, 0.5349995493888855, 0.16666939854621887, 0.07458686083555222, 0.07734933495521545, 0.10589492321014404, 0.040024250745773315, 0.1668480932712555, 0.4479822814464569, 0.1480415165424347, 0.10319506376981735, 0.094032883644104, 0.11273369938135147, 0.08925826102495193, 0.22598335146903992, 0.2848009169101715, 0.14498017728328705, 0.14240045845508575, 0.011904173530638218, 0.023808347061276436, 0.011904173530638218, 0.011904173530638218, 0.011904173530638218, 0.9166213870048523, 0.20324832201004028, 0.10481806099414825, 0.1747935563325882, 0.23838123679161072, 0.20557115972042084, 0.07316939532756805, 0.027152322232723236, 0.006788080558180809, 0.09163908660411835, 0.8371965885162354, 0.02149558812379837, 0.015838854014873505, 0.19021520018577576, 0.004662137478590012, 0.014918839558959007, 0.2051340490579605, 0.5333485007286072, 0.05128351226449013, 0.020906347781419754, 0.020906347781419754, 0.8885197639465332, 0.04181269556283951, 0.01567975990474224, 0.010453173890709877, 0.04914107918739319, 0.012285269796848297, 0.012285269796848297, 0.8722541928291321, 0.012285269796848297, 0.04914107918739319, 0.05824105441570282, 0.5121946930885315, 0.18125486373901367, 0.04953211173415184, 0.13444429636001587, 0.06422845274209976, 0.0057432749308645725, 0.9591269493103027, 0.011486549861729145, 0.011486549861729145, 0.0057432749308645725, 0.011486549861729145, 0.0321553498506546, 0.016381027176976204, 0.09100570529699326, 0.08069172501564026, 0.10860013961791992, 0.6710153818130493, 0.1607629358768463, 0.07349163293838501, 0.022966133430600166, 0.6889840364456177, 0.013779680244624615, 0.036745816469192505, 0.003960363566875458, 0.9544476270675659, 0.003960363566875458, 0.009900908917188644, 0.007920727133750916, 0.01980181783437729, 0.008089588023722172, 0.938392162322998, 0.008089588023722172, 0.016179176047444344, 0.008089588023722172, 0.016179176047444344, 0.024925602599978447, 0.19940482079982758, 0.024925602599978447, 0.024925602599978447, 0.024925602599978447, 0.6729912757873535, 0.008159253746271133, 0.0020398134365677834, 0.7282134294509888, 0.0122388806194067, 0.2202998548746109, 0.028557388111948967, 0.01144862174987793, 0.01144862174987793, 0.9158897399902344, 0.02289724349975586, 0.03434586524963379, 0.01144862174987793, 0.013834154233336449, 0.9130541682243347, 0.013834154233336449, 0.013834154233336449, 0.013834154233336449, 0.027668308466672897, 0.05224283039569855, 0.7133848667144775, 0.11349304765462875, 0.05584578216075897, 0.03602953627705574, 0.02882363088428974, 0.029119273647665977, 0.012479688972234726, 0.1705557405948639, 0.020799482241272926, 0.7071823477745056, 0.06239844486117363, 0.027912002056837082, 0.010467001236975193, 0.02442300133407116, 0.010467001236975193, 0.8966730833053589, 0.031401000916957855, 0.07764799892902374, 0.1585313379764557, 0.13911934196949005, 0.06147133558988571, 0.11647199839353561, 0.4432406723499298, 0.7775541543960571, 0.04499409347772598, 0.07170933485031128, 0.07311540096998215, 0.01546671986579895, 0.018278850242495537, 0.9390724897384644, 0.02517101541161537, 0.005808696150779724, 0.011617392301559448, 0.009681159630417824, 0.007744927890598774, 0.8550865054130554, 0.01599651575088501, 0.030538804829120636, 0.08725372701883316, 0.004362686071544886, 0.0072711436077952385, 0.9243517518043518, 0.008519371040165424, 0.012779057025909424, 0.03833717107772827, 0.008519371040165424, 0.004259685520082712, 0.917299211025238, 0.00890581775456667, 0.01781163550913334, 0.00890581775456667, 0.047497693449258804, 0.0029686058405786753, 0.027048762887716293, 0.027048762887716293, 0.05409752577543259, 0.027048762887716293, 0.13524381816387177, 0.7303165793418884, 0.08145354688167572, 0.553913414478302, 0.07017310708761215, 0.11485536396503448, 0.04512174800038338, 0.13448625802993774, 0.19249531626701355, 0.011549718677997589, 0.023099437355995178, 0.011549718677997589, 0.7468818426132202, 0.007699812762439251, 0.7581055164337158, 0.04936501011252403, 0.0528910830616951, 0.06435081362724304, 0.045838937163352966, 0.028208578005433083, 0.049712732434272766, 0.10652728378772736, 0.09942546486854553, 0.07812000811100006, 0.06865091621875763, 0.5965527892112732, 0.011594421230256557, 0.051530759781599045, 0.006441344972699881, 0.025765379890799522, 0.037359800189733505, 0.868293285369873, 0.014034093357622623, 0.056136373430490494, 0.15437501668930054, 0.12630683183670044, 0.028068186715245247, 0.6315341591835022, 0.007323688827455044, 0.014647377654910088, 0.014647377654910088, 0.021971065551042557, 0.007323688827455044, 0.9374321699142456, 0.0547858402132988, 0.11840810626745224, 0.5151636004447937, 0.1069207489490509, 0.16111749410629272, 0.04359303414821625, 0.02671028859913349, 0.07384609431028366, 0.4815707802772522, 0.14454980194568634, 0.21368230879306793, 0.0589197538793087, 0.006602696143090725, 0.0726296603679657, 0.8781586289405823, 0.01320539228618145, 0.01980808936059475, 0.006602696143090725, 0.004627544898539782, 0.07172694802284241, 0.8977437019348145, 0.01156886201351881, 0.01156886201351881, 0.002313772449269891, 0.01705857552587986, 0.01705857552587986, 0.08529287576675415, 0.01705857552587986, 0.23882004618644714, 0.6311672925949097, 0.016544828191399574, 0.1985379457473755, 0.1985379457473755, 0.061452221125364304, 0.45025569200515747, 0.07445172965526581, 0.08097090572118759, 0.0345475859940052, 0.06369711458683014, 0.02699030190706253, 0.7546488642692566, 0.038866035640239716, 0.01946200802922249, 0.005406113341450691, 0.006487335544079542, 0.00756855821236968, 0.954719603061676, 0.006487335544079542, 0.731406033039093, 0.0635320395231247, 0.12653902173042297, 0.029928315430879593, 0.03412878140807152, 0.014701628126204014, 0.00393719132989645, 0.01181157398968935, 0.9134284257888794, 0.019685957580804825, 0.0472462959587574, 0.00393719132989645, 0.9447550773620605, 0.004895104095339775, 0.0195804163813591, 0.004895104095339775, 0.004895104095339775, 0.0195804163813591, 0.9221002459526062, 0.012896507047116756, 0.012896507047116756, 0.012896507047116756, 0.03224126622080803, 0.006448253523558378, 0.16987016797065735, 0.05839286744594574, 0.015925327315926552, 0.7378735542297363, 0.005308442749083042, 0.005308442749083042, 0.21764741837978363, 0.008535192348062992, 0.07681673020124435, 0.08961952477693558, 0.021337982267141342, 0.5803930759429932, 0.257883757352829, 0.05123891308903694, 0.15709513425827026, 0.2894154191017151, 0.13006801903247833, 0.11430219560861588, 0.022168869152665138, 0.044337738305330276, 0.022168869152665138, 0.011084434576332569, 0.8867547512054443, 0.011084434576332569, 0.15746915340423584, 0.09380339831113815, 0.47391435503959656, 0.029007475823163986, 0.2030523419380188, 0.04294613376259804, 0.019346607849001884, 0.009673303924500942, 0.019346607849001884, 0.009673303924500942, 0.8899439573287964, 0.058039821684360504, 0.05516165494918823, 0.5208626985549927, 0.13180218636989594, 0.1352192759513855, 0.0463748425245285, 0.11032330989837646, 0.011349382810294628, 0.9306493997573853, 0.011349382810294628, 0.011349382810294628, 0.011349382810294628, 0.022698765620589256, 0.14153903722763062, 0.34926068782806396, 0.2119809240102768, 0.11237937957048416, 0.09861864149570465, 0.08649608492851257, 0.11045803874731064, 0.2011735737323761, 0.3763570189476013, 0.10945841670036316, 0.11670566350221634, 0.08571743965148926, 0.09223528206348419, 0.43710365891456604, 0.1805456578731537, 0.09786097705364227, 0.11460724472999573, 0.07771313190460205, 0.008942247368395329, 0.9389359354972839, 0.008942247368395329, 0.017884494736790657, 0.008942247368395329, 0.017884494736790657, 0.30373409390449524, 0.10250553488731384, 0.3124338388442993, 0.11952674388885498, 0.10099253803491592, 0.06014162302017212, 0.8144530653953552, 0.044276416301727295, 0.0605887807905674, 0.07224047183990479, 0.004660675302147865, 0.0034955067094415426, 0.2714686691761017, 0.3344494104385376, 0.1293742060661316, 0.14224958419799805, 0.05522448569536209, 0.06732422858476639, 0.08712495118379593, 0.01936110109090805, 0.009680550545454025, 0.014520825818181038, 0.8712495565414429, 0.004840275272727013, 0.011315775103867054, 0.18482433259487152, 0.03394732624292374, 0.7430692315101624, 0.007543850224465132, 0.0188596248626709, 0.2761531174182892, 0.20586465299129486, 0.16349709033966064, 0.16085779666900635, 0.11946261674165726, 0.07417795062065125, 0.014445191249251366, 0.03611297905445099, 0.014445191249251366, 0.8197646141052246, 0.10833893716335297, 0.007222595624625683, 0.00814617145806551, 0.03258468583226204, 0.01629234291613102, 0.9042249917984009, 0.01629234291613102, 0.024438513442873955, 0.04171258583664894, 0.8705235123634338, 0.021763088181614876, 0.03083104081451893, 0.016322316601872444, 0.019949497655034065, 0.004291999153792858, 0.871275782585144, 0.051503986120224, 0.047211989760398865, 0.012875996530056, 0.008583998307585716, 0.9080922603607178, 0.04555647075176239, 0.0060741957277059555, 0.018222587183117867, 0.02125968597829342, 0.0030370978638529778, 0.026101011782884598, 0.026101011782884598, 0.03480134904384613, 0.008700337260961533, 0.8961347341537476, 0.008700337260961533, 0.00872792862355709, 0.01745585724711418, 0.00872792862355709, 0.03491171449422836, 0.9164324998855591, 0.00872792862355709, 0.020467670634388924, 0.04093534126877785, 0.020467670634388924, 0.020467670634388924, 0.8596421480178833, 0.04093534126877785, 0.008896905928850174, 0.053381435573101044, 0.29359787702560425, 0.035587623715400696, 0.026690717786550522, 0.5782988667488098, 0.0071065970696508884, 0.08172586560249329, 0.028426388278603554, 0.6751267313957214, 0.12081214785575867, 0.09238576143980026, 0.2173142284154892, 0.031512610614299774, 0.22509007155895233, 0.24555280804634094, 0.18743863701820374, 0.09249155223369598, 0.037331268191337585, 0.024887511506676674, 0.883506715297699, 0.012443755753338337, 0.024887511506676674, 0.012443755753338337, 0.037049490958452225, 0.07854492217302322, 0.586122989654541, 0.08965977281332016, 0.17042766511440277, 0.03853147104382515, 0.01875421032309532, 0.01875421032309532, 0.9002020955085754, 0.01875421032309532, 0.01875421032309532, 0.01875421032309532, 0.1013428196310997, 0.03231220319867134, 0.6374316811561584, 0.09546787291765213, 0.0998740866780281, 0.035249676555395126, 0.012794239446520805, 0.015353087335824966, 0.8572140336036682, 0.07676544040441513, 0.012794239446520805, 0.028147326782345772, 0.03455282375216484, 0.0609755665063858, 0.591463029384613, 0.10975602269172668, 0.16361777484416962, 0.03963411971926689, 0.15381895005702972, 0.13530370593070984, 0.19512219727039337, 0.18277870118618011, 0.16537119448184967, 0.1677449494600296, 0.01680833101272583, 0.08324126154184341, 0.6018983721733093, 0.07923927903175354, 0.017608728259801865, 0.2000991851091385, 0.10440094769001007, 0.02932610921561718, 0.004692177288234234, 0.009384354576468468, 0.8457649946212769, 0.007038266398012638, 0.02223806083202362, 0.24461866915225983, 0.04447612166404724, 0.02223806083202362, 0.02223806083202362, 0.6226657032966614, 0.002744847908616066, 0.04940726235508919, 0.010979391634464264, 0.002744847908616066, 0.03293817490339279, 0.8975652456283569, 0.25308412313461304, 0.2363557666540146, 0.1985820084810257, 0.08998247236013412, 0.1227646917104721, 0.09929100424051285, 0.19572778046131134, 0.13292741775512695, 0.13711410760879517, 0.336505264043808, 0.09106051921844482, 0.10676060616970062, 0.013095399364829063, 0.013095399364829063, 0.026190798729658127, 0.8381055593490601, 0.013095399364829063, 0.09166780114173889, 0.019594956189393997, 0.013996397145092487, 0.03359135240316391, 0.8677765727043152, 0.0027992792893201113, 0.061584144830703735, 0.009195061400532722, 0.004597530700266361, 0.009195061400532722, 0.9562864303588867, 0.013792592100799084, 0.004597530700266361, 0.03984028473496437, 0.018109221011400223, 0.057949505746364594, 0.8619988560676575, 0.010865531861782074, 0.010865531861782074, 0.05811081826686859, 0.2945162057876587, 0.35680922865867615, 0.07087758928537369, 0.13823330402374268, 0.08188342303037643, 0.5076187252998352, 0.15237577259540558, 0.1821296215057373, 0.06371531635522842, 0.05319627746939659, 0.040873974561691284, 0.1635003685951233, 0.38523373007774353, 0.19149699807167053, 0.10554732382297516, 0.08287005126476288, 0.07139142602682114, 0.011109584011137486, 0.9220954179763794, 0.02221916802227497, 0.011109584011137486, 0.02221916802227497, 0.02221916802227497, 0.8884831070899963, 0.009908733889460564, 0.006605822127312422, 0.029726199805736542, 0.019817467778921127, 0.046240758150815964, 0.027236074209213257, 0.027236074209213257, 0.027236074209213257, 0.8443182706832886, 0.054472148418426514, 0.027236074209213257, 0.09394730627536774, 0.3658251166343689, 0.14993610978126526, 0.27567365765571594, 0.061682574450969696, 0.05314191058278084, 0.006524939555674791, 0.009134914726018906, 0.019574817270040512, 0.951336145401001, 0.006524939555674791, 0.007829926908016205, 0.06490721553564072, 0.03548261150717735, 0.7607125639915466, 0.04673319309949875, 0.062310926616191864, 0.031155463308095932, 0.02913724072277546, 0.03810254484415054, 0.9032544493675232, 0.0067239785566926, 0.008965305052697659, 0.0134479571133852, 0.004699524492025375, 0.0035246433690190315, 0.9716266393661499, 0.008224167861044407, 0.004699524492025375, 0.005874405615031719, 0.9514357447624207, 0.0043844967149198055, 0.0073074945248663425, 0.011691991239786148, 0.002922997809946537, 0.021922482177615166, 0.13711224496364594, 0.21074317395687103, 0.3530225157737732, 0.11219952255487442, 0.1341596245765686, 0.05277806520462036, 0.005343868397176266, 0.021375473588705063, 0.8603628277778625, 0.010687736794352531, 0.09618963301181793, 0.005343868397176266, 0.01597890630364418, 0.005326302256435156, 0.910797655582428, 0.010652604512870312, 0.021305209025740623, 0.03728411719202995, 0.9301702976226807, 0.006675863638520241, 0.037829894572496414, 0.008901151828467846, 0.008901151828467846, 0.006675863638520241, 0.02074589394032955, 0.02074589394032955, 0.0414917878806591, 0.8505816459655762, 0.0414917878806591, 0.02074589394032955], \"Term\": [\"able_choose\", \"able_choose\", \"able_choose\", \"able_choose\", \"able_choose\", \"able_choose\", \"about\", \"about\", \"about\", \"about\", \"about\", \"about\", \"above_beyond\", \"above_beyond\", \"above_beyond\", \"above_beyond\", \"above_beyond\", \"above_beyond\", \"absolutely_love\", \"absolutely_love\", \"absolutely_love\", \"absolutely_love\", \"absolutely_love\", \"absolutely_love\", \"account\", \"account\", \"account\", \"account\", \"account\", \"account\", \"after\", \"after\", \"after\", \"after\", \"after\", \"after\", \"agent\", \"agent\", \"agent\", \"agent\", \"agent\", \"agent\", \"already_recommended\", \"already_recommended\", \"already_recommended\", \"already_recommended\", \"already_recommended\", \"already_recommended\", \"also\", \"also\", \"also\", \"also\", \"also\", \"also\", \"always\", \"always\", \"always\", \"always\", \"always\", \"always\", \"answer_question\", \"answer_question\", \"answer_question\", \"answer_question\", \"answer_question\", \"answer_question\", \"bean\", \"bean\", \"bean\", \"bean\", \"bean\", \"bean\", \"because\", \"because\", \"because\", \"because\", \"because\", \"because\", \"been_lifesaver\", \"been_lifesaver\", \"been_lifesaver\", \"been_lifesaver\", \"been_lifesaver\", \"been_lifesaver\", \"before_covid\", \"before_covid\", \"before_covid\", \"before_covid\", \"before_covid\", \"before_covid\", \"being_able\", \"being_able\", \"being_able\", \"being_able\", \"being_able\", \"being_able\", \"being_charged\", \"being_charged\", \"being_charged\", \"being_charged\", \"being_charged\", \"being_charged\", \"best_decision\", \"best_decision\", \"best_decision\", \"best_decision\", \"best_decision\", \"best_decision\", \"better\", \"better\", \"better\", \"better\", \"better\", \"better\", \"better_than\", \"better_than\", \"better_than\", \"better_than\", \"better_than\", \"better_than\", \"beyond_expectation\", \"beyond_expectation\", \"beyond_expectation\", \"beyond_expectation\", \"beyond_expectation\", \"beyond_expectation\", \"blue_apron\", \"blue_apron\", \"blue_apron\", \"blue_apron\", \"blue_apron\", \"blue_apron\", \"box\", \"box\", \"box\", \"box\", \"box\", \"box\", \"breast\", \"breast\", \"breast\", \"breast\", \"breast\", \"breast\", \"busy_lifestyle\", \"busy_lifestyle\", \"busy_lifestyle\", \"busy_lifestyle\", \"busy_lifestyle\", \"busy_lifestyle\", \"busy_schedule\", \"busy_schedule\", \"busy_schedule\", \"busy_schedule\", \"busy_schedule\", \"busy_schedule\", \"butter_sugar\", \"butter_sugar\", \"butter_sugar\", \"butter_sugar\", \"butter_sugar\", \"butter_sugar\", \"call\", \"call\", \"call\", \"call\", \"call\", \"call\", \"called\", \"called\", \"called\", \"called\", \"called\", \"called\", \"called_customer\", \"called_customer\", \"called_customer\", \"called_customer\", \"called_customer\", \"called_customer\", \"calorie\", \"calorie\", \"calorie\", \"calorie\", \"calorie\", \"calorie\", \"cancel\", \"cancel\", \"cancel\", \"cancel\", \"cancel\", \"cancel\", \"cancel_account\", \"cancel_account\", \"cancel_account\", \"cancel_account\", \"cancel_account\", \"cancel_account\", \"canceled\", \"canceled\", \"canceled\", \"canceled\", \"canceled\", \"canceled\", \"canceled_subscription\", \"canceled_subscription\", \"canceled_subscription\", \"canceled_subscription\", \"canceled_subscription\", \"canceled_subscription\", \"cancelled\", \"cancelled\", \"cancelled\", \"cancelled\", \"cancelled\", \"cancelled\", \"carb\", \"carb\", \"carb\", \"carb\", \"carb\", \"carb\", \"carb_option\", \"carb_option\", \"carb_option\", \"carb_option\", \"carb_option\", \"carb_option\", \"carbs\", \"carbs\", \"carbs\", \"carbs\", \"carbs\", \"carbs\", \"card\", \"card\", \"card\", \"card\", \"card\", \"card\", \"carrot\", \"carrot\", \"carrot\", \"carrot\", \"carrot\", \"carrot\", \"changed_life\", \"changed_life\", \"changed_life\", \"changed_life\", \"changed_life\", \"changed_life\", \"charged\", \"charged\", \"charged\", \"charged\", \"charged\", \"charged\", \"chat\", \"chat\", \"chat\", \"chat\", \"chat\", \"chat\", \"chicken\", \"chicken\", \"chicken\", \"chicken\", \"chicken\", \"chicken\", \"chicken_breast\", \"chicken_breast\", \"chicken_breast\", \"chicken_breast\", \"chicken_breast\", \"chicken_breast\", \"choose\", \"choose\", \"choose\", \"choose\", \"choose\", \"choose\", \"choose_from\", \"choose_from\", \"choose_from\", \"choose_from\", \"choose_from\", \"choose_from\", \"classic_plan\", \"classic_plan\", \"classic_plan\", \"classic_plan\", \"classic_plan\", \"classic_plan\", \"clear_instruction\", \"clear_instruction\", \"clear_instruction\", \"clear_instruction\", \"clear_instruction\", \"clear_instruction\", \"come_home\", \"come_home\", \"come_home\", \"come_home\", \"come_home\", \"come_home\", \"coming_back\", \"coming_back\", \"coming_back\", \"coming_back\", \"coming_back\", \"coming_back\", \"company\", \"company\", \"company\", \"company\", \"company\", \"company\", \"complaint\", \"complaint\", \"complaint\", \"complaint\", \"complaint\", \"complaint\", \"confidence_kitchen\", \"confidence_kitchen\", \"confidence_kitchen\", \"confidence_kitchen\", \"confidence_kitchen\", \"confidence_kitchen\", \"contacted\", \"contacted\", \"contacted\", \"contacted\", \"contacted\", \"contacted\", \"contacted_customer\", \"contacted_customer\", \"contacted_customer\", \"contacted_customer\", \"contacted_customer\", \"contacted_customer\", \"continue\", \"continue\", \"continue\", \"continue\", \"continue\", \"continue\", \"cook\", \"cook\", \"cook\", \"cook\", \"cook\", \"cook\", \"cooking\", \"cooking\", \"cooking\", \"cooking\", \"cooking\", \"cooking\", \"cooking_technique\", \"cooking_technique\", \"cooking_technique\", \"cooking_technique\", \"cooking_technique\", \"cooking_technique\", \"cost_effective\", \"cost_effective\", \"cost_effective\", \"cost_effective\", \"cost_effective\", \"cost_effective\", \"could\", \"could\", \"could\", \"could\", \"could\", \"could\", \"could_fresher\", \"could_fresher\", \"could_fresher\", \"could_fresher\", \"could_fresher\", \"could_fresher\", \"couldn_happier\", \"couldn_happier\", \"couldn_happier\", \"couldn_happier\", \"couldn_happier\", \"couldn_happier\", \"cream\", \"cream\", \"cream\", \"cream\", \"cream\", \"cream\", \"credit\", \"credit\", \"credit\", \"credit\", \"credit\", \"credit\", \"credit_account\", \"credit_account\", \"credit_account\", \"credit_account\", \"credit_account\", \"credit_account\", \"credit_card\", \"credit_card\", \"credit_card\", \"credit_card\", \"credit_card\", \"credit_card\", \"customer\", \"customer\", \"customer\", \"customer\", \"customer\", \"customer\", \"customer_service\", \"customer_service\", \"customer_service\", \"customer_service\", \"customer_service\", \"customer_service\", \"customer_support\", \"customer_support\", \"customer_support\", \"customer_support\", \"customer_support\", \"customer_support\", \"cut_down\", \"cut_down\", \"cut_down\", \"cut_down\", \"cut_down\", \"cut_down\", \"day_late\", \"day_late\", \"day_late\", \"day_late\", \"day_late\", \"day_late\", \"day_later\", \"day_later\", \"day_later\", \"day_later\", \"day_later\", \"day_later\", \"delicious\", \"delicious\", \"delicious\", \"delicious\", \"delicious\", \"delicious\", \"delivered_door\", \"delivered_door\", \"delivered_door\", \"delivered_door\", \"delivered_door\", \"delivered_door\", \"delivered_right\", \"delivered_right\", \"delivered_right\", \"delivered_right\", \"delivered_right\", \"delivered_right\", \"delivery\", \"delivery\", \"delivery\", \"delivery\", \"delivery\", \"delivery\", \"delivery_date\", \"delivery_date\", \"delivery_date\", \"delivery_date\", \"delivery_date\", \"delivery_date\", \"dinner\", \"dinner\", \"dinner\", \"dinner\", \"dinner\", \"dinner\", \"direction\", \"direction\", \"direction\", \"direction\", \"direction\", \"direction\", \"direction_easy_follow\", \"direction_easy_follow\", \"direction_easy_follow\", \"direction_easy_follow\", \"direction_easy_follow\", \"direction_easy_follow\", \"during_covid\", \"during_covid\", \"during_covid\", \"during_covid\", \"during_covid\", \"during_covid\", \"during_these\", \"during_these\", \"during_these\", \"during_these\", \"during_these\", \"during_these\", \"each\", \"each\", \"each\", \"each\", \"each\", \"each\", \"each_week\", \"each_week\", \"each_week\", \"each_week\", \"each_week\", \"each_week\", \"ease_preparation\", \"ease_preparation\", \"ease_preparation\", \"ease_preparation\", \"ease_preparation\", \"ease_preparation\", \"easier\", \"easier\", \"easier\", \"easier\", \"easier\", \"easier\", \"easy_follow\", \"easy_follow\", \"easy_follow\", \"easy_follow\", \"easy_follow\", \"easy_follow\", \"easy_prepare\", \"easy_prepare\", \"easy_prepare\", \"easy_prepare\", \"easy_prepare\", \"easy_prepare\", \"eating\", \"eating\", \"eating\", \"eating\", \"eating\", \"eating\", \"eating_healthier\", \"eating_healthier\", \"eating_healthier\", \"eating_healthier\", \"eating_healthier\", \"eating_healthier\", \"email\", \"email\", \"email\", \"email\", \"email\", \"email\", \"empty_nester\", \"empty_nester\", \"empty_nester\", \"empty_nester\", \"empty_nester\", \"empty_nester\", \"enjoy\", \"enjoy\", \"enjoy\", \"enjoy\", \"enjoy\", \"enjoy\", \"enjoyed\", \"enjoyed\", \"enjoyed\", \"enjoyed\", \"enjoyed\", \"enjoyed\", \"entire_family\", \"entire_family\", \"entire_family\", \"entire_family\", \"entire_family\", \"entire_family\", \"even_picky\", \"even_picky\", \"even_picky\", \"even_picky\", \"even_picky\", \"even_picky\", \"even_though\", \"even_though\", \"even_though\", \"even_though\", \"even_though\", \"even_though\", \"every\", \"every\", \"every\", \"every\", \"every\", \"every\", \"every_night\", \"every_night\", \"every_night\", \"every_night\", \"every_night\", \"every_night\", \"every_penny\", \"every_penny\", \"every_penny\", \"every_penny\", \"every_penny\", \"every_penny\", \"everything\", \"everything\", \"everything\", \"everything\", \"everything\", \"everything\", \"everything_need\", \"everything_need\", \"everything_need\", \"everything_need\", \"everything_need\", \"everything_need\", \"excellent\", \"excellent\", \"excellent\", \"excellent\", \"excellent\", \"excellent\", \"except_salt\", \"except_salt\", \"except_salt\", \"except_salt\", \"except_salt\", \"except_salt\", \"extremely_happy\", \"extremely_happy\", \"extremely_happy\", \"extremely_happy\", \"extremely_happy\", \"extremely_happy\", \"fact_that\", \"fact_that\", \"fact_that\", \"fact_that\", \"fact_that\", \"fact_that\", \"family\", \"family\", \"family\", \"family\", \"family\", \"family\", \"feel_like\", \"feel_like\", \"feel_like\", \"feel_like\", \"feel_like\", \"feel_like\", \"final_product\", \"final_product\", \"final_product\", \"final_product\", \"final_product\", \"final_product\", \"first\", \"first\", \"first\", \"first\", \"first\", \"first\", \"five_star\", \"five_star\", \"five_star\", \"five_star\", \"five_star\", \"five_star\", \"flavor_combination\", \"flavor_combination\", \"flavor_combination\", \"flavor_combination\", \"flavor_combination\", \"flavor_combination\", \"flavor_texture\", \"flavor_texture\", \"flavor_texture\", \"flavor_texture\", \"flavor_texture\", \"flavor_texture\", \"follow\", \"follow\", \"follow\", \"follow\", \"follow\", \"follow\", \"foreseeable_future\", \"foreseeable_future\", \"foreseeable_future\", \"foreseeable_future\", \"foreseeable_future\", \"foreseeable_future\", \"from\", \"from\", \"from\", \"from\", \"from\", \"from\", \"fruit_vegetable\", \"fruit_vegetable\", \"fruit_vegetable\", \"fruit_vegetable\", \"fruit_vegetable\", \"fruit_vegetable\", \"game_changer\", \"game_changer\", \"game_changer\", \"game_changer\", \"game_changer\", \"game_changer\", \"gave_credit\", \"gave_credit\", \"gave_credit\", \"gave_credit\", \"gave_credit\", \"gave_credit\", \"gift_card\", \"gift_card\", \"gift_card\", \"gift_card\", \"gift_card\", \"gift_card\", \"give_credit\", \"give_credit\", \"give_credit\", \"give_credit\", \"give_credit\", \"give_credit\", \"given_star\", \"given_star\", \"given_star\", \"given_star\", \"given_star\", \"given_star\", \"glad_decided\", \"glad_decided\", \"glad_decided\", \"glad_decided\", \"glad_decided\", \"glad_decided\", \"glad_tried\", \"glad_tried\", \"glad_tried\", \"glad_tried\", \"glad_tried\", \"glad_tried\", \"gluten\", \"gluten\", \"gluten\", \"gluten\", \"gluten\", \"gluten\", \"gluten_free\", \"gluten_free\", \"gluten_free\", \"gluten_free\", \"gluten_free\", \"gluten_free\", \"going_grocery\", \"going_grocery\", \"going_grocery\", \"going_grocery\", \"going_grocery\", \"going_grocery\", \"good\", \"good\", \"good\", \"good\", \"good\", \"good\", \"great_tasting\", \"great_tasting\", \"great_tasting\", \"great_tasting\", \"great_tasting\", \"great_tasting\", \"green\", \"green\", \"green\", \"green\", \"green\", \"green\", \"green_bean\", \"green_bean\", \"green_bean\", \"green_bean\", \"green_bean\", \"green_bean\", \"grocery\", \"grocery\", \"grocery\", \"grocery\", \"grocery\", \"grocery\", \"grocery_bill\", \"grocery_bill\", \"grocery_bill\", \"grocery_bill\", \"grocery_bill\", \"grocery_bill\", \"grocery_shopping\", \"grocery_shopping\", \"grocery_shopping\", \"grocery_shopping\", \"grocery_shopping\", \"grocery_shopping\", \"grocery_store\", \"grocery_store\", \"grocery_store\", \"grocery_store\", \"grocery_store\", \"grocery_store\", \"happy\", \"happy\", \"happy\", \"happy\", \"happy\", \"happy\", \"happy_with\", \"happy_with\", \"happy_with\", \"happy_with\", \"happy_with\", \"happy_with\", \"having\", \"having\", \"having\", \"having\", \"having\", \"having\", \"having_decide\", \"having_decide\", \"having_decide\", \"having_decide\", \"having_decide\", \"having_decide\", \"healthy\", \"healthy\", \"healthy\", \"healthy\", \"healthy\", \"healthy\", \"hellofresh\", \"hellofresh\", \"hellofresh\", \"hellofresh\", \"hellofresh\", \"hellofresh\", \"helped_learn\", \"helped_learn\", \"helped_learn\", \"helped_learn\", \"helped_learn\", \"helped_learn\", \"high\", \"high\", \"high\", \"high\", \"high\", \"high\", \"high_calorie\", \"high_calorie\", \"high_calorie\", \"high_calorie\", \"high_calorie\", \"high_calorie\", \"high_quality\", \"high_quality\", \"high_quality\", \"high_quality\", \"high_quality\", \"high_quality\", \"highly\", \"highly\", \"highly\", \"highly\", \"highly\", \"highly\", \"highly_recommend\", \"highly_recommend\", \"highly_recommend\", \"highly_recommend\", \"highly_recommend\", \"highly_recommend\", \"home\", \"home\", \"home\", \"home\", \"home\", \"home\", \"home_chef\", \"home_chef\", \"home_chef\", \"home_chef\", \"home_chef\", \"home_chef\", \"husband\", \"husband\", \"husband\", \"husband\", \"husband\", \"husband\", \"impressed\", \"impressed\", \"impressed\", \"impressed\", \"impressed\", \"impressed\", \"impressed_with\", \"impressed_with\", \"impressed_with\", \"impressed_with\", \"impressed_with\", \"impressed_with\", \"inexperienced_cook\", \"inexperienced_cook\", \"inexperienced_cook\", \"inexperienced_cook\", \"inexperienced_cook\", \"inexperienced_cook\", \"ingredient\", \"ingredient\", \"ingredient\", \"ingredient\", \"ingredient\", \"ingredient\", \"instruction\", \"instruction\", \"instruction\", \"instruction\", \"instruction\", \"instruction\", \"instruction_clear\", \"instruction_clear\", \"instruction_clear\", \"instruction_clear\", \"instruction_clear\", \"instruction_clear\", \"instruction_easy_follow\", \"instruction_easy_follow\", \"instruction_easy_follow\", \"instruction_easy_follow\", \"instruction_easy_follow\", \"instruction_easy_follow\", \"issue\", \"issue\", \"issue\", \"issue\", \"issue\", \"issue\", \"just\", \"just\", \"just\", \"just\", \"just\", \"just\", \"late\", \"late\", \"late\", \"late\", \"late\", \"late\", \"le_expensive\", \"le_expensive\", \"le_expensive\", \"le_expensive\", \"le_expensive\", \"le_expensive\", \"le_than\", \"le_than\", \"le_than\", \"le_than\", \"le_than\", \"le_than\", \"leaked_over\", \"leaked_over\", \"leaked_over\", \"leaked_over\", \"leaked_over\", \"leaked_over\", \"learn_cook\", \"learn_cook\", \"learn_cook\", \"learn_cook\", \"learn_cook\", \"learn_cook\", \"learning_technique\", \"learning_technique\", \"learning_technique\", \"learning_technique\", \"learning_technique\", \"learning_technique\", \"lemon_lime\", \"lemon_lime\", \"lemon_lime\", \"lemon_lime\", \"lemon_lime\", \"lemon_lime\", \"life\", \"life\", \"life\", \"life\", \"life\", \"life\", \"life_much\", \"life_much\", \"life_much\", \"life_much\", \"life_much\", \"life_much\", \"like\", \"like\", \"like\", \"like\", \"like\", \"like\", \"limp_carrot\", \"limp_carrot\", \"limp_carrot\", \"limp_carrot\", \"limp_carrot\", \"limp_carrot\", \"little\", \"little\", \"little\", \"little\", \"little\", \"little\", \"little_expensive\", \"little_expensive\", \"little_expensive\", \"little_expensive\", \"little_expensive\", \"little_expensive\", \"little_pricey\", \"little_pricey\", \"little_pricey\", \"little_pricey\", \"little_pricey\", \"little_pricey\", \"long_term\", \"long_term\", \"long_term\", \"long_term\", \"long_term\", \"long_term\", \"longer_than\", \"longer_than\", \"longer_than\", \"longer_than\", \"longer_than\", \"longer_than\", \"look_forward\", \"look_forward\", \"look_forward\", \"look_forward\", \"look_forward\", \"look_forward\", \"looking_forward\", \"looking_forward\", \"looking_forward\", \"looking_forward\", \"looking_forward\", \"looking_forward\", \"loved\", \"loved\", \"loved\", \"loved\", \"loved\", \"loved\", \"loved_every\", \"loved_every\", \"loved_every\", \"loved_every\", \"loved_every\", \"loved_every\", \"lower_calorie\", \"lower_calorie\", \"lower_calorie\", \"lower_calorie\", \"lower_calorie\", \"lower_calorie\", \"made_life\", \"made_life\", \"made_life\", \"made_life\", \"made_life\", \"made_life\", \"made_life_much_easier\", \"made_life_much_easier\", \"made_life_much_easier\", \"made_life_much_easier\", \"made_life_much_easier\", \"made_life_much_easier\", \"make\", \"make\", \"make\", \"make\", \"make\", \"make\", \"meat\", \"meat\", \"meat\", \"meat\", \"meat\", \"meat\", \"meat_seafood\", \"meat_seafood\", \"meat_seafood\", \"meat_seafood\", \"meat_seafood\", \"meat_seafood\", \"menu_selection\", \"menu_selection\", \"menu_selection\", \"menu_selection\", \"menu_selection\", \"menu_selection\", \"minor_issue\", \"minor_issue\", \"minor_issue\", \"minor_issue\", \"minor_issue\", \"minor_issue\", \"missing\", \"missing\", \"missing\", \"missing\", \"missing\", \"missing\", \"missing_ingredient\", \"missing_ingredient\", \"missing_ingredient\", \"missing_ingredient\", \"missing_ingredient\", \"missing_ingredient\", \"money_back\", \"money_back\", \"money_back\", \"money_back\", \"money_back\", \"money_back\", \"more\", \"more\", \"more\", \"more\", \"more\", \"more\", \"more_than\", \"more_than\", \"more_than\", \"more_than\", \"more_than\", \"more_than\", \"most_importantly\", \"most_importantly\", \"most_importantly\", \"most_importantly\", \"most_importantly\", \"most_importantly\", \"most_part\", \"most_part\", \"most_part\", \"most_part\", \"most_part\", \"most_part\", \"much\", \"much\", \"much\", \"much\", \"much\", \"much\", \"much_easier\", \"much_easier\", \"much_easier\", \"much_easier\", \"much_easier\", \"much_easier\", \"never_thought\", \"never_thought\", \"never_thought\", \"never_thought\", \"never_thought\", \"never_thought\", \"nicely_packaged\", \"nicely_packaged\", \"nicely_packaged\", \"nicely_packaged\", \"nicely_packaged\", \"nicely_packaged\", \"normally_wouldn\", \"normally_wouldn\", \"normally_wouldn\", \"normally_wouldn\", \"normally_wouldn\", \"normally_wouldn\", \"novice_cook\", \"novice_cook\", \"novice_cook\", \"novice_cook\", \"novice_cook\", \"novice_cook\", \"nutritional_information\", \"nutritional_information\", \"nutritional_information\", \"nutritional_information\", \"nutritional_information\", \"nutritional_information\", \"olive_butter\", \"olive_butter\", \"olive_butter\", \"olive_butter\", \"olive_butter\", \"olive_butter\", \"online_chat\", \"online_chat\", \"online_chat\", \"online_chat\", \"online_chat\", \"online_chat\", \"only\", \"only\", \"only\", \"only\", \"only\", \"only\", \"only_complaint\", \"only_complaint\", \"only_complaint\", \"only_complaint\", \"only_complaint\", \"only_complaint\", \"only_downfall\", \"only_downfall\", \"only_downfall\", \"only_downfall\", \"only_downfall\", \"only_downfall\", \"only_drawback\", \"only_drawback\", \"only_drawback\", \"only_drawback\", \"only_drawback\", \"only_drawback\", \"only_reason\", \"only_reason\", \"only_reason\", \"only_reason\", \"only_reason\", \"only_reason\", \"only_suggestion\", \"only_suggestion\", \"only_suggestion\", \"only_suggestion\", \"only_suggestion\", \"only_suggestion\", \"opened_eye\", \"opened_eye\", \"opened_eye\", \"opened_eye\", \"opened_eye\", \"opened_eye\", \"option\", \"option\", \"option\", \"option\", \"option\", \"option\", \"order\", \"order\", \"order\", \"order\", \"order\", \"order\", \"other_than\", \"other_than\", \"other_than\", \"other_than\", \"other_than\", \"other_than\", \"outside_comfort\", \"outside_comfort\", \"outside_comfort\", \"outside_comfort\", \"outside_comfort\", \"outside_comfort\", \"packaged_well\", \"packaged_well\", \"packaged_well\", \"packaged_well\", \"packaged_well\", \"packaged_well\", \"packing_material\", \"packing_material\", \"packing_material\", \"packing_material\", \"packing_material\", \"packing_material\", \"pasta_dish\", \"pasta_dish\", \"pasta_dish\", \"pasta_dish\", \"pasta_dish\", \"pasta_dish\", \"perfectly_portioned\", \"perfectly_portioned\", \"perfectly_portioned\", \"perfectly_portioned\", \"perfectly_portioned\", \"perfectly_portioned\", \"phone\", \"phone\", \"phone\", \"phone\", \"phone\", \"phone\", \"phone_call\", \"phone_call\", \"phone_call\", \"phone_call\", \"phone_call\", \"phone_call\", \"planning\", \"planning\", \"planning\", \"planning\", \"planning\", \"planning\", \"planning_shopping\", \"planning_shopping\", \"planning_shopping\", \"planning_shopping\", \"planning_shopping\", \"planning_shopping\", \"plant_based\", \"plant_based\", \"plant_based\", \"plant_based\", \"plant_based\", \"plant_based\", \"plastic_bag\", \"plastic_bag\", \"plastic_bag\", \"plastic_bag\", \"plastic_bag\", \"plastic_bag\", \"pleased\", \"pleased\", \"pleased\", \"pleased\", \"pleased\", \"pleased\", \"pleased_with\", \"pleased_with\", \"pleased_with\", \"pleased_with\", \"pleased_with\", \"pleased_with\", \"pork_tenderloin\", \"pork_tenderloin\", \"pork_tenderloin\", \"pork_tenderloin\", \"pork_tenderloin\", \"pork_tenderloin\", \"portion_generous\", \"portion_generous\", \"portion_generous\", \"portion_generous\", \"portion_generous\", \"portion_generous\", \"portion_size\", \"portion_size\", \"portion_size\", \"portion_size\", \"portion_size\", \"portion_size\", \"potato\", \"potato\", \"potato\", \"potato\", \"potato\", \"potato\", \"prepare\", \"prepare\", \"prepare\", \"prepare\", \"prepare\", \"prepare\", \"pretty_good\", \"pretty_good\", \"pretty_good\", \"pretty_good\", \"pretty_good\", \"pretty_good\", \"price_point\", \"price_point\", \"price_point\", \"price_point\", \"price_point\", \"price_point\", \"problem\", \"problem\", \"problem\", \"problem\", \"problem\", \"problem\", \"produce\", \"produce\", \"produce\", \"produce\", \"produce\", \"produce\", \"quality\", \"quality\", \"quality\", \"quality\", \"quality\", \"quality\", \"quick_respond\", \"quick_respond\", \"quick_respond\", \"quick_respond\", \"quick_respond\", \"quick_respond\", \"really\", \"really\", \"really\", \"really\", \"really\", \"really\", \"really_enjoy\", \"really_enjoy\", \"really_enjoy\", \"really_enjoy\", \"really_enjoy\", \"really_enjoy\", \"really_enjoyed\", \"really_enjoyed\", \"really_enjoyed\", \"really_enjoyed\", \"really_enjoyed\", \"really_enjoyed\", \"reasonable_price\", \"reasonable_price\", \"reasonable_price\", \"reasonable_price\", \"reasonable_price\", \"reasonable_price\", \"reasonably_priced\", \"reasonably_priced\", \"reasonably_priced\", \"reasonably_priced\", \"reasonably_priced\", \"reasonably_priced\", \"received\", \"received\", \"received\", \"received\", \"received\", \"received\", \"received_email\", \"received_email\", \"received_email\", \"received_email\", \"received_email\", \"received_email\", \"recipe_card\", \"recipe_card\", \"recipe_card\", \"recipe_card\", \"recipe_card\", \"recipe_card\", \"recommend_anyone\", \"recommend_anyone\", \"recommend_anyone\", \"recommend_anyone\", \"recommend_anyone\", \"recommend_anyone\", \"refund\", \"refund\", \"refund\", \"refund\", \"refund\", \"refund\", \"refund_money\", \"refund_money\", \"refund_money\", \"refund_money\", \"refund_money\", \"refund_money\", \"resolved_quickly\", \"resolved_quickly\", \"resolved_quickly\", \"resolved_quickly\", \"resolved_quickly\", \"resolved_quickly\", \"restaurant_quality\", \"restaurant_quality\", \"restaurant_quality\", \"restaurant_quality\", \"restaurant_quality\", \"restaurant_quality\", \"rice_potato\", \"rice_potato\", \"rice_potato\", \"rice_potato\", \"rice_potato\", \"rice_potato\", \"rude\", \"rude\", \"rude\", \"rude\", \"rude\", \"rude\", \"said\", \"said\", \"said\", \"said\", \"said\", \"said\", \"salt\", \"salt\", \"salt\", \"salt\", \"salt\", \"salt\", \"salt_pepper\", \"salt_pepper\", \"salt_pepper\", \"salt_pepper\", \"salt_pepper\", \"salt_pepper\", \"satisfied\", \"satisfied\", \"satisfied\", \"satisfied\", \"satisfied\", \"satisfied\", \"save\", \"save\", \"save\", \"save\", \"save\", \"save\", \"save_money\", \"save_money\", \"save_money\", \"save_money\", \"save_money\", \"save_money\", \"save_time\", \"save_time\", \"save_time\", \"save_time\", \"save_time\", \"save_time\", \"saved_money\", \"saved_money\", \"saved_money\", \"saved_money\", \"saved_money\", \"saved_money\", \"saving_money\", \"saving_money\", \"saving_money\", \"saving_money\", \"saving_money\", \"saving_money\", \"separate_bag\", \"separate_bag\", \"separate_bag\", \"separate_bag\", \"separate_bag\", \"separate_bag\", \"service\", \"service\", \"service\", \"service\", \"service\", \"service\", \"serving_size\", \"serving_size\", \"serving_size\", \"serving_size\", \"serving_size\", \"serving_size\", \"shopping\", \"shopping\", \"shopping\", \"shopping\", \"shopping\", \"shopping\", \"skip\", \"skip\", \"skip\", \"skip\", \"skip\", \"skip\", \"skip_week\", \"skip_week\", \"skip_week\", \"skip_week\", \"skip_week\", \"skip_week\", \"skipping\", \"skipping\", \"skipping\", \"skipping\", \"skipping\", \"skipping\", \"skipping_week\", \"skipping_week\", \"skipping_week\", \"skipping_week\", \"skipping_week\", \"skipping_week\", \"some\", \"some\", \"some\", \"some\", \"some\", \"some\", \"sometimes\", \"sometimes\", \"sometimes\", \"sometimes\", \"sometimes\", \"sometimes\", \"sour\", \"sour\", \"sour\", \"sour\", \"sour\", \"sour\", \"sour_cream\", \"sour_cream\", \"sour_cream\", \"sour_cream\", \"sour_cream\", \"sour_cream\", \"spice_packet\", \"spice_packet\", \"spice_packet\", \"spice_packet\", \"spice_packet\", \"spice_packet\", \"star\", \"star\", \"star\", \"star\", \"star\", \"star\", \"step\", \"step\", \"step\", \"step\", \"step\", \"step\", \"step_step\", \"step_step\", \"step_step\", \"step_step\", \"step_step\", \"step_step\", \"store\", \"store\", \"store\", \"store\", \"store\", \"store\", \"sweet_potato\", \"sweet_potato\", \"sweet_potato\", \"sweet_potato\", \"sweet_potato\", \"sweet_potato\", \"take_guess\", \"take_guess\", \"take_guess\", \"take_guess\", \"take_guess\", \"take_guess\", \"take_stress\", \"take_stress\", \"take_stress\", \"take_stress\", \"take_stress\", \"take_stress\", \"taken_care\", \"taken_care\", \"taken_care\", \"taken_care\", \"taken_care\", \"taken_care\", \"tasting\", \"tasting\", \"tasting\", \"tasting\", \"tasting\", \"tasting\", \"tasty\", \"tasty\", \"tasty\", \"tasty\", \"tasty\", \"tasty\", \"taught_cook\", \"taught_cook\", \"taught_cook\", \"taught_cook\", \"taught_cook\", \"taught_cook\", \"than\", \"than\", \"than\", \"than\", \"than\", \"than\", \"than_expected\", \"than_expected\", \"than_expected\", \"than_expected\", \"than_expected\", \"than_expected\", \"their\", \"their\", \"their\", \"their\", \"their\", \"their\", \"their_system\", \"their_system\", \"their_system\", \"their_system\", \"their_system\", \"their_system\", \"them\", \"them\", \"them\", \"them\", \"them\", \"them\", \"there\", \"there\", \"there\", \"there\", \"there\", \"there\", \"they\", \"they\", \"they\", \"they\", \"they\", \"they\", \"they_refused\", \"they_refused\", \"they_refused\", \"they_refused\", \"they_refused\", \"they_refused\", \"thing\", \"thing\", \"thing\", \"thing\", \"thing\", \"thing\", \"think_about\", \"think_about\", \"think_about\", \"think_about\", \"think_about\", \"think_about\", \"this\", \"this\", \"this\", \"this\", \"this\", \"this\", \"thoroughly_enjoyed\", \"thoroughly_enjoyed\", \"thoroughly_enjoyed\", \"thoroughly_enjoyed\", \"thoroughly_enjoyed\", \"thoroughly_enjoyed\", \"throw_away\", \"throw_away\", \"throw_away\", \"throw_away\", \"throw_away\", \"throw_away\", \"time\", \"time\", \"time\", \"time\", \"time\", \"time\", \"time_consuming\", \"time_consuming\", \"time_consuming\", \"time_consuming\", \"time_consuming\", \"time_consuming\", \"timely_manner\", \"timely_manner\", \"timely_manner\", \"timely_manner\", \"timely_manner\", \"timely_manner\", \"told\", \"told\", \"told\", \"told\", \"told\", \"told\", \"tried_several\", \"tried_several\", \"tried_several\", \"tried_several\", \"tried_several\", \"tried_several\", \"trip_grocery\", \"trip_grocery\", \"trip_grocery\", \"trip_grocery\", \"trip_grocery\", \"trip_grocery\", \"truly_enjoy\", \"truly_enjoy\", \"truly_enjoy\", \"truly_enjoy\", \"truly_enjoy\", \"truly_enjoy\", \"truly_enjoyed\", \"truly_enjoyed\", \"truly_enjoyed\", \"truly_enjoyed\", \"truly_enjoyed\", \"truly_enjoyed\", \"under_ripe\", \"under_ripe\", \"under_ripe\", \"under_ripe\", \"under_ripe\", \"under_ripe\", \"upon_arrival\", \"upon_arrival\", \"upon_arrival\", \"upon_arrival\", \"upon_arrival\", \"upon_arrival\", \"user_friendly\", \"user_friendly\", \"user_friendly\", \"user_friendly\", \"user_friendly\", \"user_friendly\", \"variety\", \"variety\", \"variety\", \"variety\", \"variety\", \"variety\", \"vegan_option\", \"vegan_option\", \"vegan_option\", \"vegan_option\", \"vegan_option\", \"vegan_option\", \"vegetable\", \"vegetable\", \"vegetable\", \"vegetable\", \"vegetable\", \"vegetable\", \"vegetable_fruit\", \"vegetable_fruit\", \"vegetable_fruit\", \"vegetable_fruit\", \"vegetable_fruit\", \"vegetable_fruit\", \"vegetarian\", \"vegetarian\", \"vegetarian\", \"vegetarian\", \"vegetarian\", \"vegetarian\", \"vegetarian_option\", \"vegetarian_option\", \"vegetarian_option\", \"vegetarian_option\", \"vegetarian_option\", \"vegetarian_option\", \"veggie\", \"veggie\", \"veggie\", \"veggie\", \"veggie\", \"veggie\", \"very\", \"very\", \"very\", \"very\", \"very\", \"very\", \"very_happy\", \"very_happy\", \"very_happy\", \"very_happy\", \"very_happy\", \"very_happy\", \"very_pleased\", \"very_pleased\", \"very_pleased\", \"very_pleased\", \"very_pleased\", \"very_pleased\", \"very_responsive\", \"very_responsive\", \"very_responsive\", \"very_responsive\", \"very_responsive\", \"very_responsive\", \"very_satisfied\", \"very_satisfied\", \"very_satisfied\", \"very_satisfied\", \"very_satisfied\", \"very_satisfied\", \"week\", \"week\", \"week\", \"week\", \"week\", \"week\", \"well\", \"well\", \"well\", \"well\", \"well\", \"well\", \"well_organized\", \"well_organized\", \"well_organized\", \"well_organized\", \"well_organized\", \"well_organized\", \"well_packaged\", \"well_packaged\", \"well_packaged\", \"well_packaged\", \"well_packaged\", \"well_packaged\", \"well_packed\", \"well_packed\", \"well_packed\", \"well_packed\", \"well_packed\", \"well_packed\", \"well_worth\", \"well_worth\", \"well_worth\", \"well_worth\", \"well_worth\", \"well_worth\", \"were\", \"were\", \"were\", \"were\", \"were\", \"were\", \"what\", \"what\", \"what\", \"what\", \"what\", \"what\", \"when\", \"when\", \"when\", \"when\", \"when\", \"when\", \"when_called\", \"when_called\", \"when_called\", \"when_called\", \"when_called\", \"when_called\", \"whole_family\", \"whole_family\", \"whole_family\", \"whole_family\", \"whole_family\", \"whole_family\", \"wide_range\", \"wide_range\", \"wide_range\", \"wide_range\", \"wide_range\", \"wide_range\", \"will\", \"will\", \"will\", \"will\", \"will\", \"will\", \"will_continue\", \"will_continue\", \"will_continue\", \"will_continue\", \"will_continue\", \"will_continue\", \"wish\", \"wish\", \"wish\", \"wish\", \"wish\", \"wish\", \"wish_could\", \"wish_could\", \"wish_could\", \"wish_could\", \"wish_could\", \"wish_could\", \"wish_there\", \"wish_there\", \"wish_there\", \"wish_there\", \"wish_there\", \"wish_there\", \"worry_about\", \"worry_about\", \"worry_about\", \"worry_about\", \"worry_about\", \"worry_about\", \"would\", \"would\", \"would\", \"would\", \"would\", \"would\", \"would_prefer\", \"would_prefer\", \"would_prefer\", \"would_prefer\", \"would_prefer\", \"would_prefer\", \"wouldn_normally\", \"wouldn_normally\", \"wouldn_normally\", \"wouldn_normally\", \"wouldn_normally\", \"wouldn_normally\", \"your_door\", \"your_door\", \"your_door\", \"your_door\", \"your_door\", \"your_door\", \"your_fingertip\", \"your_fingertip\", \"your_fingertip\", \"your_fingertip\", \"your_fingertip\", \"your_fingertip\"]}, \"R\": 30, \"lambda.step\": 0.01, \"plot.opts\": {\"xlab\": \"PC1\", \"ylab\": \"PC2\"}, \"topic.order\": [6, 2, 5, 1, 4, 3]};\n",
       "\n",
       "function LDAvis_load_lib(url, callback){\n",
       "  var s = document.createElement('script');\n",
       "  s.src = url;\n",
       "  s.async = true;\n",
       "  s.onreadystatechange = s.onload = callback;\n",
       "  s.onerror = function(){console.warn(\"failed to load library \" + url);};\n",
       "  document.getElementsByTagName(\"head\")[0].appendChild(s);\n",
       "}\n",
       "\n",
       "if(typeof(LDAvis) !== \"undefined\"){\n",
       "   // already loaded: just create the visualization\n",
       "   !function(LDAvis){\n",
       "       new LDAvis(\"#\" + \"ldavis_el499046984327842823360399\", ldavis_el499046984327842823360399_data);\n",
       "   }(LDAvis);\n",
       "}else if(typeof define === \"function\" && define.amd){\n",
       "   // require.js is available: use it to load d3/LDAvis\n",
       "   require.config({paths: {d3: \"https://cdnjs.cloudflare.com/ajax/libs/d3/3.5.5/d3.min\"}});\n",
       "   require([\"d3\"], function(d3){\n",
       "      window.d3 = d3;\n",
       "      LDAvis_load_lib(\"https://cdn.rawgit.com/bmabey/pyLDAvis/files/ldavis.v1.0.0.js\", function(){\n",
       "        new LDAvis(\"#\" + \"ldavis_el499046984327842823360399\", ldavis_el499046984327842823360399_data);\n",
       "      });\n",
       "    });\n",
       "}else{\n",
       "    // require.js not available: dynamically load d3 & LDAvis\n",
       "    LDAvis_load_lib(\"https://cdnjs.cloudflare.com/ajax/libs/d3/3.5.5/d3.min.js\", function(){\n",
       "         LDAvis_load_lib(\"https://cdn.rawgit.com/bmabey/pyLDAvis/files/ldavis.v1.0.0.js\", function(){\n",
       "                 new LDAvis(\"#\" + \"ldavis_el499046984327842823360399\", ldavis_el499046984327842823360399_data);\n",
       "            })\n",
       "         });\n",
       "}\n",
       "</script>"
      ],
      "text/plain": [
       "PreparedData(topic_coordinates=              x         y  topics  cluster       Freq\n",
       "topic                                                \n",
       "5     -0.135280  0.067113       1        1  23.828770\n",
       "1      0.134218  0.044603       2        1  21.299414\n",
       "4      0.013678 -0.068350       3        1  19.939228\n",
       "0     -0.016083 -0.004522       4        1  12.838984\n",
       "3     -0.035221 -0.073841       5        1  12.790242\n",
       "2      0.038688  0.034997       6        1   9.303368, topic_info=                 Term         Freq        Total Category  logprob  loglift\n",
       "48        easy_follow  7070.000000  7070.000000  Default  30.0000  30.0000\n",
       "68   customer_service  7701.000000  7701.000000  Default  29.0000  29.0000\n",
       "49             follow  2813.000000  2813.000000  Default  28.0000  28.0000\n",
       "56       easy_prepare  4185.000000  4185.000000  Default  27.0000  27.0000\n",
       "67           customer  3586.000000  3586.000000  Default  26.0000  26.0000\n",
       "..                ...          ...          ...      ...      ...      ...\n",
       "395              make   447.252289  5461.997070   Topic6  -5.1082  -0.1277\n",
       "275              this   434.102020  6446.416016   Topic6  -5.1380  -0.3232\n",
       "9          everything   352.231049  3204.971680   Topic6  -5.3470   0.1666\n",
       "42               were   371.631134  4543.043945   Topic6  -5.2934  -0.1287\n",
       "52               only   345.892548  3796.486084   Topic6  -5.3652  -0.0209\n",
       "\n",
       "[453 rows x 6 columns], token_table=      Topic      Freq            Term\n",
       "term                                 \n",
       "3872      1  0.021697     able_choose\n",
       "3872      2  0.010848     able_choose\n",
       "3872      3  0.900410     able_choose\n",
       "3872      4  0.021697     able_choose\n",
       "3872      5  0.043393     able_choose\n",
       "...     ...       ...             ...\n",
       "2414      2  0.020746  your_fingertip\n",
       "2414      3  0.041492  your_fingertip\n",
       "2414      4  0.850582  your_fingertip\n",
       "2414      5  0.041492  your_fingertip\n",
       "2414      6  0.020746  your_fingertip\n",
       "\n",
       "[2082 rows x 3 columns], R=30, lambda_step=0.01, plot_opts={'xlab': 'PC1', 'ylab': 'PC2'}, topic_order=[6, 2, 5, 1, 4, 3])"
      ]
     },
     "execution_count": 28,
     "metadata": {},
     "output_type": "execute_result"
    }
   ],
   "source": [
    "import pyLDAvis.gensim\n",
    "import pickle \n",
    "import pyLDAvis\n",
    "# Visualize the topics\n",
    "pyLDAvis.enable_notebook()\n",
    "LDAvis_prepared = pyLDAvis.gensim.prepare(lda_model2, corpus, dictionary)\n",
    "LDAvis_prepared"
   ]
  },
  {
   "cell_type": "code",
   "execution_count": 29,
   "metadata": {},
   "outputs": [
    {
     "data": {
      "text/html": [
       "<div>\n",
       "<style scoped>\n",
       "    .dataframe tbody tr th:only-of-type {\n",
       "        vertical-align: middle;\n",
       "    }\n",
       "\n",
       "    .dataframe tbody tr th {\n",
       "        vertical-align: top;\n",
       "    }\n",
       "\n",
       "    .dataframe thead th {\n",
       "        text-align: right;\n",
       "    }\n",
       "</style>\n",
       "<table border=\"1\" class=\"dataframe\">\n",
       "  <thead>\n",
       "    <tr style=\"text-align: right;\">\n",
       "      <th></th>\n",
       "      <th>Document_No</th>\n",
       "      <th>Dominant_Topic</th>\n",
       "      <th>Topic_Perc_Contrib</th>\n",
       "      <th>Keywords</th>\n",
       "      <th>Text</th>\n",
       "    </tr>\n",
       "  </thead>\n",
       "  <tbody>\n",
       "    <tr>\n",
       "      <th>0</th>\n",
       "      <td>0</td>\n",
       "      <td>1.0</td>\n",
       "      <td>0.4466</td>\n",
       "      <td>customer_service, service, they, customer, thi...</td>\n",
       "      <td>I wish I could give my experience with Hello F...</td>\n",
       "    </tr>\n",
       "    <tr>\n",
       "      <th>1</th>\n",
       "      <td>1</td>\n",
       "      <td>2.0</td>\n",
       "      <td>0.9983</td>\n",
       "      <td>easy_follow, easy_prepare, delicious, follow, ...</td>\n",
       "      <td>Great recipes, easy-to-follow instructions, an...</td>\n",
       "    </tr>\n",
       "    <tr>\n",
       "      <th>2</th>\n",
       "      <td>2</td>\n",
       "      <td>2.0</td>\n",
       "      <td>0.9988</td>\n",
       "      <td>easy_follow, easy_prepare, delicious, follow, ...</td>\n",
       "      <td>A key ingredient was unusable for one of the m...</td>\n",
       "    </tr>\n",
       "    <tr>\n",
       "      <th>3</th>\n",
       "      <td>3</td>\n",
       "      <td>1.0</td>\n",
       "      <td>0.9972</td>\n",
       "      <td>customer_service, service, they, customer, thi...</td>\n",
       "      <td>Hello Fresh has great food and the best custom...</td>\n",
       "    </tr>\n",
       "    <tr>\n",
       "      <th>4</th>\n",
       "      <td>4</td>\n",
       "      <td>0.0</td>\n",
       "      <td>0.9989</td>\n",
       "      <td>like, good, time, very, would, week, ingredien...</td>\n",
       "      <td>Delicious and easy recipes, high-quality ingre...</td>\n",
       "    </tr>\n",
       "    <tr>\n",
       "      <th>5</th>\n",
       "      <td>5</td>\n",
       "      <td>2.0</td>\n",
       "      <td>0.6257</td>\n",
       "      <td>easy_follow, easy_prepare, delicious, follow, ...</td>\n",
       "      <td>HelloFresh is the complete package.  All the i...</td>\n",
       "    </tr>\n",
       "    <tr>\n",
       "      <th>6</th>\n",
       "      <td>6</td>\n",
       "      <td>1.0</td>\n",
       "      <td>0.6427</td>\n",
       "      <td>customer_service, service, they, customer, thi...</td>\n",
       "      <td>I absolutely love HelloFresh!  I've enjoyed ea...</td>\n",
       "    </tr>\n",
       "    <tr>\n",
       "      <th>7</th>\n",
       "      <td>7</td>\n",
       "      <td>1.0</td>\n",
       "      <td>0.8205</td>\n",
       "      <td>customer_service, service, they, customer, thi...</td>\n",
       "      <td>At first I loved this service. Cooking for one...</td>\n",
       "    </tr>\n",
       "    <tr>\n",
       "      <th>8</th>\n",
       "      <td>8</td>\n",
       "      <td>2.0</td>\n",
       "      <td>0.9995</td>\n",
       "      <td>easy_follow, easy_prepare, delicious, follow, ...</td>\n",
       "      <td>We think HelloFresh is fantastic. The recipes ...</td>\n",
       "    </tr>\n",
       "    <tr>\n",
       "      <th>9</th>\n",
       "      <td>9</td>\n",
       "      <td>0.0</td>\n",
       "      <td>0.9995</td>\n",
       "      <td>like, good, time, very, would, week, ingredien...</td>\n",
       "      <td>Given our busy work schedules at the hospital,...</td>\n",
       "    </tr>\n",
       "  </tbody>\n",
       "</table>\n",
       "</div>"
      ],
      "text/plain": [
       "   Document_No  Dominant_Topic  Topic_Perc_Contrib  \\\n",
       "0            0             1.0              0.4466   \n",
       "1            1             2.0              0.9983   \n",
       "2            2             2.0              0.9988   \n",
       "3            3             1.0              0.9972   \n",
       "4            4             0.0              0.9989   \n",
       "5            5             2.0              0.6257   \n",
       "6            6             1.0              0.6427   \n",
       "7            7             1.0              0.8205   \n",
       "8            8             2.0              0.9995   \n",
       "9            9             0.0              0.9995   \n",
       "\n",
       "                                            Keywords  \\\n",
       "0  customer_service, service, they, customer, thi...   \n",
       "1  easy_follow, easy_prepare, delicious, follow, ...   \n",
       "2  easy_follow, easy_prepare, delicious, follow, ...   \n",
       "3  customer_service, service, they, customer, thi...   \n",
       "4  like, good, time, very, would, week, ingredien...   \n",
       "5  easy_follow, easy_prepare, delicious, follow, ...   \n",
       "6  customer_service, service, they, customer, thi...   \n",
       "7  customer_service, service, they, customer, thi...   \n",
       "8  easy_follow, easy_prepare, delicious, follow, ...   \n",
       "9  like, good, time, very, would, week, ingredien...   \n",
       "\n",
       "                                                Text  \n",
       "0  I wish I could give my experience with Hello F...  \n",
       "1  Great recipes, easy-to-follow instructions, an...  \n",
       "2  A key ingredient was unusable for one of the m...  \n",
       "3  Hello Fresh has great food and the best custom...  \n",
       "4  Delicious and easy recipes, high-quality ingre...  \n",
       "5  HelloFresh is the complete package.  All the i...  \n",
       "6  I absolutely love HelloFresh!  I've enjoyed ea...  \n",
       "7  At first I loved this service. Cooking for one...  \n",
       "8  We think HelloFresh is fantastic. The recipes ...  \n",
       "9  Given our busy work schedules at the hospital,...  "
      ]
     },
     "execution_count": 29,
     "metadata": {},
     "output_type": "execute_result"
    }
   ],
   "source": [
    "def format_topics_sentences(ldamodel=lda_model1, corpus=corpus, texts=data.review_text):\n",
    "    # Init output\n",
    "    sent_topics_df = pd.DataFrame()\n",
    "\n",
    "    # Get main topic in each document\n",
    "    for i, row in enumerate(ldamodel[corpus]):\n",
    "        row = sorted(row, key=lambda x: (x[1]), reverse=True)\n",
    "        # Get the Dominant topic, Perc Contribution and Keywords for each document\n",
    "        for j, (topic_num, prop_topic) in enumerate(row):\n",
    "            if j == 0:  # => dominant topic\n",
    "                wp = ldamodel.show_topic(topic_num)\n",
    "                topic_keywords = \", \".join([word for word, prop in wp])\n",
    "                sent_topics_df = sent_topics_df.append(pd.Series([int(topic_num), round(prop_topic,4), topic_keywords]), ignore_index=True)\n",
    "            else:\n",
    "                break\n",
    "    sent_topics_df.columns = ['Dominant_Topic', 'Perc_Contribution', 'Topic_Keywords']\n",
    "\n",
    "    # Add original text to the end of the output\n",
    "    contents = pd.Series(texts)\n",
    "    sent_topics_df = pd.concat([sent_topics_df, contents], axis=1)\n",
    "    return(sent_topics_df)\n",
    "\n",
    "\n",
    "df_topic_sents_keywords = format_topics_sentences(ldamodel=lda_model1, corpus=corpus, texts=data.review_text)\n",
    "\n",
    "# Format\n",
    "df_dominant_topic = df_topic_sents_keywords.reset_index()\n",
    "df_dominant_topic.columns = ['Document_No', 'Dominant_Topic', 'Topic_Perc_Contrib', 'Keywords', 'Text']\n",
    "\n",
    "# Show\n",
    "df_dominant_topic.head(10)"
   ]
  },
  {
   "cell_type": "code",
   "execution_count": 30,
   "metadata": {},
   "outputs": [],
   "source": [
    "data_change_name = data.copy()\n",
    "data_change_name.columns = ['date', 'rating', 'Text', 'polarity', 'subjectivity',\n",
    "       'review_words', 'sentiment']"
   ]
  },
  {
   "cell_type": "code",
   "execution_count": 31,
   "metadata": {},
   "outputs": [],
   "source": [
    "data_final = pd.merge(data_change_name, df_dominant_topic, on='Text', how='left')"
   ]
  },
  {
   "cell_type": "code",
   "execution_count": 32,
   "metadata": {},
   "outputs": [
    {
     "data": {
      "text/html": [
       "<div>\n",
       "<style scoped>\n",
       "    .dataframe tbody tr th:only-of-type {\n",
       "        vertical-align: middle;\n",
       "    }\n",
       "\n",
       "    .dataframe tbody tr th {\n",
       "        vertical-align: top;\n",
       "    }\n",
       "\n",
       "    .dataframe thead th {\n",
       "        text-align: right;\n",
       "    }\n",
       "</style>\n",
       "<table border=\"1\" class=\"dataframe\">\n",
       "  <thead>\n",
       "    <tr style=\"text-align: right;\">\n",
       "      <th></th>\n",
       "      <th>date</th>\n",
       "      <th>rating</th>\n",
       "      <th>Text</th>\n",
       "      <th>polarity</th>\n",
       "      <th>subjectivity</th>\n",
       "      <th>review_words</th>\n",
       "      <th>sentiment</th>\n",
       "      <th>Document_No</th>\n",
       "      <th>Dominant_Topic</th>\n",
       "      <th>Topic_Perc_Contrib</th>\n",
       "      <th>Keywords</th>\n",
       "    </tr>\n",
       "  </thead>\n",
       "  <tbody>\n",
       "    <tr>\n",
       "      <th>0</th>\n",
       "      <td>2020-08-18</td>\n",
       "      <td>3</td>\n",
       "      <td>I wish I could give my experience with Hello F...</td>\n",
       "      <td>0.150000</td>\n",
       "      <td>0.594444</td>\n",
       "      <td>121</td>\n",
       "      <td>3</td>\n",
       "      <td>0</td>\n",
       "      <td>1.0</td>\n",
       "      <td>0.4466</td>\n",
       "      <td>customer_service, service, they, customer, thi...</td>\n",
       "    </tr>\n",
       "    <tr>\n",
       "      <th>1</th>\n",
       "      <td>2020-08-17</td>\n",
       "      <td>4</td>\n",
       "      <td>Great recipes, easy-to-follow instructions, an...</td>\n",
       "      <td>0.366667</td>\n",
       "      <td>0.750000</td>\n",
       "      <td>15</td>\n",
       "      <td>3</td>\n",
       "      <td>1</td>\n",
       "      <td>2.0</td>\n",
       "      <td>0.9983</td>\n",
       "      <td>easy_follow, easy_prepare, delicious, follow, ...</td>\n",
       "    </tr>\n",
       "    <tr>\n",
       "      <th>2</th>\n",
       "      <td>2020-08-17</td>\n",
       "      <td>3</td>\n",
       "      <td>A key ingredient was unusable for one of the m...</td>\n",
       "      <td>0.218056</td>\n",
       "      <td>0.701389</td>\n",
       "      <td>35</td>\n",
       "      <td>3</td>\n",
       "      <td>2</td>\n",
       "      <td>2.0</td>\n",
       "      <td>0.9988</td>\n",
       "      <td>easy_follow, easy_prepare, delicious, follow, ...</td>\n",
       "    </tr>\n",
       "    <tr>\n",
       "      <th>3</th>\n",
       "      <td>2020-08-17</td>\n",
       "      <td>5</td>\n",
       "      <td>Hello Fresh has great food and the best custom...</td>\n",
       "      <td>0.700000</td>\n",
       "      <td>0.516667</td>\n",
       "      <td>11</td>\n",
       "      <td>4</td>\n",
       "      <td>3</td>\n",
       "      <td>1.0</td>\n",
       "      <td>0.9972</td>\n",
       "      <td>customer_service, service, they, customer, thi...</td>\n",
       "    </tr>\n",
       "    <tr>\n",
       "      <th>4</th>\n",
       "      <td>2020-08-16</td>\n",
       "      <td>5</td>\n",
       "      <td>Delicious and easy recipes, high-quality ingre...</td>\n",
       "      <td>0.711111</td>\n",
       "      <td>0.811111</td>\n",
       "      <td>15</td>\n",
       "      <td>4</td>\n",
       "      <td>4</td>\n",
       "      <td>0.0</td>\n",
       "      <td>0.9989</td>\n",
       "      <td>like, good, time, very, would, week, ingredien...</td>\n",
       "    </tr>\n",
       "    <tr>\n",
       "      <th>...</th>\n",
       "      <td>...</td>\n",
       "      <td>...</td>\n",
       "      <td>...</td>\n",
       "      <td>...</td>\n",
       "      <td>...</td>\n",
       "      <td>...</td>\n",
       "      <td>...</td>\n",
       "      <td>...</td>\n",
       "      <td>...</td>\n",
       "      <td>...</td>\n",
       "      <td>...</td>\n",
       "    </tr>\n",
       "    <tr>\n",
       "      <th>28637</th>\n",
       "      <td>2016-04-08</td>\n",
       "      <td>5</td>\n",
       "      <td>My husband and I are amazed with the consisten...</td>\n",
       "      <td>0.462000</td>\n",
       "      <td>0.568000</td>\n",
       "      <td>31</td>\n",
       "      <td>3</td>\n",
       "      <td>30175</td>\n",
       "      <td>0.0</td>\n",
       "      <td>0.6936</td>\n",
       "      <td>like, good, time, very, would, week, ingredien...</td>\n",
       "    </tr>\n",
       "    <tr>\n",
       "      <th>28638</th>\n",
       "      <td>2016-04-08</td>\n",
       "      <td>5</td>\n",
       "      <td>I have been referred to as obsessive about foo...</td>\n",
       "      <td>0.158750</td>\n",
       "      <td>0.333214</td>\n",
       "      <td>121</td>\n",
       "      <td>3</td>\n",
       "      <td>30176</td>\n",
       "      <td>0.0</td>\n",
       "      <td>0.9992</td>\n",
       "      <td>like, good, time, very, would, week, ingredien...</td>\n",
       "    </tr>\n",
       "    <tr>\n",
       "      <th>28639</th>\n",
       "      <td>2016-04-08</td>\n",
       "      <td>4</td>\n",
       "      <td>I enjoy all the recipes but ever once in a whi...</td>\n",
       "      <td>-0.016667</td>\n",
       "      <td>0.266667</td>\n",
       "      <td>32</td>\n",
       "      <td>2</td>\n",
       "      <td>30177</td>\n",
       "      <td>2.0</td>\n",
       "      <td>0.9988</td>\n",
       "      <td>easy_follow, easy_prepare, delicious, follow, ...</td>\n",
       "    </tr>\n",
       "    <tr>\n",
       "      <th>28640</th>\n",
       "      <td>2016-04-08</td>\n",
       "      <td>3</td>\n",
       "      <td>To be honest, I have only received two deliver...</td>\n",
       "      <td>0.238854</td>\n",
       "      <td>0.584896</td>\n",
       "      <td>162</td>\n",
       "      <td>3</td>\n",
       "      <td>30178</td>\n",
       "      <td>1.0</td>\n",
       "      <td>0.3580</td>\n",
       "      <td>customer_service, service, they, customer, thi...</td>\n",
       "    </tr>\n",
       "    <tr>\n",
       "      <th>28641</th>\n",
       "      <td>2016-04-08</td>\n",
       "      <td>4</td>\n",
       "      <td>Food, recipes, delivery, packaging, is absolut...</td>\n",
       "      <td>0.040000</td>\n",
       "      <td>0.703333</td>\n",
       "      <td>24</td>\n",
       "      <td>3</td>\n",
       "      <td>30179</td>\n",
       "      <td>2.0</td>\n",
       "      <td>0.9995</td>\n",
       "      <td>easy_follow, easy_prepare, delicious, follow, ...</td>\n",
       "    </tr>\n",
       "  </tbody>\n",
       "</table>\n",
       "<p>28642 rows × 11 columns</p>\n",
       "</div>"
      ],
      "text/plain": [
       "            date  rating                                               Text  \\\n",
       "0     2020-08-18       3  I wish I could give my experience with Hello F...   \n",
       "1     2020-08-17       4  Great recipes, easy-to-follow instructions, an...   \n",
       "2     2020-08-17       3  A key ingredient was unusable for one of the m...   \n",
       "3     2020-08-17       5  Hello Fresh has great food and the best custom...   \n",
       "4     2020-08-16       5  Delicious and easy recipes, high-quality ingre...   \n",
       "...          ...     ...                                                ...   \n",
       "28637 2016-04-08       5  My husband and I are amazed with the consisten...   \n",
       "28638 2016-04-08       5  I have been referred to as obsessive about foo...   \n",
       "28639 2016-04-08       4  I enjoy all the recipes but ever once in a whi...   \n",
       "28640 2016-04-08       3  To be honest, I have only received two deliver...   \n",
       "28641 2016-04-08       4  Food, recipes, delivery, packaging, is absolut...   \n",
       "\n",
       "       polarity  subjectivity  review_words  sentiment  Document_No  \\\n",
       "0      0.150000      0.594444           121          3            0   \n",
       "1      0.366667      0.750000            15          3            1   \n",
       "2      0.218056      0.701389            35          3            2   \n",
       "3      0.700000      0.516667            11          4            3   \n",
       "4      0.711111      0.811111            15          4            4   \n",
       "...         ...           ...           ...        ...          ...   \n",
       "28637  0.462000      0.568000            31          3        30175   \n",
       "28638  0.158750      0.333214           121          3        30176   \n",
       "28639 -0.016667      0.266667            32          2        30177   \n",
       "28640  0.238854      0.584896           162          3        30178   \n",
       "28641  0.040000      0.703333            24          3        30179   \n",
       "\n",
       "       Dominant_Topic  Topic_Perc_Contrib  \\\n",
       "0                 1.0              0.4466   \n",
       "1                 2.0              0.9983   \n",
       "2                 2.0              0.9988   \n",
       "3                 1.0              0.9972   \n",
       "4                 0.0              0.9989   \n",
       "...               ...                 ...   \n",
       "28637             0.0              0.6936   \n",
       "28638             0.0              0.9992   \n",
       "28639             2.0              0.9988   \n",
       "28640             1.0              0.3580   \n",
       "28641             2.0              0.9995   \n",
       "\n",
       "                                                Keywords  \n",
       "0      customer_service, service, they, customer, thi...  \n",
       "1      easy_follow, easy_prepare, delicious, follow, ...  \n",
       "2      easy_follow, easy_prepare, delicious, follow, ...  \n",
       "3      customer_service, service, they, customer, thi...  \n",
       "4      like, good, time, very, would, week, ingredien...  \n",
       "...                                                  ...  \n",
       "28637  like, good, time, very, would, week, ingredien...  \n",
       "28638  like, good, time, very, would, week, ingredien...  \n",
       "28639  easy_follow, easy_prepare, delicious, follow, ...  \n",
       "28640  customer_service, service, they, customer, thi...  \n",
       "28641  easy_follow, easy_prepare, delicious, follow, ...  \n",
       "\n",
       "[28642 rows x 11 columns]"
      ]
     },
     "execution_count": 32,
     "metadata": {},
     "output_type": "execute_result"
    }
   ],
   "source": [
    "data_final.dropna()"
   ]
  },
  {
   "cell_type": "code",
   "execution_count": 33,
   "metadata": {},
   "outputs": [],
   "source": [
    "data_final.to_csv('./data/hellofresh_by_topic.csv') # exporting dataset"
   ]
  },
  {
   "cell_type": "code",
   "execution_count": 34,
   "metadata": {
    "scrolled": false
   },
   "outputs": [
    {
     "data": {
      "text/html": [
       "<div>\n",
       "<style scoped>\n",
       "    .dataframe tbody tr th:only-of-type {\n",
       "        vertical-align: middle;\n",
       "    }\n",
       "\n",
       "    .dataframe tbody tr th {\n",
       "        vertical-align: top;\n",
       "    }\n",
       "\n",
       "    .dataframe thead tr th {\n",
       "        text-align: left;\n",
       "    }\n",
       "\n",
       "    .dataframe thead tr:last-of-type th {\n",
       "        text-align: right;\n",
       "    }\n",
       "</style>\n",
       "<table border=\"1\" class=\"dataframe\">\n",
       "  <thead>\n",
       "    <tr>\n",
       "      <th></th>\n",
       "      <th colspan=\"8\" halign=\"left\">rating</th>\n",
       "      <th colspan=\"2\" halign=\"left\">polarity</th>\n",
       "      <th>...</th>\n",
       "      <th colspan=\"2\" halign=\"left\">Document_No</th>\n",
       "      <th colspan=\"8\" halign=\"left\">Topic_Perc_Contrib</th>\n",
       "    </tr>\n",
       "    <tr>\n",
       "      <th></th>\n",
       "      <th>count</th>\n",
       "      <th>mean</th>\n",
       "      <th>std</th>\n",
       "      <th>min</th>\n",
       "      <th>25%</th>\n",
       "      <th>50%</th>\n",
       "      <th>75%</th>\n",
       "      <th>max</th>\n",
       "      <th>count</th>\n",
       "      <th>mean</th>\n",
       "      <th>...</th>\n",
       "      <th>75%</th>\n",
       "      <th>max</th>\n",
       "      <th>count</th>\n",
       "      <th>mean</th>\n",
       "      <th>std</th>\n",
       "      <th>min</th>\n",
       "      <th>25%</th>\n",
       "      <th>50%</th>\n",
       "      <th>75%</th>\n",
       "      <th>max</th>\n",
       "    </tr>\n",
       "    <tr>\n",
       "      <th>Dominant_Topic</th>\n",
       "      <th></th>\n",
       "      <th></th>\n",
       "      <th></th>\n",
       "      <th></th>\n",
       "      <th></th>\n",
       "      <th></th>\n",
       "      <th></th>\n",
       "      <th></th>\n",
       "      <th></th>\n",
       "      <th></th>\n",
       "      <th></th>\n",
       "      <th></th>\n",
       "      <th></th>\n",
       "      <th></th>\n",
       "      <th></th>\n",
       "      <th></th>\n",
       "      <th></th>\n",
       "      <th></th>\n",
       "      <th></th>\n",
       "      <th></th>\n",
       "      <th></th>\n",
       "    </tr>\n",
       "  </thead>\n",
       "  <tbody>\n",
       "    <tr>\n",
       "      <th>0.0</th>\n",
       "      <td>10965.0</td>\n",
       "      <td>4.455084</td>\n",
       "      <td>0.919960</td>\n",
       "      <td>1.0</td>\n",
       "      <td>4.0</td>\n",
       "      <td>5.0</td>\n",
       "      <td>5.0</td>\n",
       "      <td>5.0</td>\n",
       "      <td>10965.0</td>\n",
       "      <td>0.360513</td>\n",
       "      <td>...</td>\n",
       "      <td>23048.0</td>\n",
       "      <td>30176.0</td>\n",
       "      <td>10965.0</td>\n",
       "      <td>0.893766</td>\n",
       "      <td>0.171465</td>\n",
       "      <td>0.3333</td>\n",
       "      <td>0.7891</td>\n",
       "      <td>0.9975</td>\n",
       "      <td>0.9989</td>\n",
       "      <td>0.9999</td>\n",
       "    </tr>\n",
       "    <tr>\n",
       "      <th>1.0</th>\n",
       "      <td>6711.0</td>\n",
       "      <td>4.434660</td>\n",
       "      <td>0.936358</td>\n",
       "      <td>1.0</td>\n",
       "      <td>4.0</td>\n",
       "      <td>5.0</td>\n",
       "      <td>5.0</td>\n",
       "      <td>5.0</td>\n",
       "      <td>6711.0</td>\n",
       "      <td>0.355280</td>\n",
       "      <td>...</td>\n",
       "      <td>22405.5</td>\n",
       "      <td>30178.0</td>\n",
       "      <td>6711.0</td>\n",
       "      <td>0.885205</td>\n",
       "      <td>0.173325</td>\n",
       "      <td>0.3425</td>\n",
       "      <td>0.7492</td>\n",
       "      <td>0.9978</td>\n",
       "      <td>0.9992</td>\n",
       "      <td>1.0000</td>\n",
       "    </tr>\n",
       "    <tr>\n",
       "      <th>2.0</th>\n",
       "      <td>10966.0</td>\n",
       "      <td>4.467627</td>\n",
       "      <td>0.893611</td>\n",
       "      <td>1.0</td>\n",
       "      <td>4.0</td>\n",
       "      <td>5.0</td>\n",
       "      <td>5.0</td>\n",
       "      <td>5.0</td>\n",
       "      <td>10966.0</td>\n",
       "      <td>0.359586</td>\n",
       "      <td>...</td>\n",
       "      <td>23143.5</td>\n",
       "      <td>30179.0</td>\n",
       "      <td>10966.0</td>\n",
       "      <td>0.911645</td>\n",
       "      <td>0.159824</td>\n",
       "      <td>0.3489</td>\n",
       "      <td>0.9530</td>\n",
       "      <td>0.9975</td>\n",
       "      <td>0.9988</td>\n",
       "      <td>0.9998</td>\n",
       "    </tr>\n",
       "  </tbody>\n",
       "</table>\n",
       "<p>3 rows × 56 columns</p>\n",
       "</div>"
      ],
      "text/plain": [
       "                 rating                                              polarity  \\\n",
       "                  count      mean       std  min  25%  50%  75%  max    count   \n",
       "Dominant_Topic                                                                  \n",
       "0.0             10965.0  4.455084  0.919960  1.0  4.0  5.0  5.0  5.0  10965.0   \n",
       "1.0              6711.0  4.434660  0.936358  1.0  4.0  5.0  5.0  5.0   6711.0   \n",
       "2.0             10966.0  4.467627  0.893611  1.0  4.0  5.0  5.0  5.0  10966.0   \n",
       "\n",
       "                          ... Document_No          Topic_Perc_Contrib  \\\n",
       "                    mean  ...         75%      max              count   \n",
       "Dominant_Topic            ...                                           \n",
       "0.0             0.360513  ...     23048.0  30176.0            10965.0   \n",
       "1.0             0.355280  ...     22405.5  30178.0             6711.0   \n",
       "2.0             0.359586  ...     23143.5  30179.0            10966.0   \n",
       "\n",
       "                                                                            \n",
       "                    mean       std     min     25%     50%     75%     max  \n",
       "Dominant_Topic                                                              \n",
       "0.0             0.893766  0.171465  0.3333  0.7891  0.9975  0.9989  0.9999  \n",
       "1.0             0.885205  0.173325  0.3425  0.7492  0.9978  0.9992  1.0000  \n",
       "2.0             0.911645  0.159824  0.3489  0.9530  0.9975  0.9988  0.9998  \n",
       "\n",
       "[3 rows x 56 columns]"
      ]
     },
     "execution_count": 34,
     "metadata": {},
     "output_type": "execute_result"
    }
   ],
   "source": [
    "data_final.groupby('Dominant_Topic').describe()"
   ]
  },
  {
   "cell_type": "code",
   "execution_count": 35,
   "metadata": {},
   "outputs": [
    {
     "data": {
      "text/plain": [
       "'Awesome!  Great choices, varied dishes. Puts to end the what’s for dinner tonight question. Love it!'"
      ]
     },
     "execution_count": 35,
     "metadata": {},
     "output_type": "execute_result"
    }
   ],
   "source": [
    "data_final.loc[data_final.Dominant_Topic==0]['Text'].values[300]"
   ]
  },
  {
   "cell_type": "code",
   "execution_count": null,
   "metadata": {},
   "outputs": [],
   "source": []
  },
  {
   "cell_type": "code",
   "execution_count": null,
   "metadata": {},
   "outputs": [],
   "source": []
  },
  {
   "cell_type": "code",
   "execution_count": null,
   "metadata": {},
   "outputs": [],
   "source": []
  },
  {
   "cell_type": "code",
   "execution_count": null,
   "metadata": {},
   "outputs": [],
   "source": []
  },
  {
   "cell_type": "code",
   "execution_count": null,
   "metadata": {},
   "outputs": [],
   "source": []
  },
  {
   "cell_type": "code",
   "execution_count": null,
   "metadata": {},
   "outputs": [],
   "source": []
  },
  {
   "cell_type": "code",
   "execution_count": null,
   "metadata": {},
   "outputs": [],
   "source": []
  },
  {
   "cell_type": "code",
   "execution_count": null,
   "metadata": {},
   "outputs": [],
   "source": []
  },
  {
   "cell_type": "code",
   "execution_count": null,
   "metadata": {},
   "outputs": [],
   "source": []
  },
  {
   "cell_type": "code",
   "execution_count": null,
   "metadata": {},
   "outputs": [],
   "source": []
  },
  {
   "cell_type": "code",
   "execution_count": null,
   "metadata": {},
   "outputs": [],
   "source": []
  },
  {
   "cell_type": "code",
   "execution_count": null,
   "metadata": {},
   "outputs": [],
   "source": []
  },
  {
   "cell_type": "code",
   "execution_count": null,
   "metadata": {},
   "outputs": [],
   "source": []
  },
  {
   "cell_type": "code",
   "execution_count": null,
   "metadata": {},
   "outputs": [],
   "source": []
  },
  {
   "cell_type": "code",
   "execution_count": null,
   "metadata": {},
   "outputs": [],
   "source": []
  },
  {
   "cell_type": "code",
   "execution_count": null,
   "metadata": {},
   "outputs": [],
   "source": []
  },
  {
   "cell_type": "code",
   "execution_count": null,
   "metadata": {},
   "outputs": [],
   "source": []
  },
  {
   "cell_type": "code",
   "execution_count": null,
   "metadata": {},
   "outputs": [],
   "source": []
  },
  {
   "cell_type": "code",
   "execution_count": null,
   "metadata": {},
   "outputs": [],
   "source": []
  },
  {
   "cell_type": "code",
   "execution_count": null,
   "metadata": {},
   "outputs": [],
   "source": []
  },
  {
   "cell_type": "code",
   "execution_count": null,
   "metadata": {},
   "outputs": [],
   "source": []
  },
  {
   "cell_type": "code",
   "execution_count": null,
   "metadata": {},
   "outputs": [],
   "source": []
  },
  {
   "cell_type": "code",
   "execution_count": null,
   "metadata": {},
   "outputs": [],
   "source": []
  },
  {
   "cell_type": "code",
   "execution_count": null,
   "metadata": {},
   "outputs": [],
   "source": []
  },
  {
   "cell_type": "code",
   "execution_count": null,
   "metadata": {},
   "outputs": [],
   "source": []
  },
  {
   "cell_type": "markdown",
   "metadata": {},
   "source": [
    "## 4. Merging datasets"
   ]
  },
  {
   "cell_type": "code",
   "execution_count": null,
   "metadata": {},
   "outputs": [],
   "source": [
    "data_merged = pd.merge(data, df_dominant_topic, on='review_text', how='left')"
   ]
  },
  {
   "cell_type": "code",
   "execution_count": null,
   "metadata": {},
   "outputs": [],
   "source": [
    "data_merged.isna().sum()"
   ]
  },
  {
   "cell_type": "code",
   "execution_count": null,
   "metadata": {},
   "outputs": [],
   "source": [
    "# drop NaNs\n",
    "data_merged.dropna(inplace=True)"
   ]
  },
  {
   "cell_type": "markdown",
   "metadata": {},
   "source": [
    "### 4.1. Average rating by topic"
   ]
  },
  {
   "cell_type": "markdown",
   "metadata": {},
   "source": [
    "Topic doesn't seem to influence the rating or polarity"
   ]
  },
  {
   "cell_type": "code",
   "execution_count": null,
   "metadata": {},
   "outputs": [],
   "source": [
    "data_merged.groupby('Dominant_Topic').rating.mean() # does not change much"
   ]
  },
  {
   "cell_type": "code",
   "execution_count": null,
   "metadata": {
    "scrolled": true
   },
   "outputs": [],
   "source": [
    "data_merged.groupby('Dominant_Topic').polarity.mean()"
   ]
  },
  {
   "cell_type": "code",
   "execution_count": null,
   "metadata": {},
   "outputs": [],
   "source": [
    "data_merged.groupby('Dominant_Topic').sentiment.mean()"
   ]
  },
  {
   "cell_type": "markdown",
   "metadata": {},
   "source": [
    "## 5. Model building"
   ]
  },
  {
   "cell_type": "code",
   "execution_count": null,
   "metadata": {},
   "outputs": [],
   "source": [
    "# X and Y split\n",
    "X = data_merged.drop(['rating', 'date', 'Document_No', 'Keywords'], axis=1)\n",
    "y = data_merged.rating"
   ]
  },
  {
   "cell_type": "code",
   "execution_count": null,
   "metadata": {
    "scrolled": true
   },
   "outputs": [],
   "source": [
    "# droping columns if they have high colinearity\n",
    "corr_matrix = X.corr().abs() # doing correlation matrix\n",
    "upper = corr_matrix.where(np.triu(np.ones(corr_matrix.shape), k=1).astype(np.bool))\n",
    "to_drop = [column for column in upper.columns if any(upper[column] > 0.95)]\n",
    "X.drop(X[to_drop], axis=1, inplace=True) # drop 'review_words'\n",
    "X"
   ]
  },
  {
   "cell_type": "code",
   "execution_count": null,
   "metadata": {},
   "outputs": [],
   "source": [
    "y"
   ]
  },
  {
   "cell_type": "markdown",
   "metadata": {},
   "source": [
    "## 5. Model building"
   ]
  },
  {
   "cell_type": "markdown",
   "metadata": {},
   "source": [
    "### 5.1. RE + Tokenizing + Stemming + Corpus Creation"
   ]
  },
  {
   "cell_type": "code",
   "execution_count": null,
   "metadata": {},
   "outputs": [],
   "source": [
    "corpus = []\n",
    "X.index = np.arange(len(X))"
   ]
  },
  {
   "cell_type": "code",
   "execution_count": null,
   "metadata": {},
   "outputs": [],
   "source": [
    "for i in range(len(X)):\n",
    "    review = re.sub('[^a-zA-z]',' ',X['review_text'][i])\n",
    "    review = review.lower()\n",
    "    review = review.split()\n",
    "    ps = PorterStemmer()\n",
    "    review =[ps.stem(i) for i in review if not i in set(stopwords.words('english'))]\n",
    "    review =' '.join(review)\n",
    "    corpus.append(review)"
   ]
  },
  {
   "cell_type": "code",
   "execution_count": null,
   "metadata": {},
   "outputs": [],
   "source": [
    "corpus"
   ]
  },
  {
   "cell_type": "code",
   "execution_count": null,
   "metadata": {},
   "outputs": [],
   "source": [
    "pd.DataFrame(corpus).to_csv('./data/corpus.csv') # saving it for later so that I don't have to run the code again"
   ]
  },
  {
   "cell_type": "markdown",
   "metadata": {},
   "source": [
    "__5.2. Bag of Words Technique__"
   ]
  },
  {
   "cell_type": "code",
   "execution_count": null,
   "metadata": {},
   "outputs": [],
   "source": [
    "cv  = CV(max_features = 3000,ngram_range=(1,1))\n",
    "X_cv = cv.fit_transform(corpus).toarray()\n",
    "y = y.values"
   ]
  },
  {
   "cell_type": "code",
   "execution_count": null,
   "metadata": {},
   "outputs": [],
   "source": [
    "X_train, X_test, y_train, y_test = train_test_split(X_cv, y, test_size = 0.2, random_state = 0)"
   ]
  },
  {
   "cell_type": "code",
   "execution_count": null,
   "metadata": {},
   "outputs": [],
   "source": [
    "classifier = BernoulliNB()\n",
    "classifier.fit(X_train, y_train)"
   ]
  },
  {
   "cell_type": "code",
   "execution_count": null,
   "metadata": {},
   "outputs": [],
   "source": [
    "y_pred = classifier.predict(X_test)\n",
    "acc = accuracy_score(y_test, y_pred)\n",
    "acc"
   ]
  },
  {
   "cell_type": "markdown",
   "metadata": {},
   "source": [
    "__5.3. Term Frequency- Inverse Document Frequency Technique__"
   ]
  },
  {
   "cell_type": "code",
   "execution_count": null,
   "metadata": {},
   "outputs": [],
   "source": [
    "tv = TV(ngram_range =(1,1),max_features = 3000)\n",
    "X_tv = tv.fit_transform(corpus).toarray()"
   ]
  },
  {
   "cell_type": "code",
   "execution_count": null,
   "metadata": {},
   "outputs": [],
   "source": [
    "classifier = MultinomialNB()\n",
    "classifier.fit(X_train, y_train)"
   ]
  },
  {
   "cell_type": "code",
   "execution_count": null,
   "metadata": {},
   "outputs": [],
   "source": [
    "len(corpus)"
   ]
  },
  {
   "cell_type": "code",
   "execution_count": null,
   "metadata": {},
   "outputs": [],
   "source": [
    "len(y_train)"
   ]
  },
  {
   "cell_type": "code",
   "execution_count": null,
   "metadata": {},
   "outputs": [],
   "source": [
    "y_pred = classifier.predict(X_test)\n",
    "acc = accuracy_score(y_test, y_pred)\n",
    "acc"
   ]
  },
  {
   "cell_type": "code",
   "execution_count": null,
   "metadata": {},
   "outputs": [],
   "source": [
    "# testing\n",
    "diff = y_pred - y_test\n",
    "Counter(diff)"
   ]
  },
  {
   "cell_type": "code",
   "execution_count": null,
   "metadata": {
    "scrolled": true
   },
   "outputs": [],
   "source": [
    "Counter(y_test)"
   ]
  },
  {
   "cell_type": "code",
   "execution_count": null,
   "metadata": {},
   "outputs": [],
   "source": [
    "from sklearn.metrics import confusion_matrix\n",
    "confusion_matrix(y_test,y_pred)"
   ]
  },
  {
   "cell_type": "code",
   "execution_count": null,
   "metadata": {},
   "outputs": [],
   "source": [
    "from sklearn.metrics import plot_confusion_matrix\n",
    "plot_confusion_matrix(classifier,X_test,y_test)"
   ]
  },
  {
   "cell_type": "markdown",
   "metadata": {},
   "source": [
    "### 5.4. K-means classifier - results not good"
   ]
  },
  {
   "cell_type": "code",
   "execution_count": null,
   "metadata": {},
   "outputs": [],
   "source": [
    "# X and Y split\n",
    "X1 = data_merged.drop(['rating', 'date', 'Document_No', 'Keywords', 'review_text'], axis=1)\n",
    "y1 = data_merged.rating"
   ]
  },
  {
   "cell_type": "code",
   "execution_count": null,
   "metadata": {},
   "outputs": [],
   "source": [
    "# droping columns if they have high colinearity\n",
    "corr_matrix = X1.corr().abs() # doing correlation matrix\n",
    "upper = corr_matrix.where(np.triu(np.ones(corr_matrix.shape), k=1).astype(np.bool))\n",
    "to_drop = [column for column in upper.columns if any(upper[column] > 0.95)]\n",
    "X1.drop(X[to_drop], axis=1, inplace=True) # drop 'review_words'\n",
    "X1"
   ]
  },
  {
   "cell_type": "code",
   "execution_count": null,
   "metadata": {},
   "outputs": [],
   "source": [
    "# test and train\n",
    "X_train1, X_test1, y_train1, y_test1 = train_test_split(X1, y1, test_size = 0.2, random_state = 0)"
   ]
  },
  {
   "cell_type": "code",
   "execution_count": null,
   "metadata": {},
   "outputs": [],
   "source": [
    "neigh = KNeighborsClassifier()\n",
    "\n",
    "neigh_search = GridSearchCV(estimator=neigh,\n",
    "                             param_grid={\"n_neighbors\":[5,20,50,100,200,500],\n",
    "                                          \"weights\":[\"uniform\", \"distance\"]},\n",
    "                             scoring=\"accuracy\",\n",
    "                             cv=5)\n",
    "\n",
    "neigh_search.fit(X_train1, y_train1)"
   ]
  },
  {
   "cell_type": "code",
   "execution_count": null,
   "metadata": {
    "scrolled": true
   },
   "outputs": [],
   "source": [
    "cvres = neigh_search.cv_results_\n",
    "sorted(zip(cvres[\"mean_test_score\"], cvres[\"params\"]), reverse=True)"
   ]
  },
  {
   "cell_type": "code",
   "execution_count": null,
   "metadata": {},
   "outputs": [],
   "source": [
    "neigh1 = KNeighborsClassifier(n_neighbors=200, weights='uniform').fit(X_train1, y_train1)\n",
    "predictions = neigh1.predict(X_test1)"
   ]
  },
  {
   "cell_type": "code",
   "execution_count": null,
   "metadata": {
    "scrolled": true
   },
   "outputs": [],
   "source": [
    "confusion_matrix(y_test1,predictions)"
   ]
  },
  {
   "cell_type": "code",
   "execution_count": null,
   "metadata": {},
   "outputs": [],
   "source": []
  },
  {
   "cell_type": "code",
   "execution_count": null,
   "metadata": {},
   "outputs": [],
   "source": []
  },
  {
   "cell_type": "code",
   "execution_count": null,
   "metadata": {},
   "outputs": [],
   "source": []
  },
  {
   "cell_type": "code",
   "execution_count": null,
   "metadata": {},
   "outputs": [],
   "source": []
  },
  {
   "cell_type": "code",
   "execution_count": null,
   "metadata": {},
   "outputs": [],
   "source": []
  },
  {
   "cell_type": "code",
   "execution_count": null,
   "metadata": {},
   "outputs": [],
   "source": []
  },
  {
   "cell_type": "code",
   "execution_count": null,
   "metadata": {},
   "outputs": [],
   "source": []
  },
  {
   "cell_type": "code",
   "execution_count": null,
   "metadata": {},
   "outputs": [],
   "source": []
  },
  {
   "cell_type": "code",
   "execution_count": null,
   "metadata": {},
   "outputs": [],
   "source": []
  },
  {
   "cell_type": "code",
   "execution_count": null,
   "metadata": {},
   "outputs": [],
   "source": []
  },
  {
   "cell_type": "code",
   "execution_count": null,
   "metadata": {},
   "outputs": [],
   "source": []
  },
  {
   "cell_type": "code",
   "execution_count": null,
   "metadata": {},
   "outputs": [],
   "source": []
  },
  {
   "cell_type": "code",
   "execution_count": null,
   "metadata": {},
   "outputs": [],
   "source": []
  },
  {
   "cell_type": "code",
   "execution_count": null,
   "metadata": {},
   "outputs": [],
   "source": []
  },
  {
   "cell_type": "code",
   "execution_count": null,
   "metadata": {},
   "outputs": [],
   "source": []
  },
  {
   "cell_type": "code",
   "execution_count": null,
   "metadata": {},
   "outputs": [],
   "source": []
  },
  {
   "cell_type": "markdown",
   "metadata": {},
   "source": [
    "## Testing it only with good or bad"
   ]
  },
  {
   "cell_type": "code",
   "execution_count": null,
   "metadata": {},
   "outputs": [],
   "source": []
  },
  {
   "cell_type": "markdown",
   "metadata": {},
   "source": [
    "## 5. Model building - good or bad reviews"
   ]
  },
  {
   "cell_type": "code",
   "execution_count": null,
   "metadata": {},
   "outputs": [],
   "source": [
    "# changing rating for 1 if rating is 4 or 5, and 0 if rating is 1 or 2. Drop 3s\n",
    "def new_rating(x):\n",
    "    if x>=4:\n",
    "        return 1\n",
    "    if x<=2:\n",
    "        return 0\n",
    "    else:\n",
    "        return np.nan"
   ]
  },
  {
   "cell_type": "code",
   "execution_count": null,
   "metadata": {},
   "outputs": [],
   "source": [
    "data_merged2 = data_merged.copy()\n",
    "data_merged2.rating = data_merged2.rating.apply(new_rating)"
   ]
  },
  {
   "cell_type": "code",
   "execution_count": null,
   "metadata": {},
   "outputs": [],
   "source": [
    "data_merged2.isna().sum()"
   ]
  },
  {
   "cell_type": "code",
   "execution_count": null,
   "metadata": {},
   "outputs": [],
   "source": [
    "data_merged2.dropna(inplace=True)"
   ]
  },
  {
   "cell_type": "code",
   "execution_count": null,
   "metadata": {},
   "outputs": [],
   "source": [
    "data_merged2.rating.value_counts(normalize=True)"
   ]
  },
  {
   "cell_type": "code",
   "execution_count": null,
   "metadata": {},
   "outputs": [],
   "source": [
    "# X and Y split\n",
    "X2 = data_merged2.drop(['rating', 'date', 'Document_No', 'Keywords'], axis=1)\n",
    "y2 = data_merged2.rating"
   ]
  },
  {
   "cell_type": "code",
   "execution_count": null,
   "metadata": {
    "scrolled": true
   },
   "outputs": [],
   "source": [
    "# droping columns if they have high colinearity\n",
    "corr_matrix = X2.corr().abs() # doing correlation matrix\n",
    "upper = corr_matrix.where(np.triu(np.ones(corr_matrix.shape), k=1).astype(np.bool))\n",
    "to_drop = [column for column in upper.columns if any(upper[column] > 0.95)]\n",
    "X2.drop(X2[to_drop], axis=1, inplace=True) # drop 'review_words'\n",
    "X2"
   ]
  },
  {
   "cell_type": "code",
   "execution_count": null,
   "metadata": {},
   "outputs": [],
   "source": [
    "y2"
   ]
  },
  {
   "cell_type": "markdown",
   "metadata": {},
   "source": [
    "### 5.1. RE + Tokenizing + Stemming + Corpus Creation"
   ]
  },
  {
   "cell_type": "code",
   "execution_count": null,
   "metadata": {},
   "outputs": [],
   "source": [
    "corpus2 = []\n",
    "X2.index = np.arange(len(X2))"
   ]
  },
  {
   "cell_type": "code",
   "execution_count": null,
   "metadata": {},
   "outputs": [],
   "source": [
    "for i in range(len(X2)):\n",
    "    review = re.sub('[^a-zA-z]',' ',X2['review_text'][i])\n",
    "    review = review.lower()\n",
    "    review = review.split()\n",
    "    ps = PorterStemmer()\n",
    "    review =[ps.stem(i) for i in review if not i in set(stopwords.words('english'))]\n",
    "    review =' '.join(review)\n",
    "    corpus2.append(review)"
   ]
  },
  {
   "cell_type": "code",
   "execution_count": null,
   "metadata": {},
   "outputs": [],
   "source": [
    "corpus2"
   ]
  },
  {
   "cell_type": "code",
   "execution_count": null,
   "metadata": {},
   "outputs": [],
   "source": [
    "pd.DataFrame(corpus2).to_csv('./data/corpus2.csv') # saving it for later so that I don't have to run the code again"
   ]
  },
  {
   "cell_type": "markdown",
   "metadata": {},
   "source": [
    "__5.2. Bag of Words Technique__"
   ]
  },
  {
   "cell_type": "code",
   "execution_count": null,
   "metadata": {},
   "outputs": [],
   "source": [
    "cv2  = CV(max_features = 3000,ngram_range=(1,1))\n",
    "X_cv2 = cv.fit_transform(corpus2).toarray()\n",
    "y2 = y2.values"
   ]
  },
  {
   "cell_type": "code",
   "execution_count": null,
   "metadata": {},
   "outputs": [],
   "source": [
    "X_train2, X_test2, y_train2, y_test2 = train_test_split(X_cv2, y2, test_size = 0.2, random_state = 0)"
   ]
  },
  {
   "cell_type": "code",
   "execution_count": null,
   "metadata": {},
   "outputs": [],
   "source": [
    "classifier2 = BernoulliNB()\n",
    "classifier2.fit(X_train2, y_train2)"
   ]
  },
  {
   "cell_type": "code",
   "execution_count": null,
   "metadata": {},
   "outputs": [],
   "source": [
    "y_pred2 = classifier2.predict(X_test2)\n",
    "acc = accuracy_score(y_test2, y_pred2)\n",
    "acc"
   ]
  },
  {
   "cell_type": "markdown",
   "metadata": {},
   "source": [
    "__5.3. Term Frequency- Inverse Document Frequency Technique__"
   ]
  },
  {
   "cell_type": "code",
   "execution_count": null,
   "metadata": {},
   "outputs": [],
   "source": [
    "tv2 = TV(ngram_range =(1,1),max_features = 3000)\n",
    "X_tv2 = tv.fit_transform(corpus2).toarray()"
   ]
  },
  {
   "cell_type": "code",
   "execution_count": null,
   "metadata": {},
   "outputs": [],
   "source": [
    "classifier2 = MultinomialNB()\n",
    "classifier2.fit(X_train2, y_train2)"
   ]
  },
  {
   "cell_type": "code",
   "execution_count": null,
   "metadata": {},
   "outputs": [],
   "source": [
    "y_pred2 = classifier2.predict(X_test2)\n",
    "acc = accuracy_score(y_test2, y_pred2)\n",
    "acc"
   ]
  },
  {
   "cell_type": "code",
   "execution_count": null,
   "metadata": {},
   "outputs": [],
   "source": [
    "# testing\n",
    "diff = y_pred2 - y_test2\n",
    "Counter(diff)"
   ]
  },
  {
   "cell_type": "code",
   "execution_count": null,
   "metadata": {
    "scrolled": true
   },
   "outputs": [],
   "source": [
    "Counter(y_test2)"
   ]
  },
  {
   "cell_type": "code",
   "execution_count": null,
   "metadata": {},
   "outputs": [],
   "source": [
    "from sklearn.metrics import confusion_matrix\n",
    "confusion_matrix(y_test2,y_pred2)"
   ]
  },
  {
   "cell_type": "code",
   "execution_count": null,
   "metadata": {},
   "outputs": [],
   "source": [
    "from sklearn.metrics import plot_confusion_matrix\n",
    "plot_confusion_matrix(classifier2,X_test2,y_test2)"
   ]
  },
  {
   "cell_type": "markdown",
   "metadata": {},
   "source": [
    "### 5.4. K-means classifier - results not good"
   ]
  },
  {
   "cell_type": "code",
   "execution_count": null,
   "metadata": {},
   "outputs": [],
   "source": [
    "# changing rating for 1 if rating is 4 or 5, and 0 if rating is 1 or 2. Drop 3s\n",
    "def new_rating(x):\n",
    "    if x>=4:\n",
    "        return 1\n",
    "    if x<=2:\n",
    "        return 0\n",
    "    else:\n",
    "        return np.nan"
   ]
  },
  {
   "cell_type": "code",
   "execution_count": null,
   "metadata": {},
   "outputs": [],
   "source": [
    "data_merged3 = data_merged.copy()\n",
    "data_merged3.rating = data_merged3.rating.apply(new_rating)"
   ]
  },
  {
   "cell_type": "code",
   "execution_count": null,
   "metadata": {},
   "outputs": [],
   "source": [
    "data_merged3.dropna(inplace=True)"
   ]
  },
  {
   "cell_type": "code",
   "execution_count": null,
   "metadata": {},
   "outputs": [],
   "source": []
  },
  {
   "cell_type": "code",
   "execution_count": null,
   "metadata": {},
   "outputs": [],
   "source": [
    "# X and Y split\n",
    "X1 = data_merged3.drop(['rating', 'date', 'Document_No', 'Keywords', 'review_text'], axis=1)\n",
    "y1 = data_merged3.rating"
   ]
  },
  {
   "cell_type": "code",
   "execution_count": null,
   "metadata": {},
   "outputs": [],
   "source": [
    "# test and train\n",
    "X_train1, X_test1, y_train1, y_test1 = train_test_split(X1, y1, test_size = 0.2, random_state = 0)"
   ]
  },
  {
   "cell_type": "code",
   "execution_count": null,
   "metadata": {},
   "outputs": [],
   "source": [
    "neigh = KNeighborsClassifier()\n",
    "\n",
    "neigh_search = GridSearchCV(estimator=neigh,\n",
    "                             param_grid={\"n_neighbors\":[5,20,50,100,200,500],\n",
    "                                          \"weights\":[\"uniform\", \"distance\"]},\n",
    "                             scoring=\"accuracy\",\n",
    "                             cv=5)\n",
    "\n",
    "neigh_search.fit(X_train1, y_train1)"
   ]
  },
  {
   "cell_type": "code",
   "execution_count": null,
   "metadata": {
    "scrolled": true
   },
   "outputs": [],
   "source": [
    "cvres = neigh_search.cv_results_\n",
    "sorted(zip(cvres[\"mean_test_score\"], cvres[\"params\"]), reverse=True)"
   ]
  },
  {
   "cell_type": "code",
   "execution_count": null,
   "metadata": {},
   "outputs": [],
   "source": [
    "neigh1 = KNeighborsClassifier(n_neighbors=200, weights='uniform').fit(X_train1, y_train1)\n",
    "predictions = neigh1.predict(X_test1)"
   ]
  },
  {
   "cell_type": "code",
   "execution_count": null,
   "metadata": {
    "scrolled": true
   },
   "outputs": [],
   "source": [
    "confusion_matrix(y_test1,predictions)"
   ]
  },
  {
   "cell_type": "code",
   "execution_count": null,
   "metadata": {},
   "outputs": [],
   "source": []
  },
  {
   "cell_type": "code",
   "execution_count": null,
   "metadata": {},
   "outputs": [],
   "source": []
  },
  {
   "cell_type": "code",
   "execution_count": null,
   "metadata": {},
   "outputs": [],
   "source": []
  },
  {
   "cell_type": "code",
   "execution_count": null,
   "metadata": {},
   "outputs": [],
   "source": []
  },
  {
   "cell_type": "code",
   "execution_count": null,
   "metadata": {},
   "outputs": [],
   "source": []
  },
  {
   "cell_type": "code",
   "execution_count": null,
   "metadata": {},
   "outputs": [],
   "source": []
  },
  {
   "cell_type": "code",
   "execution_count": null,
   "metadata": {},
   "outputs": [],
   "source": []
  },
  {
   "cell_type": "code",
   "execution_count": null,
   "metadata": {},
   "outputs": [],
   "source": []
  },
  {
   "cell_type": "code",
   "execution_count": null,
   "metadata": {},
   "outputs": [],
   "source": []
  }
 ],
 "metadata": {
  "kernelspec": {
   "display_name": "Python 3",
   "language": "python",
   "name": "python3"
  },
  "language_info": {
   "codemirror_mode": {
    "name": "ipython",
    "version": 3
   },
   "file_extension": ".py",
   "mimetype": "text/x-python",
   "name": "python",
   "nbconvert_exporter": "python",
   "pygments_lexer": "ipython3",
   "version": "3.8.4"
  }
 },
 "nbformat": 4,
 "nbformat_minor": 4
}
