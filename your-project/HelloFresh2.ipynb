{
 "cells": [
  {
   "cell_type": "markdown",
   "metadata": {},
   "source": [
    "Import reviews from trustpilot (focus on both product and company itself (aacc)\n",
    "\n",
    "Steps (not having a rating):\n",
    " - get polarity from analyzing reviews (textblob)\n",
    " - get clusters from analyzing reviews by topic modelling\n",
    " - also have other variables: review_len, time\n",
    " \n",
    " \n",
    "Model that predicts rating based on this things (train/test). For other uses (mail, twitter... take out review_len as it will be different)"
   ]
  },
  {
   "cell_type": "markdown",
   "metadata": {},
   "source": [
    "## Hellofresh"
   ]
  },
  {
   "cell_type": "code",
   "execution_count": 1,
   "metadata": {
    "scrolled": true
   },
   "outputs": [],
   "source": [
    "import pandas as pd\n",
    "import numpy as np\n",
    "import re\n",
    "import matplotlib.pyplot as plt\n",
    "%matplotlib inline\n",
    "from textblob import TextBlob\n",
    "import plotly.express as px\n",
    "import seaborn as sns\n",
    "from pprint import pprint\n",
    "from collections import Counter\n",
    "\n",
    "from sklearn.feature_extraction.text import CountVectorizer, TfidfVectorizer\n",
    "from sklearn.feature_extraction.text import CountVectorizer as CV\n",
    "from sklearn.model_selection import train_test_split\n",
    "from sklearn.naive_bayes import BernoulliNB\n",
    "from sklearn.metrics import accuracy_score\n",
    "from sklearn.feature_extraction.text import TfidfVectorizer as TV\n",
    "from sklearn.naive_bayes import MultinomialNB\n",
    "from sklearn.model_selection import GridSearchCV\n",
    "from sklearn.neighbors import KNeighborsClassifier\n",
    "from sklearn.metrics import confusion_matrix\n",
    "from sklearn.decomposition import LatentDirichletAllocation, TruncatedSVD\n",
    "\n",
    "import nltk\n",
    "from nltk.corpus import stopwords\n",
    "from nltk.stem.porter import PorterStemmer\n",
    "\n",
    "import tensorflow as tf\n",
    "from tensorflow.keras.preprocessing.text import Tokenizer\n",
    "from tensorflow.keras.preprocessing.sequence import pad_sequences\n",
    "import datetime\n",
    "\n",
    "\n",
    "import gensim\n",
    "import gensim.corpora as corpora\n",
    "from gensim.utils import simple_preprocess\n",
    "from gensim.models import CoherenceModel\n",
    "\n",
    "import spacy\n",
    "\n",
    "import pyLDAvis\n",
    "import pyLDAvis.gensim  \n",
    "import pyLDAvis.sklearn\n",
    "\n",
    "import logging\n",
    "logging.basicConfig(format='%(asctime)s : %(levelname)s : %(message)s', level=logging.ERROR)\n",
    "\n",
    "import warnings\n",
    "warnings.filterwarnings(\"ignore\",category=DeprecationWarning)\n"
   ]
  },
  {
   "cell_type": "markdown",
   "metadata": {},
   "source": [
    "## 1. Dataset cleaning and exploration"
   ]
  },
  {
   "cell_type": "code",
   "execution_count": 2,
   "metadata": {
    "scrolled": true
   },
   "outputs": [],
   "source": [
    "data = pd.read_csv('./data/hellofresh.csv', index_col=0)\n",
    "data.columns = ['review_id', 'date', 'rating', 'review_title', 'review_text',\n",
    "       'review_response', 'response_dummy']"
   ]
  },
  {
   "cell_type": "markdown",
   "metadata": {},
   "source": [
    "### 1.1. Droping unwanted columns"
   ]
  },
  {
   "cell_type": "code",
   "execution_count": 3,
   "metadata": {},
   "outputs": [],
   "source": [
    "# droping columns\n",
    "data.drop(['review_id', 'review_response', 'response_dummy', 'review_title'], axis=1, inplace=True)"
   ]
  },
  {
   "cell_type": "markdown",
   "metadata": {},
   "source": [
    "### 1.2. Changing datatypes"
   ]
  },
  {
   "cell_type": "code",
   "execution_count": 4,
   "metadata": {},
   "outputs": [],
   "source": [
    "# changing 'date' fo datatime data type\n",
    "data.date = data.date.astype('datetime64[ns]')"
   ]
  },
  {
   "cell_type": "code",
   "execution_count": 5,
   "metadata": {},
   "outputs": [
    {
     "name": "stdout",
     "output_type": "stream",
     "text": [
      "<class 'pandas.core.frame.DataFrame'>\n",
      "Int64Index: 31740 entries, 0 to 31739\n",
      "Data columns (total 3 columns):\n",
      " #   Column       Non-Null Count  Dtype         \n",
      "---  ------       --------------  -----         \n",
      " 0   date         31740 non-null  datetime64[ns]\n",
      " 1   rating       31740 non-null  int64         \n",
      " 2   review_text  30180 non-null  object        \n",
      "dtypes: datetime64[ns](1), int64(1), object(1)\n",
      "memory usage: 991.9+ KB\n"
     ]
    }
   ],
   "source": [
    "data.info()"
   ]
  },
  {
   "cell_type": "markdown",
   "metadata": {},
   "source": [
    "### 1.3. Droping NaNs"
   ]
  },
  {
   "cell_type": "code",
   "execution_count": 6,
   "metadata": {
    "scrolled": true
   },
   "outputs": [
    {
     "data": {
      "text/plain": [
       "date           0.000000\n",
       "rating         0.000000\n",
       "review_text    4.914934\n",
       "dtype: float64"
      ]
     },
     "execution_count": 6,
     "metadata": {},
     "output_type": "execute_result"
    }
   ],
   "source": [
    "# NaNs as percentage - keep NaNs for title, remove the rest as the % is very low\n",
    "data.isnull().sum()/len(data)*100"
   ]
  },
  {
   "cell_type": "code",
   "execution_count": 7,
   "metadata": {
    "scrolled": true
   },
   "outputs": [
    {
     "data": {
      "text/html": [
       "<div>\n",
       "<style scoped>\n",
       "    .dataframe tbody tr th:only-of-type {\n",
       "        vertical-align: middle;\n",
       "    }\n",
       "\n",
       "    .dataframe tbody tr th {\n",
       "        vertical-align: top;\n",
       "    }\n",
       "\n",
       "    .dataframe thead th {\n",
       "        text-align: right;\n",
       "    }\n",
       "</style>\n",
       "<table border=\"1\" class=\"dataframe\">\n",
       "  <thead>\n",
       "    <tr style=\"text-align: right;\">\n",
       "      <th></th>\n",
       "      <th>index</th>\n",
       "      <th>date</th>\n",
       "      <th>rating</th>\n",
       "      <th>review_text</th>\n",
       "    </tr>\n",
       "  </thead>\n",
       "  <tbody>\n",
       "    <tr>\n",
       "      <th>0</th>\n",
       "      <td>0</td>\n",
       "      <td>2020-08-18</td>\n",
       "      <td>3</td>\n",
       "      <td>I wish I could give my experience with Hello F...</td>\n",
       "    </tr>\n",
       "    <tr>\n",
       "      <th>1</th>\n",
       "      <td>1</td>\n",
       "      <td>2020-08-17</td>\n",
       "      <td>4</td>\n",
       "      <td>Great recipes, easy-to-follow instructions, an...</td>\n",
       "    </tr>\n",
       "    <tr>\n",
       "      <th>2</th>\n",
       "      <td>2</td>\n",
       "      <td>2020-08-17</td>\n",
       "      <td>3</td>\n",
       "      <td>A key ingredient was unusable for one of the m...</td>\n",
       "    </tr>\n",
       "    <tr>\n",
       "      <th>3</th>\n",
       "      <td>3</td>\n",
       "      <td>2020-08-17</td>\n",
       "      <td>5</td>\n",
       "      <td>Hello Fresh has great food and the best custom...</td>\n",
       "    </tr>\n",
       "    <tr>\n",
       "      <th>4</th>\n",
       "      <td>4</td>\n",
       "      <td>2020-08-16</td>\n",
       "      <td>5</td>\n",
       "      <td>Delicious and easy recipes, high-quality ingre...</td>\n",
       "    </tr>\n",
       "    <tr>\n",
       "      <th>...</th>\n",
       "      <td>...</td>\n",
       "      <td>...</td>\n",
       "      <td>...</td>\n",
       "      <td>...</td>\n",
       "    </tr>\n",
       "    <tr>\n",
       "      <th>30175</th>\n",
       "      <td>31735</td>\n",
       "      <td>2015-06-19</td>\n",
       "      <td>4</td>\n",
       "      <td>I am so pleased with my subscription to Hellof...</td>\n",
       "    </tr>\n",
       "    <tr>\n",
       "      <th>30176</th>\n",
       "      <td>31736</td>\n",
       "      <td>2015-06-19</td>\n",
       "      <td>4</td>\n",
       "      <td>i've been mostly happy with the food, but have...</td>\n",
       "    </tr>\n",
       "    <tr>\n",
       "      <th>30177</th>\n",
       "      <td>31737</td>\n",
       "      <td>2015-06-19</td>\n",
       "      <td>5</td>\n",
       "      <td>its perfect for me because I like to cook at h...</td>\n",
       "    </tr>\n",
       "    <tr>\n",
       "      <th>30178</th>\n",
       "      <td>31738</td>\n",
       "      <td>2015-06-19</td>\n",
       "      <td>5</td>\n",
       "      <td>I have been using HelloFresh for a couple mont...</td>\n",
       "    </tr>\n",
       "    <tr>\n",
       "      <th>30179</th>\n",
       "      <td>31739</td>\n",
       "      <td>2015-06-19</td>\n",
       "      <td>4</td>\n",
       "      <td>Overall I love this service. The food is fresh...</td>\n",
       "    </tr>\n",
       "  </tbody>\n",
       "</table>\n",
       "<p>30180 rows × 4 columns</p>\n",
       "</div>"
      ],
      "text/plain": [
       "       index       date  rating  \\\n",
       "0          0 2020-08-18       3   \n",
       "1          1 2020-08-17       4   \n",
       "2          2 2020-08-17       3   \n",
       "3          3 2020-08-17       5   \n",
       "4          4 2020-08-16       5   \n",
       "...      ...        ...     ...   \n",
       "30175  31735 2015-06-19       4   \n",
       "30176  31736 2015-06-19       4   \n",
       "30177  31737 2015-06-19       5   \n",
       "30178  31738 2015-06-19       5   \n",
       "30179  31739 2015-06-19       4   \n",
       "\n",
       "                                             review_text  \n",
       "0      I wish I could give my experience with Hello F...  \n",
       "1      Great recipes, easy-to-follow instructions, an...  \n",
       "2      A key ingredient was unusable for one of the m...  \n",
       "3      Hello Fresh has great food and the best custom...  \n",
       "4      Delicious and easy recipes, high-quality ingre...  \n",
       "...                                                  ...  \n",
       "30175  I am so pleased with my subscription to Hellof...  \n",
       "30176  i've been mostly happy with the food, but have...  \n",
       "30177  its perfect for me because I like to cook at h...  \n",
       "30178  I have been using HelloFresh for a couple mont...  \n",
       "30179  Overall I love this service. The food is fresh...  \n",
       "\n",
       "[30180 rows x 4 columns]"
      ]
     },
     "execution_count": 7,
     "metadata": {},
     "output_type": "execute_result"
    }
   ],
   "source": [
    "data.dropna(inplace=True)\n",
    "data.reset_index()"
   ]
  },
  {
   "cell_type": "markdown",
   "metadata": {},
   "source": [
    "We should take out the entries with no *review_text* as we are using this variable."
   ]
  },
  {
   "cell_type": "code",
   "execution_count": 8,
   "metadata": {},
   "outputs": [
    {
     "data": {
      "text/plain": [
       "4.456660039761432"
      ]
     },
     "execution_count": 8,
     "metadata": {},
     "output_type": "execute_result"
    }
   ],
   "source": [
    "data.rating.mean()"
   ]
  },
  {
   "cell_type": "markdown",
   "metadata": {},
   "source": [
    "### 1.4. Adding *polarity* and *subjectivity* for customer reviews"
   ]
  },
  {
   "cell_type": "code",
   "execution_count": 9,
   "metadata": {},
   "outputs": [],
   "source": [
    "data['polarity'] = data['review_text'].apply(lambda x: TextBlob(x).sentiment.polarity)\n",
    "data['subjectivity'] = data['review_text'].apply(lambda x: TextBlob(x).sentiment.subjectivity)"
   ]
  },
  {
   "cell_type": "code",
   "execution_count": 10,
   "metadata": {
    "scrolled": true
   },
   "outputs": [
    {
     "data": {
      "text/html": [
       "<div>\n",
       "<style scoped>\n",
       "    .dataframe tbody tr th:only-of-type {\n",
       "        vertical-align: middle;\n",
       "    }\n",
       "\n",
       "    .dataframe tbody tr th {\n",
       "        vertical-align: top;\n",
       "    }\n",
       "\n",
       "    .dataframe thead th {\n",
       "        text-align: right;\n",
       "    }\n",
       "</style>\n",
       "<table border=\"1\" class=\"dataframe\">\n",
       "  <thead>\n",
       "    <tr style=\"text-align: right;\">\n",
       "      <th></th>\n",
       "      <th>date</th>\n",
       "      <th>rating</th>\n",
       "      <th>review_text</th>\n",
       "      <th>polarity</th>\n",
       "      <th>subjectivity</th>\n",
       "    </tr>\n",
       "  </thead>\n",
       "  <tbody>\n",
       "    <tr>\n",
       "      <th>0</th>\n",
       "      <td>2020-08-18</td>\n",
       "      <td>3</td>\n",
       "      <td>I wish I could give my experience with Hello F...</td>\n",
       "      <td>0.150000</td>\n",
       "      <td>0.594444</td>\n",
       "    </tr>\n",
       "    <tr>\n",
       "      <th>1</th>\n",
       "      <td>2020-08-17</td>\n",
       "      <td>4</td>\n",
       "      <td>Great recipes, easy-to-follow instructions, an...</td>\n",
       "      <td>0.366667</td>\n",
       "      <td>0.750000</td>\n",
       "    </tr>\n",
       "    <tr>\n",
       "      <th>2</th>\n",
       "      <td>2020-08-17</td>\n",
       "      <td>3</td>\n",
       "      <td>A key ingredient was unusable for one of the m...</td>\n",
       "      <td>0.218056</td>\n",
       "      <td>0.701389</td>\n",
       "    </tr>\n",
       "    <tr>\n",
       "      <th>3</th>\n",
       "      <td>2020-08-17</td>\n",
       "      <td>5</td>\n",
       "      <td>Hello Fresh has great food and the best custom...</td>\n",
       "      <td>0.700000</td>\n",
       "      <td>0.516667</td>\n",
       "    </tr>\n",
       "    <tr>\n",
       "      <th>4</th>\n",
       "      <td>2020-08-16</td>\n",
       "      <td>5</td>\n",
       "      <td>Delicious and easy recipes, high-quality ingre...</td>\n",
       "      <td>0.711111</td>\n",
       "      <td>0.811111</td>\n",
       "    </tr>\n",
       "  </tbody>\n",
       "</table>\n",
       "</div>"
      ],
      "text/plain": [
       "        date  rating                                        review_text  \\\n",
       "0 2020-08-18       3  I wish I could give my experience with Hello F...   \n",
       "1 2020-08-17       4  Great recipes, easy-to-follow instructions, an...   \n",
       "2 2020-08-17       3  A key ingredient was unusable for one of the m...   \n",
       "3 2020-08-17       5  Hello Fresh has great food and the best custom...   \n",
       "4 2020-08-16       5  Delicious and easy recipes, high-quality ingre...   \n",
       "\n",
       "   polarity  subjectivity  \n",
       "0  0.150000      0.594444  \n",
       "1  0.366667      0.750000  \n",
       "2  0.218056      0.701389  \n",
       "3  0.700000      0.516667  \n",
       "4  0.711111      0.811111  "
      ]
     },
     "execution_count": 10,
     "metadata": {},
     "output_type": "execute_result"
    }
   ],
   "source": [
    "data.head()"
   ]
  },
  {
   "cell_type": "markdown",
   "metadata": {},
   "source": [
    "### 1.5. Adding column for review length, in words"
   ]
  },
  {
   "cell_type": "code",
   "execution_count": 11,
   "metadata": {},
   "outputs": [],
   "source": [
    "data['review_words'] = data.review_text.apply(lambda x: len(str(x).split()))"
   ]
  },
  {
   "cell_type": "markdown",
   "metadata": {},
   "source": [
    "### 1.6. Adding column *sentiment*\n"
   ]
  },
  {
   "cell_type": "code",
   "execution_count": 12,
   "metadata": {},
   "outputs": [],
   "source": [
    "def sentiment(x):\n",
    "    if x>=0.5:\n",
    "        return 4\n",
    "    elif 0<=x<0.5:\n",
    "        return 3\n",
    "    elif -0.5<=x<0:\n",
    "        return 2\n",
    "    else:\n",
    "        return 1"
   ]
  },
  {
   "cell_type": "code",
   "execution_count": 13,
   "metadata": {
    "scrolled": true
   },
   "outputs": [],
   "source": [
    "# 4 best, 1 worse\n",
    "data['sentiment'] = data.polarity.apply(sentiment)"
   ]
  },
  {
   "cell_type": "markdown",
   "metadata": {},
   "source": [
    "### 1.5. Exporting clean dataset"
   ]
  },
  {
   "cell_type": "code",
   "execution_count": 14,
   "metadata": {},
   "outputs": [],
   "source": [
    "data_original = data.copy()"
   ]
  },
  {
   "cell_type": "markdown",
   "metadata": {},
   "source": [
    "## 2. Data Exploration "
   ]
  },
  {
   "cell_type": "markdown",
   "metadata": {},
   "source": [
    "### 2.1. Rating over time"
   ]
  },
  {
   "cell_type": "markdown",
   "metadata": {},
   "source": [
    "__*Rating by month*__"
   ]
  },
  {
   "cell_type": "code",
   "execution_count": null,
   "metadata": {},
   "outputs": [],
   "source": [
    "data_time = pd.read_csv('./data/hellofresh.csv', parse_dates=['date'], index_col='date')"
   ]
  },
  {
   "cell_type": "code",
   "execution_count": null,
   "metadata": {
    "scrolled": true
   },
   "outputs": [],
   "source": [
    "data_time = data_time.resample('M').mean()"
   ]
  },
  {
   "cell_type": "code",
   "execution_count": null,
   "metadata": {},
   "outputs": [],
   "source": [
    "data_time.reset_index(inplace=True)"
   ]
  },
  {
   "cell_type": "code",
   "execution_count": null,
   "metadata": {
    "scrolled": true
   },
   "outputs": [],
   "source": [
    "data_time"
   ]
  },
  {
   "cell_type": "code",
   "execution_count": null,
   "metadata": {
    "scrolled": true
   },
   "outputs": [],
   "source": [
    "px.line(data_time, x=data_time['date'], y=data_time['stars'])"
   ]
  },
  {
   "cell_type": "markdown",
   "metadata": {},
   "source": [
    "__*Rating by year*__"
   ]
  },
  {
   "cell_type": "code",
   "execution_count": null,
   "metadata": {},
   "outputs": [],
   "source": [
    "data_time = pd.read_csv('./data/hellofresh.csv', parse_dates=['date'], index_col='date')"
   ]
  },
  {
   "cell_type": "code",
   "execution_count": null,
   "metadata": {
    "scrolled": true
   },
   "outputs": [],
   "source": [
    "data_time = data_time.resample('Y').mean()"
   ]
  },
  {
   "cell_type": "code",
   "execution_count": null,
   "metadata": {},
   "outputs": [],
   "source": [
    "data_time.reset_index(inplace=True)"
   ]
  },
  {
   "cell_type": "code",
   "execution_count": null,
   "metadata": {
    "scrolled": true
   },
   "outputs": [],
   "source": [
    "data_time"
   ]
  },
  {
   "cell_type": "code",
   "execution_count": null,
   "metadata": {},
   "outputs": [],
   "source": [
    "px.line(data_time, x=data_time['date'], y=data_time['stars'])"
   ]
  },
  {
   "cell_type": "markdown",
   "metadata": {},
   "source": [
    "### 2.3. Exploring numerical columns"
   ]
  },
  {
   "cell_type": "code",
   "execution_count": null,
   "metadata": {
    "scrolled": false
   },
   "outputs": [],
   "source": [
    "data.hist(figsize=(20,15))\n",
    "plt.show()"
   ]
  },
  {
   "cell_type": "markdown",
   "metadata": {},
   "source": [
    "### 2.3. Exploring ngrams"
   ]
  },
  {
   "cell_type": "code",
   "execution_count": null,
   "metadata": {},
   "outputs": [],
   "source": [
    "# corpus: list of strings to process\n",
    "# n: number of ngrams you want to retrieve, ordered by frequencie (e.g. top 20)\n",
    "# ngram: ngram (1=1 word, 2=2 consecutive words...)\n",
    "\n",
    "def top_n_ngram(corpus, n, ngram):\n",
    "    vec = CountVectorizer(stop_words = 'english',ngram_range=(ngram,ngram)).fit(corpus)\n",
    "    bag_of_words = vec.transform(corpus) #Have the count of  all the words for each review\n",
    "    sum_words = bag_of_words.sum(axis =0) #Calculates the count of all the word in the whole review\n",
    "    words_freq = [(word,sum_words[0,idx]) for word,idx in vec.vocabulary_.items()]\n",
    "    words_freq = sorted(words_freq,key = lambda x:x[1],reverse = True)\n",
    "    return words_freq[:n]\n"
   ]
  },
  {
   "cell_type": "markdown",
   "metadata": {},
   "source": [
    "__Unigram__"
   ]
  },
  {
   "cell_type": "code",
   "execution_count": null,
   "metadata": {
    "scrolled": false
   },
   "outputs": [],
   "source": [
    "common_words = top_n_ngram(data.review_text, 20,1)\n",
    "df = pd.DataFrame(common_words, columns = ['ReviewText' , 'count'])\n",
    "px.histogram(df, df['ReviewText'], df['count'])"
   ]
  },
  {
   "cell_type": "markdown",
   "metadata": {},
   "source": [
    "__Bigram__"
   ]
  },
  {
   "cell_type": "code",
   "execution_count": null,
   "metadata": {},
   "outputs": [],
   "source": [
    "common_words = top_n_ngram(data.review_text, 20,2)\n",
    "df = pd.DataFrame(common_words, columns = ['ReviewText' , 'count'])\n",
    "px.histogram(df, df['ReviewText'], df['count'])"
   ]
  },
  {
   "cell_type": "markdown",
   "metadata": {},
   "source": [
    "__Trigrams__"
   ]
  },
  {
   "cell_type": "code",
   "execution_count": null,
   "metadata": {
    "scrolled": false
   },
   "outputs": [],
   "source": [
    "common_words = top_n_ngram(data.review_text, 20,3)\n",
    "df = pd.DataFrame(common_words, columns = ['ReviewText' , 'count'])\n",
    "px.histogram(df, df['ReviewText'], df['count'])"
   ]
  },
  {
   "cell_type": "markdown",
   "metadata": {},
   "source": [
    " "
   ]
  },
  {
   "cell_type": "markdown",
   "metadata": {},
   "source": [
    "__POS tagging__"
   ]
  },
  {
   "cell_type": "markdown",
   "metadata": {},
   "source": [
    "In corpus linguistics, part-of-speech tagging (POS tagging or PoS tagging or POST), also called grammatical tagging is the process of marking up a word in a text (corpus) as corresponding to a particular part of speech,[1] based on both its definition and its context. A simplified form of this is commonly taught to school-age children, in the identification of words as nouns, verbs, adjectives, adverbs, etc."
   ]
  },
  {
   "cell_type": "code",
   "execution_count": null,
   "metadata": {
    "scrolled": false
   },
   "outputs": [],
   "source": [
    "blob= TextBlob(str(data['review_text']))\n",
    "pos = pd.DataFrame(blob.tags,columns =['word','pos'])\n",
    "pos1 = pos.pos.value_counts()[:20]\n",
    "pos1 = pd.DataFrame(pos1).reset_index()\n",
    "pos1.columns = ['pos', 'count']\n",
    "px.histogram(pos1, x=pos1['pos'], y=pos1['count'])"
   ]
  },
  {
   "cell_type": "markdown",
   "metadata": {},
   "source": [
    "### 2.4. Correlation"
   ]
  },
  {
   "cell_type": "code",
   "execution_count": null,
   "metadata": {},
   "outputs": [],
   "source": [
    "sns.heatmap(data.corr(),annot = True)"
   ]
  },
  {
   "cell_type": "markdown",
   "metadata": {},
   "source": [
    "### 2.5. Statistical description of data"
   ]
  },
  {
   "cell_type": "code",
   "execution_count": null,
   "metadata": {
    "scrolled": true
   },
   "outputs": [],
   "source": [
    "data.groupby(data['rating']).describe().T \n",
    "# both mean polarity and mean sentiment increase with higher ratings, so it seems to be a good measure"
   ]
  },
  {
   "cell_type": "markdown",
   "metadata": {},
   "source": [
    "## 3. Topic Modelling"
   ]
  },
  {
   "cell_type": "markdown",
   "metadata": {},
   "source": [
    "We created dictionary and corpus required for Topic Modeling: The two main inputs to the LDA topic model are the dictionary and the corpus. Gensim creates a unique id for each word in the document. The produced corpus shown above is a mapping of (word_id, word_frequency). For example, (0, 1) below in the output implies, word id 0 occurs once in the first document."
   ]
  },
  {
   "cell_type": "code",
   "execution_count": 17,
   "metadata": {},
   "outputs": [
    {
     "name": "stdout",
     "output_type": "stream",
     "text": [
      "Number of unique tokens: 4154\n",
      "Number of documents: 30180\n",
      "[[(0, 1), (1, 1), (2, 1), (3, 2), (4, 3), (5, 1), (6, 1), (7, 1), (8, 1), (9, 1), (10, 3), (11, 1), (12, 1), (13, 2), (14, 1), (15, 1), (16, 1), (17, 1), (18, 2), (19, 6), (20, 1), (21, 1), (22, 1), (23, 1), (24, 2), (25, 1), (26, 3), (27, 1), (28, 1), (29, 2), (30, 1), (31, 2), (32, 2), (33, 4), (34, 1), (35, 1), (36, 1), (37, 1), (38, 1), (39, 1), (40, 1), (41, 1), (42, 1), (43, 1), (44, 1), (45, 1), (46, 3), (47, 1), (48, 1), (49, 2), (50, 2), (51, 3), (52, 1), (53, 1), (54, 3), (55, 3)]]\n"
     ]
    }
   ],
   "source": [
    "# Import required packages\n",
    "import numpy as np\n",
    "import logging\n",
    "import pyLDAvis.gensim\n",
    "import json\n",
    "import warnings\n",
    "warnings.filterwarnings('ignore')  # To ignore all warnings that arise here to enhance clarity\n",
    "from gensim.models.coherencemodel import CoherenceModel\n",
    "from gensim.models.ldamodel import LdaModel\n",
    "from gensim.corpora.dictionary import Dictionary\n",
    "from numpy import array\n",
    "\n",
    "# Convert reviews to array\n",
    "docs = np.array(data.review_text)\n",
    "# Define function for tokenize and lemmatizing\n",
    "from nltk.stem.wordnet import WordNetLemmatizer\n",
    "from nltk.tokenize import RegexpTokenizer\n",
    "\n",
    "def docs_preprocessor(docs):\n",
    "    tokenizer = RegexpTokenizer(r'\\w+')\n",
    "    for idx in range(len(docs)):\n",
    "        docs[idx] = docs[idx].lower()  # Convert to lowercase.\n",
    "        docs[idx] = tokenizer.tokenize(docs[idx])  # Split into words.\n",
    "\n",
    "    # Remove numbers, but not words that contain numbers.\n",
    "    docs = [[token for token in doc if not token.isdigit()] for doc in docs]\n",
    "    \n",
    "    # Remove words that are only one character.\n",
    "    docs = [[token for token in doc if len(token) > 3] for doc in docs]\n",
    "    \n",
    "    # Lemmatize all words in documents.\n",
    "    lemmatizer = WordNetLemmatizer()\n",
    "    docs = [[lemmatizer.lemmatize(token) for token in doc] for doc in docs]\n",
    "  \n",
    "    return docs\n",
    "# Perform function on our document\n",
    "docs = docs_preprocessor(docs)\n",
    "#Create Biagram & Trigram Models \n",
    "from gensim.models import Phrases\n",
    "# Add bigrams and trigrams to docs,minimum count 10 means only that appear 10 times or more.\n",
    "bigram = Phrases(docs, min_count=10)\n",
    "trigram = Phrases(bigram[docs])\n",
    "\n",
    "for idx in range(len(docs)):\n",
    "    for token in bigram[docs[idx]]:\n",
    "        if '_' in token:\n",
    "            # Token is a bigram, add to document.\n",
    "            docs[idx].append(token)\n",
    "    for token in trigram[docs[idx]]:\n",
    "        if '_' in token:\n",
    "            # Token is a bigram, add to document.\n",
    "            docs[idx].append(token)\n",
    "#Remove rare & common tokens \n",
    "# Create a dictionary representation of the documents.\n",
    "dictionary = Dictionary(docs)\n",
    "dictionary.filter_extremes(no_below=10, no_above=0.5)\n",
    "#Create dictionary and corpus required for Topic Modeling\n",
    "corpus = [dictionary.doc2bow(doc) for doc in docs]\n",
    "print('Number of unique tokens: %d' % len(dictionary))\n",
    "print('Number of documents: %d' % len(corpus))\n",
    "print(corpus[:1])"
   ]
  },
  {
   "cell_type": "markdown",
   "metadata": {},
   "source": [
    "We have everything required to train the LDA model. In addition to the corpus and dictionary, we need to provide the number of topics as well.Set number of topics=5."
   ]
  },
  {
   "cell_type": "code",
   "execution_count": 18,
   "metadata": {
    "collapsed": true
   },
   "outputs": [
    {
     "ename": "KeyboardInterrupt",
     "evalue": "",
     "output_type": "error",
     "traceback": [
      "\u001b[0;31m---------------------------------------------------------------------------\u001b[0m",
      "\u001b[0;31mKeyboardInterrupt\u001b[0m                         Traceback (most recent call last)",
      "\u001b[0;32m<ipython-input-18-bcd344e3e49d>\u001b[0m in \u001b[0;36m<module>\u001b[0;34m\u001b[0m\n\u001b[1;32m     10\u001b[0m \u001b[0mid2word\u001b[0m \u001b[0;34m=\u001b[0m \u001b[0mdictionary\u001b[0m\u001b[0;34m.\u001b[0m\u001b[0mid2token\u001b[0m\u001b[0;34m\u001b[0m\u001b[0;34m\u001b[0m\u001b[0m\n\u001b[1;32m     11\u001b[0m \u001b[0;34m\u001b[0m\u001b[0m\n\u001b[0;32m---> 12\u001b[0;31m lda_model = LdaModel(corpus=corpus, id2word=id2word, chunksize=chunksize, \\\n\u001b[0m\u001b[1;32m     13\u001b[0m                        \u001b[0malpha\u001b[0m\u001b[0;34m=\u001b[0m\u001b[0;34m'auto'\u001b[0m\u001b[0;34m,\u001b[0m \u001b[0meta\u001b[0m\u001b[0;34m=\u001b[0m\u001b[0;34m'auto'\u001b[0m\u001b[0;34m,\u001b[0m\u001b[0;31m \u001b[0m\u001b[0;31m\\\u001b[0m\u001b[0;34m\u001b[0m\u001b[0;34m\u001b[0m\u001b[0m\n\u001b[1;32m     14\u001b[0m                        \u001b[0miterations\u001b[0m\u001b[0;34m=\u001b[0m\u001b[0miterations\u001b[0m\u001b[0;34m,\u001b[0m \u001b[0mnum_topics\u001b[0m\u001b[0;34m=\u001b[0m\u001b[0mnum_topics\u001b[0m\u001b[0;34m,\u001b[0m\u001b[0;31m \u001b[0m\u001b[0;31m\\\u001b[0m\u001b[0;34m\u001b[0m\u001b[0;34m\u001b[0m\u001b[0m\n",
      "\u001b[0;32m/usr/local/Cellar/jupyterlab/2.1.2/libexec/lib/python3.8/site-packages/gensim/models/ldamodel.py\u001b[0m in \u001b[0;36m__init__\u001b[0;34m(self, corpus, num_topics, id2word, distributed, chunksize, passes, update_every, alpha, eta, decay, offset, eval_every, iterations, gamma_threshold, minimum_probability, random_state, ns_conf, minimum_phi_value, per_word_topics, callbacks, dtype)\u001b[0m\n\u001b[1;32m    517\u001b[0m         \u001b[0;32mif\u001b[0m \u001b[0mcorpus\u001b[0m \u001b[0;32mis\u001b[0m \u001b[0;32mnot\u001b[0m \u001b[0;32mNone\u001b[0m\u001b[0;34m:\u001b[0m\u001b[0;34m\u001b[0m\u001b[0;34m\u001b[0m\u001b[0m\n\u001b[1;32m    518\u001b[0m             \u001b[0muse_numpy\u001b[0m \u001b[0;34m=\u001b[0m \u001b[0mself\u001b[0m\u001b[0;34m.\u001b[0m\u001b[0mdispatcher\u001b[0m \u001b[0;32mis\u001b[0m \u001b[0;32mnot\u001b[0m \u001b[0;32mNone\u001b[0m\u001b[0;34m\u001b[0m\u001b[0;34m\u001b[0m\u001b[0m\n\u001b[0;32m--> 519\u001b[0;31m             \u001b[0mself\u001b[0m\u001b[0;34m.\u001b[0m\u001b[0mupdate\u001b[0m\u001b[0;34m(\u001b[0m\u001b[0mcorpus\u001b[0m\u001b[0;34m,\u001b[0m \u001b[0mchunks_as_numpy\u001b[0m\u001b[0;34m=\u001b[0m\u001b[0muse_numpy\u001b[0m\u001b[0;34m)\u001b[0m\u001b[0;34m\u001b[0m\u001b[0;34m\u001b[0m\u001b[0m\n\u001b[0m\u001b[1;32m    520\u001b[0m \u001b[0;34m\u001b[0m\u001b[0m\n\u001b[1;32m    521\u001b[0m     \u001b[0;32mdef\u001b[0m \u001b[0minit_dir_prior\u001b[0m\u001b[0;34m(\u001b[0m\u001b[0mself\u001b[0m\u001b[0;34m,\u001b[0m \u001b[0mprior\u001b[0m\u001b[0;34m,\u001b[0m \u001b[0mname\u001b[0m\u001b[0;34m)\u001b[0m\u001b[0;34m:\u001b[0m\u001b[0;34m\u001b[0m\u001b[0;34m\u001b[0m\u001b[0m\n",
      "\u001b[0;32m/usr/local/Cellar/jupyterlab/2.1.2/libexec/lib/python3.8/site-packages/gensim/models/ldamodel.py\u001b[0m in \u001b[0;36mupdate\u001b[0;34m(self, corpus, chunksize, decay, offset, passes, update_every, eval_every, iterations, gamma_threshold, chunks_as_numpy)\u001b[0m\n\u001b[1;32m    963\u001b[0m \u001b[0;34m\u001b[0m\u001b[0m\n\u001b[1;32m    964\u001b[0m                 \u001b[0;32mif\u001b[0m \u001b[0meval_every\u001b[0m \u001b[0;32mand\u001b[0m \u001b[0;34m(\u001b[0m\u001b[0;34m(\u001b[0m\u001b[0mreallen\u001b[0m \u001b[0;34m==\u001b[0m \u001b[0mlencorpus\u001b[0m\u001b[0;34m)\u001b[0m \u001b[0;32mor\u001b[0m \u001b[0;34m(\u001b[0m\u001b[0;34m(\u001b[0m\u001b[0mchunk_no\u001b[0m \u001b[0;34m+\u001b[0m \u001b[0;36m1\u001b[0m\u001b[0;34m)\u001b[0m \u001b[0;34m%\u001b[0m \u001b[0;34m(\u001b[0m\u001b[0meval_every\u001b[0m \u001b[0;34m*\u001b[0m \u001b[0mself\u001b[0m\u001b[0;34m.\u001b[0m\u001b[0mnumworkers\u001b[0m\u001b[0;34m)\u001b[0m \u001b[0;34m==\u001b[0m \u001b[0;36m0\u001b[0m\u001b[0;34m)\u001b[0m\u001b[0;34m)\u001b[0m\u001b[0;34m:\u001b[0m\u001b[0;34m\u001b[0m\u001b[0;34m\u001b[0m\u001b[0m\n\u001b[0;32m--> 965\u001b[0;31m                     \u001b[0mself\u001b[0m\u001b[0;34m.\u001b[0m\u001b[0mlog_perplexity\u001b[0m\u001b[0;34m(\u001b[0m\u001b[0mchunk\u001b[0m\u001b[0;34m,\u001b[0m \u001b[0mtotal_docs\u001b[0m\u001b[0;34m=\u001b[0m\u001b[0mlencorpus\u001b[0m\u001b[0;34m)\u001b[0m\u001b[0;34m\u001b[0m\u001b[0;34m\u001b[0m\u001b[0m\n\u001b[0m\u001b[1;32m    966\u001b[0m \u001b[0;34m\u001b[0m\u001b[0m\n\u001b[1;32m    967\u001b[0m                 \u001b[0;32mif\u001b[0m \u001b[0mself\u001b[0m\u001b[0;34m.\u001b[0m\u001b[0mdispatcher\u001b[0m\u001b[0;34m:\u001b[0m\u001b[0;34m\u001b[0m\u001b[0;34m\u001b[0m\u001b[0m\n",
      "\u001b[0;32m/usr/local/Cellar/jupyterlab/2.1.2/libexec/lib/python3.8/site-packages/gensim/models/ldamodel.py\u001b[0m in \u001b[0;36mlog_perplexity\u001b[0;34m(self, chunk, total_docs)\u001b[0m\n\u001b[1;32m    819\u001b[0m         \u001b[0mcorpus_words\u001b[0m \u001b[0;34m=\u001b[0m \u001b[0msum\u001b[0m\u001b[0;34m(\u001b[0m\u001b[0mcnt\u001b[0m \u001b[0;32mfor\u001b[0m \u001b[0mdocument\u001b[0m \u001b[0;32min\u001b[0m \u001b[0mchunk\u001b[0m \u001b[0;32mfor\u001b[0m \u001b[0m_\u001b[0m\u001b[0;34m,\u001b[0m \u001b[0mcnt\u001b[0m \u001b[0;32min\u001b[0m \u001b[0mdocument\u001b[0m\u001b[0;34m)\u001b[0m\u001b[0;34m\u001b[0m\u001b[0;34m\u001b[0m\u001b[0m\n\u001b[1;32m    820\u001b[0m         \u001b[0msubsample_ratio\u001b[0m \u001b[0;34m=\u001b[0m \u001b[0;36m1.0\u001b[0m \u001b[0;34m*\u001b[0m \u001b[0mtotal_docs\u001b[0m \u001b[0;34m/\u001b[0m \u001b[0mlen\u001b[0m\u001b[0;34m(\u001b[0m\u001b[0mchunk\u001b[0m\u001b[0;34m)\u001b[0m\u001b[0;34m\u001b[0m\u001b[0;34m\u001b[0m\u001b[0m\n\u001b[0;32m--> 821\u001b[0;31m         \u001b[0mperwordbound\u001b[0m \u001b[0;34m=\u001b[0m \u001b[0mself\u001b[0m\u001b[0;34m.\u001b[0m\u001b[0mbound\u001b[0m\u001b[0;34m(\u001b[0m\u001b[0mchunk\u001b[0m\u001b[0;34m,\u001b[0m \u001b[0msubsample_ratio\u001b[0m\u001b[0;34m=\u001b[0m\u001b[0msubsample_ratio\u001b[0m\u001b[0;34m)\u001b[0m \u001b[0;34m/\u001b[0m \u001b[0;34m(\u001b[0m\u001b[0msubsample_ratio\u001b[0m \u001b[0;34m*\u001b[0m \u001b[0mcorpus_words\u001b[0m\u001b[0;34m)\u001b[0m\u001b[0;34m\u001b[0m\u001b[0;34m\u001b[0m\u001b[0m\n\u001b[0m\u001b[1;32m    822\u001b[0m         logger.info(\n\u001b[1;32m    823\u001b[0m             \u001b[0;34m\"%.3f per-word bound, %.1f perplexity estimate based on a held-out corpus of %i documents with %i words\"\u001b[0m\u001b[0;34m,\u001b[0m\u001b[0;34m\u001b[0m\u001b[0;34m\u001b[0m\u001b[0m\n",
      "\u001b[0;32m/usr/local/Cellar/jupyterlab/2.1.2/libexec/lib/python3.8/site-packages/gensim/models/ldamodel.py\u001b[0m in \u001b[0;36mbound\u001b[0;34m(self, corpus, gamma, subsample_ratio)\u001b[0m\n\u001b[1;32m   1085\u001b[0m                 \u001b[0mlogger\u001b[0m\u001b[0;34m.\u001b[0m\u001b[0mdebug\u001b[0m\u001b[0;34m(\u001b[0m\u001b[0;34m\"bound: at document #%i\"\u001b[0m\u001b[0;34m,\u001b[0m \u001b[0md\u001b[0m\u001b[0;34m)\u001b[0m\u001b[0;34m\u001b[0m\u001b[0;34m\u001b[0m\u001b[0m\n\u001b[1;32m   1086\u001b[0m             \u001b[0;32mif\u001b[0m \u001b[0mgamma\u001b[0m \u001b[0;32mis\u001b[0m \u001b[0;32mNone\u001b[0m\u001b[0;34m:\u001b[0m\u001b[0;34m\u001b[0m\u001b[0;34m\u001b[0m\u001b[0m\n\u001b[0;32m-> 1087\u001b[0;31m                 \u001b[0mgammad\u001b[0m\u001b[0;34m,\u001b[0m \u001b[0m_\u001b[0m \u001b[0;34m=\u001b[0m \u001b[0mself\u001b[0m\u001b[0;34m.\u001b[0m\u001b[0minference\u001b[0m\u001b[0;34m(\u001b[0m\u001b[0;34m[\u001b[0m\u001b[0mdoc\u001b[0m\u001b[0;34m]\u001b[0m\u001b[0;34m)\u001b[0m\u001b[0;34m\u001b[0m\u001b[0;34m\u001b[0m\u001b[0m\n\u001b[0m\u001b[1;32m   1088\u001b[0m             \u001b[0;32melse\u001b[0m\u001b[0;34m:\u001b[0m\u001b[0;34m\u001b[0m\u001b[0;34m\u001b[0m\u001b[0m\n\u001b[1;32m   1089\u001b[0m                 \u001b[0mgammad\u001b[0m \u001b[0;34m=\u001b[0m \u001b[0mgamma\u001b[0m\u001b[0;34m[\u001b[0m\u001b[0md\u001b[0m\u001b[0;34m]\u001b[0m\u001b[0;34m\u001b[0m\u001b[0;34m\u001b[0m\u001b[0m\n",
      "\u001b[0;32m/usr/local/Cellar/jupyterlab/2.1.2/libexec/lib/python3.8/site-packages/gensim/models/ldamodel.py\u001b[0m in \u001b[0;36minference\u001b[0;34m(self, chunk, collect_sstats)\u001b[0m\n\u001b[1;32m    691\u001b[0m                 \u001b[0;31m# Substituting the value of the optimal phi back into\u001b[0m\u001b[0;34m\u001b[0m\u001b[0;34m\u001b[0m\u001b[0;34m\u001b[0m\u001b[0m\n\u001b[1;32m    692\u001b[0m                 \u001b[0;31m# the update for gamma gives this update. Cf. Lee&Seung 2001.\u001b[0m\u001b[0;34m\u001b[0m\u001b[0;34m\u001b[0m\u001b[0;34m\u001b[0m\u001b[0m\n\u001b[0;32m--> 693\u001b[0;31m                 \u001b[0mgammad\u001b[0m \u001b[0;34m=\u001b[0m \u001b[0mself\u001b[0m\u001b[0;34m.\u001b[0m\u001b[0malpha\u001b[0m \u001b[0;34m+\u001b[0m \u001b[0mexpElogthetad\u001b[0m \u001b[0;34m*\u001b[0m \u001b[0mnp\u001b[0m\u001b[0;34m.\u001b[0m\u001b[0mdot\u001b[0m\u001b[0;34m(\u001b[0m\u001b[0mcts\u001b[0m \u001b[0;34m/\u001b[0m \u001b[0mphinorm\u001b[0m\u001b[0;34m,\u001b[0m \u001b[0mexpElogbetad\u001b[0m\u001b[0;34m.\u001b[0m\u001b[0mT\u001b[0m\u001b[0;34m)\u001b[0m\u001b[0;34m\u001b[0m\u001b[0;34m\u001b[0m\u001b[0m\n\u001b[0m\u001b[1;32m    694\u001b[0m                 \u001b[0mElogthetad\u001b[0m \u001b[0;34m=\u001b[0m \u001b[0mdirichlet_expectation\u001b[0m\u001b[0;34m(\u001b[0m\u001b[0mgammad\u001b[0m\u001b[0;34m)\u001b[0m\u001b[0;34m\u001b[0m\u001b[0;34m\u001b[0m\u001b[0m\n\u001b[1;32m    695\u001b[0m                 \u001b[0mexpElogthetad\u001b[0m \u001b[0;34m=\u001b[0m \u001b[0mnp\u001b[0m\u001b[0;34m.\u001b[0m\u001b[0mexp\u001b[0m\u001b[0;34m(\u001b[0m\u001b[0mElogthetad\u001b[0m\u001b[0;34m)\u001b[0m\u001b[0;34m\u001b[0m\u001b[0;34m\u001b[0m\u001b[0m\n",
      "\u001b[0;31mKeyboardInterrupt\u001b[0m: "
     ]
    }
   ],
   "source": [
    "# Set parameters.\n",
    "num_topics = 5\n",
    "chunksize = 10000 \n",
    "passes = 20 \n",
    "iterations = 400\n",
    "eval_every = 1  \n",
    "\n",
    "# Make a index to word dictionary.\n",
    "temp = dictionary[0]  # only to \"load\" the dictionary.\n",
    "id2word = dictionary.id2token\n",
    "\n",
    "lda_model = LdaModel(corpus=corpus, id2word=id2word, chunksize=chunksize, \\\n",
    "                       alpha='auto', eta='auto', \\\n",
    "                       iterations=iterations, num_topics=num_topics, \\\n",
    "                       passes=passes, eval_every=eval_every)\n",
    "# Print the Keyword in the 5 topics\n",
    "print(lda_model.print_topics())"
   ]
  },
  {
   "cell_type": "markdown",
   "metadata": {},
   "source": [
    "LDA is an unsupervised technique, meaning that we don’t know prior to running the model how many topics exits in our corpus.You can use LDA visualization tool pyLDAvis, tried a few numbers of topics and compared the results. Topic coherence is one of the main techniques used to estimate the number of topics.We will use the c_v measure to see the coherence score of our LDA model."
   ]
  },
  {
   "cell_type": "code",
   "execution_count": null,
   "metadata": {},
   "outputs": [],
   "source": [
    "# Compute Coherence Score using c_v\n",
    "coherence_model_lda = CoherenceModel(model=lda_model, texts=docs, dictionary=dictionary, coherence='c_v')\n",
    "coherence_lda = coherence_model_lda.get_coherence()\n",
    "print('\\nCoherence Score: ', coherence_lda)"
   ]
  },
  {
   "cell_type": "markdown",
   "metadata": {},
   "source": [
    "The last step is to find the optimal number of topics.We need to build many LDA models with different values of the number of topics (k) and pick the one that gives the highest coherence value. Choosing a ‘k’ that marks the end of a rapid growth of topic coherence usually offers meaningful and interpretable topics. Picking an even higher value can sometimes provide more granular sub-topics. If you see the same keywords being repeated in multiple topics, it’s probably a sign that the ‘k’ is too large."
   ]
  },
  {
   "cell_type": "code",
   "execution_count": 22,
   "metadata": {},
   "outputs": [],
   "source": [
    "def compute_coherence_values(dictionary, corpus, texts, limit, start=2, step=1):\n",
    "    \"\"\"\n",
    "    Compute c_v coherence for various number of topics\n",
    "\n",
    "    Parameters:\n",
    "    ----------\n",
    "    dictionary : Gensim dictionary\n",
    "    corpus : Gensim corpus\n",
    "    texts : List of input texts\n",
    "    limit : Max num of topics\n",
    "\n",
    "    Returns:\n",
    "    -------\n",
    "    model_list : List of LDA topic models\n",
    "    coherence_values : Coherence values corresponding to the LDA model with respective number of topics\n",
    "    \"\"\"\n",
    "    coherence_values = []\n",
    "    model_list = []\n",
    "    for num_topics in range(start, limit, step):\n",
    "        model=LdaModel(corpus=corpus, id2word=dictionary, num_topics=num_topics, alpha='auto', eta='auto', \n",
    "                       chunksize=10000, iterations=400, passes=20, eval_every=1)\n",
    "        model_list.append(model)\n",
    "        coherencemodel = CoherenceModel(model=model, texts=texts, dictionary=dictionary, coherence='c_v')\n",
    "        coherence_values.append(coherencemodel.get_coherence())\n",
    "\n",
    "    return model_list, coherence_values\n",
    "\n",
    "\n"
   ]
  },
  {
   "cell_type": "code",
   "execution_count": 23,
   "metadata": {},
   "outputs": [
    {
     "data": {
      "image/png": "[encoded data removed]",
      "text/plain": [
       "<Figure size 432x288 with 1 Axes>"
      ]
     },
     "metadata": {
      "needs_background": "light"
     },
     "output_type": "display_data"
    }
   ],
   "source": [
    "model_list, coherence_values = compute_coherence_values(dictionary=dictionary, corpus=corpus, texts=docs, start=2, limit=10, step=1)\n",
    "# Show graph\n",
    "x = range(start, limit, step)\n",
    "plt.plot(x, coherence_values)\n",
    "plt.xlabel(\"Num Topics\")\n",
    "plt.ylabel(\"Coherence score\")\n",
    "plt.legend((\"coherence_values\"), loc='best')\n",
    "plt.show()"
   ]
  },
  {
   "cell_type": "code",
   "execution_count": 24,
   "metadata": {},
   "outputs": [],
   "source": [
    "lda_model = gensim.models.LdaMulticore(corpus=corpus,\n",
    "                                           id2word=dictionary,\n",
    "                                           num_topics=3, \n",
    "                                           random_state=100,\n",
    "                                           chunksize=10000,\n",
    "                                           passes=10,\n",
    "                                           alpha=0.01,\n",
    "                                           eta=0.9)"
   ]
  },
  {
   "cell_type": "code",
   "execution_count": 25,
   "metadata": {},
   "outputs": [
    {
     "data": {
      "text/html": [
       "\n",
       "<link rel=\"stylesheet\" type=\"text/css\" href=\"https://cdn.rawgit.com/bmabey/pyLDAvis/files/ldavis.v1.0.0.css\">\n",
       "\n",
       "\n",
       "<div id=\"ldavis_el597257080261449241048056\"></div>\n",
       "<script type=\"text/javascript\">\n",
       "\n",
       "var ldavis_el597257080261449241048056_data = {\"mdsDat\": {\"x\": [-0.07556078120438041, -0.004653560519755217, 0.08021434172413562], \"y\": [0.033374603664006165, -0.061259119773109535, 0.027884516109103363], \"topics\": [1, 2, 3], \"cluster\": [1, 1, 1], \"Freq\": [39.75554275512695, 35.23310470581055, 25.0113582611084]}, \"tinfo\": {\"Term\": [\"hello_fresh\", \"customer_service\", \"hello\", \"easy_prepare\", \"customer\", \"service\", \"easy_follow\", \"they\", \"fresh\", \"look_forward\", \"that\", \"credit\", \"their\", \"were\", \"delivery\", \"issue\", \"follow\", \"very_happy\", \"order\", \"account\", \"prepare\", \"missing_item\", \"highly_recommend\", \"this\", \"email\", \"company\", \"refund\", \"missing\", \"good\", \"dinner\", \"exceeded_expectation\", \"stay_home\", \"thoroughly_enjoyed\", \"having_decide\", \"gluten_free\", \"take_guess\", \"le_stressful\", \"coming_home\", \"ease_preparation\", \"little_pricey\", \"look_forward_each_week\", \"cost_effective\", \"guess_work\", \"whole_family\", \"year_daughter\", \"sou_chef\", \"every_night\", \"look_forward\", \"extremely_pleased\", \"worry_about\", \"busy_life\", \"beyond_expectation\", \"absolute_best\", \"learning_technique\", \"ease_preparing\", \"made_life_much_easier\", \"figuring_what\", \"your_fingertip\", \"cannot_enough\", \"made_life\", \"much_easier\", \"very_pleased\", \"loved_every\", \"take_stress\", \"couldn_happier\", \"truly_enjoyed\", \"hello_fresh\", \"hello\", \"come_home\", \"especially_during\", \"busy_schedule\", \"life_easier\", \"forward\", \"pleased_with\", \"life_much\", \"fresh\", \"think_about\", \"absolutely_love\", \"planning_shopping\", \"dinner\", \"portion_perfect\", \"easier\", \"blue_apron\", \"love\", \"cooking\", \"life\", \"highly_recommend\", \"family\", \"look\", \"pleased\", \"meal\", \"home\", \"make\", \"have\", \"every\", \"each_week\", \"delicious\", \"cook\", \"husband\", \"been\", \"easy\", \"with\", \"recipe\", \"food\", \"healthy\", \"week\", \"about\", \"what\", \"ingredient\", \"that\", \"great\", \"time\", \"very\", \"this\", \"hellofresh\", \"easy_follow\", \"like\", \"ground_beef\", \"pot_pan\", \"ground\", \"plastic_bag\", \"sour_cream\", \"sour\", \"instruction_easy_follow\", \"bell_pepper\", \"than_others\", \"cream\", \"some_sort\", \"stock_concentrate\", \"most_part\", \"than_stated\", \"pot\", \"busted_open\", \"giving_star\", \"potato_rice\", \"follow_direction\", \"worth_price\", \"direction_easy_follow\", \"olive_butter\", \"once_while\", \"ground_pork\", \"salt_pepper\", \"go_waste\", \"something_different\", \"white_rice\", \"leaked_over\", \"would_prefer\", \"save_money\", \"pepper\", \"only_complaint\", \"only_reason\", \"cold_pack\", \"just_right\", \"chicken_breast\", \"rice\", \"easy_follow\", \"potato\", \"looking_forward\", \"follow\", \"steak\", \"green_bean\", \"chicken\", \"beef\", \"some\", \"really_enjoy\", \"sometimes\", \"good\", \"recipe\", \"vegetable\", \"meat\", \"that\", \"most\", \"like\", \"food\", \"missing_ingredient\", \"meal\", \"only\", \"more\", \"price\", \"ingredient\", \"great\", \"have\", \"really\", \"easy\", \"were\", \"time\", \"would\", \"just\", \"week\", \"there\", \"produce\", \"with\", \"very\", \"love\", \"been\", \"quality\", \"hellofresh\", \"they\", \"this\", \"delicious\", \"fresh\", \"their_system\", \"great_tasting\", \"last_shipment\", \"being_charged\", \"they_refused\", \"received_email\", \"refund_money\", \"cancelled_account\", \"their_website\", \"give_credit\", \"offered_credit\", \"within_hour\", \"credit_next\", \"contacted_customer\", \"asked_refund\", \"gift_card\", \"full_refund\", \"refund\", \"tracking_number\", \"gave_credit\", \"refunded_money\", \"canceled_subscription\", \"missing_item\", \"tracking_information\", \"rude\", \"go_wrong\", \"rare_occasion\", \"refused\", \"asked_speak\", \"called_customer\", \"customer_service\", \"credit_card\", \"right_away\", \"email\", \"contacted\", \"customer\", \"customer_support\", \"cancelled_subscription\", \"account\", \"charged\", \"easy_prepare\", \"credit\", \"money_back\", \"phone_call\", \"called\", \"told\", \"credit_account\", \"service\", \"chat\", \"their\", \"they\", \"cancelled\", \"phone\", \"wish_there\", \"issue\", \"very_happy\", \"company\", \"order\", \"delivery\", \"choose_from\", \"le_than\", \"prepare\", \"that\", \"this\", \"were\", \"received\", \"with\", \"when\", \"have\", \"food\", \"meal\", \"been\", \"very\", \"great\", \"them\", \"time\", \"week\", \"hello_fresh\", \"fresh\", \"hellofresh\", \"would\", \"recipe\", \"easy\", \"good\"], \"Freq\": [27902.0, 7493.0, 9392.0, 3905.0, 3497.0, 6816.0, 8075.0, 7641.0, 16247.0, 2098.0, 14316.0, 1018.0, 2033.0, 4578.0, 4072.0, 2012.0, 3182.0, 1242.0, 2274.0, 689.0, 2446.0, 589.0, 2194.0, 6446.0, 518.0, 1392.0, 481.0, 1441.0, 6258.0, 3202.0, 111.9497299194336, 206.17185974121094, 217.65322875976562, 84.93241119384766, 414.0274353027344, 193.4625244140625, 87.49564361572266, 162.63995361328125, 224.74911499023438, 347.7486267089844, 106.4088363647461, 197.01588439941406, 83.6920394897461, 286.3620910644531, 83.63944244384766, 46.00779724121094, 563.3605346679688, 2008.4993896484375, 69.08132934570312, 644.6428833007812, 143.5196990966797, 42.751800537109375, 45.623443603515625, 83.00145721435547, 62.70949935913086, 61.69581985473633, 156.8173065185547, 45.40214538574219, 82.51766967773438, 237.68173217773438, 623.0484619140625, 864.2862548828125, 602.4437866210938, 142.06825256347656, 186.990966796875, 116.36429595947266, 24731.7890625, 8311.1552734375, 434.1765441894531, 251.16229248046875, 231.08200073242188, 207.77162170410156, 773.9713745117188, 425.1264343261719, 214.6459197998047, 11382.44921875, 706.5957641601562, 1005.5098876953125, 343.29351806640625, 2344.805908203125, 305.5062561035156, 556.42626953125, 827.2488403320312, 6087.185546875, 2593.568115234375, 750.2216186523438, 1555.876708984375, 1773.2021484375, 871.5364990234375, 487.9046936035156, 11610.8154296875, 1220.8680419921875, 3188.6923828125, 8727.3818359375, 2159.226318359375, 1765.8192138671875, 3294.62451171875, 2411.07763671875, 1387.8465576171875, 4087.008056640625, 4351.91552734375, 4590.68603515625, 4236.12255859375, 4299.36962890625, 1048.8775634765625, 2935.466064453125, 1646.859619140625, 1709.092041015625, 2559.605712890625, 3904.091796875, 2841.881591796875, 2583.96826171875, 2343.92431640625, 2166.581298828125, 1993.6103515625, 2212.0009765625, 1906.9901123046875, 193.5917205810547, 108.74991607666016, 96.96294403076172, 59.748138427734375, 406.1499938964844, 140.17611694335938, 37.427249908447266, 67.05037689208984, 97.52464294433594, 147.41656494140625, 86.13285064697266, 31.30889320373535, 702.6664428710938, 45.112491607666016, 48.71509552001953, 35.7469482421875, 109.41549682617188, 76.12757110595703, 119.36125183105469, 123.62245178222656, 20.779918670654297, 40.913997650146484, 178.23858642578125, 35.31048583984375, 283.26055908203125, 73.54437255859375, 199.64990234375, 56.125736236572266, 132.7703094482422, 165.89328002929688, 450.5230712890625, 301.3280334472656, 838.3642578125, 455.45428466796875, 136.21932983398438, 536.67578125, 243.55209350585938, 257.13299560546875, 5675.10986328125, 495.64764404296875, 263.5245361328125, 2160.72119140625, 240.46826171875, 614.003662109375, 708.0008544921875, 261.8727111816406, 2124.246337890625, 660.585693359375, 891.13427734375, 3404.62890625, 5948.68017578125, 899.9310913085938, 1454.5142822265625, 6269.54296875, 1199.1473388671875, 2825.567138671875, 5374.94775390625, 847.6975708007812, 9083.4404296875, 2031.4710693359375, 2148.25146484375, 846.470703125, 3015.361328125, 3606.82958984375, 6769.048828125, 1811.2540283203125, 3853.1630859375, 2165.257568359375, 2986.7119140625, 2411.081298828125, 1699.3333740234375, 2904.4140625, 1888.771728515625, 1202.0924072265625, 3744.665771484375, 2412.22314453125, 2818.0712890625, 2627.79345703125, 1682.0457763671875, 1916.0030517578125, 2272.229736328125, 2012.727783203125, 1948.176513671875, 2566.243408203125, 79.2303466796875, 385.5059509277344, 122.53553009033203, 84.30010223388672, 100.39678192138672, 157.4529266357422, 111.15650177001953, 62.16550064086914, 129.9008331298828, 181.2101593017578, 67.37015533447266, 72.72407531738281, 77.99858093261719, 180.23822021484375, 48.13962936401367, 245.4043426513672, 61.572845458984375, 456.7255554199219, 69.51939392089844, 211.7795867919922, 58.63798141479492, 93.4591293334961, 556.7559814453125, 39.87131881713867, 63.03337860107422, 47.814537048339844, 66.43482208251953, 62.76399612426758, 39.65766143798828, 246.45248413085938, 6968.04541015625, 439.31622314453125, 252.9825439453125, 481.25567626953125, 215.7391815185547, 3099.761474609375, 187.65879821777344, 181.3688507080078, 619.0250244140625, 312.640625, 3268.360595703125, 893.2723388671875, 165.14764404296875, 144.77529907226562, 445.7210693359375, 444.80047607421875, 178.58120727539062, 4077.354248046875, 197.4825439453125, 1305.359130859375, 3883.541748046875, 247.91510009765625, 210.8199920654297, 573.1318969726562, 1197.083984375, 786.967041015625, 825.031494140625, 1203.323974609375, 1873.7308349609375, 750.1926879882812, 469.9151306152344, 1201.1483154296875, 4142.47265625, 2267.012939453125, 1686.03662109375, 908.3009033203125, 3003.2685546875, 1395.721435546875, 4175.791015625, 2717.995361328125, 3776.972900390625, 2129.678955078125, 1768.064453125, 2033.9066162109375, 1169.397705078125, 1727.240478515625, 1693.201904296875, 3012.002685546875, 2299.2041015625, 1416.9678955078125, 1407.801025390625, 1883.98681640625, 1575.90478515625, 1323.51416015625], \"Total\": [27902.0, 7493.0, 9392.0, 3905.0, 3497.0, 6816.0, 8075.0, 7641.0, 16247.0, 2098.0, 14316.0, 1018.0, 2033.0, 4578.0, 4072.0, 2012.0, 3182.0, 1242.0, 2274.0, 689.0, 2446.0, 589.0, 2194.0, 6446.0, 518.0, 1392.0, 481.0, 1441.0, 6258.0, 3202.0, 114.59199523925781, 211.33628845214844, 223.5412139892578, 87.351318359375, 426.0495910644531, 199.20196533203125, 90.34839630126953, 167.96237182617188, 232.32411193847656, 359.6295471191406, 110.53702545166016, 205.22152709960938, 87.2763671875, 298.7135925292969, 87.25814819335938, 48.01370620727539, 588.437744140625, 2098.57958984375, 72.20447540283203, 674.1682739257812, 150.76963806152344, 44.959808349609375, 47.9867057800293, 87.33544158935547, 66.15949249267578, 65.10908508300781, 165.6207275390625, 47.98466873168945, 87.23296356201172, 251.30728149414062, 658.9824829101562, 926.6177978515625, 648.090576171875, 150.7360076904297, 199.18563842773438, 123.36283874511719, 27902.439453125, 9392.5185546875, 470.4642333984375, 271.0749816894531, 250.2222442626953, 225.60621643066406, 911.1007080078125, 481.8488464355469, 233.68264770507812, 16247.896484375, 847.5921630859375, 1248.2161865234375, 388.6526184082031, 3202.133056640625, 343.89764404296875, 670.5277709960938, 1047.034912109375, 9991.044921875, 3793.77392578125, 939.8687744140625, 2194.48486328125, 2579.880615234375, 1139.642578125, 584.3265991210938, 24471.228515625, 1739.628662109375, 5547.6171875, 19672.22265625, 3584.43359375, 2830.47802734375, 6179.908203125, 4257.583984375, 2134.56103515625, 8844.48046875, 9780.982421875, 11338.6201171875, 12068.7890625, 12392.3125, 1508.761474609375, 7533.08203125, 3058.840087890625, 3313.078857421875, 6726.953125, 14316.107421875, 8482.6171875, 7297.9208984375, 6524.2119140625, 6446.322265625, 5326.5810546875, 8075.4873046875, 5612.31640625, 200.65966796875, 113.69978332519531, 101.62581634521484, 62.695350646972656, 428.34912109375, 148.56106567382812, 39.67863464355469, 71.66876220703125, 104.61981201171875, 158.39883422851562, 92.5699462890625, 33.652793884277344, 757.2364501953125, 48.625370025634766, 52.653770446777344, 38.63715362548828, 118.37881469726562, 82.56272888183594, 129.5384521484375, 134.68551635742188, 22.652690887451172, 44.64198303222656, 194.7001495361328, 38.6163215637207, 310.4337158203125, 80.601318359375, 218.893798828125, 62.564517974853516, 148.14703369140625, 185.58743286132812, 504.0679016113281, 338.1856689453125, 958.741455078125, 515.9428100585938, 152.44097900390625, 626.8217163085938, 283.695068359375, 303.1766052246094, 8075.4873046875, 605.613037109375, 311.19696044921875, 3182.767578125, 289.1831359863281, 810.4527587890625, 972.5216674804688, 318.2333679199219, 3446.4521484375, 918.6097412109375, 1303.35009765625, 6258.71435546875, 12068.7890625, 1367.9327392578125, 2428.91552734375, 14316.107421875, 1956.10986328125, 5612.31640625, 12392.3125, 1307.163330078125, 24471.228515625, 3880.155517578125, 4222.455078125, 1323.0343017578125, 6726.953125, 8482.6171875, 19672.22265625, 3551.2783203125, 9780.982421875, 4578.9736328125, 7297.9208984375, 5475.955078125, 3382.16455078125, 7533.08203125, 4046.389892578125, 2106.109130859375, 11338.6201171875, 6524.2119140625, 9991.044921875, 8844.48046875, 4021.813232421875, 5326.5810546875, 7641.666015625, 6446.322265625, 6179.908203125, 16247.896484375, 81.83285522460938, 399.1081237792969, 127.16838073730469, 87.52120971679688, 104.54264068603516, 164.06422424316406, 115.88015747070312, 64.87631225585938, 135.73818969726562, 189.60549926757812, 70.54969787597656, 76.22136688232422, 81.90763092041016, 189.67901611328125, 50.73280334472656, 258.6833801269531, 64.91100311279297, 481.80517578125, 73.43307495117188, 223.73841857910156, 62.088356018066406, 98.96220397949219, 589.7639770507812, 42.238067626953125, 66.8239517211914, 50.74793243408203, 70.60961151123047, 66.83489990234375, 42.251129150390625, 262.6339416503906, 7493.8994140625, 469.88165283203125, 270.2464294433594, 518.3681030273438, 231.5291748046875, 3497.592041015625, 201.250244140625, 195.5999755859375, 689.0580444335938, 342.6116027832031, 3905.3671875, 1018.4077758789062, 178.5962677001953, 155.86387634277344, 519.59765625, 529.7974853515625, 198.7959442138672, 6816.7607421875, 223.69036865234375, 2033.0540771484375, 7641.666015625, 292.6606750488281, 241.90155029296875, 811.9898681640625, 2012.597900390625, 1242.5477294921875, 1392.39306640625, 2274.0576171875, 4072.22412109375, 1238.8006591796875, 674.0090942382812, 2446.78759765625, 14316.107421875, 6446.322265625, 4578.9736328125, 1835.35986328125, 11338.6201171875, 3575.9912109375, 19672.22265625, 12392.3125, 24471.228515625, 8844.48046875, 6524.2119140625, 8482.6171875, 3069.93359375, 7297.9208984375, 7533.08203125, 27902.439453125, 16247.896484375, 5326.5810546875, 5475.955078125, 12068.7890625, 9780.982421875, 6258.71435546875], \"Category\": [\"Default\", \"Default\", \"Default\", \"Default\", \"Default\", \"Default\", \"Default\", \"Default\", \"Default\", \"Default\", \"Default\", \"Default\", \"Default\", \"Default\", \"Default\", \"Default\", \"Default\", \"Default\", \"Default\", \"Default\", \"Default\", \"Default\", \"Default\", \"Default\", \"Default\", \"Default\", \"Default\", \"Default\", \"Default\", \"Default\", \"Topic1\", \"Topic1\", \"Topic1\", \"Topic1\", \"Topic1\", \"Topic1\", \"Topic1\", \"Topic1\", \"Topic1\", \"Topic1\", \"Topic1\", \"Topic1\", \"Topic1\", \"Topic1\", \"Topic1\", \"Topic1\", \"Topic1\", \"Topic1\", \"Topic1\", \"Topic1\", \"Topic1\", \"Topic1\", \"Topic1\", \"Topic1\", \"Topic1\", \"Topic1\", \"Topic1\", \"Topic1\", \"Topic1\", \"Topic1\", \"Topic1\", \"Topic1\", \"Topic1\", \"Topic1\", \"Topic1\", \"Topic1\", \"Topic1\", \"Topic1\", \"Topic1\", \"Topic1\", \"Topic1\", \"Topic1\", \"Topic1\", \"Topic1\", \"Topic1\", \"Topic1\", \"Topic1\", \"Topic1\", \"Topic1\", \"Topic1\", \"Topic1\", \"Topic1\", \"Topic1\", \"Topic1\", \"Topic1\", \"Topic1\", \"Topic1\", \"Topic1\", \"Topic1\", \"Topic1\", \"Topic1\", \"Topic1\", \"Topic1\", \"Topic1\", \"Topic1\", \"Topic1\", \"Topic1\", \"Topic1\", \"Topic1\", \"Topic1\", \"Topic1\", \"Topic1\", \"Topic1\", \"Topic1\", \"Topic1\", \"Topic1\", \"Topic1\", \"Topic1\", \"Topic1\", \"Topic1\", \"Topic1\", \"Topic1\", \"Topic1\", \"Topic1\", \"Topic1\", \"Topic1\", \"Topic1\", \"Topic2\", \"Topic2\", \"Topic2\", \"Topic2\", \"Topic2\", \"Topic2\", \"Topic2\", \"Topic2\", \"Topic2\", \"Topic2\", \"Topic2\", \"Topic2\", \"Topic2\", \"Topic2\", \"Topic2\", \"Topic2\", \"Topic2\", \"Topic2\", \"Topic2\", \"Topic2\", \"Topic2\", \"Topic2\", \"Topic2\", \"Topic2\", \"Topic2\", \"Topic2\", \"Topic2\", \"Topic2\", \"Topic2\", \"Topic2\", \"Topic2\", \"Topic2\", \"Topic2\", \"Topic2\", \"Topic2\", \"Topic2\", \"Topic2\", \"Topic2\", \"Topic2\", \"Topic2\", \"Topic2\", \"Topic2\", \"Topic2\", \"Topic2\", \"Topic2\", \"Topic2\", \"Topic2\", \"Topic2\", \"Topic2\", \"Topic2\", \"Topic2\", \"Topic2\", \"Topic2\", \"Topic2\", \"Topic2\", \"Topic2\", \"Topic2\", \"Topic2\", \"Topic2\", \"Topic2\", \"Topic2\", \"Topic2\", \"Topic2\", \"Topic2\", \"Topic2\", \"Topic2\", \"Topic2\", \"Topic2\", \"Topic2\", \"Topic2\", \"Topic2\", \"Topic2\", \"Topic2\", \"Topic2\", \"Topic2\", \"Topic2\", \"Topic2\", \"Topic2\", \"Topic2\", \"Topic2\", \"Topic2\", \"Topic2\", \"Topic2\", \"Topic2\", \"Topic3\", \"Topic3\", \"Topic3\", \"Topic3\", \"Topic3\", \"Topic3\", \"Topic3\", \"Topic3\", \"Topic3\", \"Topic3\", \"Topic3\", \"Topic3\", \"Topic3\", \"Topic3\", \"Topic3\", \"Topic3\", \"Topic3\", \"Topic3\", \"Topic3\", \"Topic3\", \"Topic3\", \"Topic3\", \"Topic3\", \"Topic3\", \"Topic3\", \"Topic3\", \"Topic3\", \"Topic3\", \"Topic3\", \"Topic3\", \"Topic3\", \"Topic3\", \"Topic3\", \"Topic3\", \"Topic3\", \"Topic3\", \"Topic3\", \"Topic3\", \"Topic3\", \"Topic3\", \"Topic3\", \"Topic3\", \"Topic3\", \"Topic3\", \"Topic3\", \"Topic3\", \"Topic3\", \"Topic3\", \"Topic3\", \"Topic3\", \"Topic3\", \"Topic3\", \"Topic3\", \"Topic3\", \"Topic3\", \"Topic3\", \"Topic3\", \"Topic3\", \"Topic3\", \"Topic3\", \"Topic3\", \"Topic3\", \"Topic3\", \"Topic3\", \"Topic3\", \"Topic3\", \"Topic3\", \"Topic3\", \"Topic3\", \"Topic3\", \"Topic3\", \"Topic3\", \"Topic3\", \"Topic3\", \"Topic3\", \"Topic3\", \"Topic3\", \"Topic3\", \"Topic3\", \"Topic3\", \"Topic3\", \"Topic3\", \"Topic3\", \"Topic3\"], \"logprob\": [30.0, 29.0, 28.0, 27.0, 26.0, 25.0, 24.0, 23.0, 22.0, 21.0, 20.0, 19.0, 18.0, 17.0, 16.0, 15.0, 14.0, 13.0, 12.0, 11.0, 10.0, 9.0, 8.0, 7.0, 6.0, 5.0, 4.0, 3.0, 2.0, 1.0, -8.155699729919434, -7.545000076293945, -7.490799903869629, -8.431900024414062, -6.847799777984619, -7.60860013961792, -8.402099609375, -7.782199859619141, -7.458700180053711, -7.022299766540527, -8.206399917602539, -7.590400218963623, -8.446599960327148, -7.2164998054504395, -8.447199821472168, -9.044899940490723, -6.53980016708374, -5.268599987030029, -8.638400077819824, -6.40500020980835, -7.907299995422363, -9.118300437927246, -9.053299903869629, -8.454899787902832, -8.735199928283691, -8.751500129699707, -7.818699836730957, -9.058199882507324, -8.460700035095215, -7.4028000831604, -6.4390997886657715, -6.111800193786621, -6.472700119018555, -7.917399883270264, -7.6427001953125, -8.116999626159668, -2.7578999996185303, -3.848400115966797, -6.800300121307373, -7.347599983215332, -7.431000232696533, -7.537300109863281, -6.2221999168396, -6.821300029754639, -7.504700183868408, -3.533900022506714, -6.313300132751465, -5.9604997634887695, -7.035099983215332, -5.113800048828125, -7.151800155639648, -6.552199840545654, -6.155600070953369, -4.159800052642822, -5.012899875640869, -6.253399848937988, -5.523900032043457, -5.393199920654297, -6.103499889373779, -6.683599948883057, -3.5139999389648438, -5.76639986038208, -4.806399822235107, -3.799499988555908, -5.196199893951416, -5.39739990234375, -4.77370023727417, -5.085899829864502, -5.638199806213379, -4.558199882507324, -4.4953999519348145, -4.44189977645874, -4.522299766540527, -4.507500171661377, -5.918300151824951, -4.889100074768066, -5.467100143432617, -5.429999828338623, -5.026100158691406, -4.604000091552734, -4.921500205993652, -5.01669979095459, -5.114200115203857, -5.192800045013428, -5.276000022888184, -5.172100067138672, -5.320499897003174, -7.487199783325195, -8.063899993896484, -8.178600311279297, -8.662799835205078, -6.746200084686279, -7.810100078582764, -9.130599975585938, -8.547499656677246, -8.172900199890137, -7.759699821472168, -8.297100067138672, -9.309100151062012, -6.1981000900268555, -8.94379997253418, -8.866999626159668, -9.17650032043457, -8.05780029296875, -8.420599937438965, -7.970799922943115, -7.935699939727783, -9.718999862670898, -9.041500091552734, -7.569799900054932, -9.188799858093262, -7.106599807739258, -8.455100059509277, -7.456399917602539, -8.7253999710083, -7.8643999099731445, -7.641600131988525, -6.642600059509277, -7.0447998046875, -6.021500110626221, -6.631700038909912, -7.838699817657471, -6.467599868774414, -7.257599830627441, -7.203400135040283, -4.109099864959717, -6.547100067138672, -7.178800106048584, -5.07480001449585, -7.270400047302246, -6.333000183105469, -6.190499782562256, -7.185100078582764, -5.091800212860107, -6.259799957275391, -5.9604997634887695, -4.620100021362305, -4.061999797821045, -5.950699806213379, -5.4704999923706055, -4.009500026702881, -5.663599967956543, -4.80649995803833, -4.16349983215332, -6.01039981842041, -3.6387999057769775, -5.136499881744385, -5.080599784851074, -6.011899948120117, -4.741499900817871, -4.562399864196777, -3.9328999519348145, -5.251200199127197, -4.496300220489502, -5.072700023651123, -4.750999927520752, -4.965099811553955, -5.315000057220459, -4.7789998054504395, -5.2093000411987305, -5.661200046539307, -4.524899959564209, -4.964700222015381, -4.809199810028076, -4.8790998458862305, -5.325200080871582, -5.195000171661377, -5.024499893188477, -5.145699977874756, -5.178299903869629, -4.9028000831604, -8.038000106811523, -6.4558000564575195, -7.601900100708008, -7.975900173187256, -7.801199913024902, -7.351200103759766, -7.699399948120117, -8.280500411987305, -7.543499946594238, -7.210700035095215, -8.20009994506836, -8.123600006103516, -8.053600311279297, -7.216000080108643, -8.536199569702148, -6.907400131225586, -8.29010009765625, -6.286200046539307, -8.168700218200684, -7.054800033569336, -8.338899612426758, -7.872799873352051, -6.088200092315674, -8.724699974060059, -8.266599655151367, -8.543000221252441, -8.214099884033203, -8.270899772644043, -8.729999542236328, -6.90310001373291, -3.561199903488159, -6.325099945068359, -6.876999855041504, -6.23390007019043, -7.036200046539307, -4.371200084686279, -7.1757001876831055, -7.209799766540527, -5.9822001457214355, -6.665299892425537, -4.318299770355225, -5.6153998374938965, -7.303500175476074, -7.435100078582764, -6.3105998039245605, -6.312699794769287, -7.225299835205078, -4.097099781036377, -7.12470006942749, -5.236100196838379, -4.1458001136779785, -6.897200107574463, -7.059299945831299, -6.059199810028076, -5.322700023651123, -5.742099761962891, -5.694900035858154, -5.317500114440918, -4.874599933624268, -5.789999961853027, -6.257800102233887, -5.319300174713135, -4.081299781799316, -4.684100151062012, -4.980199813842773, -5.598700046539307, -4.402900218963623, -5.169099807739258, -4.073299884796143, -4.502699851989746, -4.173600196838379, -4.746600151062012, -4.932700157165527, -4.792600154876709, -5.346099853515625, -4.955999851226807, -4.975900173187256, -4.400000095367432, -4.670000076293945, -5.1539998054504395, -5.1605000495910645, -4.869200229644775, -5.047699928283691, -5.222300052642822], \"loglift\": [30.0, 29.0, 28.0, 27.0, 26.0, 25.0, 24.0, 23.0, 22.0, 21.0, 20.0, 19.0, 18.0, 17.0, 16.0, 15.0, 14.0, 13.0, 12.0, 11.0, 10.0, 9.0, 8.0, 7.0, 6.0, 5.0, 4.0, 3.0, 2.0, 1.0, 0.8991000056266785, 0.8977000117301941, 0.8956999778747559, 0.8942999839782715, 0.8938000202178955, 0.8931999802589417, 0.8902999758720398, 0.8902000188827515, 0.8892999887466431, 0.8888000249862671, 0.8844000101089478, 0.881600022315979, 0.8805000185966492, 0.8802000284194946, 0.8801000118255615, 0.8797000050544739, 0.8788999915122986, 0.8784999847412109, 0.8781999945640564, 0.8776000142097473, 0.8730999827384949, 0.8720999956130981, 0.8719000220298767, 0.8715000152587891, 0.8689000010490417, 0.8686000108718872, 0.8677999973297119, 0.8671000003814697, 0.8669000267982483, 0.8666999936103821, 0.8662999868392944, 0.8528000116348267, 0.849399983882904, 0.8632000088691711, 0.8592000007629395, 0.8640000224113464, 0.801800012588501, 0.8001000285148621, 0.842199981212616, 0.8460999727249146, 0.8428000211715698, 0.8400999903678894, 0.7592999935150146, 0.7972000241279602, 0.8374000191688538, 0.5665000081062317, 0.7404999732971191, 0.7062000036239624, 0.79830002784729, 0.61080002784729, 0.8040000200271606, 0.7358999848365784, 0.6868000030517578, 0.4268999993801117, 0.5421000123023987, 0.6970000267028809, 0.578499972820282, 0.5475000143051147, 0.65420001745224, 0.7421000003814697, 0.1768999993801117, 0.5683000087738037, 0.3686999976634979, 0.10970000177621841, 0.4156000018119812, 0.4505999982357025, 0.29339998960494995, 0.3537999987602234, 0.4918999969959259, 0.15039999783039093, 0.11259999871253967, 0.018200000748038292, -0.12460000067949295, -0.13619999587535858, 0.558899998664856, -0.019999999552965164, 0.30329999327659607, 0.2605000138282776, -0.043800000101327896, -0.37689998745918274, -0.17110000550746918, -0.11580000072717667, -0.10130000114440918, -0.1678999960422516, -0.06030000001192093, -0.3725000023841858, -0.15700000524520874, 1.0073000192642212, 0.9987000226974487, 0.9962000250816345, 0.9950000047683716, 0.9900000095367432, 0.9850999712944031, 0.9847999811172485, 0.9765999913215637, 0.9729999899864197, 0.9713000059127808, 0.9710999727249146, 0.9710000157356262, 0.9684000015258789, 0.9682000279426575, 0.965399980545044, 0.965399980545044, 0.9643999934196472, 0.9620000123977661, 0.9613999724388123, 0.9574999809265137, 0.9569000005722046, 0.9559999704360962, 0.954800009727478, 0.9537000060081482, 0.9516000151634216, 0.9516000151634216, 0.951200008392334, 0.9345999956130981, 0.9336000084877014, 0.9309999942779541, 0.930899977684021, 0.9277999997138977, 0.9089999794960022, 0.9185000061988831, 0.9307000041007996, 0.8878999948501587, 0.8906000256538391, 0.8784999847412109, 0.6904000043869019, 0.8428000211715698, 0.8769000172615051, 0.6559000015258789, 0.8586999773979187, 0.7656000256538391, 0.7257000207901001, 0.8482999801635742, 0.5593000054359436, 0.7134000062942505, 0.6629999876022339, 0.4343000054359436, 0.33570000529289246, 0.6244000196456909, 0.5303999781608582, 0.2175000011920929, 0.5537999868392944, 0.35690000653266907, 0.2079000025987625, 0.6100999712944031, 0.05209999904036522, 0.3961000144481659, 0.36739999055862427, 0.5965999960899353, 0.24079999327659607, 0.18799999356269836, -0.02370000071823597, 0.3698999881744385, 0.11159999668598175, 0.29420000314712524, 0.14980000257492065, 0.22290000319480896, 0.3549000024795532, 0.09009999781847, 0.28130000829696655, 0.48240000009536743, -0.06469999998807907, 0.04820000007748604, -0.2224999964237213, -0.1704999953508377, 0.17149999737739563, 0.02070000022649765, -0.1696999967098236, -0.12080000340938568, -0.1111999973654747, -0.802299976348877, 1.3535000085830688, 1.351199984550476, 1.3487000465393066, 1.3482999801635742, 1.3453999757766724, 1.3446999788284302, 1.3442000150680542, 1.3431999683380127, 1.3418999910354614, 1.3406000137329102, 1.3396999835968018, 1.3388999700546265, 1.336899995803833, 1.3348000049591064, 1.333400011062622, 1.3330999612808228, 1.3329999446868896, 1.3323999643325806, 1.3310999870300293, 1.330899953842163, 1.3286999464035034, 1.3286000490188599, 1.3281999826431274, 1.3281999826431274, 1.3273999691009521, 1.326300024986267, 1.3249000310897827, 1.3229999542236328, 1.3224999904632568, 1.3221999406814575, 1.313099980354309, 1.318600058555603, 1.3198000192642212, 1.3115999698638916, 1.3151999711990356, 1.2651000022888184, 1.3158999681472778, 1.3102999925613403, 1.2786999940872192, 1.2942999601364136, 1.207800030708313, 1.254699945449829, 1.3076000213623047, 1.312000036239624, 1.2324999570846558, 1.2109999656677246, 1.2785999774932861, 0.8719000220298767, 1.261199951171875, 0.942799985408783, 0.7089999914169312, 1.2199000120162964, 1.2482999563217163, 1.037500023841858, 0.8662999868392944, 0.929099977016449, 0.862500011920929, 0.7494000196456909, 0.6096000075340271, 0.8842999935150146, 1.0250999927520752, 0.6743000149726868, 0.14569999277591705, 0.3407999873161316, 0.38670000433921814, 0.6823999881744385, 0.05730000138282776, 0.4449999928474426, -0.16410000622272491, -0.13130000233650208, -0.482699990272522, -0.03799999877810478, 0.08020000159740448, -0.0421999990940094, 0.4207000136375427, -0.0551999993622303, -0.10679999738931656, -0.8403000235557556, -0.569599986076355, 0.06159999966621399, 0.027499999850988388, -0.4713999927043915, -0.4397999942302704, -0.16779999434947968]}, \"token.table\": {\"Topic\": [1, 2, 3, 1, 2, 3, 1, 2, 3, 1, 2, 3, 1, 2, 3, 1, 2, 3, 1, 2, 3, 1, 2, 3, 1, 2, 3, 1, 2, 3, 1, 2, 3, 1, 2, 3, 1, 2, 3, 1, 2, 3, 1, 2, 3, 1, 2, 3, 1, 2, 3, 1, 2, 3, 1, 2, 3, 1, 2, 3, 1, 2, 3, 1, 2, 3, 1, 2, 3, 1, 2, 3, 1, 2, 3, 1, 2, 3, 1, 2, 3, 1, 2, 3, 1, 2, 3, 1, 2, 3, 1, 2, 3, 1, 2, 3, 1, 2, 3, 1, 2, 3, 1, 2, 3, 1, 2, 3, 1, 2, 3, 1, 2, 3, 1, 2, 3, 1, 2, 3, 1, 2, 3, 1, 2, 3, 1, 2, 3, 1, 2, 3, 1, 2, 3, 1, 2, 3, 1, 2, 3, 1, 2, 3, 1, 2, 3, 1, 2, 3, 1, 2, 3, 1, 2, 3, 1, 2, 3, 1, 2, 3, 1, 2, 3, 1, 2, 3, 1, 2, 3, 1, 2, 3, 1, 2, 3, 1, 2, 3, 1, 2, 3, 1, 2, 3, 1, 2, 3, 1, 2, 3, 1, 2, 3, 1, 2, 3, 1, 2, 3, 1, 2, 3, 1, 2, 3, 1, 2, 3, 1, 2, 3, 1, 2, 3, 1, 2, 3, 1, 2, 3, 1, 2, 3, 1, 2, 3, 1, 2, 3, 1, 2, 3, 1, 2, 3, 1, 2, 3, 1, 2, 3, 1, 2, 3, 1, 2, 3, 1, 2, 3, 1, 2, 3, 1, 2, 3, 1, 2, 3, 1, 2, 3, 1, 2, 3, 1, 2, 3, 1, 2, 3, 1, 2, 3, 1, 2, 3, 1, 2, 3, 1, 2, 3, 1, 2, 3, 1, 2, 3, 1, 2, 3, 1, 2, 3, 1, 2, 3, 1, 2, 3, 1, 2, 3, 1, 2, 3, 1, 2, 3, 1, 2, 3, 1, 2, 3, 1, 2, 3, 1, 2, 3, 1, 2, 3, 1, 2, 3, 1, 2, 3, 1, 2, 3, 1, 2, 3, 1, 2, 3, 1, 2, 3, 1, 2, 3, 1, 2, 3, 1, 2, 3, 1, 2, 3, 1, 2, 3, 1, 2, 3, 1, 2, 3, 1, 2, 3, 1, 2, 3, 1, 2, 3, 1, 2, 3, 1, 2, 3, 1, 2, 3, 1, 2, 3, 1, 2, 3, 1, 2, 3, 1, 2, 3, 1, 2, 3, 1, 2, 3, 1, 2, 3, 1, 2, 3, 1, 2, 3, 1, 2, 3, 1, 2, 3, 1, 2, 3, 1, 2, 3, 1, 2, 3, 1, 2, 3, 1, 2, 3, 1, 2, 3, 1, 2, 3, 1, 2, 3, 1, 2, 3, 1, 2, 3, 1, 2, 3, 1, 2, 3, 1, 2, 3, 1, 2, 3, 1, 2, 3, 1, 2, 3, 1, 2, 3, 1, 2, 3, 1, 2, 3, 1, 2, 3, 1, 2, 3, 1, 2, 3, 1, 2, 3, 1, 2, 3, 1, 2, 3, 1, 2, 3, 1, 2, 3, 1, 2, 3, 1, 2, 3, 1, 2, 3, 1, 2, 3, 1, 2, 3, 1, 2, 3, 1, 2, 3, 1, 2, 3, 1, 2, 3, 1, 2, 3, 1, 2, 3, 1, 2, 3, 1, 2, 3, 1, 2, 3, 1, 2, 3, 1, 2, 3, 1, 2, 3, 1, 2, 3, 1, 2, 3, 1, 2, 3, 1, 2, 3, 1, 2, 3, 1, 2, 3, 1, 2, 3, 1, 2, 3, 1, 2, 3, 1, 2, 3, 1, 2, 3, 1, 2, 3, 1, 2, 3, 1, 2, 3, 1, 2, 3, 1, 2, 3, 1, 2, 3, 1, 2, 3, 1, 2, 3, 1, 2, 3, 1, 2, 3, 1, 2, 3, 1, 2, 3, 1, 2, 3, 1, 2, 3, 1, 2, 3, 1, 2, 3, 1, 2, 3, 1, 2, 3, 1, 2, 3, 1, 2, 3, 1, 2, 3, 1, 2, 3], \"Freq\": [0.5384393930435181, 0.24682559072971344, 0.2147873044013977, 0.9585988521575928, 0.020839104428887367, 0.020839104428887367, 0.8059501051902771, 0.15542179346084595, 0.038454875349998474, 0.03337889909744263, 0.06820905953645706, 0.8983278274536133, 0.01971111260354519, 0.01971111260354519, 0.9461334347724915, 0.02366800606250763, 0.02366800606250763, 0.9467202425003052, 0.07227400690317154, 0.8232951760292053, 0.10683983564376831, 0.46209609508514404, 0.2971344590187073, 0.24082817137241364, 0.022851603105664253, 0.022851603105664253, 0.9597673416137695, 0.04185923933982849, 0.9348564147949219, 0.027906160801649094, 0.956409752368927, 0.022242087870836258, 0.022242087870836258, 0.7898495197296143, 0.02005663700401783, 0.19006052613258362, 0.05176364630460739, 0.9317456483840942, 0.025881823152303696, 0.9550994634628296, 0.026530541479587555, 0.019897906109690666, 0.9231793284416199, 0.0399644710123539, 0.03596802428364754, 0.02886849083006382, 0.11354939639568329, 0.8583564758300781, 0.015230324119329453, 0.04569097235798836, 0.9366649389266968, 0.02020973525941372, 0.030314603820443153, 0.9397526979446411, 0.061504676938056946, 0.09225701540708542, 0.8473977446556091, 0.015413946472108364, 0.015413946472108364, 0.9556646943092346, 0.015337425284087658, 0.056237224489450455, 0.92535799741745, 0.951475203037262, 0.022927112877368927, 0.03439066931605339, 0.017512541264295578, 0.07005016505718231, 0.9135709404945374, 0.05811604857444763, 0.05811604857444763, 0.8806816339492798, 0.07094957679510117, 0.7280043363571167, 0.20153792202472687, 0.056398581713438034, 0.8600783944129944, 0.08812278509140015, 0.24701310694217682, 0.14772352576255798, 0.6054242849349976, 0.052479326725006104, 0.8921485543251038, 0.052479326725006104, 0.9224931001663208, 0.036134522408246994, 0.040385641157627106, 0.9704554677009583, 0.01786114275455475, 0.01786114275455475, 0.2204837203025818, 0.18672887980937958, 0.5925050973892212, 0.03455287963151932, 0.03455287963151932, 0.9329277873039246, 0.026360321789979935, 0.021088257431983948, 0.9489716291427612, 0.5662835836410522, 0.3464406132698059, 0.08737349510192871, 0.6837518811225891, 0.25462770462036133, 0.061680007725954056, 0.9599382877349854, 0.024363916367292404, 0.019491132348775864, 0.9388226866722107, 0.04518397897481918, 0.015061327256262302, 0.01262635551393032, 0.9280371069908142, 0.05681860074400902, 0.027493897825479507, 0.09524671733379364, 0.8768589496612549, 0.030181702226400375, 0.07545425742864609, 0.9004207849502563, 0.014897367917001247, 0.0489484965801239, 0.9342778325080872, 0.024417748674750328, 0.012208874337375164, 0.9522922039031982, 0.07433685660362244, 0.039169806987047195, 0.8863240480422974, 0.048172518610954285, 0.02188446745276451, 0.9298229813575745, 0.039751503616571426, 0.024844691157341003, 0.9341603517532349, 0.5331794619560242, 0.3152150511741638, 0.15162037312984467, 0.24458378553390503, 0.2954159677028656, 0.4601907730102539, 0.7323243618011475, 0.20080365240573883, 0.06683044880628586, 0.04414486512541771, 0.9270421862602234, 0.04414486512541771, 0.6239228844642639, 0.31867408752441406, 0.05723414942622185, 0.9684745669364929, 0.004304331727325916, 0.02582598850131035, 0.9522442817687988, 0.045344967395067215, 0.015114989131689072, 0.8291975855827332, 0.11334355175495148, 0.05667177587747574, 0.4449450671672821, 0.3939277231693268, 0.16112901270389557, 0.2739153504371643, 0.7027439475059509, 0.023280328139662743, 0.15926799178123474, 0.003840868128463626, 0.8367971181869507, 0.02700783498585224, 0.04437001422047615, 0.9279120564460754, 0.9259430766105652, 0.022134097293019295, 0.05164622515439987, 0.6023266911506653, 0.31106728315353394, 0.08648507297039032, 0.9567707180976868, 0.03228888660669327, 0.01019649114459753, 0.977380633354187, 0.008726612664759159, 0.008726612664759159, 0.9556194543838501, 0.027699114754796028, 0.013849557377398014, 0.6872410774230957, 0.18101613223552704, 0.13178904354572296, 0.9479489922523499, 0.006037891376763582, 0.04226524010300636, 0.28057342767715454, 0.6789688467979431, 0.04053076356649399, 0.03859857842326164, 0.9186461567878723, 0.03859857842326164, 0.3469086289405823, 0.433736652135849, 0.21932952105998993, 0.8495218753814697, 0.10097676515579224, 0.04939080774784088, 0.7005214691162109, 0.15792813897132874, 0.1414952427148819, 0.03081141784787178, 0.01540570892393589, 0.9551539421081543, 0.013408515602350235, 0.03575604036450386, 0.9475350975990295, 0.011597189120948315, 0.038657296448946, 0.94710373878479, 0.02109643444418907, 0.026370543986558914, 0.9546136856079102, 0.008447457104921341, 0.9207728505134583, 0.06757965683937073, 0.971717894077301, 0.01408286765217781, 0.01408286765217781, 0.04962697997689247, 0.9180991053581238, 0.03722023591399193, 0.03941047191619873, 0.019705235958099365, 0.9458513259887695, 0.24461892247200012, 0.5440414547920227, 0.21154505014419556, 0.33503809571266174, 0.4252225458621979, 0.23978447914123535, 0.012527933344244957, 0.02004469372332096, 0.9671564698219299, 0.013572660274803638, 0.7576012015342712, 0.22950135171413422, 0.009840019047260284, 0.9544818997383118, 0.029520057141780853, 0.004983562510460615, 0.9668111205101013, 0.029901375994086266, 0.05179157108068466, 0.9063525199890137, 0.05179157108068466, 0.9624598622322083, 0.011457855813205242, 0.022915711626410484, 0.4436204433441162, 0.34408923983573914, 0.21227900683879852, 0.9730820655822754, 0.011448023840785027, 0.011448023840785027, 0.6952722668647766, 0.20745491981506348, 0.09743090718984604, 0.884853184223175, 0.006494530476629734, 0.10859706997871399, 0.8863741159439087, 0.005698426626622677, 0.10794755071401596, 0.3743489384651184, 0.3597054183483124, 0.26602429151535034, 0.7090502381324768, 0.04101190343499184, 0.24971692264080048, 0.7018738985061646, 0.17877379059791565, 0.11956574767827988, 0.6502507925033569, 0.2749979794025421, 0.07495686411857605, 0.3805586099624634, 0.44819697737693787, 0.17125138640403748, 0.02520247921347618, 0.9324917793273926, 0.02520247921347618, 0.12073946744203568, 0.28470665216445923, 0.5947536826133728, 0.2879812717437744, 0.5023410320281982, 0.20962907373905182, 0.1308186948299408, 0.8567029237747192, 0.012762799859046936, 0.007863589562475681, 0.02359076961874962, 0.9672215580940247, 0.9629390835762024, 0.011068264953792095, 0.02213652990758419, 0.1646862030029297, 0.13798032701015472, 0.6973199844360352, 0.02025015279650688, 0.8977567553520203, 0.08100061118602753, 0.9503587484359741, 0.03435031697154045, 0.011450105346739292, 0.7979837656021118, 0.08405428379774094, 0.11703761667013168, 0.9219604134559631, 0.013297505676746368, 0.06648752838373184, 0.9200512170791626, 0.017117232084274292, 0.0641896203160286, 0.33978840708732605, 0.5035353899002075, 0.15679800510406494, 0.9676624536514282, 0.025025753304362297, 0.008341917768120766, 0.7651521563529968, 0.1456597000360489, 0.0895017459988594, 0.9568376541137695, 0.03049681894481182, 0.012389332056045532, 0.9589546918869019, 0.02714022807776928, 0.00904674269258976, 0.0931885689496994, 0.8483373522758484, 0.05784118175506592, 0.6092455983161926, 0.28205257654190063, 0.10869733989238739, 0.9288824796676636, 0.06634875386953354, 0.0030859883408993483, 0.947047770023346, 0.01989596150815487, 0.03183353692293167, 0.9522480368614197, 0.030717680230736732, 0.030717680230736732, 0.5748413801193237, 0.292377769947052, 0.1328498274087906, 0.47447556257247925, 0.3711705803871155, 0.15434451401233673, 0.19514882564544678, 0.5990327596664429, 0.2058531790971756, 0.05064292252063751, 0.5057355165481567, 0.4432990252971649, 0.02371547557413578, 0.6487330198287964, 0.3281915783882141, 0.030520683154463768, 0.02543390356004238, 0.9444456100463867, 0.016797663643956184, 0.055992212146520615, 0.9238715171813965, 0.3230348229408264, 0.5087087750434875, 0.16838544607162476, 0.2448737770318985, 0.6129512786865234, 0.14211881160736084, 0.01320591475814581, 0.928375780582428, 0.05942661687731743, 0.945396900177002, 0.04400723800063133, 0.010622437112033367, 0.028348810970783234, 0.028348810970783234, 0.9496851563453674, 0.04480087757110596, 0.9184179902076721, 0.02240043878555298, 0.056497130542993546, 0.9142262935638428, 0.030816616490483284, 0.212620347738266, 0.5234326124191284, 0.26364922523498535, 0.029204953461885452, 0.8740625381469727, 0.0959591343998909, 0.03294938802719116, 0.8818807005882263, 0.08334256708621979, 0.18952906131744385, 0.2814352512359619, 0.5290103554725647, 0.05322520062327385, 0.8900436162948608, 0.05618215724825859, 0.07027652114629745, 0.06200869753956795, 0.8722556829452515, 0.0449109822511673, 0.02566341869533062, 0.930298924446106, 0.8825361728668213, 0.06689778715372086, 0.04888684302568436, 0.03190029039978981, 0.9570087790489197, 0.015950145199894905, 0.8351494073867798, 0.08556858450174332, 0.07872309535741806, 0.8820193409919739, 0.06018484756350517, 0.05810951068997383, 0.8897996544837952, 0.037801943719387054, 0.07269605249166489, 0.037983983755111694, 0.9306076169013977, 0.037983983755111694, 0.01759018376469612, 0.9586649537086487, 0.026385273784399033, 0.06604877859354019, 0.8190048336982727, 0.11558535695075989, 0.036336008459329605, 0.9205121994018555, 0.04844801127910614, 0.3584291636943817, 0.1504012793302536, 0.4908476769924164, 0.20483218133449554, 0.6394392251968384, 0.15494684875011444, 0.18707482516765594, 0.5707206726074219, 0.24215269088745117, 0.4008142352104187, 0.41821932792663574, 0.18101288378238678, 0.04248713329434395, 0.014162377454340458, 0.9347169399261475, 0.3398776054382324, 0.5099571943283081, 0.15008680522441864, 0.24166955053806305, 0.7195656299591064, 0.0391896553337574, 0.1983262300491333, 0.3067518174648285, 0.4947258532047272, 0.024380696937441826, 0.018285522237420082, 0.9569423198699951, 0.3509880006313324, 0.49292436242103577, 0.1561051458120346, 0.016604222357273102, 0.03528397157788277, 0.9485161900520325, 0.017259210348129272, 0.02588881552219391, 0.9578861594200134, 0.016106080263853073, 0.032212160527706146, 0.9502586722373962, 0.029924485832452774, 0.029924485832452774, 0.9426212906837463, 0.08905700594186783, 0.847690761089325, 0.06266974657773972, 0.02960261143743992, 0.03700326383113861, 0.9361825585365295, 0.02992938831448555, 0.02992938831448555, 0.9427757263183594, 0.0450981929898262, 0.9116277694702148, 0.0450981929898262, 0.08332210779190063, 0.894720733165741, 0.023806316778063774, 0.2338353991508484, 0.16796834766864777, 0.5980846285820007, 0.197884663939476, 0.6162859201431274, 0.18569821119308472, 0.03240792453289032, 0.9290271997451782, 0.04321056976914406, 0.07309480756521225, 0.9136850833892822, 0.018273701891303062, 0.14577817916870117, 0.6836228966712952, 0.17033028602600098, 0.9580597877502441, 0.020827386528253555, 0.020827386528253555, 0.020193716511130333, 0.9423733949661255, 0.040387433022260666, 0.01167272124439478, 0.947825014591217, 0.039687253534793854, 0.9747498035430908, 0.009463589638471603, 0.01419538538902998, 0.055328261107206345, 0.8299239277839661, 0.11411453783512115, 0.029715213924646378, 0.9211716651916504, 0.029715213924646378, 0.9688659310340881, 0.010040061548352242, 0.020080123096704483, 0.9420443177223206, 0.03317057341337204, 0.019902344793081284, 0.0382336750626564, 0.9367250800132751, 0.0382336750626564, 0.04113079234957695, 0.9254428148269653, 0.04113079234957695, 0.27269983291625977, 0.4379682242870331, 0.28932446241378784, 0.202650785446167, 0.15543118119239807, 0.6418914198875427, 0.012220030650496483, 0.012220030650496483, 0.9653823971748352, 0.029468493536114693, 0.014734246768057346, 0.9577260613441467, 0.2873026430606842, 0.3319289982318878, 0.38078999519348145, 0.24392113089561462, 0.4668358862400055, 0.28914663195610046, 0.1944602131843567, 0.29731735587120056, 0.5082661509513855, 0.019130948930978775, 0.019130948930978775, 0.9565474987030029, 0.8341276049613953, 0.13331884145736694, 0.033034756779670715, 0.33616065979003906, 0.3122710883617401, 0.3516733944416046, 0.9752116799354553, 0.01789379119873047, 0.008946895599365234, 0.3540734350681305, 0.40929466485977173, 0.2366427332162857, 0.06228795275092125, 0.09815070778131485, 0.8399435877799988, 0.023675326257944107, 0.023675326257944107, 0.9470130205154419, 0.04085352644324303, 0.01361784152686596, 0.953248918056488, 0.9403156042098999, 0.01621233858168125, 0.040530845522880554, 0.1703300178050995, 0.6579270958900452, 0.17179207503795624, 0.3592770993709564, 0.3696998357772827, 0.2709905803203583, 0.3581351339817047, 0.008852778933942318, 0.6333760619163513, 0.9324232935905457, 0.03237580880522728, 0.03453419357538223, 0.3896147608757019, 0.38549959659576416, 0.22474201023578644, 0.1589875966310501, 0.47281336784362793, 0.3682047724723816, 0.515834391117096, 0.29700469970703125, 0.18713711202144623, 0.26202526688575745, 0.3475959300994873, 0.3903812766075134, 0.04795050248503685, 0.8950760364532471, 0.04795050248503685, 0.9574388265609741, 0.010043065063655376, 0.030129194259643555, 0.17734211683273315, 0.11699653416872025, 0.7056738138198853, 0.40489935874938965, 0.3302870988845825, 0.2648470401763916, 0.026239361613988876, 0.013119680806994438, 0.9577366709709167, 0.9567344188690186, 0.03411611169576645, 0.010383164510130882, 0.051972921937704086, 0.9206632375717163, 0.0296988133341074, 0.3025956153869629, 0.4402884840965271, 0.2571240961551666, 0.06465955078601837, 0.8944571018218994, 0.03771807253360748, 0.9626607894897461, 0.011460247449576855, 0.02292049489915371, 0.9377995133399963, 0.020839989185333252, 0.020839989185333252], \"Term\": [\"about\", \"about\", \"about\", \"absolute_best\", \"absolute_best\", \"absolute_best\", \"absolutely_love\", \"absolutely_love\", \"absolutely_love\", \"account\", \"account\", \"account\", \"asked_refund\", \"asked_refund\", \"asked_refund\", \"asked_speak\", \"asked_speak\", \"asked_speak\", \"beef\", \"beef\", \"beef\", \"been\", \"been\", \"been\", \"being_charged\", \"being_charged\", \"being_charged\", \"bell_pepper\", \"bell_pepper\", \"bell_pepper\", \"beyond_expectation\", \"beyond_expectation\", \"beyond_expectation\", \"blue_apron\", \"blue_apron\", \"blue_apron\", \"busted_open\", \"busted_open\", \"busted_open\", \"busy_life\", \"busy_life\", \"busy_life\", \"busy_schedule\", \"busy_schedule\", \"busy_schedule\", \"called\", \"called\", \"called\", \"called_customer\", \"called_customer\", \"called_customer\", \"canceled_subscription\", \"canceled_subscription\", \"canceled_subscription\", \"cancelled\", \"cancelled\", \"cancelled\", \"cancelled_account\", \"cancelled_account\", \"cancelled_account\", \"cancelled_subscription\", \"cancelled_subscription\", \"cancelled_subscription\", \"cannot_enough\", \"cannot_enough\", \"cannot_enough\", \"charged\", \"charged\", \"charged\", \"chat\", \"chat\", \"chat\", \"chicken\", \"chicken\", \"chicken\", \"chicken_breast\", \"chicken_breast\", \"chicken_breast\", \"choose_from\", \"choose_from\", \"choose_from\", \"cold_pack\", \"cold_pack\", \"cold_pack\", \"come_home\", \"come_home\", \"come_home\", \"coming_home\", \"coming_home\", \"coming_home\", \"company\", \"company\", \"company\", \"contacted\", \"contacted\", \"contacted\", \"contacted_customer\", \"contacted_customer\", \"contacted_customer\", \"cook\", \"cook\", \"cook\", \"cooking\", \"cooking\", \"cooking\", \"cost_effective\", \"cost_effective\", \"cost_effective\", \"couldn_happier\", \"couldn_happier\", \"couldn_happier\", \"cream\", \"cream\", \"cream\", \"credit\", \"credit\", \"credit\", \"credit_account\", \"credit_account\", \"credit_account\", \"credit_card\", \"credit_card\", \"credit_card\", \"credit_next\", \"credit_next\", \"credit_next\", \"customer\", \"customer\", \"customer\", \"customer_service\", \"customer_service\", \"customer_service\", \"customer_support\", \"customer_support\", \"customer_support\", \"delicious\", \"delicious\", \"delicious\", \"delivery\", \"delivery\", \"delivery\", \"dinner\", \"dinner\", \"dinner\", \"direction_easy_follow\", \"direction_easy_follow\", \"direction_easy_follow\", \"each_week\", \"each_week\", \"each_week\", \"ease_preparation\", \"ease_preparation\", \"ease_preparation\", \"ease_preparing\", \"ease_preparing\", \"ease_preparing\", \"easier\", \"easier\", \"easier\", \"easy\", \"easy\", \"easy\", \"easy_follow\", \"easy_follow\", \"easy_follow\", \"easy_prepare\", \"easy_prepare\", \"easy_prepare\", \"email\", \"email\", \"email\", \"especially_during\", \"especially_during\", \"especially_during\", \"every\", \"every\", \"every\", \"every_night\", \"every_night\", \"every_night\", \"exceeded_expectation\", \"exceeded_expectation\", \"exceeded_expectation\", \"extremely_pleased\", \"extremely_pleased\", \"extremely_pleased\", \"family\", \"family\", \"family\", \"figuring_what\", \"figuring_what\", \"figuring_what\", \"follow\", \"follow\", \"follow\", \"follow_direction\", \"follow_direction\", \"follow_direction\", \"food\", \"food\", \"food\", \"forward\", \"forward\", \"forward\", \"fresh\", \"fresh\", \"fresh\", \"full_refund\", \"full_refund\", \"full_refund\", \"gave_credit\", \"gave_credit\", \"gave_credit\", \"gift_card\", \"gift_card\", \"gift_card\", \"give_credit\", \"give_credit\", \"give_credit\", \"giving_star\", \"giving_star\", \"giving_star\", \"gluten_free\", \"gluten_free\", \"gluten_free\", \"go_waste\", \"go_waste\", \"go_waste\", \"go_wrong\", \"go_wrong\", \"go_wrong\", \"good\", \"good\", \"good\", \"great\", \"great\", \"great\", \"great_tasting\", \"great_tasting\", \"great_tasting\", \"green_bean\", \"green_bean\", \"green_bean\", \"ground\", \"ground\", \"ground\", \"ground_beef\", \"ground_beef\", \"ground_beef\", \"ground_pork\", \"ground_pork\", \"ground_pork\", \"guess_work\", \"guess_work\", \"guess_work\", \"have\", \"have\", \"have\", \"having_decide\", \"having_decide\", \"having_decide\", \"healthy\", \"healthy\", \"healthy\", \"hello\", \"hello\", \"hello\", \"hello_fresh\", \"hello_fresh\", \"hello_fresh\", \"hellofresh\", \"hellofresh\", \"hellofresh\", \"highly_recommend\", \"highly_recommend\", \"highly_recommend\", \"home\", \"home\", \"home\", \"husband\", \"husband\", \"husband\", \"ingredient\", \"ingredient\", \"ingredient\", \"instruction_easy_follow\", \"instruction_easy_follow\", \"instruction_easy_follow\", \"issue\", \"issue\", \"issue\", \"just\", \"just\", \"just\", \"just_right\", \"just_right\", \"just_right\", \"last_shipment\", \"last_shipment\", \"last_shipment\", \"le_stressful\", \"le_stressful\", \"le_stressful\", \"le_than\", \"le_than\", \"le_than\", \"leaked_over\", \"leaked_over\", \"leaked_over\", \"learning_technique\", \"learning_technique\", \"learning_technique\", \"life\", \"life\", \"life\", \"life_easier\", \"life_easier\", \"life_easier\", \"life_much\", \"life_much\", \"life_much\", \"like\", \"like\", \"like\", \"little_pricey\", \"little_pricey\", \"little_pricey\", \"look\", \"look\", \"look\", \"look_forward\", \"look_forward\", \"look_forward\", \"look_forward_each_week\", \"look_forward_each_week\", \"look_forward_each_week\", \"looking_forward\", \"looking_forward\", \"looking_forward\", \"love\", \"love\", \"love\", \"loved_every\", \"loved_every\", \"loved_every\", \"made_life\", \"made_life\", \"made_life\", \"made_life_much_easier\", \"made_life_much_easier\", \"made_life_much_easier\", \"make\", \"make\", \"make\", \"meal\", \"meal\", \"meal\", \"meat\", \"meat\", \"meat\", \"missing\", \"missing\", \"missing\", \"missing_ingredient\", \"missing_ingredient\", \"missing_ingredient\", \"missing_item\", \"missing_item\", \"missing_item\", \"money_back\", \"money_back\", \"money_back\", \"more\", \"more\", \"more\", \"most\", \"most\", \"most\", \"most_part\", \"most_part\", \"most_part\", \"much_easier\", \"much_easier\", \"much_easier\", \"offered_credit\", \"offered_credit\", \"offered_credit\", \"olive_butter\", \"olive_butter\", \"olive_butter\", \"once_while\", \"once_while\", \"once_while\", \"only\", \"only\", \"only\", \"only_complaint\", \"only_complaint\", \"only_complaint\", \"only_reason\", \"only_reason\", \"only_reason\", \"order\", \"order\", \"order\", \"pepper\", \"pepper\", \"pepper\", \"phone\", \"phone\", \"phone\", \"phone_call\", \"phone_call\", \"phone_call\", \"planning_shopping\", \"planning_shopping\", \"planning_shopping\", \"plastic_bag\", \"plastic_bag\", \"plastic_bag\", \"pleased\", \"pleased\", \"pleased\", \"pleased_with\", \"pleased_with\", \"pleased_with\", \"portion_perfect\", \"portion_perfect\", \"portion_perfect\", \"pot\", \"pot\", \"pot\", \"pot_pan\", \"pot_pan\", \"pot_pan\", \"potato\", \"potato\", \"potato\", \"potato_rice\", \"potato_rice\", \"potato_rice\", \"prepare\", \"prepare\", \"prepare\", \"price\", \"price\", \"price\", \"produce\", \"produce\", \"produce\", \"quality\", \"quality\", \"quality\", \"rare_occasion\", \"rare_occasion\", \"rare_occasion\", \"really\", \"really\", \"really\", \"really_enjoy\", \"really_enjoy\", \"really_enjoy\", \"received\", \"received\", \"received\", \"received_email\", \"received_email\", \"received_email\", \"recipe\", \"recipe\", \"recipe\", \"refund\", \"refund\", \"refund\", \"refund_money\", \"refund_money\", \"refund_money\", \"refunded_money\", \"refunded_money\", \"refunded_money\", \"refused\", \"refused\", \"refused\", \"rice\", \"rice\", \"rice\", \"right_away\", \"right_away\", \"right_away\", \"rude\", \"rude\", \"rude\", \"salt_pepper\", \"salt_pepper\", \"salt_pepper\", \"save_money\", \"save_money\", \"save_money\", \"service\", \"service\", \"service\", \"some\", \"some\", \"some\", \"some_sort\", \"some_sort\", \"some_sort\", \"something_different\", \"something_different\", \"something_different\", \"sometimes\", \"sometimes\", \"sometimes\", \"sou_chef\", \"sou_chef\", \"sou_chef\", \"sour\", \"sour\", \"sour\", \"sour_cream\", \"sour_cream\", \"sour_cream\", \"stay_home\", \"stay_home\", \"stay_home\", \"steak\", \"steak\", \"steak\", \"stock_concentrate\", \"stock_concentrate\", \"stock_concentrate\", \"take_guess\", \"take_guess\", \"take_guess\", \"take_stress\", \"take_stress\", \"take_stress\", \"than_others\", \"than_others\", \"than_others\", \"than_stated\", \"than_stated\", \"than_stated\", \"that\", \"that\", \"that\", \"their\", \"their\", \"their\", \"their_system\", \"their_system\", \"their_system\", \"their_website\", \"their_website\", \"their_website\", \"them\", \"them\", \"them\", \"there\", \"there\", \"there\", \"they\", \"they\", \"they\", \"they_refused\", \"they_refused\", \"they_refused\", \"think_about\", \"think_about\", \"think_about\", \"this\", \"this\", \"this\", \"thoroughly_enjoyed\", \"thoroughly_enjoyed\", \"thoroughly_enjoyed\", \"time\", \"time\", \"time\", \"told\", \"told\", \"told\", \"tracking_information\", \"tracking_information\", \"tracking_information\", \"tracking_number\", \"tracking_number\", \"tracking_number\", \"truly_enjoyed\", \"truly_enjoyed\", \"truly_enjoyed\", \"vegetable\", \"vegetable\", \"vegetable\", \"very\", \"very\", \"very\", \"very_happy\", \"very_happy\", \"very_happy\", \"very_pleased\", \"very_pleased\", \"very_pleased\", \"week\", \"week\", \"week\", \"were\", \"were\", \"were\", \"what\", \"what\", \"what\", \"when\", \"when\", \"when\", \"white_rice\", \"white_rice\", \"white_rice\", \"whole_family\", \"whole_family\", \"whole_family\", \"wish_there\", \"wish_there\", \"wish_there\", \"with\", \"with\", \"with\", \"within_hour\", \"within_hour\", \"within_hour\", \"worry_about\", \"worry_about\", \"worry_about\", \"worth_price\", \"worth_price\", \"worth_price\", \"would\", \"would\", \"would\", \"would_prefer\", \"would_prefer\", \"would_prefer\", \"year_daughter\", \"year_daughter\", \"year_daughter\", \"your_fingertip\", \"your_fingertip\", \"your_fingertip\"]}, \"R\": 30, \"lambda.step\": 0.01, \"plot.opts\": {\"xlab\": \"PC1\", \"ylab\": \"PC2\"}, \"topic.order\": [2, 3, 1]};\n",
       "\n",
       "function LDAvis_load_lib(url, callback){\n",
       "  var s = document.createElement('script');\n",
       "  s.src = url;\n",
       "  s.async = true;\n",
       "  s.onreadystatechange = s.onload = callback;\n",
       "  s.onerror = function(){console.warn(\"failed to load library \" + url);};\n",
       "  document.getElementsByTagName(\"head\")[0].appendChild(s);\n",
       "}\n",
       "\n",
       "if(typeof(LDAvis) !== \"undefined\"){\n",
       "   // already loaded: just create the visualization\n",
       "   !function(LDAvis){\n",
       "       new LDAvis(\"#\" + \"ldavis_el597257080261449241048056\", ldavis_el597257080261449241048056_data);\n",
       "   }(LDAvis);\n",
       "}else if(typeof define === \"function\" && define.amd){\n",
       "   // require.js is available: use it to load d3/LDAvis\n",
       "   require.config({paths: {d3: \"https://cdnjs.cloudflare.com/ajax/libs/d3/3.5.5/d3.min\"}});\n",
       "   require([\"d3\"], function(d3){\n",
       "      window.d3 = d3;\n",
       "      LDAvis_load_lib(\"https://cdn.rawgit.com/bmabey/pyLDAvis/files/ldavis.v1.0.0.js\", function(){\n",
       "        new LDAvis(\"#\" + \"ldavis_el597257080261449241048056\", ldavis_el597257080261449241048056_data);\n",
       "      });\n",
       "    });\n",
       "}else{\n",
       "    // require.js not available: dynamically load d3 & LDAvis\n",
       "    LDAvis_load_lib(\"https://cdnjs.cloudflare.com/ajax/libs/d3/3.5.5/d3.min.js\", function(){\n",
       "         LDAvis_load_lib(\"https://cdn.rawgit.com/bmabey/pyLDAvis/files/ldavis.v1.0.0.js\", function(){\n",
       "                 new LDAvis(\"#\" + \"ldavis_el597257080261449241048056\", ldavis_el597257080261449241048056_data);\n",
       "            })\n",
       "         });\n",
       "}\n",
       "</script>"
      ],
      "text/plain": [
       "PreparedData(topic_coordinates=              x         y  topics  cluster       Freq\n",
       "topic                                                \n",
       "1     -0.075561  0.033375       1        1  39.755543\n",
       "2     -0.004654 -0.061259       2        1  35.233105\n",
       "0      0.080214  0.027885       3        1  25.011358, topic_info=                 Term          Freq         Total Category  logprob  loglift\n",
       "19        hello_fresh  27902.000000  27902.000000  Default  30.0000  30.0000\n",
       "79   customer_service   7493.000000   7493.000000  Default  29.0000  29.0000\n",
       "18              hello   9392.000000   9392.000000  Default  28.0000  28.0000\n",
       "67       easy_prepare   3905.000000   3905.000000  Default  27.0000  27.0000\n",
       "78           customer   3497.000000   3497.000000  Default  26.0000  26.0000\n",
       "..                ...           ...           ...      ...      ...      ...\n",
       "120        hellofresh   1416.967896   5326.581055   Topic3  -5.1540   0.0616\n",
       "339             would   1407.801025   5475.955078   Topic3  -5.1605   0.0275\n",
       "40             recipe   1883.986816  12068.789062   Topic3  -4.8692  -0.4714\n",
       "57               easy   1575.904785   9780.982422   Topic3  -5.0477  -0.4398\n",
       "16               good   1323.514160   6258.714355   Topic3  -5.2223  -0.1678\n",
       "\n",
       "[285 rows x 6 columns], token_table=      Topic      Freq            Term\n",
       "term                                 \n",
       "172       1  0.538439           about\n",
       "172       2  0.246826           about\n",
       "172       3  0.214787           about\n",
       "2819      1  0.958599   absolute_best\n",
       "2819      2  0.020839   absolute_best\n",
       "...     ...       ...             ...\n",
       "2429      2  0.011460   year_daughter\n",
       "2429      3  0.022920   year_daughter\n",
       "2427      1  0.937800  your_fingertip\n",
       "2427      2  0.020840  your_fingertip\n",
       "2427      3  0.020840  your_fingertip\n",
       "\n",
       "[648 rows x 3 columns], R=30, lambda_step=0.01, plot_opts={'xlab': 'PC1', 'ylab': 'PC2'}, topic_order=[2, 3, 1])"
      ]
     },
     "execution_count": 25,
     "metadata": {},
     "output_type": "execute_result"
    }
   ],
   "source": [
    "import pyLDAvis.gensim\n",
    "import pickle \n",
    "import pyLDAvis\n",
    "# Visualize the topics\n",
    "pyLDAvis.enable_notebook()\n",
    "LDAvis_prepared = pyLDAvis.gensim.prepare(lda_model, corpus, dictionary)\n",
    "LDAvis_prepared"
   ]
  },
  {
   "cell_type": "code",
   "execution_count": 26,
   "metadata": {},
   "outputs": [],
   "source": [
    "lda_model1 = gensim.models.LdaMulticore(corpus=corpus,\n",
    "                                           id2word=dictionary,\n",
    "                                           num_topics=6, \n",
    "                                           random_state=100,\n",
    "                                           chunksize=10000,\n",
    "                                           passes=10,\n",
    "                                           alpha=0.01,\n",
    "                                           eta=0.9)"
   ]
  },
  {
   "cell_type": "code",
   "execution_count": 27,
   "metadata": {
    "scrolled": false
   },
   "outputs": [
    {
     "data": {
      "text/html": [
       "\n",
       "<link rel=\"stylesheet\" type=\"text/css\" href=\"https://cdn.rawgit.com/bmabey/pyLDAvis/files/ldavis.v1.0.0.css\">\n",
       "\n",
       "\n",
       "<div id=\"ldavis_el597257087176323006930358\"></div>\n",
       "<script type=\"text/javascript\">\n",
       "\n",
       "var ldavis_el597257087176323006930358_data = {\"mdsDat\": {\"x\": [-0.16748460817374644, -0.010866036722719156, 0.06478420647959184, 0.02164585497029517, 0.031664228277080785, 0.06025635516949798], \"y\": [-0.018611877983024914, 0.034895229718206994, -0.05796908416051393, 0.08061280217546073, -0.0565932431647968, 0.017666173414667877], \"topics\": [1, 2, 3, 4, 5, 6], \"cluster\": [1, 1, 1, 1, 1, 1], \"Freq\": [20.290679931640625, 18.957414627075195, 18.17331886291504, 16.453493118286133, 16.232868194580078, 9.892218589782715]}, \"tinfo\": {\"Term\": [\"hello_fresh\", \"hello\", \"easy_follow\", \"customer_service\", \"easy_prepare\", \"fresh\", \"easy\", \"each_week\", \"look_forward\", \"follow\", \"customer\", \"prepare\", \"highly_recommend\", \"recipe\", \"delicious\", \"love\", \"very_happy\", \"choose_from\", \"meal\", \"feel_like\", \"great\", \"service\", \"very\", \"food\", \"hellofresh\", \"they\", \"absolutely_love\", \"portion_size\", \"credit\", \"save_time\", \"credit_card\", \"gift_card\", \"refund\", \"called_customer\", \"money_back\", \"email\", \"received_email\", \"charged\", \"phone_call\", \"they_refused\", \"credit_account\", \"refund_money\", \"cancel_subscription\", \"being_charged\", \"cancelled_subscription\", \"their_system\", \"account\", \"day_later\", \"tracking_number\", \"credit\", \"rude\", \"contacted_customer\", \"agent\", \"free_shipping\", \"cancel_account\", \"sent_email\", \"canceled_subscription\", \"chat\", \"when_called\", \"cancelled_account\", \"customer_service\", \"day_late\", \"canceled\", \"contacted\", \"called\", \"give_credit\", \"missing_item\", \"customer\", \"told\", \"cancelled\", \"customer_support\", \"cancel\", \"response\", \"phone\", \"call\", \"delivery_date\", \"service\", \"said\", \"issue\", \"they\", \"order\", \"their\", \"charge\", \"delivery\", \"company\", \"first\", \"late\", \"received\", \"missing\", \"subscription\", \"that\", \"this\", \"when\", \"with\", \"were\", \"card\", \"week\", \"will\", \"them\", \"have\", \"time\", \"food\", \"would\", \"meal\", \"after\", \"been\", \"from\", \"there\", \"hellofresh\", \"great\", \"good\", \"recipe\", \"vegetarian_option\", \"only_negative\", \"wish_there\", \"pretty_good\", \"little_expensive\", \"serving_size\", \"green_bean\", \"wouldn_normally\", \"coming_home\", \"spice_packet\", \"bean\", \"portion_perfect\", \"classic_plan\", \"chicken_fish\", \"sweet_potato\", \"lower_calorie\", \"meat_seafood\", \"chicken_breast\", \"glad_signed\", \"without_having\", \"only_suggestion\", \"several_occasion\", \"chicken_cutlet\", \"much_healthier\", \"room_improvement\", \"pork_tenderloin\", \"price_point\", \"best_part\", \"feel_guilty\", \"reasonably_priced\", \"once_while\", \"better_than\", \"convenience_having\", \"decide_what\", \"pork_chop\", \"everything_need\", \"wish_could\", \"green\", \"take_longer\", \"high_quality\", \"wish\", \"learn_cook\", \"high\", \"fact_that\", \"grocery_store\", \"portion_size\", \"vegetarian\", \"size\", \"meal\", \"some\", \"option\", \"meat\", \"that\", \"have\", \"there\", \"good\", \"quality\", \"love\", \"ingredient\", \"recipe\", \"more\", \"great\", \"food\", \"with\", \"were\", \"only\", \"would\", \"like\", \"been\", \"very\", \"week\", \"time\", \"this\", \"hellofresh\", \"fresh\", \"make\", \"they\", \"little_pricey\", \"ease_preparation\", \"exceeded_expectation\", \"hello_fresh\", \"hello\", \"very_pleased\", \"ease_preparing\", \"tried_several\", \"beyond_expectation\", \"absolute_best\", \"extremely_pleased\", \"break_from\", \"pleased_with\", \"exceeded\", \"started_using_hello_fresh\", \"hand_down\", \"pleased\", \"cost_effective\", \"take_guess\", \"learning_technique\", \"under_hour\", \"referred_friend\", \"extremely_happy\", \"whole_family\", \"during_covid19\", \"home_chef\", \"started_using\", \"sou_chef\", \"year_marriage\", \"totally_worth\", \"figuring_what\", \"blue_apron\", \"come_home\", \"fresh\", \"apron\", \"blue\", \"impressed_with\", \"happy_with\", \"stay_home\", \"cooking_technique\", \"meal\", \"love\", \"have\", \"with\", \"been\", \"tried\", \"cooking\", \"dinner\", \"family\", \"home\", \"make\", \"cook\", \"delicious\", \"recipe\", \"food\", \"that\", \"easy\", \"ingredient\", \"very\", \"like\", \"week\", \"time\", \"great\", \"from\", \"about\", \"would\", \"service\", \"they\", \"quality\", \"most_part\", \"sour_cream\", \"pot_pan\", \"sour\", \"cream\", \"easy_follow\", \"follow_direction\", \"salt_pepper\", \"than_others\", \"given_star\", \"instruction_easy_follow\", \"just_right\", \"white_rice\", \"only_complaint\", \"follow\", \"detailed_instruction\", \"expiration_date\", \"pot\", \"butter_sugar\", \"meat_fish\", \"well_packaged\", \"brown_rice\", \"olive_butter\", \"direction_easy_follow\", \"herb_spice\", \"time_consuming\", \"doesn_seem\", \"different_way\", \"ground_beef\", \"potato_rice\", \"picky_eater\", \"salt\", \"direction\", \"step_step\", \"pleasantly_surprised\", \"really_enjoyed\", \"instruction\", \"step\", \"skip_week\", \"really_enjoy\", \"more_than\", \"easy\", \"recipe\", \"food\", \"good\", \"most\", \"meal\", \"like\", \"great\", \"excellent\", \"ingredient\", \"have\", \"that\", \"more\", \"very\", \"delicious\", \"with\", \"really\", \"fresh\", \"time\", \"love\", \"been\", \"would\", \"some\", \"week\", \"were\", \"just\", \"quality\", \"they\", \"cook\", \"make\", \"loved_every\", \"look_forward\", \"save_time\", \"look_forward_each_week\", \"time_saver\", \"only_reason\", \"dietary_restriction\", \"saved_money\", \"comfort_zone\", \"busy_schedule\", \"five_star\", \"each_week\", \"plant_based\", \"stay_safe\", \"grocery_bill\", \"portion_control\", \"clear_instruction\", \"forward\", \"stress_free\", \"only_reason_give_star\", \"time_energy\", \"zone\", \"there_hasn\", \"your_fingertip\", \"game_changer\", \"weight_loss\", \"haven_liked\", \"save_money\", \"portion_controlled\", \"like_christmas\", \"saver\", \"trip_grocery\", \"absolutely_love\", \"grocery_shopping\", \"look\", \"much_easier\", \"save\", \"star_because\", \"every_night\", \"each\", \"very_helpful\", \"absolutely\", \"grocery\", \"hellofresh\", \"shopping\", \"every\", \"week\", \"have\", \"love\", \"meal\", \"time\", \"dinner\", \"cooking\", \"make\", \"this\", \"been\", \"that\", \"much\", \"with\", \"delicious\", \"cook\", \"recipe\", \"food\", \"easy\", \"great\", \"ingredient\", \"fresh\", \"great_tasting\", \"easy_prepare\", \"direction_clear\", \"cooking_lesson\", \"recommend_everyone\", \"never_knew\", \"simplified_life\", \"take_guesswork\", \"home_cooked\", \"losing_weight\", \"wide_range\", \"wait_next\", \"choose_from\", \"feel_like_gourmet_chef\", \"taught_cook\", \"gourmet_chef\", \"very_happy\", \"coming_back\", \"really_enjoying\", \"friend_family\", \"ease_ordering\", \"putting_together\", \"lesson\", \"wide_variety\", \"only_downfall\", \"packaged_well\", \"well_packed\", \"tasting\", \"already_measured\", \"prepare\", \"highly_recommend\", \"feel_like\", \"your_door\", \"highly\", \"never_thought\", \"delivered_door\", \"over_year\", \"le_than\", \"easy\", \"recommend\", \"portion_size\", \"delicious\", \"very\", \"great\", \"fresh\", \"choose\", \"food\", \"meal\", \"recipe\", \"love\", \"tasty\", \"have\", \"been\", \"always\", \"ingredient\", \"like\", \"hello_fresh\", \"they\", \"good\", \"that\", \"service\", \"with\", \"make\", \"hellofresh\", \"cook\", \"time\"], \"Freq\": [24917.0, 8394.0, 7570.0, 8125.0, 3791.0, 15006.0, 9301.0, 2933.0, 2191.0, 2991.0, 3775.0, 2359.0, 2094.0, 11692.0, 5943.0, 9684.0, 1203.0, 1205.0, 23908.0, 1598.0, 8309.0, 7044.0, 6352.0, 12137.0, 5449.0, 7833.0, 1255.0, 1197.0, 1108.0, 711.0, 499.8358459472656, 274.553955078125, 508.0970153808594, 277.84417724609375, 188.4029541015625, 540.8331909179688, 173.3360137939453, 357.392333984375, 163.4156036376953, 110.25090026855469, 206.0481719970703, 121.48326873779297, 135.37539672851562, 91.7481460571289, 200.73402404785156, 85.43549346923828, 696.1901245117188, 146.0311279296875, 76.34710693359375, 1021.7867431640625, 69.72077178955078, 193.11964416503906, 97.81896209716797, 114.04959869384766, 67.52484130859375, 84.41944885253906, 101.44719696044922, 225.10214233398438, 86.36202239990234, 67.30323028564453, 7174.3828125, 226.06597900390625, 166.93553161621094, 231.7313232421875, 510.84271240234375, 190.46449279785156, 572.5833129882812, 3214.480712890625, 506.3273010253906, 285.8091735839844, 200.5429229736328, 412.65264892578125, 205.03656005859375, 232.44894409179688, 394.010009765625, 290.3169860839844, 3766.08203125, 445.68829345703125, 1299.746337890625, 3739.508056640625, 1370.5958251953125, 1188.5135498046875, 275.1515808105469, 1971.6715087890625, 848.3994140625, 934.7774047851562, 481.8961181640625, 999.3035278320312, 839.0005493164062, 423.5472412109375, 4057.41650390625, 2154.5712890625, 1446.481689453125, 2710.13525390625, 1535.2088623046875, 666.0193481445312, 1868.9964599609375, 910.871826171875, 1101.6131591796875, 2695.9443359375, 1573.4888916015625, 1975.799560546875, 1253.7886962890625, 2191.504638671875, 755.8976440429688, 1352.99951171875, 934.717529296875, 904.6228637695312, 939.9925537109375, 982.8550415039062, 928.7922973632812, 906.7276611328125, 383.9917297363281, 206.10232543945312, 814.1883544921875, 556.6853637695312, 238.7975311279297, 259.5106506347656, 764.71875, 171.98800659179688, 153.12289428710938, 58.904659271240234, 297.79510498046875, 309.3284606933594, 109.29286193847656, 72.10509490966797, 228.64602661132812, 124.95889282226562, 100.13587188720703, 254.75376892089844, 46.84043502807617, 331.9427185058594, 131.22528076171875, 66.41812133789062, 33.057132720947266, 145.7255401611328, 55.6838493347168, 62.288082122802734, 135.20433044433594, 315.2998046875, 38.34098815917969, 137.3790740966797, 159.81997680664062, 650.0985717773438, 333.62469482421875, 136.61050415039062, 129.0788116455078, 838.036865234375, 323.0018005371094, 394.3653564453125, 284.9736022949219, 838.4324340820312, 737.782470703125, 230.12217712402344, 535.2918090820312, 487.2703857421875, 1194.8741455078125, 634.9596557617188, 403.15472412109375, 418.7658996582031, 5245.76025390625, 1280.2215576171875, 965.2705078125, 979.5176391601562, 3290.947998046875, 4004.022705078125, 1370.4254150390625, 1724.6246337890625, 1193.2945556640625, 1960.844970703125, 1544.5313720703125, 2119.333251953125, 1172.79736328125, 1677.282470703125, 2040.195556640625, 1910.170654296875, 1197.67236328125, 1089.7713623046875, 1246.3297119140625, 1238.4559326171875, 1485.4051513671875, 1234.955078125, 1208.080078125, 1131.7918701171875, 1091.9774169921875, 1043.0841064453125, 1169.7415771484375, 989.6167602539062, 1013.5140380859375, 304.7174072265625, 196.07733154296875, 97.2670669555664, 22911.328125, 7686.59130859375, 756.27783203125, 54.67470932006836, 185.862548828125, 37.249427795410156, 39.40045928955078, 58.1134147644043, 73.26095581054688, 351.8338317871094, 36.70927810668945, 28.215505599975586, 68.10787200927734, 405.692626953125, 142.89901733398438, 138.1029052734375, 60.42624282836914, 30.23993682861328, 37.38780212402344, 59.67310333251953, 193.2936553955078, 22.768718719482422, 168.1179656982422, 118.78618621826172, 31.654573440551758, 24.809494018554688, 41.80949401855469, 102.44636535644531, 638.942138671875, 281.5059509277344, 8544.255859375, 221.5602264404297, 216.4744110107422, 348.37164306640625, 460.71722412109375, 126.28671264648438, 213.53700256347656, 4688.8115234375, 2330.1328125, 3873.411865234375, 2436.0615234375, 1940.655029296875, 641.8283081054688, 997.1058959960938, 841.2117309570312, 722.3570556640625, 550.40771484375, 1126.7841796875, 893.4879150390625, 1112.1827392578125, 1621.628662109375, 1628.8206787109375, 1735.7669677734375, 1327.331298828125, 1056.3310546875, 1019.2106323242188, 920.7344970703125, 1061.701904296875, 1042.0162353515625, 1001.200927734375, 732.9859008789062, 677.6871337890625, 779.4464721679688, 766.263427734375, 725.6945190429688, 690.033447265625, 689.985595703125, 382.9831848144531, 101.40538024902344, 131.25375366210938, 137.64212036132812, 6800.54248046875, 112.30465698242188, 264.6142883300781, 90.69432067871094, 74.70611572265625, 35.15312194824219, 511.30255126953125, 53.41423797607422, 777.619140625, 2542.85107421875, 51.13434600830078, 55.923072814941406, 43.10713195800781, 43.68345260620117, 181.95794677734375, 288.6203308105469, 43.557960510253906, 36.597679138183594, 19.52199935913086, 91.35153198242188, 217.86941528320312, 76.29898834228516, 76.20750427246094, 154.439208984375, 64.53335571289062, 272.64324951171875, 186.0872039794922, 660.1329345703125, 619.0938110351562, 150.3564453125, 672.6119384765625, 999.916015625, 575.3251953125, 494.00494384765625, 498.3643493652344, 832.47216796875, 3587.345947265625, 3955.167236328125, 3308.448974609375, 1766.653076171875, 742.0316162109375, 4474.09326171875, 1527.237548828125, 2017.407958984375, 671.0504760742188, 1563.181396484375, 2946.3203125, 2368.593017578125, 1094.846435546875, 1386.7125244140625, 1294.5556640625, 1802.7255859375, 959.7188110351562, 1848.9588623046875, 1241.610595703125, 1321.0552978515625, 1204.4942626953125, 1009.6968383789062, 873.822998046875, 989.0765380859375, 888.5349731445312, 826.51708984375, 850.3786010742188, 923.0975952148438, 849.5812377929688, 841.1340942382812, 658.0829467773438, 2120.72119140625, 687.7578125, 111.48188781738281, 227.96632385253906, 500.6412048339844, 70.91131591796875, 219.05369567871094, 202.77964782714844, 235.313720703125, 266.02630615234375, 2590.7705078125, 60.07301712036133, 46.07344055175781, 201.3004608154297, 328.5285949707031, 167.4622344970703, 814.5445556640625, 66.62824249267578, 39.58881378173828, 67.56460571289062, 82.38882446289062, 94.63677978515625, 44.263763427734375, 147.60647583007812, 43.52202606201172, 90.01853942871094, 434.93328857421875, 47.47305679321289, 67.54615783691406, 138.3115692138672, 258.7781982421875, 926.3936157226562, 906.520751953125, 850.4639282226562, 496.6908874511719, 534.073974609375, 190.56015014648438, 392.4927062988281, 1270.5220947265625, 290.4692077636719, 531.5089111328125, 1107.7642822265625, 2116.77099609375, 605.4503173828125, 1294.2156982421875, 2237.97607421875, 4083.1669921875, 2521.22265625, 4695.3037109375, 1783.0286865234375, 1050.787353515625, 1141.6788330078125, 1357.5919189453125, 1497.9520263671875, 1625.3397216796875, 2056.04052734375, 879.4403076171875, 1590.1259765625, 1188.1566162109375, 1005.1577758789062, 1438.7275390625, 1455.4176025390625, 1165.2652587890625, 1042.149169921875, 944.4810791015625, 849.380859375, 378.16021728515625, 3635.440185546875, 121.60285186767578, 66.54024505615234, 109.6090087890625, 84.99340057373047, 32.743473052978516, 81.39129638671875, 233.8426055908203, 62.02712631225586, 29.472307205200195, 56.34787368774414, 973.3909301757812, 28.773832321166992, 73.2533187866211, 89.85620880126953, 948.32373046875, 58.39453125, 235.934814453125, 363.9170837402344, 49.165489196777344, 42.65569305419922, 26.271583557128906, 171.88035583496094, 44.280765533447266, 114.93133544921875, 142.8330535888672, 160.54946899414062, 46.83129119873047, 1533.99609375, 1353.0478515625, 977.9486083984375, 264.127685546875, 474.7692565917969, 173.43870544433594, 233.85165405273438, 211.0762939453125, 350.50445556640625, 2557.394775390625, 654.9240112304688, 461.99810791015625, 1446.22265625, 1395.03955078125, 1588.49609375, 2073.1025390625, 348.93902587890625, 1728.8095703125, 2613.31103515625, 1650.8157958984375, 1344.5435791015625, 498.14312744140625, 1793.4783935546875, 1076.001708984375, 635.6944580078125, 812.99560546875, 696.3192749023438, 1235.4296875, 786.3328247070312, 681.7031860351562, 884.9785766601562, 696.9779663085938, 758.5755004882812, 631.5123291015625, 594.842529296875, 514.7412719726562, 522.5736694335938], \"Total\": [24917.0, 8394.0, 7570.0, 8125.0, 3791.0, 15006.0, 9301.0, 2933.0, 2191.0, 2991.0, 3775.0, 2359.0, 2094.0, 11692.0, 5943.0, 9684.0, 1203.0, 1205.0, 23908.0, 1598.0, 8309.0, 7044.0, 6352.0, 12137.0, 5449.0, 7833.0, 1255.0, 1197.0, 1108.0, 711.0, 516.6975708007812, 285.7695617675781, 529.4031982421875, 289.909912109375, 197.70574951171875, 568.283935546875, 182.30361938476562, 376.394775390625, 172.6565399169922, 116.9915542602539, 219.11068725585938, 129.38673400878906, 144.8113250732422, 98.37884521484375, 216.23155212402344, 92.10128021240234, 751.3345336914062, 158.02194213867188, 82.7650375366211, 1108.1895751953125, 75.62777709960938, 209.76722717285156, 106.44074249267578, 124.17231750488281, 73.54791259765625, 91.954833984375, 110.5146255493164, 245.2797393798828, 94.13887023925781, 73.47766876220703, 8125.048828125, 247.74066162109375, 182.55746459960938, 254.54168701171875, 565.81396484375, 208.8730926513672, 645.8867797851562, 3775.1484375, 574.0908203125, 318.8291015625, 222.6184844970703, 486.7844543457031, 230.15655517578125, 264.6572265625, 489.684814453125, 345.5980529785156, 7044.017578125, 575.637451171875, 2101.601318359375, 7833.59716796875, 2360.503662109375, 2107.362060546875, 328.27325439453125, 4146.9658203125, 1444.9322509765625, 1655.5267333984375, 691.4439086914062, 1896.9139404296875, 1509.1861572265625, 593.281005859375, 14393.7421875, 6571.41015625, 3634.205078125, 11207.7939453125, 4629.8994140625, 1221.3338623046875, 7598.22802734375, 2159.969970703125, 3110.317138671875, 19396.345703125, 7294.509765625, 12137.4921875, 5456.52294921875, 23908.783203125, 1634.5556640625, 8684.8955078125, 3684.697509765625, 4071.165771484375, 5449.841796875, 8309.3916015625, 6158.88525390625, 11692.3994140625, 397.9306945800781, 215.27516174316406, 859.3297119140625, 589.5767211914062, 254.69265747070312, 281.4479064941406, 832.71337890625, 189.92579650878906, 171.36990356445312, 65.97749328613281, 333.6404113769531, 347.053955078125, 122.93146514892578, 81.19129180908203, 257.5521240234375, 141.57200622558594, 114.27676391601562, 291.3620300292969, 54.001556396484375, 386.1493835449219, 152.89292907714844, 77.8919906616211, 38.798702239990234, 171.9204864501953, 66.26561737060547, 74.61849212646484, 162.3120880126953, 383.2025451660156, 47.37499237060547, 170.0747833251953, 198.05953979492188, 848.630859375, 431.1327819824219, 169.3302459716797, 160.3759307861328, 1205.352294921875, 443.38409423828125, 554.3302612304688, 386.5152282714844, 1307.5758056640625, 1155.7978515625, 311.3872375488281, 864.2813720703125, 783.866455078125, 2522.549072265625, 1197.044677734375, 680.0421752929688, 728.67041015625, 23908.783203125, 3405.256591796875, 2339.00048828125, 2428.041748046875, 14393.7421875, 19396.345703125, 4071.165771484375, 6158.88525390625, 3928.232177734375, 9684.1767578125, 6571.65625, 11692.3994140625, 4144.6923828125, 8309.3916015625, 12137.4921875, 11207.7939453125, 4629.8994140625, 3893.934326171875, 5456.52294921875, 5444.7919921875, 8684.8955078125, 6352.96875, 7598.22802734375, 7294.509765625, 6571.41015625, 5449.841796875, 15006.4814453125, 5421.3505859375, 7833.59716796875, 321.4057312011719, 208.5081329345703, 104.17390441894531, 24917.744140625, 8394.615234375, 828.408203125, 61.42831802368164, 211.97811889648438, 42.65041732788086, 45.40953063964844, 67.14266967773438, 89.65516662597656, 438.3434143066406, 45.820438385009766, 35.72673797607422, 87.02322387695312, 533.5834350585938, 189.9639892578125, 184.263916015625, 80.92298126220703, 40.54438400268555, 51.68144226074219, 84.55586242675781, 274.7262268066406, 32.64572525024414, 243.44810485839844, 173.88487243652344, 46.66313552856445, 36.8293342590332, 63.079925537109375, 154.831787109375, 984.4465942382812, 437.50982666015625, 15006.4814453125, 343.8957214355469, 344.7189025878906, 595.2485961914062, 836.9480590820312, 199.313720703125, 402.35858154296875, 23908.783203125, 9684.1767578125, 19396.345703125, 11207.7939453125, 8684.8955078125, 1924.607177734375, 3664.03857421875, 3120.58642578125, 2502.8720703125, 1682.459716796875, 5421.3505859375, 4118.59130859375, 5943.75537109375, 11692.3994140625, 12137.4921875, 14393.7421875, 9301.37109375, 6571.65625, 6352.96875, 5444.7919921875, 7598.22802734375, 7294.509765625, 8309.3916015625, 3684.697509765625, 3036.530517578125, 5456.52294921875, 7044.017578125, 7833.59716796875, 3928.232177734375, 717.3301391601562, 407.0882568359375, 109.99393463134766, 143.01202392578125, 152.56776428222656, 7570.43505859375, 125.25465393066406, 295.6605224609375, 101.4305648803711, 84.59674072265625, 40.10762405395508, 592.8240356445312, 61.93695831298828, 910.4244995117188, 2991.515380859375, 61.696983337402344, 67.8932113647461, 52.713043212890625, 53.4770622253418, 223.12278747558594, 354.0810852050781, 53.55987548828125, 45.03403091430664, 24.093564987182617, 113.14727783203125, 273.6539001464844, 95.94856262207031, 95.8668212890625, 194.462158203125, 81.5037841796875, 355.0445251464844, 247.02084350585938, 998.5785522460938, 956.4627685546875, 206.86293029785156, 1087.919677734375, 1695.858154296875, 950.39990234375, 825.4097290039062, 879.7830810546875, 1624.788330078125, 9301.37109375, 11692.3994140625, 12137.4921875, 6158.88525390625, 1903.2919921875, 23908.783203125, 5444.7919921875, 8309.3916015625, 1708.6817626953125, 6571.65625, 19396.345703125, 14393.7421875, 4144.6923828125, 6352.96875, 5943.75537109375, 11207.7939453125, 3465.385986328125, 15006.4814453125, 7294.509765625, 9684.1767578125, 8684.8955078125, 5456.52294921875, 3405.256591796875, 7598.22802734375, 4629.8994140625, 3351.44189453125, 3928.232177734375, 7833.59716796875, 4118.59130859375, 5421.3505859375, 678.2238159179688, 2191.65966796875, 711.7282104492188, 117.91387176513672, 241.4615478515625, 546.7081909179688, 77.77262115478516, 241.20925903320312, 224.45431518554688, 261.25811767578125, 300.7878112792969, 2933.03564453125, 68.20315551757812, 52.47417449951172, 230.03164672851562, 377.7917785644531, 192.98300170898438, 945.323486328125, 77.46530151367188, 46.183448791503906, 79.29075622558594, 96.72732543945312, 111.48467254638672, 52.36092758178711, 175.65084838867188, 52.10453796386719, 108.17748260498047, 524.3504638671875, 58.070743560791016, 82.73029327392578, 171.90371704101562, 331.56744384765625, 1255.5372314453125, 1229.690673828125, 1174.695068359375, 665.184814453125, 721.6768188476562, 249.75137329101562, 587.8932495117188, 2411.675537109375, 440.8123474121094, 918.6426391601562, 2324.0732421875, 5449.841796875, 1123.79833984375, 3532.452880859375, 7598.22802734375, 19396.345703125, 9684.1767578125, 23908.783203125, 7294.509765625, 3120.58642578125, 3664.03857421875, 5421.3505859375, 6571.41015625, 8684.8955078125, 14393.7421875, 2796.59521484375, 11207.7939453125, 5943.75537109375, 4118.59130859375, 11692.3994140625, 12137.4921875, 9301.37109375, 8309.3916015625, 6571.65625, 15006.4814453125, 392.8735046386719, 3791.48095703125, 132.63400268554688, 74.48491668701172, 128.26084899902344, 99.47549438476562, 38.511924743652344, 96.73594665527344, 280.1341552734375, 74.59225463867188, 35.716835021972656, 69.41431427001953, 1205.4483642578125, 35.704673767089844, 91.93196105957031, 113.58031463623047, 1203.553955078125, 75.29222869873047, 306.2355651855469, 491.2759094238281, 66.7273178100586, 58.2669563293457, 36.84877014160156, 247.8194580078125, 64.72689819335938, 169.7442626953125, 211.36367797851562, 239.67811584472656, 70.40185546875, 2359.3623046875, 2094.618896484375, 1598.335693359375, 414.2950439453125, 810.6748046875, 281.94427490234375, 414.96661376953125, 367.8408508300781, 679.668212890625, 9301.37109375, 1811.7431640625, 1197.044677734375, 5943.75537109375, 6352.96875, 8309.3916015625, 15006.4814453125, 952.2589721679688, 12137.4921875, 23908.783203125, 11692.3994140625, 9684.1767578125, 1752.40869140625, 19396.345703125, 8684.8955078125, 3524.45458984375, 6571.65625, 5444.7919921875, 24917.744140625, 7833.59716796875, 6158.88525390625, 14393.7421875, 7044.017578125, 11207.7939453125, 5421.3505859375, 5449.841796875, 4118.59130859375, 7294.509765625], \"Category\": [\"Default\", \"Default\", \"Default\", \"Default\", \"Default\", \"Default\", \"Default\", \"Default\", \"Default\", \"Default\", \"Default\", \"Default\", \"Default\", \"Default\", \"Default\", \"Default\", \"Default\", \"Default\", \"Default\", \"Default\", \"Default\", \"Default\", \"Default\", \"Default\", \"Default\", \"Default\", \"Default\", \"Default\", \"Default\", \"Default\", \"Topic1\", \"Topic1\", \"Topic1\", \"Topic1\", \"Topic1\", \"Topic1\", \"Topic1\", \"Topic1\", \"Topic1\", \"Topic1\", \"Topic1\", \"Topic1\", \"Topic1\", \"Topic1\", \"Topic1\", \"Topic1\", \"Topic1\", \"Topic1\", \"Topic1\", \"Topic1\", \"Topic1\", \"Topic1\", \"Topic1\", \"Topic1\", \"Topic1\", \"Topic1\", \"Topic1\", \"Topic1\", \"Topic1\", \"Topic1\", \"Topic1\", \"Topic1\", \"Topic1\", \"Topic1\", \"Topic1\", \"Topic1\", \"Topic1\", \"Topic1\", \"Topic1\", \"Topic1\", \"Topic1\", \"Topic1\", \"Topic1\", \"Topic1\", \"Topic1\", \"Topic1\", \"Topic1\", \"Topic1\", \"Topic1\", \"Topic1\", \"Topic1\", \"Topic1\", \"Topic1\", \"Topic1\", \"Topic1\", \"Topic1\", \"Topic1\", \"Topic1\", \"Topic1\", \"Topic1\", \"Topic1\", \"Topic1\", \"Topic1\", \"Topic1\", \"Topic1\", \"Topic1\", \"Topic1\", \"Topic1\", \"Topic1\", \"Topic1\", \"Topic1\", \"Topic1\", \"Topic1\", \"Topic1\", \"Topic1\", \"Topic1\", \"Topic1\", \"Topic1\", \"Topic1\", \"Topic1\", \"Topic1\", \"Topic1\", \"Topic2\", \"Topic2\", \"Topic2\", \"Topic2\", \"Topic2\", \"Topic2\", \"Topic2\", \"Topic2\", \"Topic2\", \"Topic2\", \"Topic2\", \"Topic2\", \"Topic2\", \"Topic2\", \"Topic2\", \"Topic2\", \"Topic2\", \"Topic2\", \"Topic2\", \"Topic2\", \"Topic2\", \"Topic2\", \"Topic2\", \"Topic2\", \"Topic2\", \"Topic2\", \"Topic2\", \"Topic2\", \"Topic2\", \"Topic2\", \"Topic2\", \"Topic2\", \"Topic2\", \"Topic2\", \"Topic2\", \"Topic2\", \"Topic2\", \"Topic2\", \"Topic2\", \"Topic2\", \"Topic2\", \"Topic2\", \"Topic2\", \"Topic2\", \"Topic2\", \"Topic2\", \"Topic2\", \"Topic2\", \"Topic2\", \"Topic2\", \"Topic2\", \"Topic2\", \"Topic2\", \"Topic2\", \"Topic2\", \"Topic2\", \"Topic2\", \"Topic2\", \"Topic2\", \"Topic2\", \"Topic2\", \"Topic2\", \"Topic2\", \"Topic2\", \"Topic2\", \"Topic2\", \"Topic2\", \"Topic2\", \"Topic2\", \"Topic2\", \"Topic2\", \"Topic2\", \"Topic2\", \"Topic2\", \"Topic2\", \"Topic2\", \"Topic2\", \"Topic3\", \"Topic3\", \"Topic3\", \"Topic3\", \"Topic3\", \"Topic3\", \"Topic3\", \"Topic3\", \"Topic3\", \"Topic3\", \"Topic3\", \"Topic3\", \"Topic3\", \"Topic3\", \"Topic3\", \"Topic3\", \"Topic3\", \"Topic3\", \"Topic3\", \"Topic3\", \"Topic3\", \"Topic3\", \"Topic3\", \"Topic3\", \"Topic3\", \"Topic3\", \"Topic3\", \"Topic3\", \"Topic3\", \"Topic3\", \"Topic3\", \"Topic3\", \"Topic3\", \"Topic3\", \"Topic3\", \"Topic3\", \"Topic3\", \"Topic3\", \"Topic3\", \"Topic3\", \"Topic3\", \"Topic3\", \"Topic3\", \"Topic3\", \"Topic3\", \"Topic3\", \"Topic3\", \"Topic3\", \"Topic3\", \"Topic3\", \"Topic3\", \"Topic3\", \"Topic3\", \"Topic3\", \"Topic3\", \"Topic3\", \"Topic3\", \"Topic3\", \"Topic3\", \"Topic3\", \"Topic3\", \"Topic3\", \"Topic3\", \"Topic3\", \"Topic3\", \"Topic3\", \"Topic3\", \"Topic3\", \"Topic3\", \"Topic4\", \"Topic4\", \"Topic4\", \"Topic4\", \"Topic4\", \"Topic4\", \"Topic4\", \"Topic4\", \"Topic4\", \"Topic4\", \"Topic4\", \"Topic4\", \"Topic4\", \"Topic4\", \"Topic4\", \"Topic4\", \"Topic4\", \"Topic4\", \"Topic4\", \"Topic4\", \"Topic4\", \"Topic4\", \"Topic4\", \"Topic4\", \"Topic4\", \"Topic4\", \"Topic4\", \"Topic4\", \"Topic4\", \"Topic4\", \"Topic4\", \"Topic4\", \"Topic4\", \"Topic4\", \"Topic4\", \"Topic4\", \"Topic4\", \"Topic4\", \"Topic4\", \"Topic4\", \"Topic4\", \"Topic4\", \"Topic4\", \"Topic4\", \"Topic4\", \"Topic4\", \"Topic4\", \"Topic4\", \"Topic4\", \"Topic4\", \"Topic4\", \"Topic4\", \"Topic4\", \"Topic4\", \"Topic4\", \"Topic4\", \"Topic4\", \"Topic4\", \"Topic4\", \"Topic4\", \"Topic4\", \"Topic4\", \"Topic4\", \"Topic4\", \"Topic4\", \"Topic4\", \"Topic4\", \"Topic4\", \"Topic4\", \"Topic4\", \"Topic4\", \"Topic5\", \"Topic5\", \"Topic5\", \"Topic5\", \"Topic5\", \"Topic5\", \"Topic5\", \"Topic5\", \"Topic5\", \"Topic5\", \"Topic5\", \"Topic5\", \"Topic5\", \"Topic5\", \"Topic5\", \"Topic5\", \"Topic5\", \"Topic5\", \"Topic5\", \"Topic5\", \"Topic5\", \"Topic5\", \"Topic5\", \"Topic5\", \"Topic5\", \"Topic5\", \"Topic5\", \"Topic5\", \"Topic5\", \"Topic5\", \"Topic5\", \"Topic5\", \"Topic5\", \"Topic5\", \"Topic5\", \"Topic5\", \"Topic5\", \"Topic5\", \"Topic5\", \"Topic5\", \"Topic5\", \"Topic5\", \"Topic5\", \"Topic5\", \"Topic5\", \"Topic5\", \"Topic5\", \"Topic5\", \"Topic5\", \"Topic5\", \"Topic5\", \"Topic5\", \"Topic5\", \"Topic5\", \"Topic5\", \"Topic5\", \"Topic5\", \"Topic5\", \"Topic5\", \"Topic5\", \"Topic5\", \"Topic5\", \"Topic5\", \"Topic5\", \"Topic5\", \"Topic5\", \"Topic5\", \"Topic6\", \"Topic6\", \"Topic6\", \"Topic6\", \"Topic6\", \"Topic6\", \"Topic6\", \"Topic6\", \"Topic6\", \"Topic6\", \"Topic6\", \"Topic6\", \"Topic6\", \"Topic6\", \"Topic6\", \"Topic6\", \"Topic6\", \"Topic6\", \"Topic6\", \"Topic6\", \"Topic6\", \"Topic6\", \"Topic6\", \"Topic6\", \"Topic6\", \"Topic6\", \"Topic6\", \"Topic6\", \"Topic6\", \"Topic6\", \"Topic6\", \"Topic6\", \"Topic6\", \"Topic6\", \"Topic6\", \"Topic6\", \"Topic6\", \"Topic6\", \"Topic6\", \"Topic6\", \"Topic6\", \"Topic6\", \"Topic6\", \"Topic6\", \"Topic6\", \"Topic6\", \"Topic6\", \"Topic6\", \"Topic6\", \"Topic6\", \"Topic6\", \"Topic6\", \"Topic6\", \"Topic6\", \"Topic6\", \"Topic6\", \"Topic6\", \"Topic6\", \"Topic6\", \"Topic6\", \"Topic6\", \"Topic6\", \"Topic6\", \"Topic6\", \"Topic6\", \"Topic6\"], \"logprob\": [30.0, 29.0, 28.0, 27.0, 26.0, 25.0, 24.0, 23.0, 22.0, 21.0, 20.0, 19.0, 18.0, 17.0, 16.0, 15.0, 14.0, 13.0, 12.0, 11.0, 10.0, 9.0, 8.0, 7.0, 6.0, 5.0, 4.0, 3.0, 2.0, 1.0, -5.986999988555908, -6.586100101470947, -5.970600128173828, -6.57420015335083, -6.962699890136719, -5.908100128173828, -7.046000003814697, -6.322400093078613, -7.105000019073486, -7.498499870300293, -6.8730998039245605, -7.401500225067139, -7.2932000160217285, -7.682199954986572, -6.8993000984191895, -7.753499984741211, -5.655600070953369, -7.217400074005127, -7.866000175476074, -5.271900177001953, -7.9567999839782715, -6.937900066375732, -7.618100166320801, -7.464600086212158, -7.988800048828125, -7.765500068664551, -7.581699848175049, -6.7846999168396, -7.742700099945068, -7.992000102996826, -3.322999954223633, -6.780399799346924, -7.083600044250488, -6.75570011138916, -5.965199947357178, -6.9517998695373535, -5.851099967956543, -4.125800132751465, -5.974100112915039, -6.545899868011475, -6.900199890136719, -6.178599834442139, -6.8780999183654785, -6.752600193023682, -6.224899768829346, -6.530300140380859, -3.9674999713897705, -6.101600170135498, -5.031300067901611, -3.9744999408721924, -4.9781999588012695, -5.120800018310547, -6.583899974822998, -4.61460018157959, -5.457900047302246, -5.360899925231934, -6.023499965667725, -5.2941999435424805, -5.468999862670898, -6.152599811553955, -3.892899990081787, -4.525899887084961, -4.9243998527526855, -4.296500205993652, -4.864799976348877, -5.699900150299072, -4.668099880218506, -5.3867998123168945, -5.196700096130371, -4.301700115203857, -4.840199947357178, -4.612500190734863, -5.067299842834473, -4.508900165557861, -5.573299884796143, -4.991199970245361, -5.361000061035156, -5.393700122833252, -5.355400085449219, -5.310800075531006, -5.367400169372559, -5.39139986038208, -6.182700157165527, -6.804900169372559, -5.431099891662598, -5.811299800872803, -6.657700061798096, -6.57450008392334, -5.493800163269043, -6.985899925231934, -7.1020002365112305, -8.05739974975586, -6.4369001388549805, -6.398900032043457, -7.439300060272217, -7.855199813842773, -6.701099872589111, -7.305300235748291, -7.526800155639648, -6.5929999351501465, -8.286499977111816, -6.3282999992370605, -7.256400108337402, -7.937300205230713, -8.635000228881836, -7.151599884033203, -8.11359977722168, -8.001500129699707, -7.226500034332275, -6.379799842834473, -8.486800193786621, -7.2104997634887695, -7.059199810028076, -5.656199932098389, -6.323299884796143, -7.216100215911865, -7.272900104522705, -5.402200222015381, -6.355599880218506, -6.156000137329102, -6.480899810791016, -5.401700019836426, -5.529600143432617, -6.694699764251709, -5.850500106811523, -5.944499969482422, -5.047500133514404, -5.679699897766113, -6.133999824523926, -6.0960001945495605, -3.5680999755859375, -4.978499889373779, -5.260900020599365, -5.246200084686279, -4.03439998626709, -3.838200092315674, -4.910399913787842, -4.680500030517578, -5.048799991607666, -4.552199840545654, -4.790800094604492, -4.474400043487549, -5.066100120544434, -4.708399772644043, -4.512499809265137, -4.5782999992370605, -5.045100212097168, -5.139599800109863, -5.005300045013428, -5.01170015335083, -4.829800128936768, -5.014500141143799, -5.036499977111816, -5.1016998291015625, -5.137499809265137, -5.183300018310547, -5.068699836730957, -5.236000061035156, -5.212100028991699, -6.371699810028076, -6.8125, -7.513599872589111, -2.0517001152038574, -3.1438000202178955, -5.462600231170654, -8.089599609375, -6.866000175476074, -8.473400115966797, -8.4173002243042, -8.028599739074707, -7.796999931335449, -6.22790002822876, -8.48799991607666, -8.751199722290039, -7.869900226593018, -6.085400104522705, -7.128900051116943, -7.163000106811523, -7.98960018157959, -8.681900024414062, -8.46969985961914, -8.00220012664795, -6.8267998695373535, -8.965700149536133, -6.966400146484375, -7.313700199127197, -8.636199951171875, -8.879799842834473, -8.35789966583252, -7.461699962615967, -5.631199836730957, -6.450900077819824, -3.0380001068115234, -6.690299987792969, -6.713600158691406, -6.237800121307373, -5.9583001136779785, -7.252500057220459, -6.727200031280518, -3.6380999088287354, -4.337399959564209, -3.829200029373169, -4.292900085449219, -4.520299911499023, -5.626699924468994, -5.186200141906738, -5.356200218200684, -5.508500099182129, -5.780399799346924, -5.063899993896484, -5.295899868011475, -5.077000141143799, -4.699900150299072, -4.695400238037109, -4.631800174713135, -4.900100231170654, -5.128499984741211, -5.164299964904785, -5.265900135040283, -5.1234002113342285, -5.142099857330322, -5.18209981918335, -5.493899822235107, -5.572400093078613, -5.432499885559082, -5.44950008392334, -5.503900051116943, -5.554299831390381, -5.454999923706055, -6.043600082397461, -7.372499942779541, -7.114500045776367, -7.066999912261963, -3.1668999195098877, -7.270400047302246, -6.413400173187256, -7.484099864959717, -7.678100109100342, -8.431900024414062, -5.754700183868408, -8.013500213623047, -5.335400104522705, -4.150599956512451, -8.05720043182373, -7.967599868774414, -8.227899551391602, -8.214699745178223, -6.787799835205078, -6.326499938964844, -8.217499732971191, -8.391599655151367, -9.020099639892578, -7.476900100708008, -6.607699871063232, -7.6570000648498535, -7.658199787139893, -6.9517998695373535, -7.824399948120117, -6.383500099182129, -6.765399932861328, -5.499199867248535, -5.563399791717529, -6.978600025177002, -5.480500221252441, -5.084000110626221, -5.63670015335083, -5.789100170135498, -5.780300140380859, -5.267199993133545, -3.80649995803833, -3.7088000774383545, -3.887399911880493, -4.514800071716309, -5.382199764251709, -3.585599899291992, -4.660399913787842, -4.3821001052856445, -5.482800006866455, -4.6371002197265625, -4.003300189971924, -4.22160005569458, -4.993299961090088, -4.756899833679199, -4.825699806213379, -4.49459981918335, -5.125, -4.469200134277344, -4.867499828338623, -4.8053998947143555, -4.897799968719482, -5.07420015335083, -5.218699932098389, -5.094900131225586, -5.202099800109863, -5.274400234222412, -5.2459001541137695, -5.163899898529053, -5.2469000816345215, -5.256899833679199, -5.488800048828125, -4.318600177764893, -5.444699764251709, -7.2642998695373535, -6.548900127410889, -5.762199878692627, -7.716700077056885, -6.588799953460693, -6.665999889373779, -6.517199993133545, -6.394499778747559, -4.1184000968933105, -7.882599830627441, -8.147899627685547, -6.673299789428711, -6.183499813079834, -6.857399940490723, -5.2754998207092285, -7.7789998054504395, -8.299599647521973, -7.764999866485596, -7.566699981689453, -7.428100109100342, -8.187999725341797, -6.98360013961792, -8.204899787902832, -7.478099822998047, -5.902900218963623, -8.118000030517578, -7.7652997970581055, -7.048600196838379, -6.4222002029418945, -5.1468000411987305, -5.168499946594238, -5.2322998046875, -5.770199775695801, -5.6975998878479, -6.7281999588012695, -6.0055999755859375, -4.830900192260742, -6.306600093841553, -5.702400207519531, -4.9679999351501465, -4.320499897003174, -5.572199821472168, -4.8125, -4.264800071716309, -3.6635000705718994, -4.145599842071533, -3.5237998962402344, -4.492099761962891, -5.0208001136779785, -4.937900066375732, -4.764699935913086, -4.666299819946289, -4.584700107574463, -4.349599838256836, -5.198800086975098, -4.606599807739258, -4.8979997634887695, -5.065199851989746, -4.706600189208984, -4.695099830627441, -4.917399883270264, -5.029099941253662, -5.127500057220459, -5.23360013961792, -5.547500133514404, -3.28439998626709, -6.68209981918335, -7.284999847412109, -6.785900115966797, -7.040299892425537, -7.994100093841553, -7.083600044250488, -6.028200149536133, -7.355299949645996, -8.09939956665039, -7.451300144195557, -4.602099895477295, -8.12339973449707, -7.188899993896484, -6.984600067138672, -4.6280999183654785, -7.415599822998047, -6.0192999839782715, -5.585899829864502, -7.587600231170654, -7.729700088500977, -8.214300155639648, -6.335999965667725, -7.692299842834473, -6.738500118255615, -6.521200180053711, -6.404200077056885, -7.636300086975098, -4.147200107574463, -4.27269983291626, -4.597400188446045, -5.906400203704834, -5.320000171661377, -6.327000141143799, -6.02810001373291, -6.1305999755859375, -5.623499870300293, -3.6361000537872314, -4.998300075531006, -5.347300052642822, -4.206099987030029, -4.242199897766113, -4.112299919128418, -3.8459999561309814, -5.627900123596191, -4.027599811553955, -3.614500045776367, -4.073800086975098, -4.2789998054504395, -5.271900177001953, -3.9909000396728516, -4.501800060272217, -5.02810001373291, -4.782100200653076, -4.936999797821045, -4.363699913024902, -4.815499782562256, -4.958199977874756, -4.697299957275391, -4.936100006103516, -4.851399898529053, -5.0346999168396, -5.0945000648498535, -5.239200115203857, -5.224100112915039], \"loglift\": [30.0, 29.0, 28.0, 27.0, 26.0, 25.0, 24.0, 23.0, 22.0, 21.0, 20.0, 19.0, 18.0, 17.0, 16.0, 15.0, 14.0, 13.0, 12.0, 11.0, 10.0, 9.0, 8.0, 7.0, 6.0, 5.0, 4.0, 3.0, 2.0, 1.0, 1.5618000030517578, 1.5549999475479126, 1.5539000034332275, 1.5525000095367432, 1.5468000173568726, 1.5455000400543213, 1.544600009918213, 1.5432000160217285, 1.5399999618530273, 1.5356999635696411, 1.5334999561309814, 1.531999945640564, 1.5276000499725342, 1.5252000093460083, 1.5205999612808228, 1.5198999643325806, 1.5188000202178955, 1.5161000490188599, 1.514299988746643, 1.513800024986267, 1.513700008392334, 1.5123000144958496, 1.5104999542236328, 1.5099999904632568, 1.509600043296814, 1.5095000267028809, 1.5094000101089478, 1.5091999769210815, 1.5088000297546387, 1.507200002670288, 1.4706000089645386, 1.503499984741211, 1.5055999755859375, 1.501099944114685, 1.492799997329712, 1.5026999711990356, 1.4744999408721924, 1.4342000484466553, 1.4694000482559204, 1.485700011253357, 1.4905999898910522, 1.429800033569336, 1.4794000387191772, 1.4651999473571777, 1.3775999546051025, 1.420699954032898, 0.9689000248908997, 1.3392000198364258, 1.1145000457763672, 0.8554999828338623, 1.0513999462127686, 1.0223000049591064, 1.4184999465942383, 0.8514999747276306, 1.0625, 1.0233999490737915, 1.2339999675750732, 0.9541000127792358, 1.0078999996185303, 1.2580000162124634, 0.3287999927997589, 0.4799000024795532, 0.673799991607666, 0.1754000037908554, 0.491100013256073, 0.9886000156402588, 0.19249999523162842, 0.7315999865531921, 0.5570999979972839, -0.3783000111579895, 0.06120000034570694, -0.22030000388622284, 0.12439999729394913, -0.7946000099182129, 0.8238000273704529, -0.26429998874664307, 0.2232999950647354, 0.09080000221729279, -0.16249999403953552, -0.5396999716758728, -0.29679998755455017, -0.9617999792098999, 1.6273000240325928, 1.6194000244140625, 1.6089999675750732, 1.6055999994277954, 1.5985000133514404, 1.5817999839782715, 1.5778000354766846, 1.5637999773025513, 1.5504000186920166, 1.5496000051498413, 1.549299955368042, 1.5478999614715576, 1.5454000234603882, 1.5442999601364136, 1.5439000129699707, 1.5382000207901, 1.530900001525879, 1.5286999940872192, 1.5206999778747559, 1.5117000341415405, 1.510200023651123, 1.503600001335144, 1.5027999877929688, 1.4976999759674072, 1.4889999628067017, 1.4823999404907227, 1.4802000522613525, 1.467900037765503, 1.4514000415802002, 1.4494999647140503, 1.4485000371932983, 1.3964999914169312, 1.406599998474121, 1.4483000040054321, 1.4458999633789062, 1.2994999885559082, 1.3461999893188477, 1.3224999904632568, 1.358199954032898, 1.2186000347137451, 1.2141000032424927, 1.3604999780654907, 1.183899998664856, 1.187600016593933, 0.9157000184059143, 1.0289000272750854, 1.1401000022888184, 1.1090999841690063, 0.1460999995470047, 0.6847000122070312, 0.777899980545044, 0.7552000284194946, 0.1873999983072281, 0.0851999968290329, 0.5741999745368958, 0.39010000228881836, 0.4715000092983246, 0.06589999794960022, 0.21490000188350677, -0.04490000009536743, 0.40049999952316284, 0.06279999762773514, -0.12030000239610672, -0.10639999806880951, 0.3107999861240387, 0.3894999921321869, 0.18639999628067017, 0.18219999969005585, -0.10289999842643738, 0.025100000202655792, -0.17589999735355377, -0.20029999315738678, -0.13179999589920044, 0.009600000455975533, -0.888700008392334, -0.03779999911785126, -0.38199999928474426, 1.651900053024292, 1.6437000036239624, 1.6366000175476074, 1.6212999820709229, 1.6171000003814697, 1.6140999794006348, 1.5887000560760498, 1.573699951171875, 1.5698000192642212, 1.5633000135421753, 1.5607999563217163, 1.5032999515533447, 1.4853999614715576, 1.4835000038146973, 1.4692000150680542, 1.4601000547409058, 1.4312000274658203, 1.4205000400543213, 1.4168000221252441, 1.413100004196167, 1.4119999408721924, 1.381500005722046, 1.3566999435424805, 1.353700041770935, 1.3449000120162964, 1.3350000381469727, 1.3241000175476074, 1.3171000480651855, 1.3100999593734741, 1.2939000129699707, 1.292199969291687, 1.2728999853134155, 1.264299988746643, 1.1419999599456787, 1.2655999660491943, 1.2400000095367432, 1.1694999933242798, 1.108199954032898, 1.248900055885315, 1.0716999769210815, 0.07609999924898148, 0.28060001134872437, 0.09430000185966492, 0.17900000512599945, 0.20669999718666077, 0.6071000099182129, 0.40380001068115234, 0.39430001378059387, 0.4625000059604645, 0.5878999829292297, 0.13420000672340393, 0.17710000276565552, 0.029200000688433647, -0.2703000009059906, -0.30320000648498535, -0.4101000130176544, -0.241799995303154, -0.12269999831914902, -0.12470000237226486, -0.07199999690055847, -0.262800008058548, -0.24070000648498535, -0.41100001335144043, 0.09040000289678574, 0.2054000049829483, -0.24079999327659607, -0.5131999850273132, -0.673799991607666, -0.03400000184774399, 1.7657999992370605, 1.7436000108718872, 1.7232999801635742, 1.7187999486923218, 1.70169997215271, 1.6973999738693237, 1.6955000162124634, 1.6936999559402466, 1.6928000450134277, 1.680299997329712, 1.6727999448776245, 1.6567000150680542, 1.656599998474121, 1.6469999551773071, 1.6420999765396118, 1.6168999671936035, 1.610700011253357, 1.6035000085830688, 1.6023000478744507, 1.6007000207901, 1.6002000570297241, 1.5979000329971313, 1.5972000360488892, 1.5942000150680542, 1.5907000303268433, 1.57669997215271, 1.5755000114440918, 1.5750999450683594, 1.5742000341415405, 1.5712000131607056, 1.5405999422073364, 1.521399974822998, 1.3906999826431274, 1.3696000576019287, 1.4855999946594238, 1.323799967765808, 1.2763999700546265, 1.3027000427246094, 1.2913000583648682, 1.236299991607666, 1.1359000205993652, 0.8518999814987183, 0.7207000255584717, 0.504800021648407, 0.5558000206947327, 0.8626999855041504, 0.12870000302791595, 0.5333999991416931, 0.38909998536109924, 0.8700000047683716, 0.3686000108718872, -0.07989999651908875, 9.999999747378752e-05, 0.4733999967575073, 0.2825999855995178, 0.28049999475479126, -0.022700000554323196, 0.5206999778747559, -0.2892000079154968, 0.033900000154972076, -0.1873999983072281, -0.17090000212192535, 0.11749999970197678, 0.44440001249313354, -0.23430000245571136, 0.15389999747276306, 0.40470001101493835, 0.274399995803833, -0.33379998803138733, 0.22609999775886536, -0.05869999900460243, 1.7879999876022339, 1.7851999998092651, 1.7839000225067139, 1.7619999647140503, 1.760599970817566, 1.7301000356674194, 1.7258000373840332, 1.7217999696731567, 1.716599941253662, 1.7135000228881836, 1.6952999830245972, 1.694000005722046, 1.6912000179290771, 1.687999963760376, 1.6847000122070312, 1.6784000396728516, 1.676300048828125, 1.6691999435424805, 1.6674000024795532, 1.6641000509262085, 1.6581000089645386, 1.6576999425888062, 1.6542999744415283, 1.6500999927520752, 1.6441999673843384, 1.638100028038025, 1.6344000101089478, 1.6311999559402466, 1.6166000366210938, 1.615399956703186, 1.6007000207901, 1.5702999830245972, 1.5140999555587769, 1.513200044631958, 1.4952000379562378, 1.5260000228881836, 1.5170999765396118, 1.5476000308990479, 1.4141000509262085, 1.1771999597549438, 1.4010000228881836, 1.2710000276565552, 1.0772000551223755, 0.8723999857902527, 1.1995999813079834, 0.8140000104904175, 0.59579998254776, 0.2599000036716461, 0.4724000096321106, 0.19040000438690186, 0.4092999994754791, 0.7297000288963318, 0.6521000266075134, 0.4334999918937683, 0.3395000100135803, 0.14229999482631683, -0.12790000438690186, 0.661300003528595, -0.1347000002861023, 0.20819999277591705, 0.40779998898506165, -0.2770000100135803, -0.3028999865055084, -0.2590999901294708, -0.257999986410141, -0.121799997985363, -1.0535999536514282, 2.2753000259399414, 2.271399974822998, 2.226599931716919, 2.2005999088287354, 2.1563000679016113, 2.156100034713745, 2.15120005607605, 2.140700101852417, 2.1328001022338867, 2.128999948501587, 2.121299982070923, 2.1048998832702637, 2.099600076675415, 2.097599983215332, 2.0862998962402344, 2.0790998935699463, 2.0750999450683594, 2.059299945831299, 2.0525999069213867, 2.0132999420166016, 2.007999897003174, 2.001499891281128, 1.975100040435791, 1.9474999904632568, 1.9337999820709229, 1.9234999418258667, 1.9214999675750732, 1.9127000570297241, 1.9057999849319458, 1.8828999996185303, 1.8763999938964844, 1.8221999406814575, 1.8632999658584595, 1.77839994430542, 1.8274999856948853, 1.73989999294281, 1.7580000162124634, 1.6512000560760498, 1.0221999883651733, 1.2958999872207642, 1.3614000082015991, 0.8999999761581421, 0.7973999977111816, 0.6588000059127808, 0.33399999141693115, 1.309499979019165, 0.3646000027656555, 0.0997999981045723, 0.35580000281333923, 0.33899998664855957, 1.0556000471115112, -0.06750000268220901, 0.22509999573230743, 0.6007000207901001, 0.22360000014305115, 0.25679999589920044, -0.6906999945640564, 0.014600000344216824, 0.11240000277757645, -0.475600004196167, 0.00019999999494757503, -0.37950000166893005, 0.16339999437332153, 0.09839999675750732, 0.2337999939918518, -0.32269999384880066]}, \"token.table\": {\"Topic\": [1, 2, 3, 4, 5, 6, 1, 2, 3, 4, 5, 6, 1, 2, 3, 4, 5, 6, 1, 2, 3, 4, 5, 6, 1, 2, 3, 4, 5, 6, 1, 2, 3, 4, 5, 6, 1, 2, 3, 4, 5, 6, 1, 2, 3, 4, 5, 6, 1, 2, 3, 4, 5, 6, 1, 2, 3, 4, 5, 6, 1, 2, 3, 4, 5, 6, 1, 2, 3, 4, 5, 6, 1, 2, 3, 4, 5, 6, 1, 2, 3, 4, 5, 6, 1, 2, 3, 4, 5, 6, 1, 2, 3, 4, 5, 6, 1, 2, 3, 4, 5, 6, 1, 2, 3, 4, 5, 6, 1, 2, 3, 4, 5, 6, 1, 2, 3, 4, 5, 6, 1, 2, 3, 4, 5, 6, 1, 2, 3, 4, 5, 6, 1, 2, 3, 4, 5, 6, 1, 2, 3, 4, 5, 6, 1, 2, 3, 4, 5, 6, 1, 2, 3, 4, 5, 6, 1, 2, 3, 4, 5, 6, 1, 2, 3, 4, 5, 6, 1, 2, 3, 4, 5, 6, 1, 2, 3, 4, 5, 6, 1, 2, 3, 4, 5, 6, 1, 2, 3, 4, 5, 6, 1, 2, 3, 4, 5, 6, 1, 2, 3, 4, 5, 6, 1, 2, 3, 4, 5, 6, 1, 2, 3, 4, 5, 6, 1, 2, 3, 4, 5, 6, 1, 2, 3, 4, 5, 6, 1, 2, 3, 4, 5, 6, 1, 2, 3, 4, 5, 6, 1, 2, 3, 4, 5, 6, 1, 2, 3, 4, 5, 6, 1, 2, 3, 4, 5, 6, 1, 2, 3, 4, 5, 6, 1, 2, 3, 4, 5, 6, 1, 2, 3, 4, 5, 6, 1, 2, 3, 4, 5, 6, 1, 2, 3, 4, 5, 6, 1, 2, 3, 4, 5, 6, 1, 2, 3, 4, 5, 6, 1, 2, 3, 4, 5, 6, 1, 2, 3, 4, 5, 6, 1, 2, 3, 4, 5, 6, 1, 2, 3, 4, 5, 6, 1, 2, 3, 4, 5, 6, 1, 2, 3, 4, 5, 6, 1, 2, 3, 4, 5, 6, 1, 2, 3, 4, 5, 6, 1, 2, 3, 4, 5, 6, 1, 2, 3, 4, 5, 6, 1, 2, 3, 4, 5, 6, 1, 2, 3, 4, 5, 6, 1, 2, 3, 4, 5, 6, 1, 2, 3, 4, 5, 6, 1, 2, 3, 4, 5, 6, 1, 2, 3, 4, 5, 6, 1, 2, 3, 4, 5, 6, 1, 2, 3, 4, 5, 6, 1, 2, 3, 4, 5, 6, 1, 2, 3, 4, 5, 6, 1, 2, 3, 4, 5, 6, 1, 2, 3, 4, 5, 6, 1, 2, 3, 4, 5, 6, 1, 2, 3, 4, 5, 6, 1, 2, 3, 4, 5, 6, 1, 2, 3, 4, 5, 6, 1, 2, 3, 4, 5, 6, 1, 2, 3, 4, 5, 6, 1, 2, 3, 4, 5, 6, 1, 2, 3, 4, 5, 6, 1, 2, 3, 4, 5, 6, 1, 2, 3, 4, 5, 6, 1, 2, 3, 4, 5, 6, 1, 2, 3, 4, 5, 6, 1, 2, 3, 4, 5, 6, 1, 2, 3, 4, 5, 6, 1, 2, 3, 4, 5, 6, 1, 2, 3, 4, 5, 6, 1, 2, 3, 4, 5, 6, 1, 2, 3, 4, 5, 6, 1, 2, 3, 4, 5, 6, 1, 2, 3, 4, 5, 6, 1, 2, 3, 4, 5, 6, 1, 2, 3, 4, 5, 6, 1, 2, 3, 4, 5, 6, 1, 2, 3, 4, 5, 6, 1, 2, 3, 4, 5, 6, 1, 2, 3, 4, 5, 6, 1, 2, 3, 4, 5, 6, 1, 2, 3, 4, 5, 6, 1, 2, 3, 4, 5, 6, 1, 2, 3, 4, 5, 6, 1, 2, 3, 4, 5, 6, 1, 2, 3, 4, 5, 6, 1, 2, 3, 4, 5, 6, 1, 2, 3, 4, 5, 6, 1, 2, 3, 4, 5, 6, 1, 2, 3, 4, 5, 6, 1, 2, 3, 4, 5, 6, 1, 2, 3, 4, 5, 6, 1, 2, 3, 4, 5, 6, 1, 2, 3, 4, 5, 6, 1, 2, 3, 4, 5, 6, 1, 2, 3, 4, 5, 6, 1, 2, 3, 4, 5, 6, 1, 2, 3, 4, 5, 6, 1, 2, 3, 4, 5, 6, 1, 2, 3, 4, 5, 6, 1, 2, 3, 4, 5, 6, 1, 2, 3, 4, 5, 6, 1, 2, 3, 4, 5, 6, 1, 2, 3, 4, 5, 6, 1, 2, 3, 4, 5, 6, 1, 2, 3, 4, 5, 6, 1, 2, 3, 4, 5, 6, 1, 2, 3, 4, 5, 6, 1, 2, 3, 4, 5, 6, 1, 2, 3, 4, 5, 6, 1, 2, 3, 4, 5, 6, 1, 2, 3, 4, 5, 6, 1, 2, 3, 4, 5, 6, 1, 2, 3, 4, 5, 6, 1, 2, 3, 4, 5, 6, 1, 2, 3, 4, 5, 6, 1, 2, 3, 4, 5, 6, 1, 2, 3, 4, 5, 6, 1, 2, 3, 4, 5, 6, 1, 2, 3, 4, 5, 6, 1, 2, 3, 4, 5, 6, 1, 2, 3, 4, 5, 6, 1, 2, 3, 4, 5, 6, 1, 2, 3, 4, 5, 6, 1, 2, 3, 4, 5, 6, 1, 2, 3, 4, 5, 6, 1, 2, 3, 4, 5, 6, 1, 2, 3, 4, 5, 6, 1, 2, 3, 4, 5, 6, 1, 2, 3, 4, 5, 6, 1, 2, 3, 4, 5, 6, 1, 2, 3, 4, 5, 6, 1, 2, 3, 4, 5, 6, 1, 2, 3, 4, 5, 6, 1, 2, 3, 4, 5, 6, 1, 2, 3, 4, 5, 6, 1, 2, 3, 4, 5, 6, 1, 2, 3, 4, 5, 6, 1, 2, 3, 4, 5, 6, 1, 2, 3, 4, 5, 6, 1, 2, 3, 4, 5, 6, 1, 2, 3, 4, 5, 6, 1, 2, 3, 4, 5, 6, 1, 2, 3, 4, 5, 6, 1, 2, 3, 4, 5, 6, 1, 2, 3, 4, 5, 6, 1, 2, 3, 4, 5, 6, 1, 2, 3, 4, 5, 6, 1, 2, 3, 4, 5, 6, 1, 2, 3, 4, 5, 6, 1, 2, 3, 4, 5, 6, 1, 2, 3, 4, 5, 6, 1, 2, 3, 4, 5, 6, 1, 2, 3, 4, 5, 6, 1, 2, 3, 4, 5, 6, 1, 2, 3, 4, 5, 6, 1, 2, 3, 4, 5, 6, 1, 2, 3, 4, 5, 6, 1, 2, 3, 4, 5, 6, 1, 2, 3, 4, 5, 6, 1, 2, 3, 4, 5, 6, 1, 2, 3, 4, 5, 6, 1, 2, 3, 4, 5, 6, 1, 2, 3, 4, 5, 6, 1, 2, 3, 4, 5, 6, 1, 2, 3, 4, 5, 6, 1, 2, 3, 4, 5, 6, 1, 2, 3, 4, 5, 6, 1, 2, 3, 4, 5, 6, 1, 2, 3, 4, 5, 6, 1, 2, 3, 4, 5, 6, 1, 2, 3, 4, 5, 6, 1, 2, 3, 4, 5, 6, 1, 2, 3, 4, 5, 6, 1, 2, 3, 4, 5, 6, 1, 2, 3, 4, 5, 6, 1, 2, 3, 4, 5, 6, 1, 2, 3, 4, 5, 6, 1, 2, 3, 4, 5, 6, 1, 2, 3, 4, 5, 6, 1, 2, 3, 4, 5, 6, 1, 2, 3, 4, 5, 6, 1, 2, 3, 4, 5, 6, 1, 2, 3, 4, 5, 6, 1, 2, 3, 4, 5, 6, 1, 2, 3, 4, 5, 6, 1, 2, 3, 4, 5, 6, 1, 2, 3, 4, 5, 6, 1, 2, 3, 4, 5, 6, 1, 2, 3, 4, 5, 6, 1, 2, 3, 4, 5, 6, 1, 2, 3, 4, 5, 6, 1, 2, 3, 4, 5, 6, 1, 2, 3, 4, 5, 6, 1, 2, 3, 4, 5, 6, 1, 2, 3, 4, 5, 6, 1, 2, 3, 4, 5, 6, 1, 2, 3, 4, 5, 6, 1, 2, 3, 4, 5, 6, 1, 2, 3, 4, 5, 6, 1, 2, 3, 4, 5, 6, 1, 2, 3, 4, 5, 6, 1, 2, 3, 4, 5, 6, 1, 2, 3, 4, 5, 6, 1, 2, 3, 4, 5, 6, 1, 2, 3, 4, 5, 6, 1, 2, 3, 4, 5, 6, 1, 2, 3, 4, 5, 6, 1, 2, 3, 4, 5, 6, 1, 2, 3, 4, 5, 6, 1, 2, 3, 4, 5, 6, 1, 2, 3, 4, 5, 6, 1, 2, 3, 4, 5, 6, 1, 2, 3, 4, 5, 6, 1, 2, 3, 4, 5, 6, 1, 2, 3, 4, 5, 6, 1, 2, 3, 4, 5, 6, 1, 2, 3, 4, 5, 6, 1, 2, 3, 4, 5, 6, 1, 2, 3, 4, 5, 6, 1, 2, 3, 4, 5, 6, 1, 2, 3, 4, 5, 6, 1, 2, 3, 4, 5, 6, 1, 2, 3, 4, 5, 6, 1, 2, 3, 4, 5, 6, 1, 2, 3, 4, 5, 6, 1, 2, 3, 4, 5, 6, 1, 2, 3, 4, 5, 6, 1, 2, 3, 4, 5, 6, 1, 2, 3, 4, 5, 6, 1, 2, 3, 4, 5, 6, 1, 2, 3, 4, 5, 6, 1, 2, 3, 4, 5, 6, 1, 2, 3, 4, 5, 6, 1, 2, 3, 4, 5, 6, 1, 2, 3, 4, 5, 6, 1, 2, 3, 4, 5, 6, 1, 2, 3, 4, 5, 6, 1, 2, 3, 4, 5, 6, 1, 2, 3, 4, 5, 6, 1, 2, 3, 4, 5, 6, 1, 2, 3, 4, 5, 6, 1, 2, 3, 4, 5, 6, 1, 2, 3, 4, 5, 6, 1, 2, 3, 4, 5, 6, 1, 2, 3, 4, 5, 6, 1, 2, 3, 4, 5, 6, 1, 2, 3, 4, 5, 6, 1, 2, 3, 4, 5, 6, 1, 2, 3, 4, 5, 6, 1, 2, 3, 4, 5, 6, 1, 2, 3, 4, 5, 6, 1, 2, 3, 4, 5, 6, 1, 2, 3, 4, 5, 6, 1, 2, 3, 4, 5, 6, 1, 2, 3, 4, 5, 6, 1, 2, 3, 4, 5, 6, 1, 2, 3, 4, 5, 6, 1, 2, 3, 4, 5, 6, 1, 2, 3, 4, 5, 6, 1, 2, 3, 4, 5, 6, 1, 2, 3, 4, 5, 6, 1, 2, 3, 4, 5, 6, 1, 2, 3, 4, 5, 6, 1, 2, 3, 4, 5, 6, 1, 2, 3, 4, 5, 6, 1, 2, 3, 4, 5, 6, 1, 2, 3, 4, 5, 6, 1, 2, 3, 4, 5, 6, 1, 2, 3, 4, 5, 6, 1, 2, 3, 4, 5, 6, 1, 2, 3, 4, 5, 6, 1, 2, 3, 4, 5, 6, 1, 2, 3, 4, 5, 6, 1, 2, 3, 4, 5, 6, 1, 2, 3, 4, 5, 6, 1, 2, 3, 4, 5, 6, 1, 2, 3, 4, 5, 6, 1, 2, 3, 4, 5, 6, 1, 2, 3, 4, 5, 6, 1, 2, 3, 4, 5, 6, 1, 2, 3, 4, 5, 6, 1, 2, 3, 4, 5, 6, 1, 2, 3, 4, 5, 6, 1, 2, 3, 4, 5, 6, 1, 2, 3, 4, 5, 6, 1, 2, 3, 4, 5, 6, 1, 2, 3, 4, 5, 6, 1, 2, 3, 4, 5, 6, 1, 2, 3, 4, 5, 6, 1, 2, 3, 4, 5, 6, 1, 2, 3, 4, 5, 6, 1, 2, 3, 4, 5, 6, 1, 2, 3, 4, 5, 6, 1, 2, 3, 4, 5, 6, 1, 2, 3, 4, 5, 6, 1, 2, 3, 4, 5, 6, 1, 2, 3, 4, 5, 6, 1, 2, 3, 4, 5, 6, 1, 2, 3, 4, 5, 6, 1, 2, 3, 4, 5, 6, 1, 2, 3, 4, 5, 6, 1, 2, 3, 4, 5, 6, 1, 2, 3, 4, 5, 6, 1, 2, 3, 4, 5, 6], \"Freq\": [0.19463002681732178, 0.2608239948749542, 0.2232811450958252, 0.07310975342988968, 0.190348818898201, 0.057631563395261765, 0.022021809592843056, 0.022021809592843056, 0.8588505387306213, 0.022021809592843056, 0.04404361918568611, 0.022021809592843056, 0.06749088317155838, 0.04571962729096413, 0.1883213222026825, 0.06749088317155838, 0.5791152715682983, 0.05225100368261337, 0.0007964717806316912, 0.003185887122526765, 0.21504738926887512, 0.020708266645669937, 0.737532913684845, 0.022301210090517998, 0.9263516664505005, 0.013309650123119354, 0.021295441314578056, 0.013309650123119354, 0.011978684924542904, 0.014640615321695805, 0.46251100301742554, 0.11440417915582657, 0.14376996457576752, 0.0917680561542511, 0.13704030215740204, 0.0501665398478508, 0.9207000732421875, 0.009394899010658264, 0.028184697031974792, 0.009394899010658264, 0.01878979802131653, 0.01878979802131653, 0.014204171486198902, 0.2130625694990158, 0.028408342972397804, 0.028408342972397804, 0.04261251166462898, 0.6675960421562195, 0.08001238107681274, 0.18981660902500153, 0.17563001811504364, 0.22216203808784485, 0.15151280164718628, 0.18045344948768616, 0.26170724630355835, 0.06978859752416611, 0.6455445289611816, 0.008723574690520763, 0.005815716460347176, 0.008723574690520763, 0.026975149288773537, 0.8931771516799927, 0.011988955549895763, 0.035966865718364716, 0.005994477774947882, 0.026975149288773537, 0.15578770637512207, 0.17098651826381683, 0.22349146008491516, 0.13863149285316467, 0.18710646033287048, 0.12389326095581055, 0.9351603984832764, 0.02032957412302494, 0.01016478706151247, 0.01016478706151247, 0.01016478706151247, 0.02032957412302494, 0.015657516196370125, 0.8220195770263672, 0.05219171941280365, 0.010438344441354275, 0.06523965299129486, 0.03392461687326431, 0.018853899091482162, 0.7659395933151245, 0.14140424132347107, 0.024745741859078407, 0.03299432247877121, 0.016497161239385605, 0.023446429520845413, 0.023446429520845413, 0.86751788854599, 0.023446429520845413, 0.023446429520845413, 0.023446429520845413, 0.26688411831855774, 0.08122560381889343, 0.6265974640846252, 0.01160365715622902, 0.00580182857811451, 0.00580182857811451, 0.26715517044067383, 0.06907434016466141, 0.6490956544876099, 0.007110593840479851, 0.0030473973602056503, 0.0040631964802742004, 0.033461540937423706, 0.02230769395828247, 0.8142307996749878, 0.04461538791656494, 0.011153846979141235, 0.05576923489570618, 0.05601207911968231, 0.05601207911968231, 0.03734138607978821, 0.8215104937553406, 0.03734138607978821, 0.018670693039894104, 0.0038276321720331907, 0.0076552643440663815, 0.06889738142490387, 0.0076552643440663815, 0.8994935750961304, 0.011482897214591503, 0.018699606880545616, 0.0560988187789917, 0.018699606880545616, 0.8227826952934265, 0.03739921376109123, 0.03739921376109123, 0.8045991659164429, 0.036758337169885635, 0.046968989074230194, 0.06943241506814957, 0.026547688990831375, 0.016337038949131966, 0.903123676776886, 0.03004521131515503, 0.015906287357211113, 0.0212083850055933, 0.015906287357211113, 0.014138923026621342, 0.958918571472168, 0.006898694671690464, 0.006898694671690464, 0.006898694671690464, 0.010348042473196983, 0.006898694671690464, 0.8484247922897339, 0.055466026067733765, 0.03286875784397125, 0.03286875784397125, 0.02465156838297844, 0.008217189460992813, 0.9245673418045044, 0.013596578501164913, 0.013596578501164913, 0.013596578501164913, 0.013596578501164913, 0.013596578501164913, 0.932247519493103, 0.013811074197292328, 0.013811074197292328, 0.013811074197292328, 0.013811074197292328, 0.006905537098646164, 0.9147804379463196, 0.021910909563302994, 0.027388636022806168, 0.01643318124115467, 0.010955454781651497, 0.010955454781651497, 0.9139061570167542, 0.009048576466739178, 0.018097152933478355, 0.009048576466739178, 0.018097152933478355, 0.02714572846889496, 0.8970323204994202, 0.028228288516402245, 0.03763771802186966, 0.012545906007289886, 0.012545906007289886, 0.012545906007289886, 0.9118416905403137, 0.013609576970338821, 0.013609576970338821, 0.013609576970338821, 0.013609576970338821, 0.027219153940677643, 0.929559051990509, 0.02774803154170513, 0.009249343536794186, 0.009249343536794186, 0.01849868707358837, 0.009249343536794186, 0.5453054308891296, 0.0515829473733902, 0.11135366559028625, 0.1956876814365387, 0.05322049930691719, 0.04257640242576599, 0.8377167582511902, 0.05178612470626831, 0.024369942024350166, 0.05483236908912659, 0.018277456983923912, 0.012184971012175083, 0.948472261428833, 0.007970355451107025, 0.010627140291035175, 0.007970355451107025, 0.013283925130963326, 0.007970355451107025, 0.9173199534416199, 0.012230932712554932, 0.032615821808576584, 0.012230932712554932, 0.016307910904288292, 0.012230932712554932, 0.08237174898386002, 0.8751998543739319, 0.017160780727863312, 0.010296468622982502, 0.006864312570542097, 0.010296468622982502, 0.05154811590909958, 0.8505439162254333, 0.02577405795454979, 0.02577405795454979, 0.02577405795454979, 0.02577405795454979, 0.02463318407535553, 0.8867946267127991, 0.02463318407535553, 0.02463318407535553, 0.012316592037677765, 0.012316592037677765, 0.0966123715043068, 0.13966788351535797, 0.10501345247030258, 0.09031156450510025, 0.2026759535074234, 0.3664969503879547, 0.013273069635033607, 0.03152354061603546, 0.01576177030801773, 0.020739171653985977, 0.11116195470094681, 0.8071685433387756, 0.03253845497965813, 0.8866729140281677, 0.02440384216606617, 0.008134613744914532, 0.03253845497965813, 0.008134613744914532, 0.03109082207083702, 0.010363606736063957, 0.01554541103541851, 0.04145442694425583, 0.865361213684082, 0.03109082207083702, 0.03428494557738304, 0.2651368975639343, 0.6445569396018982, 0.006856988649815321, 0.03199928253889084, 0.01599964126944542, 0.004455249756574631, 0.017820999026298523, 0.04455249756574631, 0.017820999026298523, 0.9044156670570374, 0.008910499513149261, 0.0929710790514946, 0.06640791893005371, 0.03984475135803223, 0.013281582854688168, 0.013281582854688168, 0.7703317999839783, 0.005835330579429865, 0.8928055167198181, 0.035011980682611465, 0.005835330579429865, 0.04668264463543892, 0.005835330579429865, 0.5868787169456482, 0.0955062061548233, 0.11696050316095352, 0.06920740008354187, 0.06782324612140656, 0.0636708065867424, 0.9114420413970947, 0.01178588904440403, 0.02750040777027607, 0.00785725936293602, 0.01964314840734005, 0.01964314840734005, 0.9200674891471863, 0.009534377604722977, 0.019068755209445953, 0.009534377604722977, 0.02860313281416893, 0.014301566407084465, 0.01623629778623581, 0.774703323841095, 0.020875239744782448, 0.025514181703329086, 0.13220985233783722, 0.030153123661875725, 0.016996102407574654, 0.19084195792675018, 0.21682170033454895, 0.20638124644756317, 0.24401547014713287, 0.12504275143146515, 0.012281530536711216, 0.14383035898208618, 0.2721041142940521, 0.1656641960144043, 0.3116779327392578, 0.09470424056053162, 0.013425537385046482, 0.026851074770092964, 0.026851074770092964, 0.013425537385046482, 0.013425537385046482, 0.8995109796524048, 0.007456035818904638, 0.022368106991052628, 0.5318638682365417, 0.21125434339046478, 0.20628365874290466, 0.01988276280462742, 0.005264155566692352, 0.010528311133384705, 0.7527742385864258, 0.015792466700077057, 0.19477376341819763, 0.02105662226676941, 0.01966339349746704, 0.03277232125401497, 0.013108928687870502, 0.9045161008834839, 0.013108928687870502, 0.01966339349746704, 0.9222248792648315, 0.016242709010839462, 0.016242709010839462, 0.012633217498660088, 0.014437963254749775, 0.018949827179312706, 0.9401640892028809, 0.01369171030819416, 0.01369171030819416, 0.00912780687212944, 0.00912780687212944, 0.01369171030819416, 0.9676840305328369, 0.0038707361090928316, 0.007741472218185663, 0.005806104280054569, 0.011612208560109138, 0.0038707361090928316, 0.8513572812080383, 0.010065829381346703, 0.03920375555753708, 0.01112539041787386, 0.04211755096912384, 0.046090904623270035, 0.8829485177993774, 0.006153809372335672, 0.027445988729596138, 0.007507647387683392, 0.029538283124566078, 0.04639972001314163, 0.9028899669647217, 0.004491989966481924, 0.01347597036510706, 0.004491989966481924, 0.06288786232471466, 0.01347597036510706, 0.9122442603111267, 0.004036479163914919, 0.044401269406080246, 0.01210943702608347, 0.01210943702608347, 0.016145916655659676, 0.9239223003387451, 0.012656469829380512, 0.018984705209732056, 0.018984705209732056, 0.012656469829380512, 0.012656469829380512, 0.005905619356781244, 0.8090698719024658, 0.041339337825775146, 0.029528098180890083, 0.11220677196979523, 0.005905619356781244, 0.02203993871808052, 0.12988421320915222, 0.18708710372447968, 0.21787571907043457, 0.1998736411333084, 0.2432805299758911, 0.007229497190564871, 0.03855731710791588, 0.021688491106033325, 0.03614748641848564, 0.3349667191505432, 0.5639007687568665, 0.47552838921546936, 0.08873958140611649, 0.13093911111354828, 0.13986128568649292, 0.0950092226266861, 0.0701717883348465, 0.8391250967979431, 0.005787069443613291, 0.037615951150655746, 0.08391250669956207, 0.02604181319475174, 0.005787069443613291, 0.01620824821293354, 0.01620824821293354, 0.04862474277615547, 0.8266206383705139, 0.03241649642586708, 0.04862474277615547, 0.025715989992022514, 0.012857994996011257, 0.025715989992022514, 0.012857994996011257, 0.9129176735877991, 0.012857994996011257, 0.0104311378672719, 0.0208622757345438, 0.07301796227693558, 0.7927664518356323, 0.06258682161569595, 0.03129341080784798, 0.025956660509109497, 0.19964195787906647, 0.26950061321258545, 0.08940627425909042, 0.3367956578731537, 0.07819043099880219, 0.011015658266842365, 0.052074018865823746, 0.0901281088590622, 0.6609395146369934, 0.06409110128879547, 0.12117224186658859, 0.007539544720202684, 0.015079089440405369, 0.015079089440405369, 0.030158178880810738, 0.02261863462626934, 0.919824481010437, 0.041504859924316406, 0.041504859924316406, 0.041504859924316406, 0.8300971388816833, 0.041504859924316406, 0.041504859924316406, 0.04168900474905968, 0.03126675263047218, 0.07295575737953186, 0.7920910716056824, 0.03126675263047218, 0.02084450237452984, 0.12252752482891083, 0.061263762414455414, 0.7045332789421082, 0.030631881207227707, 0.061263762414455414, 0.030631881207227707, 0.041050300002098083, 0.08749104291200638, 0.1521763652563095, 0.15590819716453552, 0.5270195007324219, 0.036489155143499374, 0.005796042736619711, 0.012273972854018211, 0.0623926967382431, 0.027957383543252945, 0.8833851218223572, 0.008182648569345474, 0.014986366033554077, 0.029972732067108154, 0.07493183016777039, 0.04495909810066223, 0.08991819620132446, 0.7343319058418274, 0.004795975983142853, 0.009591951966285706, 0.9400113224983215, 0.004795975983142853, 0.014387927949428558, 0.028775855898857117, 0.016279136762022972, 0.016279136762022972, 0.8953525424003601, 0.032558273524045944, 0.016279136762022972, 0.016279136762022972, 0.009138437919318676, 0.06224888563156128, 0.14266714453697205, 0.38564208149909973, 0.12525035440921783, 0.2749057114124298, 0.0006604640511795878, 0.004491155501455069, 0.06459338217973709, 0.8983631730079651, 0.011359981261193752, 0.020606476813554764, 0.0005274983705021441, 0.003956237807869911, 0.010549967177212238, 0.0015824950532987714, 0.024792423471808434, 0.9587282538414001, 0.9519888758659363, 0.00703873485326767, 0.015837153419852257, 0.005279051139950752, 0.010558102279901505, 0.010558102279901505, 0.044445037841796875, 0.1865559220314026, 0.19023607671260834, 0.1372983604669571, 0.3663176894187927, 0.07501869648694992, 0.003401978174224496, 0.054431650787591934, 0.25855034589767456, 0.006803956348448992, 0.6667877435684204, 0.010205934755504131, 0.0024888988118618727, 0.6952324509620667, 0.13605980575084686, 0.019081559032201767, 0.08545219898223877, 0.06139283999800682, 0.08729729056358337, 0.04364864528179169, 0.807499885559082, 0.021824322640895844, 0.021824322640895844, 0.021824322640895844, 0.009599332697689533, 0.019198665395379066, 0.9311352968215942, 0.009599332697689533, 0.019198665395379066, 0.009599332697689533, 0.15216408669948578, 0.09246894717216492, 0.12231651693582535, 0.3927004039287567, 0.09422468394041061, 0.14631162583827972, 0.0883740782737732, 0.029458025470376015, 0.014729012735188007, 0.8248247504234314, 0.014729012735188007, 0.014729012735188007, 0.08278550952672958, 0.05913250520825386, 0.7095900774002075, 0.0946120098233223, 0.023653002455830574, 0.035479504615068436, 0.029787316918373108, 0.029787316918373108, 0.8638321757316589, 0.014893658459186554, 0.029787316918373108, 0.014893658459186554, 0.10843683779239655, 0.6212792992591858, 0.047201916575431824, 0.047201916575431824, 0.1683960258960724, 0.00765436515212059, 0.047944918274879456, 0.1410379707813263, 0.288468599319458, 0.08150636404752731, 0.30005529522895813, 0.1410379707813263, 0.02110818214714527, 0.8021109700202942, 0.08443272858858109, 0.02110818214714527, 0.02110818214714527, 0.02110818214714527, 0.02877993695437908, 0.021272126585245132, 0.21084432303905487, 0.10448368638753891, 0.0225234292447567, 0.6118865013122559, 0.028007537126541138, 0.028007537126541138, 0.056015074253082275, 0.028007537126541138, 0.028007537126541138, 0.8122186064720154, 0.012917243875563145, 0.14854830503463745, 0.6587794423103333, 0.006458621937781572, 0.10333795100450516, 0.07104483991861343, 0.5647749304771423, 0.14919723570346832, 0.09664598107337952, 0.05617547407746315, 0.09785405546426773, 0.035034168511629105, 0.006649205461144447, 0.039895232766866684, 0.006649205461144447, 0.009973808191716671, 0.8843443393707275, 0.05319364368915558, 0.01270259264856577, 0.008356968872249126, 0.08156401664018631, 0.8500708341598511, 0.019388167187571526, 0.02807941474020481, 0.031934939324855804, 0.031934939324855804, 0.015967469662427902, 0.8941783308982849, 0.007983734831213951, 0.015967469662427902, 0.1628013402223587, 0.16807426512241364, 0.13421224057674408, 0.27254393696784973, 0.11987649649381638, 0.14245116710662842, 0.025388134643435478, 0.020098939538002014, 0.04019787907600403, 0.043371398001909256, 0.8621387481689453, 0.010578389279544353, 0.9180790185928345, 0.016106650233268738, 0.016106650233268738, 0.016106650233268738, 0.032213300466537476, 0.008053325116634369, 0.03471833094954491, 0.07796631008386612, 0.5693539977073669, 0.12321342527866364, 0.056575555354356766, 0.13814030587673187, 0.10788235068321228, 0.008142064325511456, 0.06717202812433243, 0.012213096022605896, 0.06513651460409164, 0.7409278154373169, 0.2537521719932556, 0.17586246132850647, 0.19893084466457367, 0.08928819745779037, 0.145737886428833, 0.13651052117347717, 0.005693112500011921, 0.017079336568713188, 0.07970356941223145, 0.017079336568713188, 0.8425806164741516, 0.03985178470611572, 0.9623138308525085, 0.006998646073043346, 0.006998646073043346, 0.006998646073043346, 0.006998646073043346, 0.006998646073043346, 0.9096432328224182, 0.009575191885232925, 0.014362787827849388, 0.009575191885232925, 0.004787595942616463, 0.04787595942616463, 0.023641573265194893, 0.023641573265194893, 0.023641573265194893, 0.8865589499473572, 0.023641573265194893, 0.023641573265194893, 0.018517984077334404, 0.8703452944755554, 0.018517984077334404, 0.018517984077334404, 0.05555395409464836, 0.018517984077334404, 0.15083898603916168, 0.28008314967155457, 0.10342780500650406, 0.2869025766849518, 0.06819415837526321, 0.11073432117700577, 0.017608685418963432, 0.05282605439424515, 0.08804342895746231, 0.026413027197122574, 0.026413027197122574, 0.7923908233642578, 0.11829987913370132, 0.20181983709335327, 0.12046609818935394, 0.24273738265037537, 0.12540027499198914, 0.1911090612411499, 0.0025453486014157534, 0.0025453486014157534, 0.005090697202831507, 0.010181394405663013, 0.015272091142833233, 0.962141752243042, 0.10643474757671356, 0.7107676267623901, 0.045099467039108276, 0.09921883046627045, 0.00901989359408617, 0.028863659128546715, 0.020415186882019043, 0.9186834692955017, 0.006004467140883207, 0.028821442276239395, 0.002401786856353283, 0.02521876059472561, 0.04173706844449043, 0.2560160160064697, 0.14070124924182892, 0.051203206181526184, 0.4767491817474365, 0.03313148766756058, 0.008694455958902836, 0.03477782383561134, 0.06520842015743256, 0.008694455958902836, 0.873792827129364, 0.008694455958902836, 0.02927565574645996, 0.02927565574645996, 0.15532360970973969, 0.02683601714670658, 0.7375838756561279, 0.022769954055547714, 0.03052467852830887, 0.47372716665267944, 0.11298095434904099, 0.04400310665369034, 0.3056432008743286, 0.03329965099692345, 0.04628149792551994, 0.12341732531785965, 0.005142388865351677, 0.7919278740882874, 0.025711942464113235, 0.010284777730703354, 0.09192948043346405, 0.06894711405038834, 0.7814006209373474, 0.022982370108366013, 0.011491185054183006, 0.022982370108366013, 0.2891457676887512, 0.09797501564025879, 0.5508107542991638, 0.02987043187022209, 0.009558537974953651, 0.022701527923345566, 0.13899526000022888, 0.20643064379692078, 0.1996767818927765, 0.1518842726945877, 0.21050356328487396, 0.09244009107351303, 0.027732204645872116, 0.009244067594408989, 0.018488135188817978, 0.11092881858348846, 0.8319661021232605, 0.009244067594408989, 0.01250801794230938, 0.007743058726191521, 0.9157060384750366, 0.003454595571383834, 0.01179327443242073, 0.048840831965208054, 0.0098323505371809, 0.00614020274952054, 0.9194652438163757, 0.0030901674181222916, 0.011879084631800652, 0.04956307262182236, 0.17248207330703735, 0.19138170778751373, 0.026606276631355286, 0.11192985624074936, 0.38845163583755493, 0.10917747765779495, 0.017676077783107758, 0.09721842408180237, 0.044190194457769394, 0.8042615056037903, 0.017676077783107758, 0.026514114812016487, 0.07636401802301407, 0.619011402130127, 0.08793432265520096, 0.07520698755979538, 0.09024838358163834, 0.05090934783220291, 0.04206256940960884, 0.6408806443214417, 0.1238933876156807, 0.05047508329153061, 0.09865584969520569, 0.04435689374804497, 0.009868321940302849, 0.024670805782079697, 0.12088694423437119, 0.027137884870171547, 0.23190556466579437, 0.5859315991401672, 0.0009548276429995894, 0.005728965625166893, 0.11219224333763123, 0.011935345828533173, 0.2229522466659546, 0.645940899848938, 0.09093828499317169, 0.21813300251960754, 0.3269023299217224, 0.07013540714979172, 0.19792449474334717, 0.09628759324550629, 0.2505667507648468, 0.03286121413111687, 0.6900854706764221, 0.008215303532779217, 0.008215303532779217, 0.008215303532779217, 0.021418308839201927, 0.021418308839201927, 0.07853379845619202, 0.010709154419600964, 0.032127462327480316, 0.8353140354156494, 0.028559496626257896, 0.0890384316444397, 0.5846297144889832, 0.25535550713539124, 0.01847967319190502, 0.02351958490908146, 0.09890961647033691, 0.23510055243968964, 0.1606900840997696, 0.23783957958221436, 0.1436471939086914, 0.12371310591697693, 0.02535589411854744, 0.05660850927233696, 0.13031750917434692, 0.5896719694137573, 0.11321701854467392, 0.08491276204586029, 0.024932915344834328, 0.024932915344834328, 0.024932915344834328, 0.8726520538330078, 0.024932915344834328, 0.024932915344834328, 0.618575930595398, 0.11324697732925415, 0.0785115584731102, 0.08184235543012619, 0.05709931626915932, 0.05043772980570793, 0.21692155301570892, 0.24586433172225952, 0.14739924669265747, 0.24675945937633514, 0.10681969672441483, 0.03640224412083626, 0.006747364532202482, 0.05735259875655174, 0.059039440006017685, 0.8619758486747742, 0.005060523748397827, 0.008434206247329712, 0.6970919966697693, 0.07086619734764099, 0.05929620563983917, 0.06508120149374008, 0.07809744030237198, 0.030371226370334625, 0.34869953989982605, 0.05296701937913895, 0.045610491186380386, 0.014713061042129993, 0.022069592028856277, 0.5164284706115723, 0.009634306654334068, 0.7386301159858704, 0.08028588443994522, 0.03211435303092003, 0.08349732309579849, 0.05459440127015114, 0.012357428669929504, 0.02471485733985901, 0.7414457201957703, 0.17300400137901306, 0.012357428669929504, 0.02471485733985901, 0.05427589640021324, 0.05427589640021324, 0.05427589640021324, 0.08141384273767471, 0.02713794820010662, 0.7055866718292236, 0.09697340428829193, 0.22737324237823486, 0.16915246844291687, 0.2804514765739441, 0.09807537496089935, 0.12782856822013855, 0.012087470851838589, 0.024174941703677177, 0.09669976681470871, 0.012087470851838589, 0.8219479918479919, 0.024174941703677177, 0.015705203637480736, 0.9383859038352966, 0.019631505012512207, 0.011778902262449265, 0.011778902262449265, 0.003926300909370184, 0.009333997033536434, 0.009333997033536434, 0.948956310749054, 0.009333997033536434, 0.01866799406707287, 0.006222664378583431, 0.06725149601697922, 0.0808720514178276, 0.0664002075791359, 0.04171295464038849, 0.7235920429229736, 0.01957954838871956, 0.0013688256731256843, 0.011406880803406239, 0.01596963219344616, 0.0013688256731256843, 0.9677597284317017, 0.001825100858695805, 0.008480766788125038, 0.016961533576250076, 0.016961533576250076, 0.008480766788125038, 0.9413650631904602, 0.008480766788125038, 0.013406218029558659, 0.013406218029558659, 0.06703108549118042, 0.013406218029558659, 0.053624872118234634, 0.831185519695282, 0.02127181366086006, 0.202495276927948, 0.240598663687706, 0.13640809059143066, 0.26032155752182007, 0.13888634741306305, 0.0014744395157322288, 0.0029488790314644575, 0.017693273723125458, 0.005897758062928915, 0.9701812267303467, 0.0014744395157322288, 0.007063543424010277, 0.8829429149627686, 0.035317715257406235, 0.02119063027203083, 0.028254173696041107, 0.028254173696041107, 0.08761654049158096, 0.18261131644248962, 0.20788177847862244, 0.1551273912191391, 0.25049108266830444, 0.11657612025737762, 0.09168178588151932, 0.2194172739982605, 0.19612039625644684, 0.18712788820266724, 0.19637134671211243, 0.10929037630558014, 0.20345613360404968, 0.4036174416542053, 0.09101985394954681, 0.2013968676328659, 0.05271738022565842, 0.048186980187892914, 0.05378204584121704, 0.008963674306869507, 0.08963674306869507, 0.8156943917274475, 0.022409185767173767, 0.01344551146030426, 0.01750137098133564, 0.8750685453414917, 0.043753426522016525, 0.01750137098133564, 0.026252055540680885, 0.01750137098133564, 0.5559287667274475, 0.19613219797611237, 0.02849217690527439, 0.07620000839233398, 0.11529392749071121, 0.02849217690527439, 0.887152373790741, 0.07431642711162567, 0.012386071495711803, 0.003096517873927951, 0.009289553388953209, 0.013934331014752388, 0.9509081244468689, 0.010116043500602245, 0.010116043500602245, 0.010116043500602245, 0.010116043500602245, 0.010116043500602245, 0.10953768342733383, 0.2830125689506531, 0.15176035463809967, 0.2641932964324951, 0.12401402741670609, 0.06779754906892776, 0.15325072407722473, 0.07631763070821762, 0.11755377054214478, 0.5120667219161987, 0.014771155081689358, 0.12555481493473053, 0.10192865878343582, 0.22329731285572052, 0.12399569153785706, 0.3898508548736572, 0.08196324855089188, 0.07881081849336624, 0.004182174801826477, 0.006970291491597891, 0.008364349603652954, 0.9619001746177673, 0.00278811645694077, 0.015334640629589558, 0.07866708934307098, 0.2545953094959259, 0.18558281660079956, 0.13623708486557007, 0.314310759305954, 0.03039410151541233, 0.0060133663937449455, 0.025556806474924088, 0.2044544517993927, 0.010523390956223011, 0.747160792350769, 0.0060133663937449455, 0.005816642660647631, 0.8492298126220703, 0.029083212837576866, 0.005816642660647631, 0.06398306787014008, 0.046533141285181046, 0.010052727535367012, 0.020105455070734024, 0.060316361486911774, 0.020105455070734024, 0.04021091014146805, 0.8544818162918091, 0.02482760138809681, 0.02482760138809681, 0.14541880786418915, 0.017734000459313393, 0.17379321157932281, 0.6135964393615723, 0.022205429151654243, 0.04441085830330849, 0.022205429151654243, 0.8216009140014648, 0.04441085830330849, 0.022205429151654243, 0.030293921008706093, 0.8078379034996033, 0.025244934484362602, 0.12117568403482437, 0.010097973980009556, 0.010097973980009556, 0.22676293551921844, 0.2799225449562073, 0.10298068076372147, 0.20185239613056183, 0.13302740454673767, 0.05521408095955849, 0.007688721176236868, 0.04064038395881653, 0.017574219033122063, 0.8545464277267456, 0.0032951661851257086, 0.07688721269369125, 0.015449527651071548, 0.23174291849136353, 0.015449527651071548, 0.015449527651071548, 0.030899055302143097, 0.6797792315483093, 0.004645217675715685, 0.9569148421287537, 0.00929043535143137, 0.004645217675715685, 0.00929043535143137, 0.013935653492808342, 0.03841171786189079, 0.02560781128704548, 0.005487387999892235, 0.0091456463560462, 0.9163938164710999, 0.005487387999892235, 0.04330555722117424, 0.02165277861058712, 0.02165277861058712, 0.02165277861058712, 0.866111159324646, 0.02165277861058712, 0.006540524773299694, 0.8568087816238403, 0.07848630100488663, 0.026162099093198776, 0.026162099093198776, 0.006540524773299694, 0.08208634704351425, 0.4125693738460541, 0.124839648604393, 0.1945275366306305, 0.10132533311843872, 0.08465154469013214, 0.5808082222938538, 0.13937702775001526, 0.09786047041416168, 0.07032397389411926, 0.06905306130647659, 0.04236384108662605, 0.0326228030025959, 0.0570899061858654, 0.2038925290107727, 0.010874267667531967, 0.1223355159163475, 0.5736176371574402, 0.011782431043684483, 0.02945607714354992, 0.017673645168542862, 0.25921347737312317, 0.011782431043684483, 0.6774897575378418, 0.8766055703163147, 0.011335416696965694, 0.02267083339393139, 0.018892360851168633, 0.04156319424510002, 0.026449305936694145, 0.9440708160400391, 0.005791845265775919, 0.023167381063103676, 0.005791845265775919, 0.011583690531551838, 0.005791845265775919, 0.00563309621065855, 0.00563309621065855, 0.1323777586221695, 0.7689176201820374, 0.08167989552021027, 0.008449644781649113, 0.029324157163500786, 0.029324157163500786, 0.029324157163500786, 0.014662078581750393, 0.8797246813774109, 0.029324157163500786, 0.009668237529695034, 0.10151650011539459, 0.09668237715959549, 0.7251178622245789, 0.03383883088827133, 0.024170594289898872, 0.039356544613838196, 0.08620957285165787, 0.7608931660652161, 0.056223634630441666, 0.026237696409225464, 0.03186006098985672, 0.004562632646411657, 0.13687898218631744, 0.8030233383178711, 0.02737579680979252, 0.011406581848859787, 0.01596921496093273, 0.1184716448187828, 0.8043600916862488, 0.012470698915421963, 0.03741209954023361, 0.012470698915421963, 0.012470698915421963, 0.013401503674685955, 0.8308932185173035, 0.06700751930475235, 0.02680300734937191, 0.02680300734937191, 0.013401503674685955, 0.010587843134999275, 0.01852872595191002, 0.06617401540279388, 0.015881763771176338, 0.8708500862121582, 0.015881763771176338, 0.017220376059412956, 0.017220376059412956, 0.08610187470912933, 0.03444075211882591, 0.8093576431274414, 0.017220376059412956, 0.005762792658060789, 0.8903514742851257, 0.06339071691036224, 0.011525585316121578, 0.00864418875426054, 0.01728837750852108, 0.009189297445118427, 0.5304731130599976, 0.03592180088162422, 0.01921398565173149, 0.01921398565173149, 0.38595050573349, 0.018970636650919914, 0.03794127330183983, 0.018970636650919914, 0.8157373666763306, 0.07588254660367966, 0.018970636650919914, 0.018182821571826935, 0.009091410785913467, 0.018182821571826935, 0.9182324409484863, 0.018182821571826935, 0.009091410785913467, 0.11042431741952896, 0.06134684383869171, 0.012269369326531887, 0.797508955001831, 0.012269369326531887, 0.012269369326531887, 0.009324553422629833, 0.0695103108882904, 0.08900710195302963, 0.08815941214561462, 0.0940932184457779, 0.6501756906509399, 0.020353585481643677, 0.9447456002235413, 0.016961321234703064, 0.003392264246940613, 0.008480660617351532, 0.005088396370410919, 0.04312679544091225, 0.8317310214042664, 0.03080485202372074, 0.049287766218185425, 0.006160970777273178, 0.03696582466363907, 0.0686495453119278, 0.0343247726559639, 0.08581192791461945, 0.0343247726559639, 0.05148715898394585, 0.7379826307296753, 0.11099140346050262, 0.30369895696640015, 0.17565153539180756, 0.21638232469558716, 0.08349812030792236, 0.10946399718523026, 0.11138730496168137, 0.22652599215507507, 0.1647724062204361, 0.277025431394577, 0.13014423847198486, 0.09003326296806335, 0.027279451489448547, 0.18186300992965698, 0.12275753170251846, 0.5660486221313477, 0.06365205347537994, 0.0375092476606369, 0.014706968329846859, 0.015626152977347374, 0.16177664697170258, 0.6186118721961975, 0.17188769578933716, 0.017464524134993553, 0.0032654600217938423, 0.03265460208058357, 0.1600075364112854, 0.016327301040291786, 0.016327301040291786, 0.7706485390663147, 0.011759532615542412, 0.8055279850959778, 0.029398832470178604, 0.005879766307771206, 0.005879766307771206, 0.14111439883708954, 0.5266448855400085, 0.15393424034118652, 0.0922551080584526, 0.08434752374887466, 0.08382035791873932, 0.05851609632372856, 0.9489663243293762, 0.005485354457050562, 0.010970708914101124, 0.005485354457050562, 0.016456063836812973, 0.005485354457050562, 0.07757175713777542, 0.1812288463115692, 0.13872259855270386, 0.338253915309906, 0.12307140231132507, 0.14120283722877502, 0.07782559841871262, 0.07009823620319366, 0.18048915266990662, 0.06016305461525917, 0.25003543496131897, 0.36153027415275574, 0.01559322327375412, 0.04677966982126236, 0.01559322327375412, 0.00779661163687706, 0.06237289309501648, 0.857627272605896, 0.15479443967342377, 0.01934930495917797, 0.7159242630004883, 0.01934930495917797, 0.01934930495917797, 0.05804791674017906, 0.9595710635185242, 0.005666758399456739, 0.00944459717720747, 0.005666758399456739, 0.007555678021162748, 0.011333516798913479, 0.9351809024810791, 0.015457535162568092, 0.015457535162568092, 0.007728767581284046, 0.007728767581284046, 0.015457535162568092, 0.8906980752944946, 0.01737947389483452, 0.026069212704896927, 0.01737947389483452, 0.013034606352448463, 0.03910381719470024, 0.045272346585989, 0.8450838327407837, 0.015090782195329666, 0.015090782195329666, 0.060363128781318665, 0.015090782195329666, 0.9255858659744263, 0.013222655281424522, 0.013222655281424522, 0.013222655281424522, 0.013222655281424522, 0.013222655281424522, 0.7747932076454163, 0.053853340446949005, 0.03648129478096962, 0.07122538983821869, 0.039955705404281616, 0.02258365973830223, 0.00809648260474205, 0.08501306921243668, 0.04048241302371025, 0.7529729008674622, 0.06882010400295258, 0.044530656188726425, 0.003382257418707013, 0.016911286860704422, 0.02367580123245716, 0.8962982296943665, 0.020293544977903366, 0.04058708995580673, 0.03325588256120682, 0.055426470935344696, 0.0720544159412384, 0.07482573390007019, 0.7399433851242065, 0.02355625107884407, 0.011442728340625763, 0.01525697112083435, 0.009535606950521469, 0.11824152618646622, 0.8295978307723999, 0.017164092510938644, 0.0028100614435970783, 0.0028100614435970783, 0.015455338172614574, 0.008430183865129948, 0.9666611552238464, 0.004215091932564974, 0.012437333352863789, 0.03731200098991394, 0.016583111137151718, 0.0041457777842879295, 0.9079253673553467, 0.016583111137151718, 0.011634419672191143, 0.023268839344382286, 0.09307535737752914, 0.05235488712787628, 0.802774965763092, 0.023268839344382286, 0.91349196434021, 0.01087490376085043, 0.02174980752170086, 0.01087490376085043, 0.01087490376085043, 0.01087490376085043, 0.5346380472183228, 0.07836437225341797, 0.10874476283788681, 0.07822240889072418, 0.10107868164777756, 0.09894921630620956, 0.010659166611731052, 0.9237943887710571, 0.014212221838533878, 0.039083607494831085, 0.0035530554596334696, 0.007106110919266939, 0.0385148711502552, 0.8473271727561951, 0.05135316029191017, 0.012838290072977543, 0.012838290072977543, 0.012838290072977543, 0.02224598452448845, 0.10856040567159653, 0.18864594399929047, 0.07118714600801468, 0.5383527874946594, 0.07118714600801468, 0.051931966096162796, 0.025965983048081398, 0.025965983048081398, 0.025965983048081398, 0.025965983048081398, 0.8568774461746216, 0.017840713262557983, 0.575019896030426, 0.043915603309869766, 0.0905759334564209, 0.030191976577043533, 0.24290817975997925, 0.05209533870220184, 0.02786494977772236, 0.25563061237335205, 0.5984906554222107, 0.05936445668339729, 0.0060575976967811584, 0.13361695408821106, 0.37588945031166077, 0.11276683211326599, 0.2566620111465454, 0.057264406234025955, 0.06401867419481277, 0.02143019251525402, 0.12858115136623383, 0.6857661604881287, 0.02143019251525402, 0.12858115136623383, 0.02143019251525402, 0.013984838500618935, 0.02796967700123787, 0.013984838500618935, 0.9160069227218628, 0.013984838500618935, 0.020977256819605827, 0.009825878776609898, 0.017195288091897964, 0.007369409315288067, 0.9408279061317444, 0.007369409315288067, 0.017195288091897964, 0.015156683512032032, 0.8942443132400513, 0.030313367024064064, 0.015156683512032032, 0.015156683512032032, 0.030313367024064064, 0.02802787348628044, 0.15215131640434265, 0.03603583946824074, 0.008007964119315147, 0.7647605538368225, 0.012011946178972721, 0.1322714239358902, 0.03450559079647064, 0.6843608617782593, 0.10351676493883133, 0.011501862667500973, 0.03450559079647064, 0.05598048120737076, 0.02799024060368538, 0.7837267518043518, 0.05598048120737076, 0.02799024060368538, 0.02799024060368538, 0.14048205316066742, 0.02508608065545559, 0.632169246673584, 0.010034431703388691, 0.1856369972229004, 0.010034431703388691, 0.01905699260532856, 0.01905699260532856, 0.03811398521065712, 0.01905699260532856, 0.8766217231750488, 0.01905699260532856, 0.03261784836649895, 0.017887206748127937, 0.17045456171035767, 0.6050084829330444, 0.14099328219890594, 0.03261784836649895, 0.003136557061225176, 0.004182076081633568, 0.1986486166715622, 0.6471762657165527, 0.12859883904457092, 0.01881934143602848, 0.012909005396068096, 0.051636021584272385, 0.025818010792136192, 0.012909005396068096, 0.8649033904075623, 0.025818010792136192, 0.7146697640419006, 0.04382408782839775, 0.10113251209259033, 0.03033975511789322, 0.08090601116418839, 0.03033975511789322, 0.038827091455459595, 0.8891404271125793, 0.019413545727729797, 0.019413545727729797, 0.023296255618333817, 0.011648127809166908, 0.005426998715847731, 0.03256199136376381, 0.7489258050918579, 0.010853997431695461, 0.17366395890712738, 0.03256199136376381, 0.010337418876588345, 0.02067483775317669, 0.03101225569844246, 0.08269935101270676, 0.010337418876588345, 0.8373309373855591, 0.11901212483644485, 0.7373577356338501, 0.031046641990542412, 0.043982744216918945, 0.012936101295053959, 0.05433162301778793, 0.008344524540007114, 0.08761750906705856, 0.050067149102687836, 0.07510072737932205, 0.10847882181406021, 0.6717342734336853, 0.04051566123962402, 0.14323142170906067, 0.1495085060596466, 0.27162614464759827, 0.11070477217435837, 0.28418028354644775, 0.010877610184252262, 0.010877610184252262, 0.054388049989938736, 0.010877610184252262, 0.10877609997987747, 0.794065535068512, 0.009858961217105389, 0.019717922434210777, 0.019717922434210777, 0.8971654772758484, 0.019717922434210777, 0.02957688271999359, 0.2818585932254791, 0.22864103317260742, 0.12060796469449997, 0.1645854115486145, 0.14283984899520874, 0.06148505210876465, 0.5642125010490417, 0.0806695744395256, 0.1143609881401062, 0.05314701423048973, 0.07497525215148926, 0.11341193318367004, 0.9228970408439636, 0.010857612825930119, 0.010857612825930119, 0.010857612825930119, 0.010857612825930119, 0.021715225651860237, 0.354304701089859, 0.14725185930728912, 0.13021180033683777, 0.12217403948307037, 0.1597907841205597, 0.08648635447025299, 0.22229504585266113, 0.336512953042984, 0.10414707660675049, 0.16604579985141754, 0.11077907681465149, 0.060179322957992554, 0.008969842456281185, 0.05381905660033226, 0.05381905660033226, 0.01793968491256237, 0.8521350622177124, 0.008969842456281185, 0.4774307310581207, 0.12944245338439941, 0.09267772734165192, 0.11782582104206085, 0.08233765512704849, 0.10033704340457916, 0.9402388334274292, 0.008547625504434109, 0.017095251008868217, 0.008547625504434109, 0.008547625504434109, 0.017095251008868217, 0.32793569564819336, 0.16617438197135925, 0.10104376077651978, 0.10073941200971603, 0.22795715928077698, 0.07623934745788574, 0.21564163267612457, 0.15518520772457123, 0.14284716546535492, 0.17026503384113312, 0.24443040788173676, 0.07169775664806366, 0.029234007000923157, 0.007308501750230789, 0.11693602800369263, 0.7966266870498657, 0.043851010501384735, 0.007308501750230789, 0.0252236220985651, 0.0252236220985651, 0.0252236220985651, 0.03783543035387993, 0.857603132724762, 0.03783543035387993, 0.004141446202993393, 0.008282892405986786, 0.020707231014966965, 0.020707231014966965, 0.9442497491836548, 0.008282892405986786, 0.8813936710357666, 0.0069675385020673275, 0.03832146152853966, 0.02787015400826931, 0.03135392442345619, 0.013935077004134655, 0.11097032576799393, 0.03170580789446831, 0.6658219695091248, 0.11097032576799393, 0.07926452159881592, 0.015852903947234154, 0.9182621240615845, 0.012082396075129509, 0.024164792150259018, 0.012082396075129509, 0.012082396075129509, 0.012082396075129509, 0.13509249687194824, 0.1340533345937729, 0.3335745632648468, 0.18860991299152374, 0.1418471336364746, 0.06702666729688644, 0.009434935636818409, 0.0141524039208889, 0.8774490356445312, 0.06132708489894867, 0.009434935636818409, 0.0283048078417778, 0.027143798768520355, 0.024127820506691933, 0.0995272621512413, 0.018095865845680237, 0.7811381816864014, 0.048255641013383865, 0.02466432750225067, 0.09865731000900269, 0.7399298548698425, 0.04932865500450134, 0.04932865500450134, 0.02466432750225067, 0.0279394444078207, 0.5926102995872498, 0.14852020144462585, 0.09558230638504028, 0.0735248550772667, 0.06176087632775307, 0.007539001293480396, 0.9649921655654907, 0.010052002035081387, 0.005026001017540693, 0.005026001017540693, 0.010052002035081387, 0.12781426310539246, 0.19439730048179626, 0.1603974550962448, 0.21832312643527985, 0.07949039340019226, 0.21958237886428833, 0.002492617815732956, 0.1520496904850006, 0.052344974130392075, 0.002492617815732956, 0.003323490498587489, 0.7876672148704529, 0.25634491443634033, 0.009074156172573566, 0.06125055253505707, 0.006805616896599531, 0.6578763127326965, 0.009074156172573566, 0.02052128314971924, 0.012071343138813972, 0.9125935435295105, 0.0265569556504488, 0.018107015639543533, 0.009657074697315693, 0.08643750101327896, 0.014406250789761543, 0.04321875050663948, 0.014406250789761543, 0.028812501579523087, 0.8067499995231628, 0.24597840011119843, 0.15898443758487701, 0.13976943492889404, 0.13016192615032196, 0.2945423722267151, 0.030533434823155403, 0.01919218711555004, 0.01919218711555004, 0.057576559484004974, 0.01919218711555004, 0.8444561958312988, 0.01919218711555004, 0.01976948231458664, 0.002824211958795786, 0.05366002395749092, 0.8161972165107727, 0.05930845066905022, 0.048011600971221924, 0.04731182008981705, 0.023655910044908524, 0.08043009042739868, 0.16559135913848877, 0.00946236401796341, 0.6765590310096741, 0.33154067397117615, 0.2587529122829437, 0.08121126890182495, 0.19201281666755676, 0.05788462609052658, 0.07883540540933609, 0.39788618683815, 0.1901378631591797, 0.1257496476173401, 0.12079670280218124, 0.10648821294307709, 0.05860979110002518, 0.9135439991950989, 0.010622604750096798, 0.021245209500193596, 0.010622604750096798, 0.021245209500193596, 0.010622604750096798, 0.03229089826345444, 0.048436347395181656, 0.01614544913172722, 0.8557087779045105, 0.01614544913172722, 0.01614544913172722, 0.003639987437054515, 0.025479910895228386, 0.702517569065094, 0.010919962078332901, 0.14923948049545288, 0.10919962078332901, 0.027998002246022224, 0.027998002246022224, 0.027998002246022224, 0.027998002246022224, 0.027998002246022224, 0.8119420409202576, 0.008070391602814198, 0.012105586938560009, 0.04035195708274841, 0.10087989270687103, 0.1452670395374298, 0.6940536499023438, 0.42176511883735657, 0.13657596707344055, 0.1342611312866211, 0.10740890353918076, 0.15000209212303162, 0.050000693649053574, 0.046720974147319794, 0.6385199427604675, 0.09776796400547028, 0.11766763776540756, 0.061429426074028015, 0.03806893900036812, 0.058639902621507645, 0.728488028049469, 0.15562127530574799, 0.013532285578548908, 0.040596853941679, 0.004510761704295874, 0.00349109317176044, 0.9472498893737793, 0.01396437268704176, 0.00349109317176044, 0.012800674885511398, 0.01861916296184063, 0.24179601669311523, 0.17041712999343872, 0.21734875440597534, 0.16087019443511963, 0.1418655663728714, 0.06772073358297348, 0.007769014220684767, 0.8597708940505981, 0.11394553631544113, 0.0051793428137898445, 0.007769014220684767, 0.007769014220684767, 0.22981667518615723, 0.22835054993629456, 0.14276491105556488, 0.1850995570421219, 0.14001590013504028, 0.07403982430696487, 0.005265214014798403, 0.905616819858551, 0.04212171211838722, 0.010530428029596806, 0.015795642510056496, 0.02106085605919361, 0.027152270078659058, 0.054304540157318115, 0.678806722164154, 0.054304540157318115, 0.054304540157318115, 0.1357613503932953, 0.007241216022521257, 0.14723806083202362, 0.016896171495318413, 0.1665479689836502, 0.024137387052178383, 0.6372270584106445, 0.03819642215967178, 0.01909821107983589, 0.03819642215967178, 0.01909821107983589, 0.8403212428092957, 0.01909821107983589, 0.01033833995461464, 0.031015019863843918, 0.062030039727687836, 0.031015019863843918, 0.8477439284324646, 0.02067667990922928], \"Term\": [\"about\", \"about\", \"about\", \"about\", \"about\", \"about\", \"absolute_best\", \"absolute_best\", \"absolute_best\", \"absolute_best\", \"absolute_best\", \"absolute_best\", \"absolutely\", \"absolutely\", \"absolutely\", \"absolutely\", \"absolutely\", \"absolutely\", \"absolutely_love\", \"absolutely_love\", \"absolutely_love\", \"absolutely_love\", \"absolutely_love\", \"absolutely_love\", \"account\", \"account\", \"account\", \"account\", \"account\", \"account\", \"after\", \"after\", \"after\", \"after\", \"after\", \"after\", \"agent\", \"agent\", \"agent\", \"agent\", \"agent\", \"agent\", \"already_measured\", \"already_measured\", \"already_measured\", \"already_measured\", \"already_measured\", \"already_measured\", \"always\", \"always\", \"always\", \"always\", \"always\", \"always\", \"apron\", \"apron\", \"apron\", \"apron\", \"apron\", \"apron\", \"bean\", \"bean\", \"bean\", \"bean\", \"bean\", \"bean\", \"been\", \"been\", \"been\", \"been\", \"been\", \"been\", \"being_charged\", \"being_charged\", \"being_charged\", \"being_charged\", \"being_charged\", \"being_charged\", \"best_part\", \"best_part\", \"best_part\", \"best_part\", \"best_part\", \"best_part\", \"better_than\", \"better_than\", \"better_than\", \"better_than\", \"better_than\", \"better_than\", \"beyond_expectation\", \"beyond_expectation\", \"beyond_expectation\", \"beyond_expectation\", \"beyond_expectation\", \"beyond_expectation\", \"blue\", \"blue\", \"blue\", \"blue\", \"blue\", \"blue\", \"blue_apron\", \"blue_apron\", \"blue_apron\", \"blue_apron\", \"blue_apron\", \"blue_apron\", \"break_from\", \"break_from\", \"break_from\", \"break_from\", \"break_from\", \"break_from\", \"brown_rice\", \"brown_rice\", \"brown_rice\", \"brown_rice\", \"brown_rice\", \"brown_rice\", \"busy_schedule\", \"busy_schedule\", \"busy_schedule\", \"busy_schedule\", \"busy_schedule\", \"busy_schedule\", \"butter_sugar\", \"butter_sugar\", \"butter_sugar\", \"butter_sugar\", \"butter_sugar\", \"butter_sugar\", \"call\", \"call\", \"call\", \"call\", \"call\", \"call\", \"called\", \"called\", \"called\", \"called\", \"called\", \"called\", \"called_customer\", \"called_customer\", \"called_customer\", \"called_customer\", \"called_customer\", \"called_customer\", \"cancel\", \"cancel\", \"cancel\", \"cancel\", \"cancel\", \"cancel\", \"cancel_account\", \"cancel_account\", \"cancel_account\", \"cancel_account\", \"cancel_account\", \"cancel_account\", \"cancel_subscription\", \"cancel_subscription\", \"cancel_subscription\", \"cancel_subscription\", \"cancel_subscription\", \"cancel_subscription\", \"canceled\", \"canceled\", \"canceled\", \"canceled\", \"canceled\", \"canceled\", \"canceled_subscription\", \"canceled_subscription\", \"canceled_subscription\", \"canceled_subscription\", \"canceled_subscription\", \"canceled_subscription\", \"cancelled\", \"cancelled\", \"cancelled\", \"cancelled\", \"cancelled\", \"cancelled\", \"cancelled_account\", \"cancelled_account\", \"cancelled_account\", \"cancelled_account\", \"cancelled_account\", \"cancelled_account\", \"cancelled_subscription\", \"cancelled_subscription\", \"cancelled_subscription\", \"cancelled_subscription\", \"cancelled_subscription\", \"cancelled_subscription\", \"card\", \"card\", \"card\", \"card\", \"card\", \"card\", \"charge\", \"charge\", \"charge\", \"charge\", \"charge\", \"charge\", \"charged\", \"charged\", \"charged\", \"charged\", \"charged\", \"charged\", \"chat\", \"chat\", \"chat\", \"chat\", \"chat\", \"chat\", \"chicken_breast\", \"chicken_breast\", \"chicken_breast\", \"chicken_breast\", \"chicken_breast\", \"chicken_breast\", \"chicken_cutlet\", \"chicken_cutlet\", \"chicken_cutlet\", \"chicken_cutlet\", \"chicken_cutlet\", \"chicken_cutlet\", \"chicken_fish\", \"chicken_fish\", \"chicken_fish\", \"chicken_fish\", \"chicken_fish\", \"chicken_fish\", \"choose\", \"choose\", \"choose\", \"choose\", \"choose\", \"choose\", \"choose_from\", \"choose_from\", \"choose_from\", \"choose_from\", \"choose_from\", \"choose_from\", \"classic_plan\", \"classic_plan\", \"classic_plan\", \"classic_plan\", \"classic_plan\", \"classic_plan\", \"clear_instruction\", \"clear_instruction\", \"clear_instruction\", \"clear_instruction\", \"clear_instruction\", \"clear_instruction\", \"come_home\", \"come_home\", \"come_home\", \"come_home\", \"come_home\", \"come_home\", \"comfort_zone\", \"comfort_zone\", \"comfort_zone\", \"comfort_zone\", \"comfort_zone\", \"comfort_zone\", \"coming_back\", \"coming_back\", \"coming_back\", \"coming_back\", \"coming_back\", \"coming_back\", \"coming_home\", \"coming_home\", \"coming_home\", \"coming_home\", \"coming_home\", \"coming_home\", \"company\", \"company\", \"company\", \"company\", \"company\", \"company\", \"contacted\", \"contacted\", \"contacted\", \"contacted\", \"contacted\", \"contacted\", \"contacted_customer\", \"contacted_customer\", \"contacted_customer\", \"contacted_customer\", \"contacted_customer\", \"contacted_customer\", \"convenience_having\", \"convenience_having\", \"convenience_having\", \"convenience_having\", \"convenience_having\", \"convenience_having\", \"cook\", \"cook\", \"cook\", \"cook\", \"cook\", \"cook\", \"cooking\", \"cooking\", \"cooking\", \"cooking\", \"cooking\", \"cooking\", \"cooking_lesson\", \"cooking_lesson\", \"cooking_lesson\", \"cooking_lesson\", \"cooking_lesson\", \"cooking_lesson\", \"cooking_technique\", \"cooking_technique\", \"cooking_technique\", \"cooking_technique\", \"cooking_technique\", \"cooking_technique\", \"cost_effective\", \"cost_effective\", \"cost_effective\", \"cost_effective\", \"cost_effective\", \"cost_effective\", \"cream\", \"cream\", \"cream\", \"cream\", \"cream\", \"cream\", \"credit\", \"credit\", \"credit\", \"credit\", \"credit\", \"credit\", \"credit_account\", \"credit_account\", \"credit_account\", \"credit_account\", \"credit_account\", \"credit_account\", \"credit_card\", \"credit_card\", \"credit_card\", \"credit_card\", \"credit_card\", \"credit_card\", \"customer\", \"customer\", \"customer\", \"customer\", \"customer\", \"customer\", \"customer_service\", \"customer_service\", \"customer_service\", \"customer_service\", \"customer_service\", \"customer_service\", \"customer_support\", \"customer_support\", \"customer_support\", \"customer_support\", \"customer_support\", \"customer_support\", \"day_late\", \"day_late\", \"day_late\", \"day_late\", \"day_late\", \"day_late\", \"day_later\", \"day_later\", \"day_later\", \"day_later\", \"day_later\", \"day_later\", \"decide_what\", \"decide_what\", \"decide_what\", \"decide_what\", \"decide_what\", \"decide_what\", \"delicious\", \"delicious\", \"delicious\", \"delicious\", \"delicious\", \"delicious\", \"delivered_door\", \"delivered_door\", \"delivered_door\", \"delivered_door\", \"delivered_door\", \"delivered_door\", \"delivery\", \"delivery\", \"delivery\", \"delivery\", \"delivery\", \"delivery\", \"delivery_date\", \"delivery_date\", \"delivery_date\", \"delivery_date\", \"delivery_date\", \"delivery_date\", \"detailed_instruction\", \"detailed_instruction\", \"detailed_instruction\", \"detailed_instruction\", \"detailed_instruction\", \"detailed_instruction\", \"dietary_restriction\", \"dietary_restriction\", \"dietary_restriction\", \"dietary_restriction\", \"dietary_restriction\", \"dietary_restriction\", \"different_way\", \"different_way\", \"different_way\", \"different_way\", \"different_way\", \"different_way\", \"dinner\", \"dinner\", \"dinner\", \"dinner\", \"dinner\", \"dinner\", \"direction\", \"direction\", \"direction\", \"direction\", \"direction\", \"direction\", \"direction_clear\", \"direction_clear\", \"direction_clear\", \"direction_clear\", \"direction_clear\", \"direction_clear\", \"direction_easy_follow\", \"direction_easy_follow\", \"direction_easy_follow\", \"direction_easy_follow\", \"direction_easy_follow\", \"direction_easy_follow\", \"doesn_seem\", \"doesn_seem\", \"doesn_seem\", \"doesn_seem\", \"doesn_seem\", \"doesn_seem\", \"during_covid19\", \"during_covid19\", \"during_covid19\", \"during_covid19\", \"during_covid19\", \"during_covid19\", \"each\", \"each\", \"each\", \"each\", \"each\", \"each\", \"each_week\", \"each_week\", \"each_week\", \"each_week\", \"each_week\", \"each_week\", \"ease_ordering\", \"ease_ordering\", \"ease_ordering\", \"ease_ordering\", \"ease_ordering\", \"ease_ordering\", \"ease_preparation\", \"ease_preparation\", \"ease_preparation\", \"ease_preparation\", \"ease_preparation\", \"ease_preparation\", \"ease_preparing\", \"ease_preparing\", \"ease_preparing\", \"ease_preparing\", \"ease_preparing\", \"ease_preparing\", \"easy\", \"easy\", \"easy\", \"easy\", \"easy\", \"easy\", \"easy_follow\", \"easy_follow\", \"easy_follow\", \"easy_follow\", \"easy_follow\", \"easy_follow\", \"easy_prepare\", \"easy_prepare\", \"easy_prepare\", \"easy_prepare\", \"easy_prepare\", \"easy_prepare\", \"email\", \"email\", \"email\", \"email\", \"email\", \"email\", \"every\", \"every\", \"every\", \"every\", \"every\", \"every\", \"every_night\", \"every_night\", \"every_night\", \"every_night\", \"every_night\", \"every_night\", \"everything_need\", \"everything_need\", \"everything_need\", \"everything_need\", \"everything_need\", \"everything_need\", \"exceeded\", \"exceeded\", \"exceeded\", \"exceeded\", \"exceeded\", \"exceeded\", \"exceeded_expectation\", \"exceeded_expectation\", \"exceeded_expectation\", \"exceeded_expectation\", \"exceeded_expectation\", \"exceeded_expectation\", \"excellent\", \"excellent\", \"excellent\", \"excellent\", \"excellent\", \"excellent\", \"expiration_date\", \"expiration_date\", \"expiration_date\", \"expiration_date\", \"expiration_date\", \"expiration_date\", \"extremely_happy\", \"extremely_happy\", \"extremely_happy\", \"extremely_happy\", \"extremely_happy\", \"extremely_happy\", \"extremely_pleased\", \"extremely_pleased\", \"extremely_pleased\", \"extremely_pleased\", \"extremely_pleased\", \"extremely_pleased\", \"fact_that\", \"fact_that\", \"fact_that\", \"fact_that\", \"fact_that\", \"fact_that\", \"family\", \"family\", \"family\", \"family\", \"family\", \"family\", \"feel_guilty\", \"feel_guilty\", \"feel_guilty\", \"feel_guilty\", \"feel_guilty\", \"feel_guilty\", \"feel_like\", \"feel_like\", \"feel_like\", \"feel_like\", \"feel_like\", \"feel_like\", \"feel_like_gourmet_chef\", \"feel_like_gourmet_chef\", \"feel_like_gourmet_chef\", \"feel_like_gourmet_chef\", \"feel_like_gourmet_chef\", \"feel_like_gourmet_chef\", \"figuring_what\", \"figuring_what\", \"figuring_what\", \"figuring_what\", \"figuring_what\", \"figuring_what\", \"first\", \"first\", \"first\", \"first\", \"first\", \"first\", \"five_star\", \"five_star\", \"five_star\", \"five_star\", \"five_star\", \"five_star\", \"follow\", \"follow\", \"follow\", \"follow\", \"follow\", \"follow\", \"follow_direction\", \"follow_direction\", \"follow_direction\", \"follow_direction\", \"follow_direction\", \"follow_direction\", \"food\", \"food\", \"food\", \"food\", \"food\", \"food\", \"forward\", \"forward\", \"forward\", \"forward\", \"forward\", \"forward\", \"free_shipping\", \"free_shipping\", \"free_shipping\", \"free_shipping\", \"free_shipping\", \"free_shipping\", \"fresh\", \"fresh\", \"fresh\", \"fresh\", \"fresh\", \"fresh\", \"friend_family\", \"friend_family\", \"friend_family\", \"friend_family\", \"friend_family\", \"friend_family\", \"from\", \"from\", \"from\", \"from\", \"from\", \"from\", \"game_changer\", \"game_changer\", \"game_changer\", \"game_changer\", \"game_changer\", \"game_changer\", \"gift_card\", \"gift_card\", \"gift_card\", \"gift_card\", \"gift_card\", \"gift_card\", \"give_credit\", \"give_credit\", \"give_credit\", \"give_credit\", \"give_credit\", \"give_credit\", \"given_star\", \"given_star\", \"given_star\", \"given_star\", \"given_star\", \"given_star\", \"glad_signed\", \"glad_signed\", \"glad_signed\", \"glad_signed\", \"glad_signed\", \"glad_signed\", \"good\", \"good\", \"good\", \"good\", \"good\", \"good\", \"gourmet_chef\", \"gourmet_chef\", \"gourmet_chef\", \"gourmet_chef\", \"gourmet_chef\", \"gourmet_chef\", \"great\", \"great\", \"great\", \"great\", \"great\", \"great\", \"great_tasting\", \"great_tasting\", \"great_tasting\", \"great_tasting\", \"great_tasting\", \"great_tasting\", \"green\", \"green\", \"green\", \"green\", \"green\", \"green\", \"green_bean\", \"green_bean\", \"green_bean\", \"green_bean\", \"green_bean\", \"green_bean\", \"grocery\", \"grocery\", \"grocery\", \"grocery\", \"grocery\", \"grocery\", \"grocery_bill\", \"grocery_bill\", \"grocery_bill\", \"grocery_bill\", \"grocery_bill\", \"grocery_bill\", \"grocery_shopping\", \"grocery_shopping\", \"grocery_shopping\", \"grocery_shopping\", \"grocery_shopping\", \"grocery_shopping\", \"grocery_store\", \"grocery_store\", \"grocery_store\", \"grocery_store\", \"grocery_store\", \"grocery_store\", \"ground_beef\", \"ground_beef\", \"ground_beef\", \"ground_beef\", \"ground_beef\", \"ground_beef\", \"hand_down\", \"hand_down\", \"hand_down\", \"hand_down\", \"hand_down\", \"hand_down\", \"happy_with\", \"happy_with\", \"happy_with\", \"happy_with\", \"happy_with\", \"happy_with\", \"have\", \"have\", \"have\", \"have\", \"have\", \"have\", \"haven_liked\", \"haven_liked\", \"haven_liked\", \"haven_liked\", \"haven_liked\", \"haven_liked\", \"hello\", \"hello\", \"hello\", \"hello\", \"hello\", \"hello\", \"hello_fresh\", \"hello_fresh\", \"hello_fresh\", \"hello_fresh\", \"hello_fresh\", \"hello_fresh\", \"hellofresh\", \"hellofresh\", \"hellofresh\", \"hellofresh\", \"hellofresh\", \"hellofresh\", \"herb_spice\", \"herb_spice\", \"herb_spice\", \"herb_spice\", \"herb_spice\", \"herb_spice\", \"high\", \"high\", \"high\", \"high\", \"high\", \"high\", \"high_quality\", \"high_quality\", \"high_quality\", \"high_quality\", \"high_quality\", \"high_quality\", \"highly\", \"highly\", \"highly\", \"highly\", \"highly\", \"highly\", \"highly_recommend\", \"highly_recommend\", \"highly_recommend\", \"highly_recommend\", \"highly_recommend\", \"highly_recommend\", \"home\", \"home\", \"home\", \"home\", \"home\", \"home\", \"home_chef\", \"home_chef\", \"home_chef\", \"home_chef\", \"home_chef\", \"home_chef\", \"home_cooked\", \"home_cooked\", \"home_cooked\", \"home_cooked\", \"home_cooked\", \"home_cooked\", \"impressed_with\", \"impressed_with\", \"impressed_with\", \"impressed_with\", \"impressed_with\", \"impressed_with\", \"ingredient\", \"ingredient\", \"ingredient\", \"ingredient\", \"ingredient\", \"ingredient\", \"instruction\", \"instruction\", \"instruction\", \"instruction\", \"instruction\", \"instruction\", \"instruction_easy_follow\", \"instruction_easy_follow\", \"instruction_easy_follow\", \"instruction_easy_follow\", \"instruction_easy_follow\", \"instruction_easy_follow\", \"issue\", \"issue\", \"issue\", \"issue\", \"issue\", \"issue\", \"just\", \"just\", \"just\", \"just\", \"just\", \"just\", \"just_right\", \"just_right\", \"just_right\", \"just_right\", \"just_right\", \"just_right\", \"late\", \"late\", \"late\", \"late\", \"late\", \"late\", \"le_than\", \"le_than\", \"le_than\", \"le_than\", \"le_than\", \"le_than\", \"learn_cook\", \"learn_cook\", \"learn_cook\", \"learn_cook\", \"learn_cook\", \"learn_cook\", \"learning_technique\", \"learning_technique\", \"learning_technique\", \"learning_technique\", \"learning_technique\", \"learning_technique\", \"lesson\", \"lesson\", \"lesson\", \"lesson\", \"lesson\", \"lesson\", \"like\", \"like\", \"like\", \"like\", \"like\", \"like\", \"like_christmas\", \"like_christmas\", \"like_christmas\", \"like_christmas\", \"like_christmas\", \"like_christmas\", \"little_expensive\", \"little_expensive\", \"little_expensive\", \"little_expensive\", \"little_expensive\", \"little_expensive\", \"little_pricey\", \"little_pricey\", \"little_pricey\", \"little_pricey\", \"little_pricey\", \"little_pricey\", \"look\", \"look\", \"look\", \"look\", \"look\", \"look\", \"look_forward\", \"look_forward\", \"look_forward\", \"look_forward\", \"look_forward\", \"look_forward\", \"look_forward_each_week\", \"look_forward_each_week\", \"look_forward_each_week\", \"look_forward_each_week\", \"look_forward_each_week\", \"look_forward_each_week\", \"losing_weight\", \"losing_weight\", \"losing_weight\", \"losing_weight\", \"losing_weight\", \"losing_weight\", \"love\", \"love\", \"love\", \"love\", \"love\", \"love\", \"loved_every\", \"loved_every\", \"loved_every\", \"loved_every\", \"loved_every\", \"loved_every\", \"lower_calorie\", \"lower_calorie\", \"lower_calorie\", \"lower_calorie\", \"lower_calorie\", \"lower_calorie\", \"make\", \"make\", \"make\", \"make\", \"make\", \"make\", \"meal\", \"meal\", \"meal\", \"meal\", \"meal\", \"meal\", \"meat\", \"meat\", \"meat\", \"meat\", \"meat\", \"meat\", \"meat_fish\", \"meat_fish\", \"meat_fish\", \"meat_fish\", \"meat_fish\", \"meat_fish\", \"meat_seafood\", \"meat_seafood\", \"meat_seafood\", \"meat_seafood\", \"meat_seafood\", \"meat_seafood\", \"missing\", \"missing\", \"missing\", \"missing\", \"missing\", \"missing\", \"missing_item\", \"missing_item\", \"missing_item\", \"missing_item\", \"missing_item\", \"missing_item\", \"money_back\", \"money_back\", \"money_back\", \"money_back\", \"money_back\", \"money_back\", \"more\", \"more\", \"more\", \"more\", \"more\", \"more\", \"more_than\", \"more_than\", \"more_than\", \"more_than\", \"more_than\", \"more_than\", \"most\", \"most\", \"most\", \"most\", \"most\", \"most\", \"most_part\", \"most_part\", \"most_part\", \"most_part\", \"most_part\", \"most_part\", \"much\", \"much\", \"much\", \"much\", \"much\", \"much\", \"much_easier\", \"much_easier\", \"much_easier\", \"much_easier\", \"much_easier\", \"much_easier\", \"much_healthier\", \"much_healthier\", \"much_healthier\", \"much_healthier\", \"much_healthier\", \"much_healthier\", \"never_knew\", \"never_knew\", \"never_knew\", \"never_knew\", \"never_knew\", \"never_knew\", \"never_thought\", \"never_thought\", \"never_thought\", \"never_thought\", \"never_thought\", \"never_thought\", \"olive_butter\", \"olive_butter\", \"olive_butter\", \"olive_butter\", \"olive_butter\", \"olive_butter\", \"once_while\", \"once_while\", \"once_while\", \"once_while\", \"once_while\", \"once_while\", \"only\", \"only\", \"only\", \"only\", \"only\", \"only\", \"only_complaint\", \"only_complaint\", \"only_complaint\", \"only_complaint\", \"only_complaint\", \"only_complaint\", \"only_downfall\", \"only_downfall\", \"only_downfall\", \"only_downfall\", \"only_downfall\", \"only_downfall\", \"only_negative\", \"only_negative\", \"only_negative\", \"only_negative\", \"only_negative\", \"only_negative\", \"only_reason\", \"only_reason\", \"only_reason\", \"only_reason\", \"only_reason\", \"only_reason\", \"only_reason_give_star\", \"only_reason_give_star\", \"only_reason_give_star\", \"only_reason_give_star\", \"only_reason_give_star\", \"only_reason_give_star\", \"only_suggestion\", \"only_suggestion\", \"only_suggestion\", \"only_suggestion\", \"only_suggestion\", \"only_suggestion\", \"option\", \"option\", \"option\", \"option\", \"option\", \"option\", \"order\", \"order\", \"order\", \"order\", \"order\", \"order\", \"over_year\", \"over_year\", \"over_year\", \"over_year\", \"over_year\", \"over_year\", \"packaged_well\", \"packaged_well\", \"packaged_well\", \"packaged_well\", \"packaged_well\", \"packaged_well\", \"phone\", \"phone\", \"phone\", \"phone\", \"phone\", \"phone\", \"phone_call\", \"phone_call\", \"phone_call\", \"phone_call\", \"phone_call\", \"phone_call\", \"picky_eater\", \"picky_eater\", \"picky_eater\", \"picky_eater\", \"picky_eater\", \"picky_eater\", \"plant_based\", \"plant_based\", \"plant_based\", \"plant_based\", \"plant_based\", \"plant_based\", \"pleasantly_surprised\", \"pleasantly_surprised\", \"pleasantly_surprised\", \"pleasantly_surprised\", \"pleasantly_surprised\", \"pleasantly_surprised\", \"pleased\", \"pleased\", \"pleased\", \"pleased\", \"pleased\", \"pleased\", \"pleased_with\", \"pleased_with\", \"pleased_with\", \"pleased_with\", \"pleased_with\", \"pleased_with\", \"pork_chop\", \"pork_chop\", \"pork_chop\", \"pork_chop\", \"pork_chop\", \"pork_chop\", \"pork_tenderloin\", \"pork_tenderloin\", \"pork_tenderloin\", \"pork_tenderloin\", \"pork_tenderloin\", \"pork_tenderloin\", \"portion_control\", \"portion_control\", \"portion_control\", \"portion_control\", \"portion_control\", \"portion_control\", \"portion_controlled\", \"portion_controlled\", \"portion_controlled\", \"portion_controlled\", \"portion_controlled\", \"portion_controlled\", \"portion_perfect\", \"portion_perfect\", \"portion_perfect\", \"portion_perfect\", \"portion_perfect\", \"portion_perfect\", \"portion_size\", \"portion_size\", \"portion_size\", \"portion_size\", \"portion_size\", \"portion_size\", \"pot\", \"pot\", \"pot\", \"pot\", \"pot\", \"pot\", \"pot_pan\", \"pot_pan\", \"pot_pan\", \"pot_pan\", \"pot_pan\", \"pot_pan\", \"potato_rice\", \"potato_rice\", \"potato_rice\", \"potato_rice\", \"potato_rice\", \"potato_rice\", \"prepare\", \"prepare\", \"prepare\", \"prepare\", \"prepare\", \"prepare\", \"pretty_good\", \"pretty_good\", \"pretty_good\", \"pretty_good\", \"pretty_good\", \"pretty_good\", \"price_point\", \"price_point\", \"price_point\", \"price_point\", \"price_point\", \"price_point\", \"putting_together\", \"putting_together\", \"putting_together\", \"putting_together\", \"putting_together\", \"putting_together\", \"quality\", \"quality\", \"quality\", \"quality\", \"quality\", \"quality\", \"really\", \"really\", \"really\", \"really\", \"really\", \"really\", \"really_enjoy\", \"really_enjoy\", \"really_enjoy\", \"really_enjoy\", \"really_enjoy\", \"really_enjoy\", \"really_enjoyed\", \"really_enjoyed\", \"really_enjoyed\", \"really_enjoyed\", \"really_enjoyed\", \"really_enjoyed\", \"really_enjoying\", \"really_enjoying\", \"really_enjoying\", \"really_enjoying\", \"really_enjoying\", \"really_enjoying\", \"reasonably_priced\", \"reasonably_priced\", \"reasonably_priced\", \"reasonably_priced\", \"reasonably_priced\", \"reasonably_priced\", \"received\", \"received\", \"received\", \"received\", \"received\", \"received\", \"received_email\", \"received_email\", \"received_email\", \"received_email\", \"received_email\", \"received_email\", \"recipe\", \"recipe\", \"recipe\", \"recipe\", \"recipe\", \"recipe\", \"recommend\", \"recommend\", \"recommend\", \"recommend\", \"recommend\", \"recommend\", \"recommend_everyone\", \"recommend_everyone\", \"recommend_everyone\", \"recommend_everyone\", \"recommend_everyone\", \"recommend_everyone\", \"referred_friend\", \"referred_friend\", \"referred_friend\", \"referred_friend\", \"referred_friend\", \"referred_friend\", \"refund\", \"refund\", \"refund\", \"refund\", \"refund\", \"refund\", \"refund_money\", \"refund_money\", \"refund_money\", \"refund_money\", \"refund_money\", \"refund_money\", \"response\", \"response\", \"response\", \"response\", \"response\", \"response\", \"room_improvement\", \"room_improvement\", \"room_improvement\", \"room_improvement\", \"room_improvement\", \"room_improvement\", \"rude\", \"rude\", \"rude\", \"rude\", \"rude\", \"rude\", \"said\", \"said\", \"said\", \"said\", \"said\", \"said\", \"salt\", \"salt\", \"salt\", \"salt\", \"salt\", \"salt\", \"salt_pepper\", \"salt_pepper\", \"salt_pepper\", \"salt_pepper\", \"salt_pepper\", \"salt_pepper\", \"save\", \"save\", \"save\", \"save\", \"save\", \"save\", \"save_money\", \"save_money\", \"save_money\", \"save_money\", \"save_money\", \"save_money\", \"save_time\", \"save_time\", \"save_time\", \"save_time\", \"save_time\", \"save_time\", \"saved_money\", \"saved_money\", \"saved_money\", \"saved_money\", \"saved_money\", \"saved_money\", \"saver\", \"saver\", \"saver\", \"saver\", \"saver\", \"saver\", \"sent_email\", \"sent_email\", \"sent_email\", \"sent_email\", \"sent_email\", \"sent_email\", \"service\", \"service\", \"service\", \"service\", \"service\", \"service\", \"serving_size\", \"serving_size\", \"serving_size\", \"serving_size\", \"serving_size\", \"serving_size\", \"several_occasion\", \"several_occasion\", \"several_occasion\", \"several_occasion\", \"several_occasion\", \"several_occasion\", \"shopping\", \"shopping\", \"shopping\", \"shopping\", \"shopping\", \"shopping\", \"simplified_life\", \"simplified_life\", \"simplified_life\", \"simplified_life\", \"simplified_life\", \"simplified_life\", \"size\", \"size\", \"size\", \"size\", \"size\", \"size\", \"skip_week\", \"skip_week\", \"skip_week\", \"skip_week\", \"skip_week\", \"skip_week\", \"some\", \"some\", \"some\", \"some\", \"some\", \"some\", \"sou_chef\", \"sou_chef\", \"sou_chef\", \"sou_chef\", \"sou_chef\", \"sou_chef\", \"sour\", \"sour\", \"sour\", \"sour\", \"sour\", \"sour\", \"sour_cream\", \"sour_cream\", \"sour_cream\", \"sour_cream\", \"sour_cream\", \"sour_cream\", \"spice_packet\", \"spice_packet\", \"spice_packet\", \"spice_packet\", \"spice_packet\", \"spice_packet\", \"star_because\", \"star_because\", \"star_because\", \"star_because\", \"star_because\", \"star_because\", \"started_using\", \"started_using\", \"started_using\", \"started_using\", \"started_using\", \"started_using\", \"started_using_hello_fresh\", \"started_using_hello_fresh\", \"started_using_hello_fresh\", \"started_using_hello_fresh\", \"started_using_hello_fresh\", \"started_using_hello_fresh\", \"stay_home\", \"stay_home\", \"stay_home\", \"stay_home\", \"stay_home\", \"stay_home\", \"stay_safe\", \"stay_safe\", \"stay_safe\", \"stay_safe\", \"stay_safe\", \"stay_safe\", \"step\", \"step\", \"step\", \"step\", \"step\", \"step\", \"step_step\", \"step_step\", \"step_step\", \"step_step\", \"step_step\", \"step_step\", \"stress_free\", \"stress_free\", \"stress_free\", \"stress_free\", \"stress_free\", \"stress_free\", \"subscription\", \"subscription\", \"subscription\", \"subscription\", \"subscription\", \"subscription\", \"sweet_potato\", \"sweet_potato\", \"sweet_potato\", \"sweet_potato\", \"sweet_potato\", \"sweet_potato\", \"take_guess\", \"take_guess\", \"take_guess\", \"take_guess\", \"take_guess\", \"take_guess\", \"take_guesswork\", \"take_guesswork\", \"take_guesswork\", \"take_guesswork\", \"take_guesswork\", \"take_guesswork\", \"take_longer\", \"take_longer\", \"take_longer\", \"take_longer\", \"take_longer\", \"take_longer\", \"tasting\", \"tasting\", \"tasting\", \"tasting\", \"tasting\", \"tasting\", \"tasty\", \"tasty\", \"tasty\", \"tasty\", \"tasty\", \"tasty\", \"taught_cook\", \"taught_cook\", \"taught_cook\", \"taught_cook\", \"taught_cook\", \"taught_cook\", \"than_others\", \"than_others\", \"than_others\", \"than_others\", \"than_others\", \"than_others\", \"that\", \"that\", \"that\", \"that\", \"that\", \"that\", \"their\", \"their\", \"their\", \"their\", \"their\", \"their\", \"their_system\", \"their_system\", \"their_system\", \"their_system\", \"their_system\", \"their_system\", \"them\", \"them\", \"them\", \"them\", \"them\", \"them\", \"there\", \"there\", \"there\", \"there\", \"there\", \"there\", \"there_hasn\", \"there_hasn\", \"there_hasn\", \"there_hasn\", \"there_hasn\", \"there_hasn\", \"they\", \"they\", \"they\", \"they\", \"they\", \"they\", \"they_refused\", \"they_refused\", \"they_refused\", \"they_refused\", \"they_refused\", \"they_refused\", \"this\", \"this\", \"this\", \"this\", \"this\", \"this\", \"time\", \"time\", \"time\", \"time\", \"time\", \"time\", \"time_consuming\", \"time_consuming\", \"time_consuming\", \"time_consuming\", \"time_consuming\", \"time_consuming\", \"time_energy\", \"time_energy\", \"time_energy\", \"time_energy\", \"time_energy\", \"time_energy\", \"time_saver\", \"time_saver\", \"time_saver\", \"time_saver\", \"time_saver\", \"time_saver\", \"told\", \"told\", \"told\", \"told\", \"told\", \"told\", \"totally_worth\", \"totally_worth\", \"totally_worth\", \"totally_worth\", \"totally_worth\", \"totally_worth\", \"tracking_number\", \"tracking_number\", \"tracking_number\", \"tracking_number\", \"tracking_number\", \"tracking_number\", \"tried\", \"tried\", \"tried\", \"tried\", \"tried\", \"tried\", \"tried_several\", \"tried_several\", \"tried_several\", \"tried_several\", \"tried_several\", \"tried_several\", \"trip_grocery\", \"trip_grocery\", \"trip_grocery\", \"trip_grocery\", \"trip_grocery\", \"trip_grocery\", \"under_hour\", \"under_hour\", \"under_hour\", \"under_hour\", \"under_hour\", \"under_hour\", \"vegetarian\", \"vegetarian\", \"vegetarian\", \"vegetarian\", \"vegetarian\", \"vegetarian\", \"vegetarian_option\", \"vegetarian_option\", \"vegetarian_option\", \"vegetarian_option\", \"vegetarian_option\", \"vegetarian_option\", \"very\", \"very\", \"very\", \"very\", \"very\", \"very\", \"very_happy\", \"very_happy\", \"very_happy\", \"very_happy\", \"very_happy\", \"very_happy\", \"very_helpful\", \"very_helpful\", \"very_helpful\", \"very_helpful\", \"very_helpful\", \"very_helpful\", \"very_pleased\", \"very_pleased\", \"very_pleased\", \"very_pleased\", \"very_pleased\", \"very_pleased\", \"wait_next\", \"wait_next\", \"wait_next\", \"wait_next\", \"wait_next\", \"wait_next\", \"week\", \"week\", \"week\", \"week\", \"week\", \"week\", \"weight_loss\", \"weight_loss\", \"weight_loss\", \"weight_loss\", \"weight_loss\", \"weight_loss\", \"well_packaged\", \"well_packaged\", \"well_packaged\", \"well_packaged\", \"well_packaged\", \"well_packaged\", \"well_packed\", \"well_packed\", \"well_packed\", \"well_packed\", \"well_packed\", \"well_packed\", \"were\", \"were\", \"were\", \"were\", \"were\", \"were\", \"when\", \"when\", \"when\", \"when\", \"when\", \"when\", \"when_called\", \"when_called\", \"when_called\", \"when_called\", \"when_called\", \"when_called\", \"white_rice\", \"white_rice\", \"white_rice\", \"white_rice\", \"white_rice\", \"white_rice\", \"whole_family\", \"whole_family\", \"whole_family\", \"whole_family\", \"whole_family\", \"whole_family\", \"wide_range\", \"wide_range\", \"wide_range\", \"wide_range\", \"wide_range\", \"wide_range\", \"wide_variety\", \"wide_variety\", \"wide_variety\", \"wide_variety\", \"wide_variety\", \"wide_variety\", \"will\", \"will\", \"will\", \"will\", \"will\", \"will\", \"wish\", \"wish\", \"wish\", \"wish\", \"wish\", \"wish\", \"wish_could\", \"wish_could\", \"wish_could\", \"wish_could\", \"wish_could\", \"wish_could\", \"wish_there\", \"wish_there\", \"wish_there\", \"wish_there\", \"wish_there\", \"wish_there\", \"with\", \"with\", \"with\", \"with\", \"with\", \"with\", \"without_having\", \"without_having\", \"without_having\", \"without_having\", \"without_having\", \"without_having\", \"would\", \"would\", \"would\", \"would\", \"would\", \"would\", \"wouldn_normally\", \"wouldn_normally\", \"wouldn_normally\", \"wouldn_normally\", \"wouldn_normally\", \"wouldn_normally\", \"year_marriage\", \"year_marriage\", \"year_marriage\", \"year_marriage\", \"year_marriage\", \"year_marriage\", \"your_door\", \"your_door\", \"your_door\", \"your_door\", \"your_door\", \"your_door\", \"your_fingertip\", \"your_fingertip\", \"your_fingertip\", \"your_fingertip\", \"your_fingertip\", \"your_fingertip\", \"zone\", \"zone\", \"zone\", \"zone\", \"zone\", \"zone\"]}, \"R\": 30, \"lambda.step\": 0.01, \"plot.opts\": {\"xlab\": \"PC1\", \"ylab\": \"PC2\"}, \"topic.order\": [4, 6, 2, 3, 5, 1]};\n",
       "\n",
       "function LDAvis_load_lib(url, callback){\n",
       "  var s = document.createElement('script');\n",
       "  s.src = url;\n",
       "  s.async = true;\n",
       "  s.onreadystatechange = s.onload = callback;\n",
       "  s.onerror = function(){console.warn(\"failed to load library \" + url);};\n",
       "  document.getElementsByTagName(\"head\")[0].appendChild(s);\n",
       "}\n",
       "\n",
       "if(typeof(LDAvis) !== \"undefined\"){\n",
       "   // already loaded: just create the visualization\n",
       "   !function(LDAvis){\n",
       "       new LDAvis(\"#\" + \"ldavis_el597257087176323006930358\", ldavis_el597257087176323006930358_data);\n",
       "   }(LDAvis);\n",
       "}else if(typeof define === \"function\" && define.amd){\n",
       "   // require.js is available: use it to load d3/LDAvis\n",
       "   require.config({paths: {d3: \"https://cdnjs.cloudflare.com/ajax/libs/d3/3.5.5/d3.min\"}});\n",
       "   require([\"d3\"], function(d3){\n",
       "      window.d3 = d3;\n",
       "      LDAvis_load_lib(\"https://cdn.rawgit.com/bmabey/pyLDAvis/files/ldavis.v1.0.0.js\", function(){\n",
       "        new LDAvis(\"#\" + \"ldavis_el597257087176323006930358\", ldavis_el597257087176323006930358_data);\n",
       "      });\n",
       "    });\n",
       "}else{\n",
       "    // require.js not available: dynamically load d3 & LDAvis\n",
       "    LDAvis_load_lib(\"https://cdnjs.cloudflare.com/ajax/libs/d3/3.5.5/d3.min.js\", function(){\n",
       "         LDAvis_load_lib(\"https://cdn.rawgit.com/bmabey/pyLDAvis/files/ldavis.v1.0.0.js\", function(){\n",
       "                 new LDAvis(\"#\" + \"ldavis_el597257087176323006930358\", ldavis_el597257087176323006930358_data);\n",
       "            })\n",
       "         });\n",
       "}\n",
       "</script>"
      ],
      "text/plain": [
       "PreparedData(topic_coordinates=              x         y  topics  cluster       Freq\n",
       "topic                                                \n",
       "3     -0.167485 -0.018612       1        1  20.290680\n",
       "5     -0.010866  0.034895       2        1  18.957415\n",
       "1      0.064784 -0.057969       3        1  18.173319\n",
       "2      0.021646  0.080613       4        1  16.453493\n",
       "4      0.031664 -0.056593       5        1  16.232868\n",
       "0      0.060256  0.017666       6        1   9.892219, topic_info=                 Term          Freq         Total Category  logprob  loglift\n",
       "19        hello_fresh  24917.000000  24917.000000  Default  30.0000  30.0000\n",
       "18              hello   8394.000000   8394.000000  Default  29.0000  29.0000\n",
       "58        easy_follow   7570.000000   7570.000000  Default  28.0000  28.0000\n",
       "79   customer_service   8125.000000   8125.000000  Default  27.0000  27.0000\n",
       "67       easy_prepare   3791.000000   3791.000000  Default  26.0000  26.0000\n",
       "..                ...           ...           ...      ...      ...      ...\n",
       "55               with    758.575500  11207.793945   Topic6  -4.8514  -0.3795\n",
       "408              make    631.512329   5421.350586   Topic6  -5.0347   0.1634\n",
       "120        hellofresh    594.842529   5449.841797   Topic6  -5.0945   0.0984\n",
       "113              cook    514.741272   4118.591309   Topic6  -5.2392   0.2338\n",
       "47               time    522.573669   7294.509766   Topic6  -5.2241  -0.3227\n",
       "\n",
       "[462 rows x 6 columns], token_table=      Topic      Freq   Term\n",
       "term                        \n",
       "172       1  0.194630  about\n",
       "172       2  0.260824  about\n",
       "172       3  0.223281  about\n",
       "172       4  0.073110  about\n",
       "172       5  0.190349  about\n",
       "...     ...       ...    ...\n",
       "2209      2  0.031015   zone\n",
       "2209      3  0.062030   zone\n",
       "2209      4  0.031015   zone\n",
       "2209      5  0.847744   zone\n",
       "2209      6  0.020677   zone\n",
       "\n",
       "[1938 rows x 3 columns], R=30, lambda_step=0.01, plot_opts={'xlab': 'PC1', 'ylab': 'PC2'}, topic_order=[4, 6, 2, 3, 5, 1])"
      ]
     },
     "execution_count": 27,
     "metadata": {},
     "output_type": "execute_result"
    }
   ],
   "source": [
    "import pyLDAvis.gensim\n",
    "import pickle \n",
    "import pyLDAvis\n",
    "# Visualize the topics\n",
    "pyLDAvis.enable_notebook()\n",
    "LDAvis_prepared = pyLDAvis.gensim.prepare(lda_model1, corpus, dictionary)\n",
    "LDAvis_prepared"
   ]
  },
  {
   "cell_type": "code",
   "execution_count": 29,
   "metadata": {},
   "outputs": [
    {
     "data": {
      "text/html": [
       "<div>\n",
       "<style scoped>\n",
       "    .dataframe tbody tr th:only-of-type {\n",
       "        vertical-align: middle;\n",
       "    }\n",
       "\n",
       "    .dataframe tbody tr th {\n",
       "        vertical-align: top;\n",
       "    }\n",
       "\n",
       "    .dataframe thead th {\n",
       "        text-align: right;\n",
       "    }\n",
       "</style>\n",
       "<table border=\"1\" class=\"dataframe\">\n",
       "  <thead>\n",
       "    <tr style=\"text-align: right;\">\n",
       "      <th></th>\n",
       "      <th>Document_No</th>\n",
       "      <th>Dominant_Topic</th>\n",
       "      <th>Topic_Perc_Contrib</th>\n",
       "      <th>Keywords</th>\n",
       "      <th>Text</th>\n",
       "    </tr>\n",
       "  </thead>\n",
       "  <tbody>\n",
       "    <tr>\n",
       "      <th>0</th>\n",
       "      <td>0</td>\n",
       "      <td>1.0</td>\n",
       "      <td>0.4466</td>\n",
       "      <td>customer_service, service, they, customer, thi...</td>\n",
       "      <td>I wish I could give my experience with Hello F...</td>\n",
       "    </tr>\n",
       "    <tr>\n",
       "      <th>1</th>\n",
       "      <td>1</td>\n",
       "      <td>2.0</td>\n",
       "      <td>0.9983</td>\n",
       "      <td>easy_follow, easy_prepare, delicious, follow, ...</td>\n",
       "      <td>Great recipes, easy-to-follow instructions, an...</td>\n",
       "    </tr>\n",
       "    <tr>\n",
       "      <th>2</th>\n",
       "      <td>2</td>\n",
       "      <td>2.0</td>\n",
       "      <td>0.9988</td>\n",
       "      <td>easy_follow, easy_prepare, delicious, follow, ...</td>\n",
       "      <td>A key ingredient was unusable for one of the m...</td>\n",
       "    </tr>\n",
       "    <tr>\n",
       "      <th>3</th>\n",
       "      <td>3</td>\n",
       "      <td>1.0</td>\n",
       "      <td>0.9972</td>\n",
       "      <td>customer_service, service, they, customer, thi...</td>\n",
       "      <td>Hello Fresh has great food and the best custom...</td>\n",
       "    </tr>\n",
       "    <tr>\n",
       "      <th>4</th>\n",
       "      <td>4</td>\n",
       "      <td>0.0</td>\n",
       "      <td>0.9989</td>\n",
       "      <td>like, good, time, very, would, week, ingredien...</td>\n",
       "      <td>Delicious and easy recipes, high-quality ingre...</td>\n",
       "    </tr>\n",
       "    <tr>\n",
       "      <th>5</th>\n",
       "      <td>5</td>\n",
       "      <td>2.0</td>\n",
       "      <td>0.6257</td>\n",
       "      <td>easy_follow, easy_prepare, delicious, follow, ...</td>\n",
       "      <td>HelloFresh is the complete package.  All the i...</td>\n",
       "    </tr>\n",
       "    <tr>\n",
       "      <th>6</th>\n",
       "      <td>6</td>\n",
       "      <td>1.0</td>\n",
       "      <td>0.6427</td>\n",
       "      <td>customer_service, service, they, customer, thi...</td>\n",
       "      <td>I absolutely love HelloFresh!  I've enjoyed ea...</td>\n",
       "    </tr>\n",
       "    <tr>\n",
       "      <th>7</th>\n",
       "      <td>7</td>\n",
       "      <td>1.0</td>\n",
       "      <td>0.8205</td>\n",
       "      <td>customer_service, service, they, customer, thi...</td>\n",
       "      <td>At first I loved this service. Cooking for one...</td>\n",
       "    </tr>\n",
       "    <tr>\n",
       "      <th>8</th>\n",
       "      <td>8</td>\n",
       "      <td>2.0</td>\n",
       "      <td>0.9995</td>\n",
       "      <td>easy_follow, easy_prepare, delicious, follow, ...</td>\n",
       "      <td>We think HelloFresh is fantastic. The recipes ...</td>\n",
       "    </tr>\n",
       "    <tr>\n",
       "      <th>9</th>\n",
       "      <td>9</td>\n",
       "      <td>0.0</td>\n",
       "      <td>0.9995</td>\n",
       "      <td>like, good, time, very, would, week, ingredien...</td>\n",
       "      <td>Given our busy work schedules at the hospital,...</td>\n",
       "    </tr>\n",
       "  </tbody>\n",
       "</table>\n",
       "</div>"
      ],
      "text/plain": [
       "   Document_No  Dominant_Topic  Topic_Perc_Contrib  \\\n",
       "0            0             1.0              0.4466   \n",
       "1            1             2.0              0.9983   \n",
       "2            2             2.0              0.9988   \n",
       "3            3             1.0              0.9972   \n",
       "4            4             0.0              0.9989   \n",
       "5            5             2.0              0.6257   \n",
       "6            6             1.0              0.6427   \n",
       "7            7             1.0              0.8205   \n",
       "8            8             2.0              0.9995   \n",
       "9            9             0.0              0.9995   \n",
       "\n",
       "                                            Keywords  \\\n",
       "0  customer_service, service, they, customer, thi...   \n",
       "1  easy_follow, easy_prepare, delicious, follow, ...   \n",
       "2  easy_follow, easy_prepare, delicious, follow, ...   \n",
       "3  customer_service, service, they, customer, thi...   \n",
       "4  like, good, time, very, would, week, ingredien...   \n",
       "5  easy_follow, easy_prepare, delicious, follow, ...   \n",
       "6  customer_service, service, they, customer, thi...   \n",
       "7  customer_service, service, they, customer, thi...   \n",
       "8  easy_follow, easy_prepare, delicious, follow, ...   \n",
       "9  like, good, time, very, would, week, ingredien...   \n",
       "\n",
       "                                                Text  \n",
       "0  I wish I could give my experience with Hello F...  \n",
       "1  Great recipes, easy-to-follow instructions, an...  \n",
       "2  A key ingredient was unusable for one of the m...  \n",
       "3  Hello Fresh has great food and the best custom...  \n",
       "4  Delicious and easy recipes, high-quality ingre...  \n",
       "5  HelloFresh is the complete package.  All the i...  \n",
       "6  I absolutely love HelloFresh!  I've enjoyed ea...  \n",
       "7  At first I loved this service. Cooking for one...  \n",
       "8  We think HelloFresh is fantastic. The recipes ...  \n",
       "9  Given our busy work schedules at the hospital,...  "
      ]
     },
     "execution_count": 29,
     "metadata": {},
     "output_type": "execute_result"
    }
   ],
   "source": [
    "def format_topics_sentences(ldamodel=lda_model1, corpus=corpus, texts=data.review_text):\n",
    "    # Init output\n",
    "    sent_topics_df = pd.DataFrame()\n",
    "\n",
    "    # Get main topic in each document\n",
    "    for i, row in enumerate(ldamodel[corpus]):\n",
    "        row = sorted(row, key=lambda x: (x[1]), reverse=True)\n",
    "        # Get the Dominant topic, Perc Contribution and Keywords for each document\n",
    "        for j, (topic_num, prop_topic) in enumerate(row):\n",
    "            if j == 0:  # => dominant topic\n",
    "                wp = ldamodel.show_topic(topic_num)\n",
    "                topic_keywords = \", \".join([word for word, prop in wp])\n",
    "                sent_topics_df = sent_topics_df.append(pd.Series([int(topic_num), round(prop_topic,4), topic_keywords]), ignore_index=True)\n",
    "            else:\n",
    "                break\n",
    "    sent_topics_df.columns = ['Dominant_Topic', 'Perc_Contribution', 'Topic_Keywords']\n",
    "\n",
    "    # Add original text to the end of the output\n",
    "    contents = pd.Series(texts)\n",
    "    sent_topics_df = pd.concat([sent_topics_df, contents], axis=1)\n",
    "    return(sent_topics_df)\n",
    "\n",
    "\n",
    "df_topic_sents_keywords = format_topics_sentences(ldamodel=lda_model1, corpus=corpus, texts=data.review_text)\n",
    "\n",
    "# Format\n",
    "df_dominant_topic = df_topic_sents_keywords.reset_index()\n",
    "df_dominant_topic.columns = ['Document_No', 'Dominant_Topic', 'Topic_Perc_Contrib', 'Keywords', 'Text']\n",
    "\n",
    "# Show\n",
    "df_dominant_topic.head(10)"
   ]
  },
  {
   "cell_type": "code",
   "execution_count": 30,
   "metadata": {},
   "outputs": [],
   "source": [
    "data_change_name = data.copy()\n",
    "data_change_name.columns = ['date', 'rating', 'Text', 'polarity', 'subjectivity',\n",
    "       'review_words', 'sentiment']"
   ]
  },
  {
   "cell_type": "code",
   "execution_count": 31,
   "metadata": {},
   "outputs": [],
   "source": [
    "data_final = pd.merge(data_change_name, df_dominant_topic, on='Text', how='left')"
   ]
  },
  {
   "cell_type": "code",
   "execution_count": 32,
   "metadata": {},
   "outputs": [
    {
     "data": {
      "text/html": [
       "<div>\n",
       "<style scoped>\n",
       "    .dataframe tbody tr th:only-of-type {\n",
       "        vertical-align: middle;\n",
       "    }\n",
       "\n",
       "    .dataframe tbody tr th {\n",
       "        vertical-align: top;\n",
       "    }\n",
       "\n",
       "    .dataframe thead th {\n",
       "        text-align: right;\n",
       "    }\n",
       "</style>\n",
       "<table border=\"1\" class=\"dataframe\">\n",
       "  <thead>\n",
       "    <tr style=\"text-align: right;\">\n",
       "      <th></th>\n",
       "      <th>date</th>\n",
       "      <th>rating</th>\n",
       "      <th>Text</th>\n",
       "      <th>polarity</th>\n",
       "      <th>subjectivity</th>\n",
       "      <th>review_words</th>\n",
       "      <th>sentiment</th>\n",
       "      <th>Document_No</th>\n",
       "      <th>Dominant_Topic</th>\n",
       "      <th>Topic_Perc_Contrib</th>\n",
       "      <th>Keywords</th>\n",
       "    </tr>\n",
       "  </thead>\n",
       "  <tbody>\n",
       "    <tr>\n",
       "      <th>0</th>\n",
       "      <td>2020-08-18</td>\n",
       "      <td>3</td>\n",
       "      <td>I wish I could give my experience with Hello F...</td>\n",
       "      <td>0.150000</td>\n",
       "      <td>0.594444</td>\n",
       "      <td>121</td>\n",
       "      <td>3</td>\n",
       "      <td>0</td>\n",
       "      <td>1.0</td>\n",
       "      <td>0.4466</td>\n",
       "      <td>customer_service, service, they, customer, thi...</td>\n",
       "    </tr>\n",
       "    <tr>\n",
       "      <th>1</th>\n",
       "      <td>2020-08-17</td>\n",
       "      <td>4</td>\n",
       "      <td>Great recipes, easy-to-follow instructions, an...</td>\n",
       "      <td>0.366667</td>\n",
       "      <td>0.750000</td>\n",
       "      <td>15</td>\n",
       "      <td>3</td>\n",
       "      <td>1</td>\n",
       "      <td>2.0</td>\n",
       "      <td>0.9983</td>\n",
       "      <td>easy_follow, easy_prepare, delicious, follow, ...</td>\n",
       "    </tr>\n",
       "    <tr>\n",
       "      <th>2</th>\n",
       "      <td>2020-08-17</td>\n",
       "      <td>3</td>\n",
       "      <td>A key ingredient was unusable for one of the m...</td>\n",
       "      <td>0.218056</td>\n",
       "      <td>0.701389</td>\n",
       "      <td>35</td>\n",
       "      <td>3</td>\n",
       "      <td>2</td>\n",
       "      <td>2.0</td>\n",
       "      <td>0.9988</td>\n",
       "      <td>easy_follow, easy_prepare, delicious, follow, ...</td>\n",
       "    </tr>\n",
       "    <tr>\n",
       "      <th>3</th>\n",
       "      <td>2020-08-17</td>\n",
       "      <td>5</td>\n",
       "      <td>Hello Fresh has great food and the best custom...</td>\n",
       "      <td>0.700000</td>\n",
       "      <td>0.516667</td>\n",
       "      <td>11</td>\n",
       "      <td>4</td>\n",
       "      <td>3</td>\n",
       "      <td>1.0</td>\n",
       "      <td>0.9972</td>\n",
       "      <td>customer_service, service, they, customer, thi...</td>\n",
       "    </tr>\n",
       "    <tr>\n",
       "      <th>4</th>\n",
       "      <td>2020-08-16</td>\n",
       "      <td>5</td>\n",
       "      <td>Delicious and easy recipes, high-quality ingre...</td>\n",
       "      <td>0.711111</td>\n",
       "      <td>0.811111</td>\n",
       "      <td>15</td>\n",
       "      <td>4</td>\n",
       "      <td>4</td>\n",
       "      <td>0.0</td>\n",
       "      <td>0.9989</td>\n",
       "      <td>like, good, time, very, would, week, ingredien...</td>\n",
       "    </tr>\n",
       "    <tr>\n",
       "      <th>...</th>\n",
       "      <td>...</td>\n",
       "      <td>...</td>\n",
       "      <td>...</td>\n",
       "      <td>...</td>\n",
       "      <td>...</td>\n",
       "      <td>...</td>\n",
       "      <td>...</td>\n",
       "      <td>...</td>\n",
       "      <td>...</td>\n",
       "      <td>...</td>\n",
       "      <td>...</td>\n",
       "    </tr>\n",
       "    <tr>\n",
       "      <th>28637</th>\n",
       "      <td>2016-04-08</td>\n",
       "      <td>5</td>\n",
       "      <td>My husband and I are amazed with the consisten...</td>\n",
       "      <td>0.462000</td>\n",
       "      <td>0.568000</td>\n",
       "      <td>31</td>\n",
       "      <td>3</td>\n",
       "      <td>30175</td>\n",
       "      <td>0.0</td>\n",
       "      <td>0.6936</td>\n",
       "      <td>like, good, time, very, would, week, ingredien...</td>\n",
       "    </tr>\n",
       "    <tr>\n",
       "      <th>28638</th>\n",
       "      <td>2016-04-08</td>\n",
       "      <td>5</td>\n",
       "      <td>I have been referred to as obsessive about foo...</td>\n",
       "      <td>0.158750</td>\n",
       "      <td>0.333214</td>\n",
       "      <td>121</td>\n",
       "      <td>3</td>\n",
       "      <td>30176</td>\n",
       "      <td>0.0</td>\n",
       "      <td>0.9992</td>\n",
       "      <td>like, good, time, very, would, week, ingredien...</td>\n",
       "    </tr>\n",
       "    <tr>\n",
       "      <th>28639</th>\n",
       "      <td>2016-04-08</td>\n",
       "      <td>4</td>\n",
       "      <td>I enjoy all the recipes but ever once in a whi...</td>\n",
       "      <td>-0.016667</td>\n",
       "      <td>0.266667</td>\n",
       "      <td>32</td>\n",
       "      <td>2</td>\n",
       "      <td>30177</td>\n",
       "      <td>2.0</td>\n",
       "      <td>0.9988</td>\n",
       "      <td>easy_follow, easy_prepare, delicious, follow, ...</td>\n",
       "    </tr>\n",
       "    <tr>\n",
       "      <th>28640</th>\n",
       "      <td>2016-04-08</td>\n",
       "      <td>3</td>\n",
       "      <td>To be honest, I have only received two deliver...</td>\n",
       "      <td>0.238854</td>\n",
       "      <td>0.584896</td>\n",
       "      <td>162</td>\n",
       "      <td>3</td>\n",
       "      <td>30178</td>\n",
       "      <td>1.0</td>\n",
       "      <td>0.3580</td>\n",
       "      <td>customer_service, service, they, customer, thi...</td>\n",
       "    </tr>\n",
       "    <tr>\n",
       "      <th>28641</th>\n",
       "      <td>2016-04-08</td>\n",
       "      <td>4</td>\n",
       "      <td>Food, recipes, delivery, packaging, is absolut...</td>\n",
       "      <td>0.040000</td>\n",
       "      <td>0.703333</td>\n",
       "      <td>24</td>\n",
       "      <td>3</td>\n",
       "      <td>30179</td>\n",
       "      <td>2.0</td>\n",
       "      <td>0.9995</td>\n",
       "      <td>easy_follow, easy_prepare, delicious, follow, ...</td>\n",
       "    </tr>\n",
       "  </tbody>\n",
       "</table>\n",
       "<p>28642 rows × 11 columns</p>\n",
       "</div>"
      ],
      "text/plain": [
       "            date  rating                                               Text  \\\n",
       "0     2020-08-18       3  I wish I could give my experience with Hello F...   \n",
       "1     2020-08-17       4  Great recipes, easy-to-follow instructions, an...   \n",
       "2     2020-08-17       3  A key ingredient was unusable for one of the m...   \n",
       "3     2020-08-17       5  Hello Fresh has great food and the best custom...   \n",
       "4     2020-08-16       5  Delicious and easy recipes, high-quality ingre...   \n",
       "...          ...     ...                                                ...   \n",
       "28637 2016-04-08       5  My husband and I are amazed with the consisten...   \n",
       "28638 2016-04-08       5  I have been referred to as obsessive about foo...   \n",
       "28639 2016-04-08       4  I enjoy all the recipes but ever once in a whi...   \n",
       "28640 2016-04-08       3  To be honest, I have only received two deliver...   \n",
       "28641 2016-04-08       4  Food, recipes, delivery, packaging, is absolut...   \n",
       "\n",
       "       polarity  subjectivity  review_words  sentiment  Document_No  \\\n",
       "0      0.150000      0.594444           121          3            0   \n",
       "1      0.366667      0.750000            15          3            1   \n",
       "2      0.218056      0.701389            35          3            2   \n",
       "3      0.700000      0.516667            11          4            3   \n",
       "4      0.711111      0.811111            15          4            4   \n",
       "...         ...           ...           ...        ...          ...   \n",
       "28637  0.462000      0.568000            31          3        30175   \n",
       "28638  0.158750      0.333214           121          3        30176   \n",
       "28639 -0.016667      0.266667            32          2        30177   \n",
       "28640  0.238854      0.584896           162          3        30178   \n",
       "28641  0.040000      0.703333            24          3        30179   \n",
       "\n",
       "       Dominant_Topic  Topic_Perc_Contrib  \\\n",
       "0                 1.0              0.4466   \n",
       "1                 2.0              0.9983   \n",
       "2                 2.0              0.9988   \n",
       "3                 1.0              0.9972   \n",
       "4                 0.0              0.9989   \n",
       "...               ...                 ...   \n",
       "28637             0.0              0.6936   \n",
       "28638             0.0              0.9992   \n",
       "28639             2.0              0.9988   \n",
       "28640             1.0              0.3580   \n",
       "28641             2.0              0.9995   \n",
       "\n",
       "                                                Keywords  \n",
       "0      customer_service, service, they, customer, thi...  \n",
       "1      easy_follow, easy_prepare, delicious, follow, ...  \n",
       "2      easy_follow, easy_prepare, delicious, follow, ...  \n",
       "3      customer_service, service, they, customer, thi...  \n",
       "4      like, good, time, very, would, week, ingredien...  \n",
       "...                                                  ...  \n",
       "28637  like, good, time, very, would, week, ingredien...  \n",
       "28638  like, good, time, very, would, week, ingredien...  \n",
       "28639  easy_follow, easy_prepare, delicious, follow, ...  \n",
       "28640  customer_service, service, they, customer, thi...  \n",
       "28641  easy_follow, easy_prepare, delicious, follow, ...  \n",
       "\n",
       "[28642 rows x 11 columns]"
      ]
     },
     "execution_count": 32,
     "metadata": {},
     "output_type": "execute_result"
    }
   ],
   "source": [
    "data_final.dropna()"
   ]
  },
  {
   "cell_type": "code",
   "execution_count": 33,
   "metadata": {},
   "outputs": [],
   "source": [
    "data_final.to_csv('./data/hellofresh_by_topic.csv') # exporting dataset"
   ]
  },
  {
   "cell_type": "code",
   "execution_count": 34,
   "metadata": {
    "scrolled": false
   },
   "outputs": [
    {
     "data": {
      "text/html": [
       "<div>\n",
       "<style scoped>\n",
       "    .dataframe tbody tr th:only-of-type {\n",
       "        vertical-align: middle;\n",
       "    }\n",
       "\n",
       "    .dataframe tbody tr th {\n",
       "        vertical-align: top;\n",
       "    }\n",
       "\n",
       "    .dataframe thead tr th {\n",
       "        text-align: left;\n",
       "    }\n",
       "\n",
       "    .dataframe thead tr:last-of-type th {\n",
       "        text-align: right;\n",
       "    }\n",
       "</style>\n",
       "<table border=\"1\" class=\"dataframe\">\n",
       "  <thead>\n",
       "    <tr>\n",
       "      <th></th>\n",
       "      <th colspan=\"8\" halign=\"left\">rating</th>\n",
       "      <th colspan=\"2\" halign=\"left\">polarity</th>\n",
       "      <th>...</th>\n",
       "      <th colspan=\"2\" halign=\"left\">Document_No</th>\n",
       "      <th colspan=\"8\" halign=\"left\">Topic_Perc_Contrib</th>\n",
       "    </tr>\n",
       "    <tr>\n",
       "      <th></th>\n",
       "      <th>count</th>\n",
       "      <th>mean</th>\n",
       "      <th>std</th>\n",
       "      <th>min</th>\n",
       "      <th>25%</th>\n",
       "      <th>50%</th>\n",
       "      <th>75%</th>\n",
       "      <th>max</th>\n",
       "      <th>count</th>\n",
       "      <th>mean</th>\n",
       "      <th>...</th>\n",
       "      <th>75%</th>\n",
       "      <th>max</th>\n",
       "      <th>count</th>\n",
       "      <th>mean</th>\n",
       "      <th>std</th>\n",
       "      <th>min</th>\n",
       "      <th>25%</th>\n",
       "      <th>50%</th>\n",
       "      <th>75%</th>\n",
       "      <th>max</th>\n",
       "    </tr>\n",
       "    <tr>\n",
       "      <th>Dominant_Topic</th>\n",
       "      <th></th>\n",
       "      <th></th>\n",
       "      <th></th>\n",
       "      <th></th>\n",
       "      <th></th>\n",
       "      <th></th>\n",
       "      <th></th>\n",
       "      <th></th>\n",
       "      <th></th>\n",
       "      <th></th>\n",
       "      <th></th>\n",
       "      <th></th>\n",
       "      <th></th>\n",
       "      <th></th>\n",
       "      <th></th>\n",
       "      <th></th>\n",
       "      <th></th>\n",
       "      <th></th>\n",
       "      <th></th>\n",
       "      <th></th>\n",
       "      <th></th>\n",
       "    </tr>\n",
       "  </thead>\n",
       "  <tbody>\n",
       "    <tr>\n",
       "      <th>0.0</th>\n",
       "      <td>10965.0</td>\n",
       "      <td>4.455084</td>\n",
       "      <td>0.919960</td>\n",
       "      <td>1.0</td>\n",
       "      <td>4.0</td>\n",
       "      <td>5.0</td>\n",
       "      <td>5.0</td>\n",
       "      <td>5.0</td>\n",
       "      <td>10965.0</td>\n",
       "      <td>0.360513</td>\n",
       "      <td>...</td>\n",
       "      <td>23048.0</td>\n",
       "      <td>30176.0</td>\n",
       "      <td>10965.0</td>\n",
       "      <td>0.893766</td>\n",
       "      <td>0.171465</td>\n",
       "      <td>0.3333</td>\n",
       "      <td>0.7891</td>\n",
       "      <td>0.9975</td>\n",
       "      <td>0.9989</td>\n",
       "      <td>0.9999</td>\n",
       "    </tr>\n",
       "    <tr>\n",
       "      <th>1.0</th>\n",
       "      <td>6711.0</td>\n",
       "      <td>4.434660</td>\n",
       "      <td>0.936358</td>\n",
       "      <td>1.0</td>\n",
       "      <td>4.0</td>\n",
       "      <td>5.0</td>\n",
       "      <td>5.0</td>\n",
       "      <td>5.0</td>\n",
       "      <td>6711.0</td>\n",
       "      <td>0.355280</td>\n",
       "      <td>...</td>\n",
       "      <td>22405.5</td>\n",
       "      <td>30178.0</td>\n",
       "      <td>6711.0</td>\n",
       "      <td>0.885205</td>\n",
       "      <td>0.173325</td>\n",
       "      <td>0.3425</td>\n",
       "      <td>0.7492</td>\n",
       "      <td>0.9978</td>\n",
       "      <td>0.9992</td>\n",
       "      <td>1.0000</td>\n",
       "    </tr>\n",
       "    <tr>\n",
       "      <th>2.0</th>\n",
       "      <td>10966.0</td>\n",
       "      <td>4.467627</td>\n",
       "      <td>0.893611</td>\n",
       "      <td>1.0</td>\n",
       "      <td>4.0</td>\n",
       "      <td>5.0</td>\n",
       "      <td>5.0</td>\n",
       "      <td>5.0</td>\n",
       "      <td>10966.0</td>\n",
       "      <td>0.359586</td>\n",
       "      <td>...</td>\n",
       "      <td>23143.5</td>\n",
       "      <td>30179.0</td>\n",
       "      <td>10966.0</td>\n",
       "      <td>0.911645</td>\n",
       "      <td>0.159824</td>\n",
       "      <td>0.3489</td>\n",
       "      <td>0.9530</td>\n",
       "      <td>0.9975</td>\n",
       "      <td>0.9988</td>\n",
       "      <td>0.9998</td>\n",
       "    </tr>\n",
       "  </tbody>\n",
       "</table>\n",
       "<p>3 rows × 56 columns</p>\n",
       "</div>"
      ],
      "text/plain": [
       "                 rating                                              polarity  \\\n",
       "                  count      mean       std  min  25%  50%  75%  max    count   \n",
       "Dominant_Topic                                                                  \n",
       "0.0             10965.0  4.455084  0.919960  1.0  4.0  5.0  5.0  5.0  10965.0   \n",
       "1.0              6711.0  4.434660  0.936358  1.0  4.0  5.0  5.0  5.0   6711.0   \n",
       "2.0             10966.0  4.467627  0.893611  1.0  4.0  5.0  5.0  5.0  10966.0   \n",
       "\n",
       "                          ... Document_No          Topic_Perc_Contrib  \\\n",
       "                    mean  ...         75%      max              count   \n",
       "Dominant_Topic            ...                                           \n",
       "0.0             0.360513  ...     23048.0  30176.0            10965.0   \n",
       "1.0             0.355280  ...     22405.5  30178.0             6711.0   \n",
       "2.0             0.359586  ...     23143.5  30179.0            10966.0   \n",
       "\n",
       "                                                                            \n",
       "                    mean       std     min     25%     50%     75%     max  \n",
       "Dominant_Topic                                                              \n",
       "0.0             0.893766  0.171465  0.3333  0.7891  0.9975  0.9989  0.9999  \n",
       "1.0             0.885205  0.173325  0.3425  0.7492  0.9978  0.9992  1.0000  \n",
       "2.0             0.911645  0.159824  0.3489  0.9530  0.9975  0.9988  0.9998  \n",
       "\n",
       "[3 rows x 56 columns]"
      ]
     },
     "execution_count": 34,
     "metadata": {},
     "output_type": "execute_result"
    }
   ],
   "source": [
    "data_final.groupby('Dominant_Topic').describe()"
   ]
  },
  {
   "cell_type": "code",
   "execution_count": 35,
   "metadata": {},
   "outputs": [
    {
     "data": {
      "text/plain": [
       "'Awesome!  Great choices, varied dishes. Puts to end the what’s for dinner tonight question. Love it!'"
      ]
     },
     "execution_count": 35,
     "metadata": {},
     "output_type": "execute_result"
    }
   ],
   "source": [
    "data_final.loc[data_final.Dominant_Topic==0]['Text'].values[300]"
   ]
  },
  {
   "cell_type": "code",
   "execution_count": null,
   "metadata": {},
   "outputs": [],
   "source": []
  },
  {
   "cell_type": "code",
   "execution_count": null,
   "metadata": {},
   "outputs": [],
   "source": []
  },
  {
   "cell_type": "code",
   "execution_count": null,
   "metadata": {},
   "outputs": [],
   "source": []
  },
  {
   "cell_type": "code",
   "execution_count": null,
   "metadata": {},
   "outputs": [],
   "source": []
  },
  {
   "cell_type": "code",
   "execution_count": null,
   "metadata": {},
   "outputs": [],
   "source": []
  },
  {
   "cell_type": "code",
   "execution_count": null,
   "metadata": {},
   "outputs": [],
   "source": []
  },
  {
   "cell_type": "code",
   "execution_count": null,
   "metadata": {},
   "outputs": [],
   "source": []
  },
  {
   "cell_type": "code",
   "execution_count": null,
   "metadata": {},
   "outputs": [],
   "source": []
  },
  {
   "cell_type": "code",
   "execution_count": null,
   "metadata": {},
   "outputs": [],
   "source": []
  },
  {
   "cell_type": "code",
   "execution_count": null,
   "metadata": {},
   "outputs": [],
   "source": []
  },
  {
   "cell_type": "code",
   "execution_count": null,
   "metadata": {},
   "outputs": [],
   "source": []
  },
  {
   "cell_type": "code",
   "execution_count": null,
   "metadata": {},
   "outputs": [],
   "source": []
  },
  {
   "cell_type": "code",
   "execution_count": null,
   "metadata": {},
   "outputs": [],
   "source": []
  },
  {
   "cell_type": "code",
   "execution_count": null,
   "metadata": {},
   "outputs": [],
   "source": []
  },
  {
   "cell_type": "code",
   "execution_count": null,
   "metadata": {},
   "outputs": [],
   "source": []
  },
  {
   "cell_type": "code",
   "execution_count": null,
   "metadata": {},
   "outputs": [],
   "source": []
  },
  {
   "cell_type": "code",
   "execution_count": null,
   "metadata": {},
   "outputs": [],
   "source": []
  },
  {
   "cell_type": "code",
   "execution_count": null,
   "metadata": {},
   "outputs": [],
   "source": []
  },
  {
   "cell_type": "code",
   "execution_count": null,
   "metadata": {},
   "outputs": [],
   "source": []
  },
  {
   "cell_type": "code",
   "execution_count": null,
   "metadata": {},
   "outputs": [],
   "source": []
  },
  {
   "cell_type": "code",
   "execution_count": null,
   "metadata": {},
   "outputs": [],
   "source": []
  },
  {
   "cell_type": "code",
   "execution_count": null,
   "metadata": {},
   "outputs": [],
   "source": []
  },
  {
   "cell_type": "code",
   "execution_count": null,
   "metadata": {},
   "outputs": [],
   "source": []
  },
  {
   "cell_type": "code",
   "execution_count": null,
   "metadata": {},
   "outputs": [],
   "source": []
  },
  {
   "cell_type": "code",
   "execution_count": null,
   "metadata": {},
   "outputs": [],
   "source": []
  },
  {
   "cell_type": "markdown",
   "metadata": {},
   "source": [
    "## 4. Merging datasets"
   ]
  },
  {
   "cell_type": "code",
   "execution_count": null,
   "metadata": {},
   "outputs": [],
   "source": [
    "data_merged = pd.merge(data, df_dominant_topic, on='review_text', how='left')"
   ]
  },
  {
   "cell_type": "code",
   "execution_count": null,
   "metadata": {},
   "outputs": [],
   "source": [
    "data_merged.isna().sum()"
   ]
  },
  {
   "cell_type": "code",
   "execution_count": null,
   "metadata": {},
   "outputs": [],
   "source": [
    "# drop NaNs\n",
    "data_merged.dropna(inplace=True)"
   ]
  },
  {
   "cell_type": "markdown",
   "metadata": {},
   "source": [
    "### 4.1. Average rating by topic"
   ]
  },
  {
   "cell_type": "markdown",
   "metadata": {},
   "source": [
    "Topic doesn't seem to influence the rating or polarity"
   ]
  },
  {
   "cell_type": "code",
   "execution_count": null,
   "metadata": {},
   "outputs": [],
   "source": [
    "data_merged.groupby('Dominant_Topic').rating.mean() # does not change much"
   ]
  },
  {
   "cell_type": "code",
   "execution_count": null,
   "metadata": {
    "scrolled": true
   },
   "outputs": [],
   "source": [
    "data_merged.groupby('Dominant_Topic').polarity.mean()"
   ]
  },
  {
   "cell_type": "code",
   "execution_count": null,
   "metadata": {},
   "outputs": [],
   "source": [
    "data_merged.groupby('Dominant_Topic').sentiment.mean()"
   ]
  },
  {
   "cell_type": "markdown",
   "metadata": {},
   "source": [
    "## 5. Model building"
   ]
  },
  {
   "cell_type": "code",
   "execution_count": null,
   "metadata": {},
   "outputs": [],
   "source": [
    "# X and Y split\n",
    "X = data_merged.drop(['rating', 'date', 'Document_No', 'Keywords'], axis=1)\n",
    "y = data_merged.rating"
   ]
  },
  {
   "cell_type": "code",
   "execution_count": null,
   "metadata": {
    "scrolled": true
   },
   "outputs": [],
   "source": [
    "# droping columns if they have high colinearity\n",
    "corr_matrix = X.corr().abs() # doing correlation matrix\n",
    "upper = corr_matrix.where(np.triu(np.ones(corr_matrix.shape), k=1).astype(np.bool))\n",
    "to_drop = [column for column in upper.columns if any(upper[column] > 0.95)]\n",
    "X.drop(X[to_drop], axis=1, inplace=True) # drop 'review_words'\n",
    "X"
   ]
  },
  {
   "cell_type": "code",
   "execution_count": null,
   "metadata": {},
   "outputs": [],
   "source": [
    "y"
   ]
  },
  {
   "cell_type": "markdown",
   "metadata": {},
   "source": [
    "## 5. Model building"
   ]
  },
  {
   "cell_type": "markdown",
   "metadata": {},
   "source": [
    "### 5.1. RE + Tokenizing + Stemming + Corpus Creation"
   ]
  },
  {
   "cell_type": "code",
   "execution_count": null,
   "metadata": {},
   "outputs": [],
   "source": [
    "corpus = []\n",
    "X.index = np.arange(len(X))"
   ]
  },
  {
   "cell_type": "code",
   "execution_count": null,
   "metadata": {},
   "outputs": [],
   "source": [
    "for i in range(len(X)):\n",
    "    review = re.sub('[^a-zA-z]',' ',X['review_text'][i])\n",
    "    review = review.lower()\n",
    "    review = review.split()\n",
    "    ps = PorterStemmer()\n",
    "    review =[ps.stem(i) for i in review if not i in set(stopwords.words('english'))]\n",
    "    review =' '.join(review)\n",
    "    corpus.append(review)"
   ]
  },
  {
   "cell_type": "code",
   "execution_count": null,
   "metadata": {},
   "outputs": [],
   "source": [
    "corpus"
   ]
  },
  {
   "cell_type": "code",
   "execution_count": null,
   "metadata": {},
   "outputs": [],
   "source": [
    "pd.DataFrame(corpus).to_csv('./data/corpus.csv') # saving it for later so that I don't have to run the code again"
   ]
  },
  {
   "cell_type": "markdown",
   "metadata": {},
   "source": [
    "__5.2. Bag of Words Technique__"
   ]
  },
  {
   "cell_type": "code",
   "execution_count": null,
   "metadata": {},
   "outputs": [],
   "source": [
    "cv  = CV(max_features = 3000,ngram_range=(1,1))\n",
    "X_cv = cv.fit_transform(corpus).toarray()\n",
    "y = y.values"
   ]
  },
  {
   "cell_type": "code",
   "execution_count": null,
   "metadata": {},
   "outputs": [],
   "source": [
    "X_train, X_test, y_train, y_test = train_test_split(X_cv, y, test_size = 0.2, random_state = 0)"
   ]
  },
  {
   "cell_type": "code",
   "execution_count": null,
   "metadata": {},
   "outputs": [],
   "source": [
    "classifier = BernoulliNB()\n",
    "classifier.fit(X_train, y_train)"
   ]
  },
  {
   "cell_type": "code",
   "execution_count": null,
   "metadata": {},
   "outputs": [],
   "source": [
    "y_pred = classifier.predict(X_test)\n",
    "acc = accuracy_score(y_test, y_pred)\n",
    "acc"
   ]
  },
  {
   "cell_type": "markdown",
   "metadata": {},
   "source": [
    "__5.3. Term Frequency- Inverse Document Frequency Technique__"
   ]
  },
  {
   "cell_type": "code",
   "execution_count": null,
   "metadata": {},
   "outputs": [],
   "source": [
    "tv = TV(ngram_range =(1,1),max_features = 3000)\n",
    "X_tv = tv.fit_transform(corpus).toarray()"
   ]
  },
  {
   "cell_type": "code",
   "execution_count": null,
   "metadata": {},
   "outputs": [],
   "source": [
    "classifier = MultinomialNB()\n",
    "classifier.fit(X_train, y_train)"
   ]
  },
  {
   "cell_type": "code",
   "execution_count": null,
   "metadata": {},
   "outputs": [],
   "source": [
    "len(corpus)"
   ]
  },
  {
   "cell_type": "code",
   "execution_count": null,
   "metadata": {},
   "outputs": [],
   "source": [
    "len(y_train)"
   ]
  },
  {
   "cell_type": "code",
   "execution_count": null,
   "metadata": {},
   "outputs": [],
   "source": [
    "y_pred = classifier.predict(X_test)\n",
    "acc = accuracy_score(y_test, y_pred)\n",
    "acc"
   ]
  },
  {
   "cell_type": "code",
   "execution_count": null,
   "metadata": {},
   "outputs": [],
   "source": [
    "# testing\n",
    "diff = y_pred - y_test\n",
    "Counter(diff)"
   ]
  },
  {
   "cell_type": "code",
   "execution_count": null,
   "metadata": {
    "scrolled": true
   },
   "outputs": [],
   "source": [
    "Counter(y_test)"
   ]
  },
  {
   "cell_type": "code",
   "execution_count": null,
   "metadata": {},
   "outputs": [],
   "source": [
    "from sklearn.metrics import confusion_matrix\n",
    "confusion_matrix(y_test,y_pred)"
   ]
  },
  {
   "cell_type": "code",
   "execution_count": null,
   "metadata": {},
   "outputs": [],
   "source": [
    "from sklearn.metrics import plot_confusion_matrix\n",
    "plot_confusion_matrix(classifier,X_test,y_test)"
   ]
  },
  {
   "cell_type": "markdown",
   "metadata": {},
   "source": [
    "### 5.4. K-means classifier - results not good"
   ]
  },
  {
   "cell_type": "code",
   "execution_count": null,
   "metadata": {},
   "outputs": [],
   "source": [
    "# X and Y split\n",
    "X1 = data_merged.drop(['rating', 'date', 'Document_No', 'Keywords', 'review_text'], axis=1)\n",
    "y1 = data_merged.rating"
   ]
  },
  {
   "cell_type": "code",
   "execution_count": null,
   "metadata": {},
   "outputs": [],
   "source": [
    "# droping columns if they have high colinearity\n",
    "corr_matrix = X1.corr().abs() # doing correlation matrix\n",
    "upper = corr_matrix.where(np.triu(np.ones(corr_matrix.shape), k=1).astype(np.bool))\n",
    "to_drop = [column for column in upper.columns if any(upper[column] > 0.95)]\n",
    "X1.drop(X[to_drop], axis=1, inplace=True) # drop 'review_words'\n",
    "X1"
   ]
  },
  {
   "cell_type": "code",
   "execution_count": null,
   "metadata": {},
   "outputs": [],
   "source": [
    "# test and train\n",
    "X_train1, X_test1, y_train1, y_test1 = train_test_split(X1, y1, test_size = 0.2, random_state = 0)"
   ]
  },
  {
   "cell_type": "code",
   "execution_count": null,
   "metadata": {},
   "outputs": [],
   "source": [
    "neigh = KNeighborsClassifier()\n",
    "\n",
    "neigh_search = GridSearchCV(estimator=neigh,\n",
    "                             param_grid={\"n_neighbors\":[5,20,50,100,200,500],\n",
    "                                          \"weights\":[\"uniform\", \"distance\"]},\n",
    "                             scoring=\"accuracy\",\n",
    "                             cv=5)\n",
    "\n",
    "neigh_search.fit(X_train1, y_train1)"
   ]
  },
  {
   "cell_type": "code",
   "execution_count": null,
   "metadata": {
    "scrolled": true
   },
   "outputs": [],
   "source": [
    "cvres = neigh_search.cv_results_\n",
    "sorted(zip(cvres[\"mean_test_score\"], cvres[\"params\"]), reverse=True)"
   ]
  },
  {
   "cell_type": "code",
   "execution_count": null,
   "metadata": {},
   "outputs": [],
   "source": [
    "neigh1 = KNeighborsClassifier(n_neighbors=200, weights='uniform').fit(X_train1, y_train1)\n",
    "predictions = neigh1.predict(X_test1)"
   ]
  },
  {
   "cell_type": "code",
   "execution_count": null,
   "metadata": {
    "scrolled": true
   },
   "outputs": [],
   "source": [
    "confusion_matrix(y_test1,predictions)"
   ]
  },
  {
   "cell_type": "code",
   "execution_count": null,
   "metadata": {},
   "outputs": [],
   "source": []
  },
  {
   "cell_type": "code",
   "execution_count": null,
   "metadata": {},
   "outputs": [],
   "source": []
  },
  {
   "cell_type": "code",
   "execution_count": null,
   "metadata": {},
   "outputs": [],
   "source": []
  },
  {
   "cell_type": "code",
   "execution_count": null,
   "metadata": {},
   "outputs": [],
   "source": []
  },
  {
   "cell_type": "code",
   "execution_count": null,
   "metadata": {},
   "outputs": [],
   "source": []
  },
  {
   "cell_type": "code",
   "execution_count": null,
   "metadata": {},
   "outputs": [],
   "source": []
  },
  {
   "cell_type": "code",
   "execution_count": null,
   "metadata": {},
   "outputs": [],
   "source": []
  },
  {
   "cell_type": "code",
   "execution_count": null,
   "metadata": {},
   "outputs": [],
   "source": []
  },
  {
   "cell_type": "code",
   "execution_count": null,
   "metadata": {},
   "outputs": [],
   "source": []
  },
  {
   "cell_type": "code",
   "execution_count": null,
   "metadata": {},
   "outputs": [],
   "source": []
  },
  {
   "cell_type": "code",
   "execution_count": null,
   "metadata": {},
   "outputs": [],
   "source": []
  },
  {
   "cell_type": "code",
   "execution_count": null,
   "metadata": {},
   "outputs": [],
   "source": []
  },
  {
   "cell_type": "code",
   "execution_count": null,
   "metadata": {},
   "outputs": [],
   "source": []
  },
  {
   "cell_type": "code",
   "execution_count": null,
   "metadata": {},
   "outputs": [],
   "source": []
  },
  {
   "cell_type": "code",
   "execution_count": null,
   "metadata": {},
   "outputs": [],
   "source": []
  },
  {
   "cell_type": "code",
   "execution_count": null,
   "metadata": {},
   "outputs": [],
   "source": []
  },
  {
   "cell_type": "markdown",
   "metadata": {},
   "source": [
    "## Testing it only with good or bad"
   ]
  },
  {
   "cell_type": "code",
   "execution_count": null,
   "metadata": {},
   "outputs": [],
   "source": []
  },
  {
   "cell_type": "markdown",
   "metadata": {},
   "source": [
    "## 5. Model building - good or bad reviews"
   ]
  },
  {
   "cell_type": "code",
   "execution_count": null,
   "metadata": {},
   "outputs": [],
   "source": [
    "# changing rating for 1 if rating is 4 or 5, and 0 if rating is 1 or 2. Drop 3s\n",
    "def new_rating(x):\n",
    "    if x>=4:\n",
    "        return 1\n",
    "    if x<=2:\n",
    "        return 0\n",
    "    else:\n",
    "        return np.nan"
   ]
  },
  {
   "cell_type": "code",
   "execution_count": null,
   "metadata": {},
   "outputs": [],
   "source": [
    "data_merged2 = data_merged.copy()\n",
    "data_merged2.rating = data_merged2.rating.apply(new_rating)"
   ]
  },
  {
   "cell_type": "code",
   "execution_count": null,
   "metadata": {},
   "outputs": [],
   "source": [
    "data_merged2.isna().sum()"
   ]
  },
  {
   "cell_type": "code",
   "execution_count": null,
   "metadata": {},
   "outputs": [],
   "source": [
    "data_merged2.dropna(inplace=True)"
   ]
  },
  {
   "cell_type": "code",
   "execution_count": null,
   "metadata": {},
   "outputs": [],
   "source": [
    "data_merged2.rating.value_counts(normalize=True)"
   ]
  },
  {
   "cell_type": "code",
   "execution_count": null,
   "metadata": {},
   "outputs": [],
   "source": [
    "# X and Y split\n",
    "X2 = data_merged2.drop(['rating', 'date', 'Document_No', 'Keywords'], axis=1)\n",
    "y2 = data_merged2.rating"
   ]
  },
  {
   "cell_type": "code",
   "execution_count": null,
   "metadata": {
    "scrolled": true
   },
   "outputs": [],
   "source": [
    "# droping columns if they have high colinearity\n",
    "corr_matrix = X2.corr().abs() # doing correlation matrix\n",
    "upper = corr_matrix.where(np.triu(np.ones(corr_matrix.shape), k=1).astype(np.bool))\n",
    "to_drop = [column for column in upper.columns if any(upper[column] > 0.95)]\n",
    "X2.drop(X2[to_drop], axis=1, inplace=True) # drop 'review_words'\n",
    "X2"
   ]
  },
  {
   "cell_type": "code",
   "execution_count": null,
   "metadata": {},
   "outputs": [],
   "source": [
    "y2"
   ]
  },
  {
   "cell_type": "markdown",
   "metadata": {},
   "source": [
    "### 5.1. RE + Tokenizing + Stemming + Corpus Creation"
   ]
  },
  {
   "cell_type": "code",
   "execution_count": null,
   "metadata": {},
   "outputs": [],
   "source": [
    "corpus2 = []\n",
    "X2.index = np.arange(len(X2))"
   ]
  },
  {
   "cell_type": "code",
   "execution_count": null,
   "metadata": {},
   "outputs": [],
   "source": [
    "for i in range(len(X2)):\n",
    "    review = re.sub('[^a-zA-z]',' ',X2['review_text'][i])\n",
    "    review = review.lower()\n",
    "    review = review.split()\n",
    "    ps = PorterStemmer()\n",
    "    review =[ps.stem(i) for i in review if not i in set(stopwords.words('english'))]\n",
    "    review =' '.join(review)\n",
    "    corpus2.append(review)"
   ]
  },
  {
   "cell_type": "code",
   "execution_count": null,
   "metadata": {},
   "outputs": [],
   "source": [
    "corpus2"
   ]
  },
  {
   "cell_type": "code",
   "execution_count": null,
   "metadata": {},
   "outputs": [],
   "source": [
    "pd.DataFrame(corpus2).to_csv('./data/corpus2.csv') # saving it for later so that I don't have to run the code again"
   ]
  },
  {
   "cell_type": "markdown",
   "metadata": {},
   "source": [
    "__5.2. Bag of Words Technique__"
   ]
  },
  {
   "cell_type": "code",
   "execution_count": null,
   "metadata": {},
   "outputs": [],
   "source": [
    "cv2  = CV(max_features = 3000,ngram_range=(1,1))\n",
    "X_cv2 = cv.fit_transform(corpus2).toarray()\n",
    "y2 = y2.values"
   ]
  },
  {
   "cell_type": "code",
   "execution_count": null,
   "metadata": {},
   "outputs": [],
   "source": [
    "X_train2, X_test2, y_train2, y_test2 = train_test_split(X_cv2, y2, test_size = 0.2, random_state = 0)"
   ]
  },
  {
   "cell_type": "code",
   "execution_count": null,
   "metadata": {},
   "outputs": [],
   "source": [
    "classifier2 = BernoulliNB()\n",
    "classifier2.fit(X_train2, y_train2)"
   ]
  },
  {
   "cell_type": "code",
   "execution_count": null,
   "metadata": {},
   "outputs": [],
   "source": [
    "y_pred2 = classifier2.predict(X_test2)\n",
    "acc = accuracy_score(y_test2, y_pred2)\n",
    "acc"
   ]
  },
  {
   "cell_type": "markdown",
   "metadata": {},
   "source": [
    "__5.3. Term Frequency- Inverse Document Frequency Technique__"
   ]
  },
  {
   "cell_type": "code",
   "execution_count": null,
   "metadata": {},
   "outputs": [],
   "source": [
    "tv2 = TV(ngram_range =(1,1),max_features = 3000)\n",
    "X_tv2 = tv.fit_transform(corpus2).toarray()"
   ]
  },
  {
   "cell_type": "code",
   "execution_count": null,
   "metadata": {},
   "outputs": [],
   "source": [
    "classifier2 = MultinomialNB()\n",
    "classifier2.fit(X_train2, y_train2)"
   ]
  },
  {
   "cell_type": "code",
   "execution_count": null,
   "metadata": {},
   "outputs": [],
   "source": [
    "y_pred2 = classifier2.predict(X_test2)\n",
    "acc = accuracy_score(y_test2, y_pred2)\n",
    "acc"
   ]
  },
  {
   "cell_type": "code",
   "execution_count": null,
   "metadata": {},
   "outputs": [],
   "source": [
    "# testing\n",
    "diff = y_pred2 - y_test2\n",
    "Counter(diff)"
   ]
  },
  {
   "cell_type": "code",
   "execution_count": null,
   "metadata": {
    "scrolled": true
   },
   "outputs": [],
   "source": [
    "Counter(y_test2)"
   ]
  },
  {
   "cell_type": "code",
   "execution_count": null,
   "metadata": {},
   "outputs": [],
   "source": [
    "from sklearn.metrics import confusion_matrix\n",
    "confusion_matrix(y_test2,y_pred2)"
   ]
  },
  {
   "cell_type": "code",
   "execution_count": null,
   "metadata": {},
   "outputs": [],
   "source": [
    "from sklearn.metrics import plot_confusion_matrix\n",
    "plot_confusion_matrix(classifier2,X_test2,y_test2)"
   ]
  },
  {
   "cell_type": "markdown",
   "metadata": {},
   "source": [
    "### 5.4. K-means classifier - results not good"
   ]
  },
  {
   "cell_type": "code",
   "execution_count": null,
   "metadata": {},
   "outputs": [],
   "source": [
    "# changing rating for 1 if rating is 4 or 5, and 0 if rating is 1 or 2. Drop 3s\n",
    "def new_rating(x):\n",
    "    if x>=4:\n",
    "        return 1\n",
    "    if x<=2:\n",
    "        return 0\n",
    "    else:\n",
    "        return np.nan"
   ]
  },
  {
   "cell_type": "code",
   "execution_count": null,
   "metadata": {},
   "outputs": [],
   "source": [
    "data_merged3 = data_merged.copy()\n",
    "data_merged3.rating = data_merged3.rating.apply(new_rating)"
   ]
  },
  {
   "cell_type": "code",
   "execution_count": null,
   "metadata": {},
   "outputs": [],
   "source": [
    "data_merged3.dropna(inplace=True)"
   ]
  },
  {
   "cell_type": "code",
   "execution_count": null,
   "metadata": {},
   "outputs": [],
   "source": []
  },
  {
   "cell_type": "code",
   "execution_count": null,
   "metadata": {},
   "outputs": [],
   "source": [
    "# X and Y split\n",
    "X1 = data_merged3.drop(['rating', 'date', 'Document_No', 'Keywords', 'review_text'], axis=1)\n",
    "y1 = data_merged3.rating"
   ]
  },
  {
   "cell_type": "code",
   "execution_count": null,
   "metadata": {},
   "outputs": [],
   "source": [
    "# test and train\n",
    "X_train1, X_test1, y_train1, y_test1 = train_test_split(X1, y1, test_size = 0.2, random_state = 0)"
   ]
  },
  {
   "cell_type": "code",
   "execution_count": null,
   "metadata": {},
   "outputs": [],
   "source": [
    "neigh = KNeighborsClassifier()\n",
    "\n",
    "neigh_search = GridSearchCV(estimator=neigh,\n",
    "                             param_grid={\"n_neighbors\":[5,20,50,100,200,500],\n",
    "                                          \"weights\":[\"uniform\", \"distance\"]},\n",
    "                             scoring=\"accuracy\",\n",
    "                             cv=5)\n",
    "\n",
    "neigh_search.fit(X_train1, y_train1)"
   ]
  },
  {
   "cell_type": "code",
   "execution_count": null,
   "metadata": {
    "scrolled": true
   },
   "outputs": [],
   "source": [
    "cvres = neigh_search.cv_results_\n",
    "sorted(zip(cvres[\"mean_test_score\"], cvres[\"params\"]), reverse=True)"
   ]
  },
  {
   "cell_type": "code",
   "execution_count": null,
   "metadata": {},
   "outputs": [],
   "source": [
    "neigh1 = KNeighborsClassifier(n_neighbors=200, weights='uniform').fit(X_train1, y_train1)\n",
    "predictions = neigh1.predict(X_test1)"
   ]
  },
  {
   "cell_type": "code",
   "execution_count": null,
   "metadata": {
    "scrolled": true
   },
   "outputs": [],
   "source": [
    "confusion_matrix(y_test1,predictions)"
   ]
  },
  {
   "cell_type": "code",
   "execution_count": null,
   "metadata": {},
   "outputs": [],
   "source": []
  },
  {
   "cell_type": "code",
   "execution_count": null,
   "metadata": {},
   "outputs": [],
   "source": []
  },
  {
   "cell_type": "code",
   "execution_count": null,
   "metadata": {},
   "outputs": [],
   "source": []
  },
  {
   "cell_type": "code",
   "execution_count": null,
   "metadata": {},
   "outputs": [],
   "source": []
  },
  {
   "cell_type": "code",
   "execution_count": null,
   "metadata": {},
   "outputs": [],
   "source": []
  },
  {
   "cell_type": "code",
   "execution_count": null,
   "metadata": {},
   "outputs": [],
   "source": []
  },
  {
   "cell_type": "code",
   "execution_count": null,
   "metadata": {},
   "outputs": [],
   "source": []
  },
  {
   "cell_type": "code",
   "execution_count": null,
   "metadata": {},
   "outputs": [],
   "source": []
  },
  {
   "cell_type": "code",
   "execution_count": null,
   "metadata": {},
   "outputs": [],
   "source": []
  }
 ],
 "metadata": {
  "kernelspec": {
   "display_name": "Python 3",
   "language": "python",
   "name": "python3"
  },
  "language_info": {
   "codemirror_mode": {
    "name": "ipython",
    "version": 3
   },
   "file_extension": ".py",
   "mimetype": "text/x-python",
   "name": "python",
   "nbconvert_exporter": "python",
   "pygments_lexer": "ipython3",
   "version": "3.8.4"
  }
 },
 "nbformat": 4,
 "nbformat_minor": 4
}
