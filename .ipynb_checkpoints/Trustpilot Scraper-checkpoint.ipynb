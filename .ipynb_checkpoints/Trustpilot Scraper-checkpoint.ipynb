{
 "cells": [
  {
   "cell_type": "markdown",
   "metadata": {},
   "source": [
    "# Trustpilot scraper"
   ]
  },
  {
   "cell_type": "markdown",
   "metadata": {},
   "source": [
    "This code extracts reviews from *Trustpilot.com*. Run the function trustpilot_reviews() with the following inputs:\n",
    "- url: In the form *https://www.trustpilot.com/review/hellofresh.com?page=*\n",
    "- pages: Maximum website page to scrape (number appended to the end of the url). Check this in the website. Note that if the number input exceed the total pages from the website, it returns to the first page so rows will be repeated"
   ]
  },
  {
   "cell_type": "code",
   "execution_count": 1,
   "metadata": {},
   "outputs": [],
   "source": [
    "import pandas as pd\n",
    "import numpy as np\n",
    "import requests\n",
    "from bs4 import BeautifulSoup\n",
    "import re\n",
    "import json\n",
    "from itertools import chain\n",
    "import datetime\n",
    "from googletrans import Translator "
   ]
  },
  {
   "cell_type": "code",
   "execution_count": 2,
   "metadata": {},
   "outputs": [],
   "source": [
    "def review_id(url):\n",
    "    page = requests.get(url)\n",
    "    tropicfeel = BeautifulSoup(page.content, \"html.parser\")\n",
    "    review_id_page = []\n",
    "    for i in range(len(tropicfeel.find_all('article', class_='review'))):\n",
    "        article = tropicfeel.find_all('article', class_='review')[i]\n",
    "        try:\n",
    "            id_raw = re.findall(r'review-id=\"\\w*', str(article.find_all('brand-find-useful-button')[0]))\n",
    "            id_clean = re.findall(r'\"\\w*', id_raw[0])[0].strip('\"')\n",
    "            review_id_page.append(id_clean)\n",
    "        except IndexError:\n",
    "            review_id_page.append('')\n",
    "    return review_id_page \n",
    "\n",
    "\n",
    "def date_page(url):\n",
    "    page = requests.get(url)\n",
    "    tropicfeel = BeautifulSoup(page.content, \"html.parser\")\n",
    "    date_page = []\n",
    "    for i in range(len(tropicfeel.find_all('article', class_='review'))):\n",
    "        article = tropicfeel.find_all('article', class_='review')[i]\n",
    "        try:\n",
    "            date_page.append((re.findall(r'\\d{4}-\\d{2}-\\d{2}', article.find_all('script')[1].string)[0]))\n",
    "        except IndexError:\n",
    "            date_page.append('')\n",
    "    return date_page  \n",
    "\n",
    "\n",
    "\n",
    "def review_stars_page(url):\n",
    "    page = requests.get(url)\n",
    "    tropicfeel = BeautifulSoup(page.content, \"html.parser\")\n",
    "    review_stars_page = []\n",
    "    for i in range(len(tropicfeel.find_all('article', class_='review'))):\n",
    "        article = tropicfeel.find_all('article', class_='review')[i]\n",
    "        try:\n",
    "            stars_raw = re.findall(r'\\d star', str(article.find_all('img')[0]))\n",
    "            stars_clean = re.findall(r'\\d', str(stars_raw))\n",
    "            review_stars_page.append(stars_clean)\n",
    "        except IndexError:\n",
    "            review_stars_page.append('')\n",
    "    return list(chain(*review_stars_page)) \n",
    "\n",
    "\n",
    "\n",
    "def review_title_page(url):\n",
    "    page = requests.get(url)\n",
    "    tropicfeel = BeautifulSoup(page.content, \"html.parser\")\n",
    "    review_title_page = []\n",
    "    for i in range(len(tropicfeel.find_all('article', class_='review'))):\n",
    "        article = tropicfeel.find_all('article', class_='review')[i]\n",
    "        try:\n",
    "            review_title_page.append(article.find_all('a', class_='link link--large link--dark')[0].get_text())\n",
    "        except IndexError:\n",
    "            review_title_page.append('')\n",
    "    return review_title_page   \n",
    "\n",
    "\n",
    "\n",
    "\n",
    "def review_page(url):\n",
    "    page = requests.get(url)\n",
    "    tropicfeel = BeautifulSoup(page.content, \"html.parser\")\n",
    "    review_page = []\n",
    "    for i in range(len(tropicfeel.find_all('article', class_='review'))):\n",
    "        article = tropicfeel.find_all('article', class_='review')[i]\n",
    "        try:\n",
    "            review_page.append(article.find_all('p', class_='review-content__text')[0].get_text().strip())\n",
    "        except IndexError:\n",
    "            review_page.append('')\n",
    "    return review_page   \n",
    "\n",
    "\n",
    "\n",
    "def response_page(url):\n",
    "    page = requests.get(url)\n",
    "    tropicfeel = BeautifulSoup(page.content, \"html.parser\")\n",
    "    response_page = []\n",
    "    for i in range(len(tropicfeel.find_all('article', class_='review'))):\n",
    "        article = tropicfeel.find_all('article', class_='review')[i]\n",
    "        try:\n",
    "            response_page.append(article.find_all('div', class_='brand-company-reply__content')[0].get_text().strip())\n",
    "        except IndexError:\n",
    "            response_page.append('')\n",
    "    return response_page      \n",
    "\n",
    "\n",
    "\n",
    "# get dataframe with all information for 1 page\n",
    "def reviews_page(url):\n",
    "    trustpilot_page = pd.DataFrame({'review_id': review_id(url),\n",
    "                 'date': date_page(url),\n",
    "                 'stars': review_stars_page(url),\n",
    "                 'review_title': review_title_page(url),\n",
    "                 'review_text': review_page(url),\n",
    "                 'review_response': response_page(url)})\n",
    "    return trustpilot_page\n",
    "\n",
    "\n",
    "# get dataframe with all information for 1 page\n",
    "    # url: in the form https://www.trustpilot.com/review/tropicfeel.com?page=\n",
    "    # pages: number of review pages the brand has\n",
    "\n",
    "def trustpilot_reviews(url, pages):\n",
    "    trustpilot = pd.DataFrame(columns=['review_id', 'date', 'stars', 'review_title', 'review_text', 'review_response', 'response_dummy'])\n",
    "    for i in range(1, pages):\n",
    "        trustpilot_one_page = reviews_page(f'{url}{i}')\n",
    "        trustpilot = pd.concat([trustpilot, trustpilot_one_page])\n",
    "    trustpilot.reset_index(inplace=True, drop=True)\n",
    "    trustpilot.date = trustpilot.date.astype('datetime64[ns]')\n",
    "    trustpilot.stars = trustpilot.stars.astype('int')\n",
    "    trustpilot.replace('', np.nan, inplace=True)\n",
    "    trustpilot['response_dummy'] = trustpilot.review_response.isna().apply(lambda x: 1 if x==0 else 0)\n",
    "    return trustpilot\n"
   ]
  },
  {
   "cell_type": "markdown",
   "metadata": {},
   "source": [
    "## Extracting 'hellofresh' reviews"
   ]
  },
  {
   "cell_type": "code",
   "execution_count": 3,
   "metadata": {},
   "outputs": [],
   "source": [
    "hellofresh = trustpilot_reviews('https://www.trustpilot.com/review/hellofresh.com?page=', 1590)"
   ]
  },
  {
   "cell_type": "code",
   "execution_count": 4,
   "metadata": {},
   "outputs": [],
   "source": [
    "hellofresh.to_csv('./data/hellofresh.csv')"
   ]
  },
  {
   "cell_type": "code",
   "execution_count": 4,
   "metadata": {},
   "outputs": [],
   "source": [
    "# hellofresh = pd.read_csv('./data/hellofresh.csv', index_col=0)"
   ]
  },
  {
   "cell_type": "code",
   "execution_count": 5,
   "metadata": {},
   "outputs": [
    {
     "data": {
      "text/plain": [
       "5    20891\n",
       "4     7275\n",
       "3     2133\n",
       "1      838\n",
       "2      603\n",
       "Name: stars, dtype: int64"
      ]
     },
     "execution_count": 5,
     "metadata": {},
     "output_type": "execute_result"
    }
   ],
   "source": [
    "hellofresh.stars.value_counts()"
   ]
  },
  {
   "cell_type": "code",
   "execution_count": 6,
   "metadata": {
    "scrolled": true
   },
   "outputs": [
    {
     "data": {
      "text/plain": [
       "<matplotlib.axes._subplots.AxesSubplot at 0x11c9310a0>"
      ]
     },
     "execution_count": 6,
     "metadata": {},
     "output_type": "execute_result"
    },
    {
     "data": {
      "image/png": "[encoded data removed]",
      "text/plain": [
       "<Figure size 432x288 with 1 Axes>"
      ]
     },
     "metadata": {
      "needs_background": "light"
     },
     "output_type": "display_data"
    }
   ],
   "source": [
    "hellofresh.stars.plot.density()"
   ]
  }
 ],
 "metadata": {
  "kernelspec": {
   "display_name": "Python 3",
   "language": "python",
   "name": "python3"
  },
  "language_info": {
   "codemirror_mode": {
    "name": "ipython",
    "version": 3
   },
   "file_extension": ".py",
   "mimetype": "text/x-python",
   "name": "python",
   "nbconvert_exporter": "python",
   "pygments_lexer": "ipython3",
   "version": "3.8.4"
  }
 },
 "nbformat": 4,
 "nbformat_minor": 4
}
